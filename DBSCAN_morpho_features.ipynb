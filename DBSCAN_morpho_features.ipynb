{
 "cells": [
  {
   "cell_type": "markdown",
   "id": "0a2be4d5-6281-4e0b-bddd-cab9905e40dd",
   "metadata": {},
   "source": [
    "# DBSCAN on morophological features"
   ]
  },
  {
   "cell_type": "markdown",
   "id": "6be26241-688a-4c3d-a8d7-2832ceddfe12",
   "metadata": {
    "tags": []
   },
   "source": [
    "# 1. Import packages and data"
   ]
  },
  {
   "cell_type": "markdown",
   "id": "b63775c1-fa49-4a23-a10c-dabefe40104b",
   "metadata": {},
   "source": [
    "pip install kneed\n",
    "\n",
    "pip install opencv-python"
   ]
  },
  {
   "cell_type": "code",
   "execution_count": 13,
   "id": "49bb5beb-65c2-418c-a24e-a814cd6111af",
   "metadata": {},
   "outputs": [],
   "source": [
    "import numpy as np\n",
    "import pandas as pd\n",
    "import cv2\n",
    "import matplotlib.pyplot as plt\n",
    "\n",
    "# for DBSCAN clustering\n",
    "from kneed import KneeLocator\n",
    "from sklearn.neighbors import NearestNeighbors\n",
    "from sklearn.cluster import DBSCAN\n",
    "from collections import Counter"
   ]
  },
  {
   "cell_type": "markdown",
   "id": "68a81f2c-48e3-4c25-8381-a73f3561eebe",
   "metadata": {},
   "source": [
    "Import morphological features : "
   ]
  },
  {
   "cell_type": "code",
   "execution_count": 7,
   "id": "3969967f-9eef-49be-ae75-dacddb19d27b",
   "metadata": {},
   "outputs": [],
   "source": [
    "PDAC_A1 = pd.read_csv(\"morphoplogical_features/PDAC_A1_df\")\n",
    "PDAC_B2 = pd.read_csv(\"morphoplogical_features/PDAC_B2_df\")\n",
    "PanCN_C3 = pd.read_csv(\"morphoplogical_features/PanCN_C3_df\")\n",
    "PanCN_D4 = pd.read_csv(\"morphoplogical_features/PanCN_D4_df\")"
   ]
  },
  {
   "cell_type": "markdown",
   "id": "2a884521-948d-4710-9ad5-cab95a6dd811",
   "metadata": {},
   "source": [
    "Import images :"
   ]
  },
  {
   "cell_type": "code",
   "execution_count": 5,
   "id": "63491fe7-c8b6-4432-a272-221f7fe6e43c",
   "metadata": {},
   "outputs": [],
   "source": [
    "input_images = \"./../input_images\""
   ]
  },
  {
   "cell_type": "code",
   "execution_count": 6,
   "id": "faf121d8-f8aa-447c-9328-48fd9f1d3525",
   "metadata": {},
   "outputs": [],
   "source": [
    "img_A1 = cv2.imread(f'{input_images}/PDAC_12747476B_A1.jpg')\n",
    "img_B2 = cv2.imread(f'{input_images}/PDAC_ILS50185PT2_B2.jpg')\n",
    "img_C3 = cv2.imread(f'{input_images}/PanCN_AVD_79MZ_0594_C3.jpg')\n",
    "img_D4 = cv2.imread(f'{input_images}/PanCN_AVD_61VQ_0158_D4.jpg')"
   ]
  },
  {
   "cell_type": "markdown",
   "id": "35fd466b-1a14-49b8-af4a-e577bf33092a",
   "metadata": {},
   "source": [
    "# B2"
   ]
  },
  {
   "cell_type": "markdown",
   "id": "1cc85aa4-91db-4c38-8d9b-ea081c6a5b2b",
   "metadata": {},
   "source": [
    "## 1. Preprocess df"
   ]
  },
  {
   "cell_type": "code",
   "execution_count": 4,
   "id": "18d0ec50-00dd-4332-9b52-855d29f0220d",
   "metadata": {},
   "outputs": [],
   "source": [
    "PDAC_B2_original = PDAC_B2"
   ]
  },
  {
   "cell_type": "code",
   "execution_count": 8,
   "id": "11f7d66e-92d9-43a1-b542-4cda8c2b7928",
   "metadata": {},
   "outputs": [
    {
     "data": {
      "text/html": [
       "<div>\n",
       "<style scoped>\n",
       "    .dataframe tbody tr th:only-of-type {\n",
       "        vertical-align: middle;\n",
       "    }\n",
       "\n",
       "    .dataframe tbody tr th {\n",
       "        vertical-align: top;\n",
       "    }\n",
       "\n",
       "    .dataframe thead th {\n",
       "        text-align: right;\n",
       "    }\n",
       "</style>\n",
       "<table border=\"1\" class=\"dataframe\">\n",
       "  <thead>\n",
       "    <tr style=\"text-align: right;\">\n",
       "      <th></th>\n",
       "      <th>Nuclei Area per object</th>\n",
       "      <th>Texture inertia</th>\n",
       "      <th>Max Intensity</th>\n",
       "      <th>Mean Intensity</th>\n",
       "      <th>Min Intensity</th>\n",
       "      <th>Modus</th>\n",
       "      <th>Texture Anisotropy</th>\n",
       "      <th>Texture Entropy</th>\n",
       "      <th>Texture Major Axis</th>\n",
       "      <th>Texture Major Direction</th>\n",
       "      <th>Texture Minor Axis</th>\n",
       "    </tr>\n",
       "  </thead>\n",
       "  <tbody>\n",
       "    <tr>\n",
       "      <th>0</th>\n",
       "      <td>22.50</td>\n",
       "      <td>13221.945991</td>\n",
       "      <td>148.265762</td>\n",
       "      <td>123.238940</td>\n",
       "      <td>97.844582</td>\n",
       "      <td>111.745285</td>\n",
       "      <td>1.554312e-15</td>\n",
       "      <td>2.201911</td>\n",
       "      <td>0.847026</td>\n",
       "      <td>0.000000</td>\n",
       "      <td>0.847026</td>\n",
       "    </tr>\n",
       "    <tr>\n",
       "      <th>1</th>\n",
       "      <td>56.25</td>\n",
       "      <td>13221.945991</td>\n",
       "      <td>229.297897</td>\n",
       "      <td>180.612488</td>\n",
       "      <td>138.413345</td>\n",
       "      <td>158.885101</td>\n",
       "      <td>1.733108e-01</td>\n",
       "      <td>2.203774</td>\n",
       "      <td>1.682064</td>\n",
       "      <td>29.911218</td>\n",
       "      <td>1.390544</td>\n",
       "    </tr>\n",
       "    <tr>\n",
       "      <th>2</th>\n",
       "      <td>18.50</td>\n",
       "      <td>13221.945991</td>\n",
       "      <td>219.379120</td>\n",
       "      <td>164.964777</td>\n",
       "      <td>98.549644</td>\n",
       "      <td>117.509422</td>\n",
       "      <td>1.757970e-01</td>\n",
       "      <td>9.646840</td>\n",
       "      <td>1512.508475</td>\n",
       "      <td>110.905018</td>\n",
       "      <td>1246.614048</td>\n",
       "    </tr>\n",
       "    <tr>\n",
       "      <th>3</th>\n",
       "      <td>13.25</td>\n",
       "      <td>13221.945991</td>\n",
       "      <td>209.646164</td>\n",
       "      <td>152.203821</td>\n",
       "      <td>107.101357</td>\n",
       "      <td>145.107941</td>\n",
       "      <td>7.963259e-01</td>\n",
       "      <td>10.012107</td>\n",
       "      <td>5461.165999</td>\n",
       "      <td>1.543453</td>\n",
       "      <td>1112.298000</td>\n",
       "    </tr>\n",
       "    <tr>\n",
       "      <th>4</th>\n",
       "      <td>18.50</td>\n",
       "      <td>13221.945991</td>\n",
       "      <td>246.869537</td>\n",
       "      <td>169.691705</td>\n",
       "      <td>99.229431</td>\n",
       "      <td>134.526611</td>\n",
       "      <td>2.588855e-01</td>\n",
       "      <td>9.693675</td>\n",
       "      <td>1467.966275</td>\n",
       "      <td>152.599960</td>\n",
       "      <td>1087.931141</td>\n",
       "    </tr>\n",
       "  </tbody>\n",
       "</table>\n",
       "</div>"
      ],
      "text/plain": [
       "   Nuclei Area per object  Texture inertia  Max Intensity  Mean Intensity  \\\n",
       "0                   22.50     13221.945991     148.265762      123.238940   \n",
       "1                   56.25     13221.945991     229.297897      180.612488   \n",
       "2                   18.50     13221.945991     219.379120      164.964777   \n",
       "3                   13.25     13221.945991     209.646164      152.203821   \n",
       "4                   18.50     13221.945991     246.869537      169.691705   \n",
       "\n",
       "   Min Intensity       Modus  Texture Anisotropy  Texture Entropy  \\\n",
       "0      97.844582  111.745285        1.554312e-15         2.201911   \n",
       "1     138.413345  158.885101        1.733108e-01         2.203774   \n",
       "2      98.549644  117.509422        1.757970e-01         9.646840   \n",
       "3     107.101357  145.107941        7.963259e-01        10.012107   \n",
       "4      99.229431  134.526611        2.588855e-01         9.693675   \n",
       "\n",
       "   Texture Major Axis  Texture Major Direction  Texture Minor Axis  \n",
       "0            0.847026                 0.000000            0.847026  \n",
       "1            1.682064                29.911218            1.390544  \n",
       "2         1512.508475               110.905018         1246.614048  \n",
       "3         5461.165999                 1.543453         1112.298000  \n",
       "4         1467.966275               152.599960         1087.931141  "
      ]
     },
     "execution_count": 8,
     "metadata": {},
     "output_type": "execute_result"
    }
   ],
   "source": [
    "PDAC_B2 = PDAC_B2.drop(columns= [\"Unnamed: 0\", \"Name\", \"Total Nuclei (#)\", \"Center X\", \"Center Y\", \"new_x\", \"new_y\"])\n",
    "PDAC_B2.head()"
   ]
  },
  {
   "cell_type": "markdown",
   "id": "974b89b4-e6bf-4b63-a6e5-8c358c448e5f",
   "metadata": {},
   "source": [
    "## 2. Determined optimal parameters"
   ]
  },
  {
   "cell_type": "code",
   "execution_count": 15,
   "id": "fa812038-c5e0-4a83-ac95-5164133d80ce",
   "metadata": {},
   "outputs": [],
   "source": [
    "nbrs = NearestNeighbors(n_neighbors = 5).fit(PDAC_B2)"
   ]
  },
  {
   "cell_type": "code",
   "execution_count": 16,
   "id": "af258068-7bfc-4e98-a9da-cb47a7db29c4",
   "metadata": {},
   "outputs": [],
   "source": [
    "# Find the k-neighbors of a point\n",
    "neigh_dist, neigh_ind = nbrs.kneighbors(PDAC_B2)"
   ]
  },
  {
   "cell_type": "code",
   "execution_count": 17,
   "id": "a612013c-4943-4848-9c92-207e74812989",
   "metadata": {},
   "outputs": [],
   "source": [
    "# sort the neighbor distances (lengths to points) in ascending order\n",
    "# axis = 0 represents sort along first axis i.e. sort along row\n",
    "sort_neigh_dist = np.sort(neigh_dist, axis = 0)"
   ]
  },
  {
   "cell_type": "code",
   "execution_count": 19,
   "id": "41c1082e-2420-4d9f-abad-c747bb4af0e7",
   "metadata": {},
   "outputs": [],
   "source": [
    "k_dist = sort_neigh_dist[:, 4]"
   ]
  },
  {
   "cell_type": "code",
   "execution_count": null,
   "id": "e2e1628c-533d-4683-89be-9a477b31365e",
   "metadata": {},
   "outputs": [],
   "source": [
    "plt.plot(k_dist)\n",
    "plt.ylabel(\"k-NN distance\")\n",
    "plt.xlabel(\"Sorted observations (4th NN)\")\n",
    "plt.show()"
   ]
  },
  {
   "cell_type": "code",
   "execution_count": 20,
   "id": "dc30cc31-bec2-4887-994b-b3b349c7070e",
   "metadata": {},
   "outputs": [
    {
     "name": "stdout",
     "output_type": "stream",
     "text": [
      "852.4912265691897\n"
     ]
    }
   ],
   "source": [
    "kneedle = KneeLocator(x = range(1, len(neigh_dist)+1), y = k_dist, S = 1.0, \n",
    "                      curve = \"concave\", direction = \"increasing\", online=True)\n",
    "\n",
    "# get the estimate of knee point\n",
    "print(kneedle.knee_y)"
   ]
  },
  {
   "cell_type": "code",
   "execution_count": null,
   "id": "56777eb3-fbb2-4368-b4f4-767704a67560",
   "metadata": {},
   "outputs": [],
   "source": [
    "kneedle.plot_knee()\n",
    "plt.show()"
   ]
  },
  {
   "cell_type": "markdown",
   "id": "af9fc17a-705d-4915-8afb-b920736ba0c8",
   "metadata": {},
   "source": [
    "## 3. Perform DBSCAN clustering"
   ]
  },
  {
   "cell_type": "code",
   "execution_count": 23,
   "id": "c934ae11-55e2-4ef6-9929-b448e03cf942",
   "metadata": {},
   "outputs": [],
   "source": [
    "clusters = DBSCAN(eps = kneedle.knee_y, min_samples = 4).fit(PDAC_B2)"
   ]
  },
  {
   "cell_type": "code",
   "execution_count": 24,
   "id": "32b5b179-eb83-4c22-b77c-e513b3d23ed5",
   "metadata": {},
   "outputs": [
    {
     "data": {
      "text/plain": [
       "array([0, 0, 0, ..., 0, 0, 0])"
      ]
     },
     "execution_count": 24,
     "metadata": {},
     "output_type": "execute_result"
    }
   ],
   "source": [
    "clusters.labels_"
   ]
  },
  {
   "cell_type": "code",
   "execution_count": 25,
   "id": "32c337e7-7116-4349-a02e-56cc3e155e3e",
   "metadata": {},
   "outputs": [
    {
     "data": {
      "text/plain": [
       "{-1, 0}"
      ]
     },
     "execution_count": 25,
     "metadata": {},
     "output_type": "execute_result"
    }
   ],
   "source": [
    "# check unique clusters\n",
    "set(clusters.labels_)"
   ]
  },
  {
   "cell_type": "code",
   "execution_count": 26,
   "id": "62220483-7185-4836-a37b-f3b277270c53",
   "metadata": {},
   "outputs": [
    {
     "data": {
      "text/plain": [
       "Counter({0: 90934, -1: 19})"
      ]
     },
     "execution_count": 26,
     "metadata": {},
     "output_type": "execute_result"
    }
   ],
   "source": [
    "Counter(clusters.labels_)"
   ]
  },
  {
   "cell_type": "markdown",
   "id": "cfe3c48c-7db7-4417-a108-8000bc13516d",
   "metadata": {},
   "source": [
    "## 4. Visualization"
   ]
  },
  {
   "cell_type": "code",
   "execution_count": null,
   "id": "7773974e-e1d6-4dd6-b808-d1b9705db427",
   "metadata": {},
   "outputs": [],
   "source": [
    "plt.imshow(img_B2)\n",
    "plt.scatter(PDAC_B2_original[\"new_x\"],PDAC_B2_original[\"new_y\"], s = 1, c=kmeans_A1_wo_coords.labels_.astype(float))\n",
    "plt.show()"
   ]
  },
  {
   "cell_type": "markdown",
   "id": "62d09e55-efe6-4c69-9113-056376c61d5c",
   "metadata": {},
   "source": [
    "# C3."
   ]
  },
  {
   "cell_type": "code",
   "execution_count": 27,
   "id": "ef9a4dba-7e9d-4b45-9238-1283ac64afc8",
   "metadata": {},
   "outputs": [],
   "source": [
    "PanCN_C3_original = PanCN_C3"
   ]
  },
  {
   "cell_type": "code",
   "execution_count": 28,
   "id": "222b2018-44a6-4d06-ab5b-b82e6f8a02ab",
   "metadata": {},
   "outputs": [
    {
     "data": {
      "text/html": [
       "<div>\n",
       "<style scoped>\n",
       "    .dataframe tbody tr th:only-of-type {\n",
       "        vertical-align: middle;\n",
       "    }\n",
       "\n",
       "    .dataframe tbody tr th {\n",
       "        vertical-align: top;\n",
       "    }\n",
       "\n",
       "    .dataframe thead th {\n",
       "        text-align: right;\n",
       "    }\n",
       "</style>\n",
       "<table border=\"1\" class=\"dataframe\">\n",
       "  <thead>\n",
       "    <tr style=\"text-align: right;\">\n",
       "      <th></th>\n",
       "      <th>Nuclei Area per object</th>\n",
       "      <th>Texture inertia</th>\n",
       "      <th>Max Intensity</th>\n",
       "      <th>Mean Intensity</th>\n",
       "      <th>Min Intensity</th>\n",
       "      <th>Modus</th>\n",
       "      <th>Texture Anisotropy</th>\n",
       "      <th>Texture Entropy</th>\n",
       "      <th>Texture Major Axis</th>\n",
       "      <th>Texture Major Direction</th>\n",
       "      <th>Texture Minor Axis</th>\n",
       "    </tr>\n",
       "  </thead>\n",
       "  <tbody>\n",
       "    <tr>\n",
       "      <th>0</th>\n",
       "      <td>37.00</td>\n",
       "      <td>4624.952512</td>\n",
       "      <td>104.315163</td>\n",
       "      <td>70.199417</td>\n",
       "      <td>49.392860</td>\n",
       "      <td>60.350582</td>\n",
       "      <td>0.261332</td>\n",
       "      <td>8.969983</td>\n",
       "      <td>1097.227225</td>\n",
       "      <td>32.302473</td>\n",
       "      <td>810.486585</td>\n",
       "    </tr>\n",
       "    <tr>\n",
       "      <th>1</th>\n",
       "      <td>52.50</td>\n",
       "      <td>4624.952512</td>\n",
       "      <td>105.821548</td>\n",
       "      <td>60.258968</td>\n",
       "      <td>33.355782</td>\n",
       "      <td>41.344807</td>\n",
       "      <td>0.394836</td>\n",
       "      <td>8.944638</td>\n",
       "      <td>1774.762880</td>\n",
       "      <td>75.181738</td>\n",
       "      <td>1074.023232</td>\n",
       "    </tr>\n",
       "    <tr>\n",
       "      <th>2</th>\n",
       "      <td>33.50</td>\n",
       "      <td>4624.952512</td>\n",
       "      <td>132.559052</td>\n",
       "      <td>104.915861</td>\n",
       "      <td>64.481720</td>\n",
       "      <td>132.559052</td>\n",
       "      <td>0.075851</td>\n",
       "      <td>9.050427</td>\n",
       "      <td>824.995626</td>\n",
       "      <td>30.106611</td>\n",
       "      <td>762.419292</td>\n",
       "    </tr>\n",
       "    <tr>\n",
       "      <th>3</th>\n",
       "      <td>34.75</td>\n",
       "      <td>4624.952512</td>\n",
       "      <td>114.042694</td>\n",
       "      <td>65.169379</td>\n",
       "      <td>41.246712</td>\n",
       "      <td>74.150513</td>\n",
       "      <td>0.508010</td>\n",
       "      <td>9.324317</td>\n",
       "      <td>1972.432776</td>\n",
       "      <td>169.161279</td>\n",
       "      <td>970.418105</td>\n",
       "    </tr>\n",
       "    <tr>\n",
       "      <th>4</th>\n",
       "      <td>50.00</td>\n",
       "      <td>4624.952512</td>\n",
       "      <td>111.790764</td>\n",
       "      <td>80.436637</td>\n",
       "      <td>46.212833</td>\n",
       "      <td>59.376213</td>\n",
       "      <td>0.281402</td>\n",
       "      <td>8.800007</td>\n",
       "      <td>700.064283</td>\n",
       "      <td>128.933254</td>\n",
       "      <td>503.064811</td>\n",
       "    </tr>\n",
       "  </tbody>\n",
       "</table>\n",
       "</div>"
      ],
      "text/plain": [
       "   Nuclei Area per object  Texture inertia  Max Intensity  Mean Intensity  \\\n",
       "0                   37.00      4624.952512     104.315163       70.199417   \n",
       "1                   52.50      4624.952512     105.821548       60.258968   \n",
       "2                   33.50      4624.952512     132.559052      104.915861   \n",
       "3                   34.75      4624.952512     114.042694       65.169379   \n",
       "4                   50.00      4624.952512     111.790764       80.436637   \n",
       "\n",
       "   Min Intensity       Modus  Texture Anisotropy  Texture Entropy  \\\n",
       "0      49.392860   60.350582            0.261332         8.969983   \n",
       "1      33.355782   41.344807            0.394836         8.944638   \n",
       "2      64.481720  132.559052            0.075851         9.050427   \n",
       "3      41.246712   74.150513            0.508010         9.324317   \n",
       "4      46.212833   59.376213            0.281402         8.800007   \n",
       "\n",
       "   Texture Major Axis  Texture Major Direction  Texture Minor Axis  \n",
       "0         1097.227225                32.302473          810.486585  \n",
       "1         1774.762880                75.181738         1074.023232  \n",
       "2          824.995626                30.106611          762.419292  \n",
       "3         1972.432776               169.161279          970.418105  \n",
       "4          700.064283               128.933254          503.064811  "
      ]
     },
     "execution_count": 28,
     "metadata": {},
     "output_type": "execute_result"
    }
   ],
   "source": [
    "PanCN_C3 = PanCN_C3.drop(columns= [\"Unnamed: 0\", \"Name\", \"Total Nuclei (#)\", \"Center X\", \"Center Y\", \"new_x\", \"new_y\"])\n",
    "PanCN_C3.head()"
   ]
  },
  {
   "cell_type": "markdown",
   "id": "d9042bdd-5a71-46e4-8eb4-a3bffe582591",
   "metadata": {},
   "source": [
    "## 2. Determined optimal parameters"
   ]
  },
  {
   "cell_type": "code",
   "execution_count": 29,
   "id": "71993c2e-d250-4ae6-ad91-ab856b570e17",
   "metadata": {},
   "outputs": [],
   "source": [
    "nbrs = NearestNeighbors(n_neighbors = 5).fit(PanCN_C3)"
   ]
  },
  {
   "cell_type": "code",
   "execution_count": 30,
   "id": "e48ab155-ab80-4c06-a146-4725868d63e2",
   "metadata": {},
   "outputs": [],
   "source": [
    "# Find the k-neighbors of a point\n",
    "neigh_dist, neigh_ind = nbrs.kneighbors(PanCN_C3)"
   ]
  },
  {
   "cell_type": "code",
   "execution_count": 31,
   "id": "004aa871-970f-45d0-8661-ec1ebb377616",
   "metadata": {},
   "outputs": [],
   "source": [
    "# sort the neighbor distances (lengths to points) in ascending order\n",
    "# axis = 0 represents sort along first axis i.e. sort along row\n",
    "sort_neigh_dist = np.sort(neigh_dist, axis = 0)"
   ]
  },
  {
   "cell_type": "code",
   "execution_count": 32,
   "id": "bdcb91f2-4118-46ea-af8f-7459721ef79b",
   "metadata": {},
   "outputs": [],
   "source": [
    "k_dist = sort_neigh_dist[:, 4]"
   ]
  },
  {
   "cell_type": "code",
   "execution_count": null,
   "id": "e2c5213f-ee69-4523-bac1-3cb16ad3190a",
   "metadata": {},
   "outputs": [],
   "source": [
    "plt.plot(k_dist)\n",
    "plt.ylabel(\"k-NN distance\")\n",
    "plt.xlabel(\"Sorted observations (4th NN)\")\n",
    "plt.show()"
   ]
  },
  {
   "cell_type": "code",
   "execution_count": 33,
   "id": "522cbf8a-04f2-4a50-b6ef-6bd5d6ed1210",
   "metadata": {},
   "outputs": [
    {
     "name": "stdout",
     "output_type": "stream",
     "text": [
      "864.2088588342705\n"
     ]
    }
   ],
   "source": [
    "kneedle = KneeLocator(x = range(1, len(neigh_dist)+1), y = k_dist, S = 1.0, \n",
    "                      curve = \"concave\", direction = \"increasing\", online=True)\n",
    "\n",
    "# get the estimate of knee point\n",
    "print(kneedle.knee_y)"
   ]
  },
  {
   "cell_type": "code",
   "execution_count": null,
   "id": "04197020-c472-483b-98d0-a540d0ea904a",
   "metadata": {},
   "outputs": [],
   "source": [
    "kneedle.plot_knee()\n",
    "plt.show()"
   ]
  },
  {
   "cell_type": "markdown",
   "id": "d2397e0b-e52a-4fb6-8d8c-c8d8bae102bf",
   "metadata": {},
   "source": [
    "## 3. Perform DBSCAN clustering"
   ]
  },
  {
   "cell_type": "code",
   "execution_count": null,
   "id": "30a87322-8980-461b-943c-d1d4bcc57a60",
   "metadata": {},
   "outputs": [],
   "source": [
    "clusters = DBSCAN(eps = kneedle.knee_y, min_samples = 4).fit(PanCN_C3)"
   ]
  },
  {
   "cell_type": "code",
   "execution_count": null,
   "id": "c45a554b-21e8-42c9-a201-08521fdf8633",
   "metadata": {},
   "outputs": [],
   "source": [
    "clusters.labels_"
   ]
  },
  {
   "cell_type": "code",
   "execution_count": null,
   "id": "b00aad82-a0c4-4637-a9ce-09a2532ebc3d",
   "metadata": {},
   "outputs": [],
   "source": [
    "# check unique clusters\n",
    "set(clusters.labels_)"
   ]
  },
  {
   "cell_type": "code",
   "execution_count": null,
   "id": "d91fc328-593f-4c16-9287-819e963ed376",
   "metadata": {},
   "outputs": [],
   "source": [
    "Counter(clusters.labels_)"
   ]
  },
  {
   "cell_type": "markdown",
   "id": "cb18a114-8684-4025-84a6-30b8b2e5c51f",
   "metadata": {},
   "source": [
    "## 4. Visualization"
   ]
  },
  {
   "cell_type": "code",
   "execution_count": null,
   "id": "2af96a11-98c5-44e5-aafb-85a3217af072",
   "metadata": {},
   "outputs": [],
   "source": [
    "plt.imshow(img_C3)\n",
    "plt.scatter(PanCN_C3_original[\"new_x\"],PanCN_C3_original[\"new_y\"], s = 1, c=kmeans_A1_wo_coords.labels_.astype(float))\n",
    "plt.show()"
   ]
  },
  {
   "cell_type": "markdown",
   "id": "80f163d9-0203-4489-87a7-1f4770aa3f13",
   "metadata": {},
   "source": [
    "# D4. "
   ]
  },
  {
   "cell_type": "code",
   "execution_count": null,
   "id": "c66c25fe-61f0-4605-9700-cc6330afca23",
   "metadata": {},
   "outputs": [],
   "source": [
    "PanCN_D4_original = PanCN_D4"
   ]
  },
  {
   "cell_type": "code",
   "execution_count": null,
   "id": "dfe51a16-c5c9-468d-8493-0fff0ebb25ab",
   "metadata": {},
   "outputs": [],
   "source": [
    "PanCN_D4 = PanCN_D4.drop(columns= [\"Unnamed: 0\", \"Name\", \"Total Nuclei (#)\", \"Center X\", \"Center Y\", \"new_x\", \"new_y\"])\n",
    "PanCN_D4.head()"
   ]
  },
  {
   "cell_type": "markdown",
   "id": "8bd95efe-3963-4010-9267-ae077294b0cd",
   "metadata": {},
   "source": [
    "## 2. Determined optimal parameters"
   ]
  },
  {
   "cell_type": "code",
   "execution_count": null,
   "id": "c92aa37e-1bd0-4736-b06a-5774ca6657df",
   "metadata": {},
   "outputs": [],
   "source": [
    "nbrs = NearestNeighbors(n_neighbors = 5).fit(PanCN_D4)"
   ]
  },
  {
   "cell_type": "code",
   "execution_count": null,
   "id": "4d7ae46f-f0e2-465f-9b5a-af0265f68cae",
   "metadata": {},
   "outputs": [],
   "source": [
    "# Find the k-neighbors of a point\n",
    "neigh_dist, neigh_ind = nbrs.kneighbors(PanCN_D4)"
   ]
  },
  {
   "cell_type": "code",
   "execution_count": null,
   "id": "5b302102-7372-49e4-ad68-183e41dd74cc",
   "metadata": {},
   "outputs": [],
   "source": [
    "# sort the neighbor distances (lengths to points) in ascending order\n",
    "# axis = 0 represents sort along first axis i.e. sort along row\n",
    "sort_neigh_dist = np.sort(neigh_dist, axis = 0)"
   ]
  },
  {
   "cell_type": "code",
   "execution_count": null,
   "id": "e62ad941-d00d-4b10-b0df-da4e4c075ef6",
   "metadata": {},
   "outputs": [],
   "source": [
    "k_dist = sort_neigh_dist[:, 4]"
   ]
  },
  {
   "cell_type": "code",
   "execution_count": null,
   "id": "c0f29f6b-2d15-4823-997a-9fa04ef7781d",
   "metadata": {},
   "outputs": [],
   "source": [
    "plt.plot(k_dist)\n",
    "plt.ylabel(\"k-NN distance\")\n",
    "plt.xlabel(\"Sorted observations (4th NN)\")\n",
    "plt.show()"
   ]
  },
  {
   "cell_type": "code",
   "execution_count": null,
   "id": "9c2003bd-a2ae-47a8-9d6b-f10c26749ddc",
   "metadata": {},
   "outputs": [],
   "source": [
    "kneedle = KneeLocator(x = range(1, len(neigh_dist)+1), y = k_dist, S = 1.0, \n",
    "                      curve = \"concave\", direction = \"increasing\", online=True)\n",
    "\n",
    "# get the estimate of knee point\n",
    "print(kneedle.knee_y)"
   ]
  },
  {
   "cell_type": "code",
   "execution_count": null,
   "id": "b5d578de-32a9-4b17-8ec0-e133034478e5",
   "metadata": {},
   "outputs": [],
   "source": [
    "kneedle.plot_knee()\n",
    "plt.show()"
   ]
  },
  {
   "cell_type": "markdown",
   "id": "e41d3e44-94ad-4ff6-98f7-e7566c8f35b9",
   "metadata": {},
   "source": [
    "## 3. Perform DBSCAN clustering"
   ]
  },
  {
   "cell_type": "code",
   "execution_count": null,
   "id": "9de73558-ce92-44da-ad0d-8042a512af6f",
   "metadata": {},
   "outputs": [],
   "source": [
    "clusters = DBSCAN(eps = kneedle.knee_y, min_samples = 4).fit(PanCN_D4)"
   ]
  },
  {
   "cell_type": "code",
   "execution_count": null,
   "id": "fb744068-d7ba-47a7-a92b-60e7f839f822",
   "metadata": {},
   "outputs": [],
   "source": [
    "clusters.labels_"
   ]
  },
  {
   "cell_type": "code",
   "execution_count": null,
   "id": "35b9406b-5a1f-499a-9813-3d46015bd938",
   "metadata": {},
   "outputs": [],
   "source": [
    "# check unique clusters\n",
    "set(clusters.labels_)"
   ]
  },
  {
   "cell_type": "code",
   "execution_count": null,
   "id": "b416d113-c1ac-44ef-8a9b-230e5077be1b",
   "metadata": {},
   "outputs": [],
   "source": [
    "Counter(clusters.labels_)"
   ]
  },
  {
   "cell_type": "markdown",
   "id": "fb48411d-99f9-431f-be14-17ad7f389917",
   "metadata": {},
   "source": [
    "## 4. Visualization"
   ]
  },
  {
   "cell_type": "code",
   "execution_count": null,
   "id": "0e8dbf02-fcad-491b-a42d-86e4cf949507",
   "metadata": {},
   "outputs": [],
   "source": [
    "plt.imshow(img_D4)\n",
    "plt.scatter(PanCN_D4_original[\"new_x\"],PanCN_D4_original[\"new_y\"], s = 1, c=kmeans_A1_wo_coords.labels_.astype(float))\n",
    "plt.show()"
   ]
  },
  {
   "cell_type": "code",
   "execution_count": null,
   "id": "eb3f0107-d959-45c4-9f1f-bd4d404519a2",
   "metadata": {},
   "outputs": [],
   "source": []
  }
 ],
 "metadata": {
  "kernelspec": {
   "display_name": "Python 3 (ipykernel)",
   "language": "python",
   "name": "python3"
  },
  "language_info": {
   "codemirror_mode": {
    "name": "ipython",
    "version": 3
   },
   "file_extension": ".py",
   "mimetype": "text/x-python",
   "name": "python",
   "nbconvert_exporter": "python",
   "pygments_lexer": "ipython3",
   "version": "3.9.6"
  }
 },
 "nbformat": 4,
 "nbformat_minor": 5
}
