{
 "cells": [
  {
   "cell_type": "markdown",
   "id": "f758bc1c",
   "metadata": {
    "tags": []
   },
   "source": [
    "# Ward hierarchical clustering for H&E images segmentation"
   ]
  },
  {
   "cell_type": "markdown",
   "id": "1a451500",
   "metadata": {},
   "source": [
    "We applied this algorithm on one image of PDAC dataset (B2) in order to segment nuclei"
   ]
  },
  {
   "cell_type": "markdown",
   "id": "27e88d3f",
   "metadata": {},
   "source": [
    "As a reminder, we finally chose to do the segmentation with Visiopharm."
   ]
  },
  {
   "cell_type": "markdown",
   "id": "d7f8b818",
   "metadata": {},
   "source": [
    "https://scikit-learn.org/0.15/auto_examples/cluster/plot_lena_ward_segmentation.html"
   ]
  },
  {
   "cell_type": "markdown",
   "id": "64032a30",
   "metadata": {},
   "source": [
    "https://www.thepythoncode.com/article/kmeans-for-image-segmentation-opencv-python"
   ]
  },
  {
   "cell_type": "markdown",
   "id": "e5adb5f1",
   "metadata": {},
   "source": [
    "# 0. Preliminary steps"
   ]
  },
  {
   "cell_type": "markdown",
   "id": "ead2f355",
   "metadata": {},
   "source": [
    "## 0.1 Environment"
   ]
  },
  {
   "cell_type": "markdown",
   "id": "393337a4",
   "metadata": {},
   "source": [
    "conda env create -f env_cellpose.yml --name cellpose\n",
    "\n",
    "conda activate cellpose\n",
    "\n",
    "pip install ipykernel\n",
    "\n",
    "python -m ipykernel install --user --name=cellpose --display-name=Cellpose\n",
    "\n",
    "pip install imagecodecs\n",
    "\n",
    "pip install opencv-python"
   ]
  },
  {
   "cell_type": "markdown",
   "id": "02c806b8",
   "metadata": {},
   "source": [
    "## 0.1.bis My env"
   ]
  },
  {
   "cell_type": "code",
   "execution_count": null,
   "id": "cfea9c22",
   "metadata": {},
   "outputs": [],
   "source": [
    "conda env create -f env_ST.yml --name STenv"
   ]
  },
  {
   "cell_type": "markdown",
   "id": "1764e7d2",
   "metadata": {},
   "source": [
    "## 0.2. Load packages"
   ]
  },
  {
   "cell_type": "code",
   "execution_count": 1,
   "id": "492c79b9",
   "metadata": {
    "tags": []
   },
   "outputs": [],
   "source": [
    "import os\n",
    "import cv2\n",
    "import time as time\n",
    "import numpy as np\n",
    "import scipy as sp\n",
    "import matplotlib.pyplot as plt\n",
    "from sklearn.feature_extraction.image import grid_to_graph\n",
    "from sklearn.cluster import AgglomerativeClustering"
   ]
  },
  {
   "cell_type": "markdown",
   "id": "22909e4b",
   "metadata": {},
   "source": [
    "## 0.3. Output files"
   ]
  },
  {
   "cell_type": "code",
   "execution_count": 2,
   "id": "5e659e19",
   "metadata": {},
   "outputs": [],
   "source": [
    "## Result folder \n",
    "output_files= f\"/sbgenomics/output-files/data/segmentation_ward\"\n",
    "os.makedirs(output_files, exist_ok=True)\n",
    "\n",
    "## workspace folder\n",
    "output_workspace = f\"./ward/segmented_images\"\n",
    "os.makedirs(output_workspace, exist_ok=True)"
   ]
  },
  {
   "cell_type": "markdown",
   "id": "16a0e05f",
   "metadata": {
    "tags": []
   },
   "source": [
    "## 0.4. Fonction definition"
   ]
  },
  {
   "cell_type": "markdown",
   "id": "364b8a41",
   "metadata": {
    "tags": []
   },
   "source": [
    "## 1. Image preprocessing"
   ]
  },
  {
   "cell_type": "markdown",
   "id": "2eba3578",
   "metadata": {
    "tags": []
   },
   "source": [
    "## 1.1. Import image"
   ]
  },
  {
   "cell_type": "code",
   "execution_count": 2,
   "id": "b7c474d3",
   "metadata": {},
   "outputs": [],
   "source": [
    "image = cv2.imread(\"hne_normalized_wo_background/PDAC_B2_normalized_wo_background/PDAC_B2_result_normalized_wo_background.jpg\")"
   ]
  },
  {
   "cell_type": "code",
   "execution_count": null,
   "id": "a2501e1f",
   "metadata": {},
   "outputs": [],
   "source": [
    "plt.imshow(image)\n",
    "plt.show()"
   ]
  },
  {
   "cell_type": "code",
   "execution_count": 3,
   "id": "f2443835",
   "metadata": {},
   "outputs": [],
   "source": [
    "X = np.reshape(image, (-1, 1))"
   ]
  },
  {
   "cell_type": "code",
   "execution_count": null,
   "id": "a3b68157",
   "metadata": {},
   "outputs": [],
   "source": [
    "connectivity = grid_to_graph(*image.shape)"
   ]
  },
  {
   "cell_type": "code",
   "execution_count": null,
   "id": "ef06abf3",
   "metadata": {},
   "outputs": [],
   "source": [
    "# Compute clustering\n",
    "print(\"Compute structured hierarchical clustering...\")\n",
    "st = time.time()\n",
    "n_clusters = 3  # number of regions\n",
    "ward = AgglomerativeClustering(n_clusters=n_clusters,\n",
    "        linkage='ward', connectivity=connectivity).fit(X)\n",
    "label = np.reshape(ward.labels_, image.shape)\n",
    "print(\"Elapsed time: \", time.time() - st)\n",
    "print(\"Number of pixels: \", label.size)\n",
    "print(\"Number of clusters: \", np.unique(label).size)"
   ]
  },
  {
   "cell_type": "code",
   "execution_count": null,
   "id": "efc51ef0",
   "metadata": {},
   "outputs": [],
   "source": [
    "# Plot the results on an image\n",
    "plt.figure(figsize=(5, 5))\n",
    "plt.imshow(image, cmap=plt.cm.gray)\n",
    "for l in range(n_clusters):\n",
    "    plt.contour(label == l, contours=1,\n",
    "                colors=[plt.cm.spectral(l / float(n_clusters)), ])\n",
    "plt.xticks(())\n",
    "plt.yticks(())\n",
    "plt.show()"
   ]
  }
 ],
 "metadata": {
  "kernelspec": {
   "display_name": "Python 3 (ipykernel)",
   "language": "python",
   "name": "python3"
  },
  "language_info": {
   "codemirror_mode": {
    "name": "ipython",
    "version": 3
   },
   "file_extension": ".py",
   "mimetype": "text/x-python",
   "name": "python",
   "nbconvert_exporter": "python",
   "pygments_lexer": "ipython3",
   "version": "3.7.10"
  }
 },
 "nbformat": 4,
 "nbformat_minor": 5
}
