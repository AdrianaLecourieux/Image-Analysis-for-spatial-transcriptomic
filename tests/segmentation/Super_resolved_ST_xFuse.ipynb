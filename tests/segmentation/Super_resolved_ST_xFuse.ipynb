{
 "cells": [
  {
   "cell_type": "markdown",
   "id": "94113387",
   "metadata": {},
   "source": [
    "# XFuse: Deep spatial data fusion"
   ]
  },
  {
   "cell_type": "markdown",
   "id": "8ef755d3",
   "metadata": {},
   "source": [
    "We tested xFuse, an algorithm which super-resolved spatial transcriptomics by deep data fusion. However, we didn't get satisfactory results."
   ]
  },
  {
   "cell_type": "markdown",
   "id": "243c12ad",
   "metadata": {},
   "source": [
    "The first run ran indefinitly and the second presented an error."
   ]
  },
  {
   "cell_type": "markdown",
   "id": "46594e83",
   "metadata": {},
   "source": [
    "\n",
    "xfuse need 8 cores to run. Use the instance :p2.8xlarge\n",
    "\n",
    "With 4 cores, 1 epoch = 45 min\n",
    "\n",
    "With 8 cores, 1 epoch = 30 min"
   ]
  },
  {
   "cell_type": "markdown",
   "id": "78dc949c",
   "metadata": {},
   "source": [
    "# 0.Install xfuse"
   ]
  },
  {
   "cell_type": "markdown",
   "id": "61704981",
   "metadata": {},
   "source": [
    "pip install --user git+https://github.com/ludvb/xfuse@master"
   ]
  },
  {
   "cell_type": "markdown",
   "id": "a33bb428",
   "metadata": {},
   "source": [
    "# 1. Preprocessing"
   ]
  },
  {
   "cell_type": "markdown",
   "id": "dfbbbe79",
   "metadata": {},
   "source": [
    " xfuse convert visium --bc-matrix Visium_FFPE_Human_Breast_Cancer_filtered_feature_bc_matrix.h5 --image Visium_FFPE_Human_Breast_Cancer_image_test2.tif --tissue-positions spatial/tissue_positions_list.csv --scale-factors spatial/scalefactors_json.json --scale 0.3"
   ]
  },
  {
   "cell_type": "markdown",
   "id": "705fb267",
   "metadata": {},
   "source": [
    "On new test : "
   ]
  },
  {
   "cell_type": "markdown",
   "id": "3e4a35b1",
   "metadata": {},
   "source": [
    "xfuse convert visium --bc-matrix data/pancreas_dataset/filtered_feature_bc_matrix.h5 --image data/pancreas_dataset/PDAC_12747476B_A1.jpg --tissue-positions data/pancreas_dataset/tissue_positions_list.csv --scale-factors data/pancreas_dataset/scalefactors_json.json --scale 0.3 "
   ]
  },
  {
   "cell_type": "markdown",
   "id": "bfabd193",
   "metadata": {},
   "source": [
    "# 2. Run xFuse"
   ]
  },
  {
   "cell_type": "markdown",
   "id": "4897311d",
   "metadata": {},
   "source": [
    "Suspend time of the VM must be large (here 5770)"
   ]
  },
  {
   "cell_type": "markdown",
   "id": "08d6d866",
   "metadata": {},
   "source": [
    "xfuse run my-config.toml --save-path my-run"
   ]
  }
 ],
 "metadata": {
  "kernelspec": {
   "display_name": "Python 3 (ipykernel)",
   "language": "python",
   "name": "python3"
  },
  "language_info": {
   "codemirror_mode": {
    "name": "ipython",
    "version": 3
   },
   "file_extension": ".py",
   "mimetype": "text/x-python",
   "name": "python",
   "nbconvert_exporter": "python",
   "pygments_lexer": "ipython3",
   "version": "3.7.10"
  }
 },
 "nbformat": 4,
 "nbformat_minor": 5
}
