{
 "cells": [
  {
   "cell_type": "markdown",
   "id": "45aaf9d2",
   "metadata": {},
   "source": [
    "# Squipdy Segmentation on crop normalized image"
   ]
  },
  {
   "cell_type": "markdown",
   "id": "588db017",
   "metadata": {},
   "source": [
    "In this notebook you'll find nuclei segmentation method with Squidpy applied to one H&E image of PDAC dataset."
   ]
  },
  {
   "cell_type": "markdown",
   "id": "0ac86493",
   "metadata": {},
   "source": [
    "- Squidpy tutorial : https://squidpy.readthedocs.io/en/stable/auto_examples/image/compute_segment_hne.html"
   ]
  },
  {
   "cell_type": "markdown",
   "id": "181356fd",
   "metadata": {},
   "source": [
    "PS : The begining of the script is missing but it correspond to the import of the image."
   ]
  },
  {
   "cell_type": "markdown",
   "id": "5b7b5052",
   "metadata": {},
   "source": [
    "# 1. Smooth the image"
   ]
  },
  {
   "cell_type": "code",
   "execution_count": null,
   "id": "5ae224df",
   "metadata": {},
   "outputs": [],
   "source": [
    "# smooth image\n",
    "sq.im.process(crop_norm, layer=\"image\", method=\"smooth\", sigma=4)\n",
    "\n",
    "# plot the result\n",
    "fig, axes = plt.subplots(1, 2)\n",
    "for layer, ax in zip([\"image\", \"image_smooth\"], axes):\n",
    "    crop_norm.show(layer, ax=ax)\n",
    "    ax.set_title(layer)"
   ]
  },
  {
   "cell_type": "markdown",
   "id": "99d81200",
   "metadata": {},
   "source": [
    "# 2. Segmentation"
   ]
  },
  {
   "cell_type": "markdown",
   "id": "12cfaeac",
   "metadata": {},
   "source": [
    "Judging by peak in the histogram and the thresholded example image, a threshold of 150 is setting"
   ]
  },
  {
   "cell_type": "code",
   "execution_count": null,
   "id": "2eced70f",
   "metadata": {},
   "outputs": [],
   "source": [
    "fig, axes = plt.subplots(1, 3, figsize=(15, 4))\n",
    "crop_norm.show(\"image_smooth\", cmap=\"gray\", ax=axes[0])\n",
    "axes[1].imshow(crop_norm[\"image_smooth\"][:, :, 0, 0] < 150)\n",
    "_ = sns.histplot(np.array(crop_norm[\"image_smooth\"]).flatten(), bins=50, ax=axes[2])\n",
    "plt.tight_layout()"
   ]
  },
  {
   "cell_type": "markdown",
   "id": "8a42d7e1",
   "metadata": {},
   "source": [
    "Watershade segmentation:"
   ]
  },
  {
   "cell_type": "code",
   "execution_count": null,
   "id": "7c8a546a",
   "metadata": {},
   "outputs": [],
   "source": [
    "sq.im.segment(img=crop_norm, layer=\"image_smooth\", method=\"watershed\", thresh=90, geq=False)"
   ]
  },
  {
   "cell_type": "markdown",
   "id": "af805ac9",
   "metadata": {},
   "source": [
    "# 3. Result visualization"
   ]
  },
  {
   "cell_type": "code",
   "execution_count": null,
   "id": "f006000d",
   "metadata": {},
   "outputs": [],
   "source": [
    "print(crop_norm)\n",
    "print(f\"Number of segments in crop: {len(np.unique(crop_norm['segmented_watershed']))}\")\n",
    "\n",
    "fig, axes = plt.subplots(1, 2)\n",
    "crop_norm.show(\"image\", channel=0, ax=axes[0])\n",
    "_ = axes[0].set_title(\"H&E\")\n",
    "crop_norm.show(\"segmented_watershed\", cmap=\"jet\", interpolation=\"none\", ax=axes[1])\n",
    "_ = axes[1].set_title(\"segmentation\")"
   ]
  },
  {
   "cell_type": "code",
   "execution_count": null,
   "id": "b65a791f",
   "metadata": {},
   "outputs": [],
   "source": [
    "crop_norm"
   ]
  },
  {
   "cell_type": "code",
   "execution_count": null,
   "id": "be841353",
   "metadata": {},
   "outputs": [],
   "source": [
    "crop_norm.show(\"image\", segmentation_layer=\"segmented_watershed\", segmentation_alpha=0.5)"
   ]
  }
 ],
 "metadata": {
  "kernelspec": {
   "display_name": "Python 3 (ipykernel)",
   "language": "python",
   "name": "python3"
  },
  "language_info": {
   "codemirror_mode": {
    "name": "ipython",
    "version": 3
   },
   "file_extension": ".py",
   "mimetype": "text/x-python",
   "name": "python",
   "nbconvert_exporter": "python",
   "pygments_lexer": "ipython3",
   "version": "3.7.10"
  }
 },
 "nbformat": 4,
 "nbformat_minor": 5
}
