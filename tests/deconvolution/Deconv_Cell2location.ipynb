{
 "cells": [
  {
   "cell_type": "markdown",
   "id": "dacd90ed",
   "metadata": {},
   "source": [
    "# Deconvolution with Cell2location"
   ]
  },
  {
   "cell_type": "markdown",
   "id": "eb970709",
   "metadata": {},
   "source": [
    "In this notebook, I perform Cell2location tutorial with the human lymph node dataset.\n",
    "\n",
    "You can found this tutorial here : https://cell2location.readthedocs.io/en/latest/notebooks/cell2location_tutorial.html# "
   ]
  },
  {
   "cell_type": "markdown",
   "id": "ead82cd2",
   "metadata": {},
   "source": [
    "For this analysis, choose **more than 1 GPU**"
   ]
  },
  {
   "cell_type": "markdown",
   "id": "2f7b1f84",
   "metadata": {},
   "source": [
    "# 0. Installation"
   ]
  },
  {
   "cell_type": "markdown",
   "id": "146ff04a",
   "metadata": {},
   "source": [
    "conda create -y -n cell2loc_env python=3.9\n",
    "\n",
    "conda activate cell2loc_env\n",
    "\n",
    "pip install cell2location[tutorials]\n",
    "\n",
    "pip install ipykernel\n",
    "\n",
    "python -m ipykernel install --user --name=cell2loc_env --display-name=Cell2location\n",
    "\n",
    "pip install torch # for using gpu"
   ]
  },
  {
   "cell_type": "code",
   "execution_count": null,
   "id": "a2ce94bc",
   "metadata": {},
   "outputs": [],
   "source": [
    "import sys\n",
    "import os\n",
    "import numpy as np\n",
    "import matplotlib.pyplot as plt\n",
    "import matplotlib as mpl\n",
    "import cell2location\n",
    "import scanpy as sc\n",
    "import torch"
   ]
  },
  {
   "cell_type": "code",
   "execution_count": null,
   "id": "5787d32a",
   "metadata": {},
   "outputs": [],
   "source": [
    "## Result folder \n",
    "output_path = f\"/sbgenomics/output-files/data/Cell2Location\"\n",
    "os.makedirs(output_path, exist_ok=True)"
   ]
  },
  {
   "cell_type": "markdown",
   "id": "cadcabb5",
   "metadata": {},
   "source": [
    "# 1. Load and preprocess ST data"
   ]
  },
  {
   "cell_type": "code",
   "execution_count": null,
   "id": "f4e55839",
   "metadata": {},
   "outputs": [],
   "source": [
    "adata = sc.read_h5ad('./data/ST.h5ad')"
   ]
  },
  {
   "cell_type": "code",
   "execution_count": null,
   "id": "9b9a9f7b",
   "metadata": {},
   "outputs": [],
   "source": [
    "adata.uns"
   ]
  },
  {
   "cell_type": "code",
   "execution_count": null,
   "id": "8489872f",
   "metadata": {},
   "outputs": [],
   "source": [
    "list(adata.uns['spatial'].keys())[0]"
   ]
  },
  {
   "cell_type": "code",
   "execution_count": null,
   "id": "3f507674",
   "metadata": {},
   "outputs": [],
   "source": [
    "adata.obs['sample'] = list(adata.uns['spatial'].keys())[0]"
   ]
  },
  {
   "cell_type": "code",
   "execution_count": null,
   "id": "3728e328",
   "metadata": {},
   "outputs": [],
   "source": [
    "adata.var_names"
   ]
  },
  {
   "cell_type": "code",
   "execution_count": null,
   "id": "d55f3c94",
   "metadata": {},
   "outputs": [],
   "source": [
    "adata.var"
   ]
  },
  {
   "cell_type": "code",
   "execution_count": null,
   "id": "30c02b2e",
   "metadata": {},
   "outputs": [],
   "source": [
    "adata.var['SYMBOL']"
   ]
  },
  {
   "cell_type": "code",
   "execution_count": null,
   "id": "9cd0f95d",
   "metadata": {},
   "outputs": [],
   "source": [
    "adata.var.index"
   ]
  },
  {
   "cell_type": "code",
   "execution_count": null,
   "id": "de43d66b",
   "metadata": {},
   "outputs": [],
   "source": [
    "sc.pl.spatial(adata, color='PTPRC', gene_symbols='SYMBOL')"
   ]
  },
  {
   "cell_type": "markdown",
   "id": "f1e15def",
   "metadata": {},
   "source": [
    "# 2. Load and preprocess scRNA-seq data"
   ]
  },
  {
   "cell_type": "code",
   "execution_count": null,
   "id": "739f826f",
   "metadata": {},
   "outputs": [],
   "source": [
    "adata_ref = sc.read('./data/scRNA.h5ad')"
   ]
  },
  {
   "cell_type": "code",
   "execution_count": null,
   "id": "9946133d",
   "metadata": {},
   "outputs": [],
   "source": [
    "adata.var"
   ]
  },
  {
   "cell_type": "code",
   "execution_count": null,
   "id": "7893340e",
   "metadata": {},
   "outputs": [],
   "source": [
    "adata_ref.var.index"
   ]
  },
  {
   "cell_type": "code",
   "execution_count": null,
   "id": "3202c339",
   "metadata": {},
   "outputs": [],
   "source": [
    "from cell2location.utils.filtering import filter_genes"
   ]
  },
  {
   "cell_type": "code",
   "execution_count": null,
   "id": "1effd498",
   "metadata": {},
   "outputs": [],
   "source": [
    "selected = filter_genes(adata_ref, cell_count_cutoff=5, cell_percentage_cutoff2=0.03, nonz_mean_cutoff=1.12)"
   ]
  },
  {
   "cell_type": "code",
   "execution_count": null,
   "id": "9ac4cfdd",
   "metadata": {},
   "outputs": [],
   "source": [
    "adata_ref = adata_ref[:, selected].copy()"
   ]
  },
  {
   "cell_type": "code",
   "execution_count": null,
   "id": "75124f2a",
   "metadata": {},
   "outputs": [],
   "source": [
    "adata.var"
   ]
  },
  {
   "cell_type": "markdown",
   "id": "535dcc86",
   "metadata": {},
   "source": [
    "# 3. Estimation of reference cell type signatures (Negative Binomial regression)"
   ]
  },
  {
   "cell_type": "code",
   "execution_count": null,
   "id": "e34af5a6",
   "metadata": {},
   "outputs": [],
   "source": [
    "device = torch.device('cuda' if torch.cuda.is_available() else 'cpu')"
   ]
  },
  {
   "cell_type": "code",
   "execution_count": null,
   "id": "18625d54",
   "metadata": {},
   "outputs": [],
   "source": [
    "cell2location.models.RegressionModel.setup_anndata(adata=adata_ref,\n",
    "                        # 10X reaction / sample / batch\n",
    "                        batch_key='Sample',\n",
    "                        # cell type, covariate used for constructing signatures\n",
    "                        labels_key='Subset',\n",
    "                        # multiplicative technical effects (platform, 3' vs 5', donor effect)\n",
    "                        categorical_covariate_keys=['Method']\n",
    "                       )"
   ]
  },
  {
   "cell_type": "code",
   "execution_count": null,
   "id": "b5466561",
   "metadata": {},
   "outputs": [],
   "source": [
    "# create the regression model\n",
    "from cell2location.models import RegressionModel\n",
    "mod = RegressionModel(adata_ref)\n",
    "\n",
    "# view anndata_setup as a sanity check\n",
    "mod.view_anndata_setup()"
   ]
  },
  {
   "cell_type": "code",
   "execution_count": null,
   "id": "1f7ffeb9",
   "metadata": {},
   "outputs": [],
   "source": [
    "# met 1h à tourner avec 1 GPU"
   ]
  },
  {
   "cell_type": "code",
   "execution_count": null,
   "id": "8bdbb8c6",
   "metadata": {},
   "outputs": [],
   "source": [
    "mod.train(max_epochs=250, use_gpu=True)"
   ]
  },
  {
   "cell_type": "code",
   "execution_count": null,
   "id": "2998f3ef",
   "metadata": {},
   "outputs": [],
   "source": [
    "mod.plot_history(20)"
   ]
  },
  {
   "cell_type": "code",
   "execution_count": null,
   "id": "6b70dd8c",
   "metadata": {},
   "outputs": [],
   "source": [
    "adata_ref = mod.export_posterior(\n",
    "    adata_ref, sample_kwargs={'num_samples': 1000, 'batch_size': 2500, 'use_gpu': True}\n",
    ")"
   ]
  },
  {
   "cell_type": "code",
   "execution_count": null,
   "id": "e5fb14b1",
   "metadata": {},
   "outputs": [],
   "source": [
    "mod.plot_QC()"
   ]
  },
  {
   "cell_type": "code",
   "execution_count": null,
   "id": "80cfb856",
   "metadata": {},
   "outputs": [],
   "source": [
    "# export estimated expression in each cluster\n",
    "if 'means_per_cluster_mu_fg' in adata_ref.varm.keys():\n",
    "    inf_aver = adata_ref.varm['means_per_cluster_mu_fg'][[f'means_per_cluster_mu_fg_{i}'\n",
    "                                    for i in adata_ref.uns['mod']['factor_names']]].copy()\n",
    "else:\n",
    "    inf_aver = adata_ref.var[[f'means_per_cluster_mu_fg_{i}'\n",
    "                                    for i in adata_ref.uns['mod']['factor_names']]].copy()\n",
    "inf_aver.columns = adata_ref.uns['mod']['factor_names']\n",
    "inf_aver.iloc[0:5, 0:5]"
   ]
  },
  {
   "cell_type": "markdown",
   "id": "e676db3c",
   "metadata": {},
   "source": [
    "# 4. Spatial mapping"
   ]
  },
  {
   "cell_type": "code",
   "execution_count": null,
   "id": "5f5e47eb",
   "metadata": {},
   "outputs": [],
   "source": [
    "# find shared genes and subset both anndata and reference signatures\n",
    "intersect = np.intersect1d(adata.var_names, inf_aver.index)"
   ]
  },
  {
   "cell_type": "code",
   "execution_count": null,
   "id": "46206944",
   "metadata": {},
   "outputs": [],
   "source": [
    "adata = adata[:, intersect].copy()\n",
    "inf_aver = inf_aver.loc[intersect, :].copy()"
   ]
  },
  {
   "cell_type": "code",
   "execution_count": null,
   "id": "b57c9698",
   "metadata": {},
   "outputs": [],
   "source": [
    "# prepare anndata for cell2location model\n",
    "cell2location.models.Cell2location.setup_anndata(adata=adata, batch_key=\"sample\")"
   ]
  },
  {
   "cell_type": "code",
   "execution_count": null,
   "id": "baefebed",
   "metadata": {},
   "outputs": [],
   "source": [
    "# create and train the model\n",
    "mod = cell2location.models.Cell2location(\n",
    "    adata, cell_state_df=inf_aver,\n",
    "    # the expected average cell abundance: tissue-dependent\n",
    "    # hyper-prior which can be estimated from paired histology:\n",
    "    N_cells_per_location=30,\n",
    "    # hyperparameter controlling normalisation of\n",
    "    # within-experiment variation in RNA detection:\n",
    "    detection_alpha=20\n",
    ")\n",
    "mod.view_anndata_setup()"
   ]
  },
  {
   "cell_type": "code",
   "execution_count": null,
   "id": "d04be0c0",
   "metadata": {},
   "outputs": [],
   "source": [
    "mod.train(max_epochs=3000,\n",
    "          # train using full data (batch_size=None)\n",
    "          batch_size=None,\n",
    "          # use all data points in training because\n",
    "          # we need to estimate cell abundance at all locations\n",
    "          train_size=1,\n",
    "          use_gpu=True,\n",
    "         )\n",
    "\n",
    "# plot ELBO loss history during training, removing first 100 epochs from the plot\n",
    "mod.plot_history(1000)\n",
    "plt.legend(labels=['full data training']);"
   ]
  },
  {
   "cell_type": "markdown",
   "id": "f3118f63",
   "metadata": {},
   "source": [
    "Exporting estimated posterior distributions of cell abundance and saving results:"
   ]
  },
  {
   "cell_type": "code",
   "execution_count": null,
   "id": "d1713cb1",
   "metadata": {},
   "outputs": [],
   "source": [
    "adata = mod.export_posterior(\n",
    "    adata, sample_kwargs={'num_samples': 1000, 'batch_size': mod.adata.n_obs, 'use_gpu': True}\n",
    ")"
   ]
  },
  {
   "cell_type": "code",
   "execution_count": null,
   "id": "36abe573",
   "metadata": {},
   "outputs": [],
   "source": [
    "# Save model\n",
    "mod.save(f\"{output_path}\", overwrite=True)"
   ]
  },
  {
   "cell_type": "code",
   "execution_count": null,
   "id": "63fdf2c1",
   "metadata": {},
   "outputs": [],
   "source": [
    "# Save anndata object with results\n",
    "adata_file = f\"{output_path}/adata_after_train.h5ad\"\n",
    "adata.write(adata_file)\n",
    "adata_file"
   ]
  },
  {
   "cell_type": "code",
   "execution_count": null,
   "id": "45c69342",
   "metadata": {},
   "outputs": [],
   "source": [
    "mod.plot_QC()"
   ]
  },
  {
   "cell_type": "markdown",
   "id": "1af14eb4",
   "metadata": {},
   "source": [
    "# 5. Visualising cell abundance in spatial coordinates"
   ]
  },
  {
   "cell_type": "code",
   "execution_count": null,
   "id": "9ea27957",
   "metadata": {},
   "outputs": [],
   "source": [
    "# add 5% quantile, representing confident cell abundance, 'at least this amount is present',\n",
    "# to adata.obs with nice names for plotting\n",
    "adata.obs[adata.uns['mod']['factor_names']] = adata.obsm['q05_cell_abundance_w_sf']"
   ]
  },
  {
   "cell_type": "code",
   "execution_count": null,
   "id": "85edec23",
   "metadata": {},
   "outputs": [],
   "source": [
    "# plot in spatial coordinates\n",
    "with mpl.rc_context({'axes.facecolor':  'black',\n",
    "                     'figure.figsize': [4.5, 5]}):\n",
    "\n",
    "    sc.pl.spatial(adata, cmap='magma',\n",
    "                  # show first 8 cell types\n",
    "                  color=['B_Cycling', 'B_GC_LZ', 'T_CD4+_TfH_GC'],\n",
    "                  ncols=4, size=1.3,\n",
    "                  img_key='hires',\n",
    "                  # limit color scale at 99.2% quantile of cell abundance\n",
    "                  vmin=0, vmax='p99.2'\n",
    "                 )"
   ]
  },
  {
   "cell_type": "code",
   "execution_count": null,
   "id": "1000d738",
   "metadata": {},
   "outputs": [],
   "source": [
    "# Now we use cell2location plotter that allows showing multiple cell types in one panel\n",
    "from cell2location.plt import plot_spatial"
   ]
  },
  {
   "cell_type": "code",
   "execution_count": null,
   "id": "b95d9345",
   "metadata": {},
   "outputs": [],
   "source": [
    "# select up to 6 clusters\n",
    "clust_labels = ['T_CD4+_naive', 'B_naive', 'FDC']\n",
    "clust_col = ['' + str(i) for i in clust_labels] # in case column names differ from labels"
   ]
  },
  {
   "cell_type": "code",
   "execution_count": null,
   "id": "4a455f5d",
   "metadata": {},
   "outputs": [],
   "source": [
    "with mpl.rc_context({'figure.figsize': (15, 15)}):\n",
    "    fig = plot_spatial(\n",
    "        adata=adata,\n",
    "        # labels to show on a plot\n",
    "        color=clust_col, labels=clust_labels,\n",
    "        show_img=True,\n",
    "        # 'fast' (white background) or 'dark_background'\n",
    "        style='fast',\n",
    "        # limit color scale at 99.2% quantile of cell abundance\n",
    "        max_color_quantile=0.992,\n",
    "        # size of locations (adjust depending on figure size)\n",
    "        circle_diameter=6,\n",
    "        colorbar_position='right'\n",
    "    )"
   ]
  },
  {
   "cell_type": "markdown",
   "id": "a907000b",
   "metadata": {},
   "source": [
    "# 6. Downstream analysis"
   ]
  },
  {
   "cell_type": "markdown",
   "id": "30e9bdf3",
   "metadata": {},
   "source": [
    "# 6.1. Identification of spatial domains"
   ]
  },
  {
   "cell_type": "code",
   "execution_count": null,
   "id": "e7e4bf9b",
   "metadata": {},
   "outputs": [],
   "source": [
    "# compute KNN using the cell2location output stored in adata.obsm\n",
    "sc.pp.neighbors(adata, use_rep='q05_cell_abundance_w_sf',\n",
    "                n_neighbors = 15)"
   ]
  },
  {
   "cell_type": "code",
   "execution_count": null,
   "id": "0b89e7aa",
   "metadata": {},
   "outputs": [],
   "source": [
    "# Cluster spots into regions using scanpy\n",
    "sc.tl.leiden(adata, resolution=1.1)"
   ]
  },
  {
   "cell_type": "code",
   "execution_count": null,
   "id": "08194843",
   "metadata": {},
   "outputs": [],
   "source": [
    "# add region as categorical variable\n",
    "adata.obs[\"region_cluster\"] = adata.obs[\"leiden\"].astype(\"category\")"
   ]
  },
  {
   "cell_type": "code",
   "execution_count": null,
   "id": "4be25b86",
   "metadata": {},
   "outputs": [],
   "source": [
    "# compute UMAP using KNN graph based on the cell2location output\n",
    "sc.tl.umap(adata, min_dist = 0.3, spread = 1)\n",
    "\n",
    "# show regions in UMAP coordinates\n",
    "with mpl.rc_context({'axes.facecolor':  'white',\n",
    "                     'figure.figsize': [8, 8]}):\n",
    "    sc.pl.umap(adata, color=['region_cluster'], size=30,\n",
    "               color_map = 'RdPu', ncols = 2, legend_loc='on data',\n",
    "               legend_fontsize=20)\n",
    "    sc.pl.umap(adata, color=['sample'], size=30,\n",
    "               color_map = 'RdPu', ncols = 2,\n",
    "               legend_fontsize=20)\n",
    "\n",
    "# plot in spatial coordinates\n",
    "with mpl.rc_context({'axes.facecolor':  'black',\n",
    "                     'figure.figsize': [4.5, 5]}):\n",
    "    sc.pl.spatial(adata, color=['region_cluster'],\n",
    "                  size=1.3, img_key='hires', alpha=0.5)"
   ]
  },
  {
   "cell_type": "markdown",
   "id": "a0604df7",
   "metadata": {},
   "source": [
    "# 6.2. Identification of spatial co-occurrence cell types"
   ]
  },
  {
   "cell_type": "code",
   "execution_count": null,
   "id": "5022e206",
   "metadata": {},
   "outputs": [],
   "source": [
    "from cell2location import run_colocation\n",
    "res_dict, adata = run_colocation(\n",
    "    adata,\n",
    "    model_name='CoLocatedGroupsSklearnNMF',\n",
    "    train_args={\n",
    "      'n_fact': np.arange(2, 30), # IMPORTANT: use a wider range of the number of factors (5-30)\n",
    "      'sample_name_col': 'sample', # columns in adata.obs that identifies sample\n",
    "      'n_restarts': 3 # number of training restarts\n",
    "    },\n",
    "    # the hyperparameters of NMF can be also adjusted:\n",
    "    model_kwargs={'alpha': 0.01, 'init': 'random', \"nmf_kwd_args\": {\"tol\": 0.000001}},\n",
    "    export_args={'path': f'{output_path}'}\n",
    ")"
   ]
  },
  {
   "cell_type": "code",
   "execution_count": null,
   "id": "4220a135",
   "metadata": {},
   "outputs": [],
   "source": [
    "# Here we plot the NMF weights (Same as saved to `cell_type_fractions_heatmap`)\n",
    "res_dict['n_fact3']['mod'].plot_cell_type_loadings()"
   ]
  },
  {
   "cell_type": "markdown",
   "id": "e9c686c4",
   "metadata": {},
   "source": [
    "# 6.3. Estimate cell-type specific expression of every gene in the spatial data"
   ]
  },
  {
   "cell_type": "code",
   "execution_count": null,
   "id": "d2f98d9d",
   "metadata": {},
   "outputs": [],
   "source": [
    "# Compute expected expression per cell type\n",
    "expected_dict = mod.module.model.compute_expected_per_cell_type(\n",
    "    mod.samples[\"post_sample_q05\"], mod.adata_manager\n",
    ")"
   ]
  },
  {
   "cell_type": "code",
   "execution_count": null,
   "id": "b5342b9b",
   "metadata": {},
   "outputs": [],
   "source": [
    "# Add to anndata layers\n",
    "for i, n in enumerate(mod.factor_names_):\n",
    "    adata.layers[n] = expected_dict['mu'][i]"
   ]
  },
  {
   "cell_type": "code",
   "execution_count": null,
   "id": "05993671",
   "metadata": {},
   "outputs": [],
   "source": [
    "# Save anndata object with results\n",
    "adata_file = f\"{output_path}/cell_type_specific_expression_ST_cell2loc.h5ad\"\n",
    "adata.write(adata_file)\n",
    "adata_file"
   ]
  },
  {
   "cell_type": "code",
   "execution_count": null,
   "id": "37436b91",
   "metadata": {},
   "outputs": [],
   "source": [
    "def plot_genes_per_cell_type(slide, genes, ctypes):\n",
    "    n_genes = len(genes)\n",
    "    n_ctypes = len(ctypes)\n",
    "    fig, axs = plt.subplots(\n",
    "        nrows=n_genes, ncols=n_ctypes + 1, figsize=(4.5 * (n_ctypes + 1) + 2, 5 * n_genes + 1), squeeze=False\n",
    "    )\n",
    "    # axs = axs.reshape((n_genes, n_ctypes+1))\n",
    "\n",
    "    # plots of every gene\n",
    "    for j in range(n_genes):\n",
    "        # limit color scale at 99.2% quantile of gene expression (computed across cell types)\n",
    "        quantile_across_ct = np.array(\n",
    "            [\n",
    "                np.quantile(slide.layers[n][:, slide.var[\"SYMBOL\"] == genes[j]].toarray(), 0.992)\n",
    "                for n in slide.uns[\"mod\"][\"factor_names\"]\n",
    "            ]\n",
    "        )\n",
    "        quantile_across_ct = np.partition(quantile_across_ct.flatten(), -2)[-2]\n",
    "        sc.pl.spatial(\n",
    "            slide,\n",
    "            cmap=\"magma\",\n",
    "            color=genes[j],\n",
    "            # layer=ctypes[i],\n",
    "            gene_symbols=\"SYMBOL\",\n",
    "            ncols=4,\n",
    "            size=1.3,\n",
    "            img_key=\"hires\",\n",
    "            # limit color scale at 99.2% quantile of gene expression\n",
    "            vmin=0,\n",
    "            vmax=\"p99.2\",\n",
    "            ax=axs[j, 0],\n",
    "            show=False,\n",
    "        )\n",
    "\n",
    "        # plots of every cell type\n",
    "        for i in range(n_ctypes):\n",
    "            sc.pl.spatial(\n",
    "                slide,\n",
    "                cmap=\"magma\",\n",
    "                color=genes[j],\n",
    "                layer=ctypes[i],\n",
    "                gene_symbols=\"SYMBOL\",\n",
    "                ncols=4,\n",
    "                size=1.3,\n",
    "                img_key=\"hires\",\n",
    "                # limit color scale at 99.2% quantile of gene expression\n",
    "                vmin=0,\n",
    "                vmax=quantile_across_ct,\n",
    "                ax=axs[j, i + 1],\n",
    "                show=False,\n",
    "            )\n",
    "            axs[j, i + 1].set_title(f\"Gene:{genes[j]}|Cell type:{ctypes[i]}\")\n",
    "\n",
    "    return fig, axs"
   ]
  },
  {
   "cell_type": "markdown",
   "id": "42599aea",
   "metadata": {},
   "source": [
    "Here we highlight CD3D, pan T-cell marker expressed by 2 subtypes of T cells in distinct locations but not expressed by co-located B cells, that instead express CR2 gene"
   ]
  },
  {
   "cell_type": "code",
   "execution_count": null,
   "id": "85503df6",
   "metadata": {},
   "outputs": [],
   "source": [
    "# list cell types and genes for plotting\n",
    "ctypes = ['T_CD4+_TfH_GC', 'T_CD4+_naive', 'B_GC_LZ']\n",
    "genes = ['CD3D', 'CR2']\n",
    "\n",
    "with mpl.rc_context({'axes.facecolor':  'black'}):\n",
    "    plot_genes_per_cell_type(adata, genes, ctypes);"
   ]
  }
 ],
 "metadata": {
  "kernelspec": {
   "display_name": "Python 3 (ipykernel)",
   "language": "python",
   "name": "python3"
  },
  "language_info": {
   "codemirror_mode": {
    "name": "ipython",
    "version": 3
   },
   "file_extension": ".py",
   "mimetype": "text/x-python",
   "name": "python",
   "nbconvert_exporter": "python",
   "pygments_lexer": "ipython3",
   "version": "3.7.10"
  }
 },
 "nbformat": 4,
 "nbformat_minor": 5
}
