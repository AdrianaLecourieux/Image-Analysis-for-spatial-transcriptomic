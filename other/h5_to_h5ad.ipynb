{
 "cells": [
  {
   "cell_type": "markdown",
   "id": "e2389cee",
   "metadata": {},
   "source": [
    "# Convert h5 to h5ad format"
   ]
  },
  {
   "cell_type": "markdown",
   "id": "0a4e208d",
   "metadata": {},
   "source": [
    "This script convert h5 data into h5ad adata object. We run it on PDAC dataset.\n",
    "\n",
    "Input needed: \n",
    "- filtered_feature_bc_matrix.h5\n",
    "- spatial/\n",
    "\n",
    "Output:\n",
    "- annotated_data_matrix.h5ad"
   ]
  },
  {
   "cell_type": "markdown",
   "id": "4a9e473a",
   "metadata": {},
   "source": [
    "Functions used in this script were found: \n",
    "- https://scanpy.readthedocs.io/en/stable/generated/scanpy.read_visium.html\n",
    "- https://eleozzr.github.io/desc/tutorial.html"
   ]
  },
  {
   "cell_type": "markdown",
   "id": "a0bf29ea",
   "metadata": {},
   "source": [
    "# Import packages"
   ]
  },
  {
   "cell_type": "markdown",
   "id": "b1b0947b",
   "metadata": {},
   "source": [
    "pip install scanpy\n",
    "\n",
    "pip install h5py"
   ]
  },
  {
   "cell_type": "code",
   "execution_count": 9,
   "id": "c559b679",
   "metadata": {},
   "outputs": [],
   "source": [
    "import scanpy as sc\n",
    "import os\n",
    "import h5py"
   ]
  },
  {
   "cell_type": "markdown",
   "id": "a4f4f56c",
   "metadata": {},
   "source": [
    "# PDAC A1"
   ]
  },
  {
   "cell_type": "code",
   "execution_count": 95,
   "id": "407d0b82",
   "metadata": {},
   "outputs": [],
   "source": [
    "path_to_ST_files_A1 = \"st_pancreas/PDAC_1274746B_A1/\""
   ]
  },
  {
   "cell_type": "code",
   "execution_count": 96,
   "id": "16bff035",
   "metadata": {},
   "outputs": [],
   "source": [
    "h5ad_file_A1_visium = sc.read_visium(path_to_ST_files_A1)"
   ]
  },
  {
   "cell_type": "code",
   "execution_count": 97,
   "id": "c5949e6f",
   "metadata": {},
   "outputs": [
    {
     "data": {
      "text/plain": [
       "AnnData object with n_obs × n_vars = 2368 × 17943\n",
       "    obs: 'in_tissue', 'array_row', 'array_col'\n",
       "    var: 'gene_ids', 'feature_types', 'genome'\n",
       "    uns: 'spatial'\n",
       "    obsm: 'spatial'"
      ]
     },
     "execution_count": 97,
     "metadata": {},
     "output_type": "execute_result"
    }
   ],
   "source": [
    "h5ad_file_A1_visium"
   ]
  },
  {
   "cell_type": "code",
   "execution_count": 98,
   "id": "70cb6588",
   "metadata": {},
   "outputs": [],
   "source": [
    "h5ad_file_A1_visium.write('./st_pancreas_h5ad/PDAC_A1_visium.h5ad')"
   ]
  },
  {
   "cell_type": "markdown",
   "id": "95a2e5a2",
   "metadata": {},
   "source": [
    "# PDAC B2"
   ]
  },
  {
   "cell_type": "code",
   "execution_count": 91,
   "id": "1fa08736",
   "metadata": {},
   "outputs": [],
   "source": [
    "path_to_ST_files_B2 = \"st_pancreas/PDAC_ILS50185PT2_B2/\""
   ]
  },
  {
   "cell_type": "code",
   "execution_count": 92,
   "id": "ebd33788",
   "metadata": {},
   "outputs": [],
   "source": [
    "h5ad_file_B2_visium = sc.read_visium(path_to_ST_files_B2)"
   ]
  },
  {
   "cell_type": "code",
   "execution_count": 85,
   "id": "88ef7920",
   "metadata": {},
   "outputs": [
    {
     "data": {
      "text/plain": [
       "AnnData object with n_obs × n_vars = 3085 × 17943\n",
       "    obs: 'in_tissue', 'array_row', 'array_col'\n",
       "    var: 'gene_ids', 'feature_types', 'genome'\n",
       "    uns: 'spatial'\n",
       "    obsm: 'spatial'"
      ]
     },
     "execution_count": 85,
     "metadata": {},
     "output_type": "execute_result"
    }
   ],
   "source": [
    "h5ad_file_B2_visium"
   ]
  },
  {
   "cell_type": "code",
   "execution_count": 93,
   "id": "20dd652e",
   "metadata": {},
   "outputs": [],
   "source": [
    "h5ad_file_B2_visium.write('./st_pancreas_h5ad/PDAC_B2_visium.h5ad')"
   ]
  },
  {
   "cell_type": "markdown",
   "id": "2bb6e771",
   "metadata": {},
   "source": [
    "# PanCN C3"
   ]
  },
  {
   "cell_type": "code",
   "execution_count": 87,
   "id": "fec5d171",
   "metadata": {},
   "outputs": [],
   "source": [
    "path_to_ST_files_C3 = \"st_pancreas/PanCN_AVD_79MZ_0594_C3/\""
   ]
  },
  {
   "cell_type": "code",
   "execution_count": 88,
   "id": "103d978f",
   "metadata": {},
   "outputs": [],
   "source": [
    "h5ad_file_C3_visium = sc.read_visium(path_to_ST_files_C3)"
   ]
  },
  {
   "cell_type": "code",
   "execution_count": 89,
   "id": "4b8446ed",
   "metadata": {},
   "outputs": [
    {
     "data": {
      "text/plain": [
       "AnnData object with n_obs × n_vars = 2364 × 17943\n",
       "    obs: 'in_tissue', 'array_row', 'array_col'\n",
       "    var: 'gene_ids', 'feature_types', 'genome'\n",
       "    uns: 'spatial'\n",
       "    obsm: 'spatial'"
      ]
     },
     "execution_count": 89,
     "metadata": {},
     "output_type": "execute_result"
    }
   ],
   "source": [
    "h5ad_file_C3_visium"
   ]
  },
  {
   "cell_type": "code",
   "execution_count": 90,
   "id": "e88612d0",
   "metadata": {},
   "outputs": [],
   "source": [
    "h5ad_file_C3_visium.write('./st_pancreas_h5ad/PanCN_C3_visium.h5ad')"
   ]
  },
  {
   "cell_type": "markdown",
   "id": "53d8f54a",
   "metadata": {},
   "source": [
    "# PanCN D4"
   ]
  },
  {
   "cell_type": "code",
   "execution_count": 79,
   "id": "9e2adc3b",
   "metadata": {},
   "outputs": [],
   "source": [
    "path_to_ST_files_D4 = \"st_pancreas/PanCN_AVD_79MZ_0158_D4/\""
   ]
  },
  {
   "cell_type": "code",
   "execution_count": 80,
   "id": "86b786a7",
   "metadata": {},
   "outputs": [],
   "source": [
    "h5ad_file_D4_visium = sc.read_visium(path_to_ST_files_D4)"
   ]
  },
  {
   "cell_type": "code",
   "execution_count": 81,
   "id": "a5506485",
   "metadata": {},
   "outputs": [
    {
     "data": {
      "text/plain": [
       "AnnData object with n_obs × n_vars = 2316 × 17943\n",
       "    obs: 'in_tissue', 'array_row', 'array_col'\n",
       "    var: 'gene_ids', 'feature_types', 'genome'\n",
       "    uns: 'spatial'\n",
       "    obsm: 'spatial'"
      ]
     },
     "execution_count": 81,
     "metadata": {},
     "output_type": "execute_result"
    }
   ],
   "source": [
    "h5ad_file_D4_visium"
   ]
  },
  {
   "cell_type": "code",
   "execution_count": 83,
   "id": "3900d7f1",
   "metadata": {},
   "outputs": [],
   "source": [
    "h5ad_file_D4_visium.write('./st_pancreas_h5ad/PanCN_D4_visium.h5ad')"
   ]
  },
  {
   "cell_type": "markdown",
   "id": "9723a728",
   "metadata": {},
   "source": [
    "## Save files in output files"
   ]
  },
  {
   "cell_type": "code",
   "execution_count": 100,
   "id": "afa2b52a",
   "metadata": {},
   "outputs": [],
   "source": [
    "output_files= f\"/sbgenomics/output-files/st_pancreas_h5ad\"\n",
    "os.makedirs(output_files, exist_ok=True)"
   ]
  },
  {
   "cell_type": "code",
   "execution_count": 101,
   "id": "66a29b6d",
   "metadata": {},
   "outputs": [],
   "source": [
    "h5ad_file_A1_visium.write(f'{output_files}/PDAC_A1_visium.h5ad')\n",
    "h5ad_file_B2_visium.write(f'{output_files}/PDAC_B2_visium.h5ad')\n",
    "h5ad_file_C3_visium.write(f'{output_files}/PanCN_C3_visium.h5ad')\n",
    "h5ad_file_D4_visium.write(f'{output_files}/PanCN_D4_visium.h5ad')"
   ]
  }
 ],
 "metadata": {
  "kernelspec": {
   "display_name": "Python 3 (ipykernel)",
   "language": "python",
   "name": "python3"
  },
  "language_info": {
   "codemirror_mode": {
    "name": "ipython",
    "version": 3
   },
   "file_extension": ".py",
   "mimetype": "text/x-python",
   "name": "python",
   "nbconvert_exporter": "python",
   "pygments_lexer": "ipython3",
   "version": "3.7.10"
  }
 },
 "nbformat": 4,
 "nbformat_minor": 5
}
