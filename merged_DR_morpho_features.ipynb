{
 "cells": [
  {
   "cell_type": "markdown",
   "id": "993d8c2e-d402-4f51-b4d5-389ef75ca867",
   "metadata": {},
   "source": [
    "# Merged dimensionality reduction (DR) df of gene expression profiles and morphological features"
   ]
  },
  {
   "cell_type": "markdown",
   "id": "d64b797a-4924-4c95-aac8-9196f88d8c76",
   "metadata": {},
   "source": [
    "# Import packages and data"
   ]
  },
  {
   "cell_type": "code",
   "execution_count": 5,
   "id": "e21a4343-de97-47a1-a232-d9e7925c8cf3",
   "metadata": {},
   "outputs": [],
   "source": [
    "import pandas as pd\n",
    "import os"
   ]
  },
  {
   "cell_type": "markdown",
   "id": "7e317de0-b4cb-4518-8438-26d920593dd2",
   "metadata": {
    "tags": []
   },
   "source": [
    "## Download DR df"
   ]
  },
  {
   "cell_type": "code",
   "execution_count": 6,
   "id": "674ba053-e48c-4374-b569-a3e8a86250a1",
   "metadata": {},
   "outputs": [],
   "source": [
    "path_for_morphological_features = \"preprocess_visiopharm/df_DPLFC_151507_without_background.csv\"\n",
    "path_dr_genes = \"/../../sbgenomics/project-files/data/latent_space/DPLFC_151507_latent_space.csv\""
   ]
  },
  {
   "cell_type": "code",
   "execution_count": 8,
   "id": "65a2433b-b620-424d-9854-8a8026a57a41",
   "metadata": {},
   "outputs": [],
   "source": [
    "dr_genes_df = pd.read_csv(path_dr_genes, index_col=0)"
   ]
  },
  {
   "cell_type": "code",
   "execution_count": 22,
   "id": "3548143a-d695-41cc-af0e-98d81a94572c",
   "metadata": {},
   "outputs": [
    {
     "data": {
      "text/plain": [
       "(4226, 10)"
      ]
     },
     "execution_count": 22,
     "metadata": {},
     "output_type": "execute_result"
    }
   ],
   "source": [
    "dr_genes_df.shape"
   ]
  },
  {
   "cell_type": "code",
   "execution_count": 12,
   "id": "6f5a26d2-1b26-45c0-8269-b473688b1abb",
   "metadata": {},
   "outputs": [],
   "source": [
    "morpho_features = pd.read_csv(\"dataframe/DPLFC_151507_profils_merged_morpho_raw.csv\")"
   ]
  },
  {
   "cell_type": "code",
   "execution_count": 27,
   "id": "96a9bac9-5502-4c6c-a996-cacce66ff3f6",
   "metadata": {},
   "outputs": [],
   "source": [
    "morpho_features2 = morpho_features[['Nuclei Area per object', 'Texture inertia', 'Max Intensity',\n",
    "                                        'Mean Intensity', 'Min Intensity', 'Modus', 'Texture Anisotropy',\n",
    "                                        'Texture Entropy', 'Texture Major Axis', 'Texture Major Direction',\n",
    "                                        'Texture Minor Axis']].copy()"
   ]
  },
  {
   "cell_type": "code",
   "execution_count": 28,
   "id": "5f8ccf4d-ffaf-4b88-a090-e85d53bedb20",
   "metadata": {},
   "outputs": [
    {
     "data": {
      "text/html": [
       "<div>\n",
       "<style scoped>\n",
       "    .dataframe tbody tr th:only-of-type {\n",
       "        vertical-align: middle;\n",
       "    }\n",
       "\n",
       "    .dataframe tbody tr th {\n",
       "        vertical-align: top;\n",
       "    }\n",
       "\n",
       "    .dataframe thead th {\n",
       "        text-align: right;\n",
       "    }\n",
       "</style>\n",
       "<table border=\"1\" class=\"dataframe\">\n",
       "  <thead>\n",
       "    <tr style=\"text-align: right;\">\n",
       "      <th></th>\n",
       "      <th>Nuclei Area per object</th>\n",
       "      <th>Texture inertia</th>\n",
       "      <th>Max Intensity</th>\n",
       "      <th>Mean Intensity</th>\n",
       "      <th>Min Intensity</th>\n",
       "      <th>Modus</th>\n",
       "      <th>Texture Anisotropy</th>\n",
       "      <th>Texture Entropy</th>\n",
       "      <th>Texture Major Axis</th>\n",
       "      <th>Texture Major Direction</th>\n",
       "      <th>Texture Minor Axis</th>\n",
       "    </tr>\n",
       "  </thead>\n",
       "  <tbody>\n",
       "    <tr>\n",
       "      <th>0</th>\n",
       "      <td>36.375000</td>\n",
       "      <td>1006.246580</td>\n",
       "      <td>8.463478</td>\n",
       "      <td>8.463478</td>\n",
       "      <td>8.463478</td>\n",
       "      <td>8.463478</td>\n",
       "      <td>0.291257</td>\n",
       "      <td>5.728326</td>\n",
       "      <td>709.707141</td>\n",
       "      <td>44.469182</td>\n",
       "      <td>296.539439</td>\n",
       "    </tr>\n",
       "    <tr>\n",
       "      <th>1</th>\n",
       "      <td>15.437500</td>\n",
       "      <td>6941.157509</td>\n",
       "      <td>173.135448</td>\n",
       "      <td>83.294249</td>\n",
       "      <td>44.728607</td>\n",
       "      <td>64.905243</td>\n",
       "      <td>0.258930</td>\n",
       "      <td>10.311248</td>\n",
       "      <td>4040.690943</td>\n",
       "      <td>80.149783</td>\n",
       "      <td>2900.466566</td>\n",
       "    </tr>\n",
       "    <tr>\n",
       "      <th>2</th>\n",
       "      <td>15.500000</td>\n",
       "      <td>6385.996546</td>\n",
       "      <td>181.792000</td>\n",
       "      <td>85.888837</td>\n",
       "      <td>24.402639</td>\n",
       "      <td>36.382384</td>\n",
       "      <td>0.395759</td>\n",
       "      <td>10.343971</td>\n",
       "      <td>4119.967674</td>\n",
       "      <td>131.436158</td>\n",
       "      <td>2266.028873</td>\n",
       "    </tr>\n",
       "    <tr>\n",
       "      <th>3</th>\n",
       "      <td>NaN</td>\n",
       "      <td>NaN</td>\n",
       "      <td>NaN</td>\n",
       "      <td>NaN</td>\n",
       "      <td>NaN</td>\n",
       "      <td>NaN</td>\n",
       "      <td>NaN</td>\n",
       "      <td>NaN</td>\n",
       "      <td>NaN</td>\n",
       "      <td>NaN</td>\n",
       "      <td>NaN</td>\n",
       "    </tr>\n",
       "    <tr>\n",
       "      <th>4</th>\n",
       "      <td>25.916667</td>\n",
       "      <td>4237.488390</td>\n",
       "      <td>170.647237</td>\n",
       "      <td>79.770857</td>\n",
       "      <td>29.610014</td>\n",
       "      <td>53.725492</td>\n",
       "      <td>0.367193</td>\n",
       "      <td>9.917042</td>\n",
       "      <td>2604.140628</td>\n",
       "      <td>57.572072</td>\n",
       "      <td>1633.347762</td>\n",
       "    </tr>\n",
       "    <tr>\n",
       "      <th>...</th>\n",
       "      <td>...</td>\n",
       "      <td>...</td>\n",
       "      <td>...</td>\n",
       "      <td>...</td>\n",
       "      <td>...</td>\n",
       "      <td>...</td>\n",
       "      <td>...</td>\n",
       "      <td>...</td>\n",
       "      <td>...</td>\n",
       "      <td>...</td>\n",
       "      <td>...</td>\n",
       "    </tr>\n",
       "    <tr>\n",
       "      <th>4221</th>\n",
       "      <td>17.750000</td>\n",
       "      <td>2853.344443</td>\n",
       "      <td>255.000000</td>\n",
       "      <td>104.354002</td>\n",
       "      <td>8.986517</td>\n",
       "      <td>68.688031</td>\n",
       "      <td>0.146528</td>\n",
       "      <td>5.700581</td>\n",
       "      <td>1539.459429</td>\n",
       "      <td>88.723240</td>\n",
       "      <td>1313.885014</td>\n",
       "    </tr>\n",
       "    <tr>\n",
       "      <th>4222</th>\n",
       "      <td>24.500000</td>\n",
       "      <td>5043.234859</td>\n",
       "      <td>188.999130</td>\n",
       "      <td>83.474057</td>\n",
       "      <td>12.755720</td>\n",
       "      <td>56.858680</td>\n",
       "      <td>0.403705</td>\n",
       "      <td>9.536548</td>\n",
       "      <td>3327.021172</td>\n",
       "      <td>108.841497</td>\n",
       "      <td>1716.213687</td>\n",
       "    </tr>\n",
       "    <tr>\n",
       "      <th>4223</th>\n",
       "      <td>24.650000</td>\n",
       "      <td>6351.090911</td>\n",
       "      <td>179.456076</td>\n",
       "      <td>74.950190</td>\n",
       "      <td>22.697600</td>\n",
       "      <td>40.727547</td>\n",
       "      <td>0.216137</td>\n",
       "      <td>10.172771</td>\n",
       "      <td>3576.062846</td>\n",
       "      <td>72.217706</td>\n",
       "      <td>2775.028065</td>\n",
       "    </tr>\n",
       "    <tr>\n",
       "      <th>4224</th>\n",
       "      <td>11.750000</td>\n",
       "      <td>6892.490455</td>\n",
       "      <td>125.858187</td>\n",
       "      <td>62.690234</td>\n",
       "      <td>26.063905</td>\n",
       "      <td>34.978100</td>\n",
       "      <td>0.350633</td>\n",
       "      <td>10.582967</td>\n",
       "      <td>4201.347059</td>\n",
       "      <td>44.862912</td>\n",
       "      <td>2691.143397</td>\n",
       "    </tr>\n",
       "    <tr>\n",
       "      <th>4225</th>\n",
       "      <td>11.875000</td>\n",
       "      <td>7139.911758</td>\n",
       "      <td>167.462479</td>\n",
       "      <td>85.835719</td>\n",
       "      <td>30.909679</td>\n",
       "      <td>43.103905</td>\n",
       "      <td>0.428881</td>\n",
       "      <td>10.673669</td>\n",
       "      <td>4549.024644</td>\n",
       "      <td>73.299470</td>\n",
       "      <td>2590.887114</td>\n",
       "    </tr>\n",
       "  </tbody>\n",
       "</table>\n",
       "<p>4226 rows × 11 columns</p>\n",
       "</div>"
      ],
      "text/plain": [
       "      Nuclei Area per object  Texture inertia  Max Intensity  Mean Intensity  \\\n",
       "0                  36.375000      1006.246580       8.463478        8.463478   \n",
       "1                  15.437500      6941.157509     173.135448       83.294249   \n",
       "2                  15.500000      6385.996546     181.792000       85.888837   \n",
       "3                        NaN              NaN            NaN             NaN   \n",
       "4                  25.916667      4237.488390     170.647237       79.770857   \n",
       "...                      ...              ...            ...             ...   \n",
       "4221               17.750000      2853.344443     255.000000      104.354002   \n",
       "4222               24.500000      5043.234859     188.999130       83.474057   \n",
       "4223               24.650000      6351.090911     179.456076       74.950190   \n",
       "4224               11.750000      6892.490455     125.858187       62.690234   \n",
       "4225               11.875000      7139.911758     167.462479       85.835719   \n",
       "\n",
       "      Min Intensity      Modus  Texture Anisotropy  Texture Entropy  \\\n",
       "0          8.463478   8.463478            0.291257         5.728326   \n",
       "1         44.728607  64.905243            0.258930        10.311248   \n",
       "2         24.402639  36.382384            0.395759        10.343971   \n",
       "3               NaN        NaN                 NaN              NaN   \n",
       "4         29.610014  53.725492            0.367193         9.917042   \n",
       "...             ...        ...                 ...              ...   \n",
       "4221       8.986517  68.688031            0.146528         5.700581   \n",
       "4222      12.755720  56.858680            0.403705         9.536548   \n",
       "4223      22.697600  40.727547            0.216137        10.172771   \n",
       "4224      26.063905  34.978100            0.350633        10.582967   \n",
       "4225      30.909679  43.103905            0.428881        10.673669   \n",
       "\n",
       "      Texture Major Axis  Texture Major Direction  Texture Minor Axis  \n",
       "0             709.707141                44.469182          296.539439  \n",
       "1            4040.690943                80.149783         2900.466566  \n",
       "2            4119.967674               131.436158         2266.028873  \n",
       "3                    NaN                      NaN                 NaN  \n",
       "4            2604.140628                57.572072         1633.347762  \n",
       "...                  ...                      ...                 ...  \n",
       "4221         1539.459429                88.723240         1313.885014  \n",
       "4222         3327.021172               108.841497         1716.213687  \n",
       "4223         3576.062846                72.217706         2775.028065  \n",
       "4224         4201.347059                44.862912         2691.143397  \n",
       "4225         4549.024644                73.299470         2590.887114  \n",
       "\n",
       "[4226 rows x 11 columns]"
      ]
     },
     "execution_count": 28,
     "metadata": {},
     "output_type": "execute_result"
    }
   ],
   "source": [
    "morpho_features2"
   ]
  },
  {
   "cell_type": "code",
   "execution_count": 29,
   "id": "0612744a-729e-4b65-bb34-3e5958ce4155",
   "metadata": {},
   "outputs": [],
   "source": [
    "merged_df = pd.merge(dr_genes_df, morpho_features2, left_index=True, right_index=True)"
   ]
  },
  {
   "cell_type": "code",
   "execution_count": 30,
   "id": "45fbed77-e0f6-48f3-9968-c02f04704735",
   "metadata": {},
   "outputs": [
    {
     "data": {
      "text/html": [
       "<div>\n",
       "<style scoped>\n",
       "    .dataframe tbody tr th:only-of-type {\n",
       "        vertical-align: middle;\n",
       "    }\n",
       "\n",
       "    .dataframe tbody tr th {\n",
       "        vertical-align: top;\n",
       "    }\n",
       "\n",
       "    .dataframe thead th {\n",
       "        text-align: right;\n",
       "    }\n",
       "</style>\n",
       "<table border=\"1\" class=\"dataframe\">\n",
       "  <thead>\n",
       "    <tr style=\"text-align: right;\">\n",
       "      <th></th>\n",
       "      <th>dim_1</th>\n",
       "      <th>dim_2</th>\n",
       "      <th>dim_3</th>\n",
       "      <th>dim_4</th>\n",
       "      <th>dim_5</th>\n",
       "      <th>dim_6</th>\n",
       "      <th>dim_7</th>\n",
       "      <th>dim_8</th>\n",
       "      <th>dim_9</th>\n",
       "      <th>dim_10</th>\n",
       "      <th>...</th>\n",
       "      <th>Texture inertia</th>\n",
       "      <th>Max Intensity</th>\n",
       "      <th>Mean Intensity</th>\n",
       "      <th>Min Intensity</th>\n",
       "      <th>Modus</th>\n",
       "      <th>Texture Anisotropy</th>\n",
       "      <th>Texture Entropy</th>\n",
       "      <th>Texture Major Axis</th>\n",
       "      <th>Texture Major Direction</th>\n",
       "      <th>Texture Minor Axis</th>\n",
       "    </tr>\n",
       "  </thead>\n",
       "  <tbody>\n",
       "    <tr>\n",
       "      <th>0</th>\n",
       "      <td>1.654664</td>\n",
       "      <td>-0.673092</td>\n",
       "      <td>2.425896</td>\n",
       "      <td>-1.483760</td>\n",
       "      <td>-4.482498</td>\n",
       "      <td>-0.191414</td>\n",
       "      <td>0.406959</td>\n",
       "      <td>5.680560</td>\n",
       "      <td>3.724431</td>\n",
       "      <td>-0.351919</td>\n",
       "      <td>...</td>\n",
       "      <td>1006.246580</td>\n",
       "      <td>8.463478</td>\n",
       "      <td>8.463478</td>\n",
       "      <td>8.463478</td>\n",
       "      <td>8.463478</td>\n",
       "      <td>0.291257</td>\n",
       "      <td>5.728326</td>\n",
       "      <td>709.707141</td>\n",
       "      <td>44.469182</td>\n",
       "      <td>296.539439</td>\n",
       "    </tr>\n",
       "    <tr>\n",
       "      <th>1</th>\n",
       "      <td>6.193448</td>\n",
       "      <td>-2.802720</td>\n",
       "      <td>9.458835</td>\n",
       "      <td>-6.058281</td>\n",
       "      <td>-17.244133</td>\n",
       "      <td>-1.000907</td>\n",
       "      <td>1.559313</td>\n",
       "      <td>22.227602</td>\n",
       "      <td>14.670843</td>\n",
       "      <td>-1.127734</td>\n",
       "      <td>...</td>\n",
       "      <td>6941.157509</td>\n",
       "      <td>173.135448</td>\n",
       "      <td>83.294249</td>\n",
       "      <td>44.728607</td>\n",
       "      <td>64.905243</td>\n",
       "      <td>0.258930</td>\n",
       "      <td>10.311248</td>\n",
       "      <td>4040.690943</td>\n",
       "      <td>80.149783</td>\n",
       "      <td>2900.466566</td>\n",
       "    </tr>\n",
       "    <tr>\n",
       "      <th>2</th>\n",
       "      <td>2.825424</td>\n",
       "      <td>-1.219793</td>\n",
       "      <td>4.238115</td>\n",
       "      <td>-2.664030</td>\n",
       "      <td>-7.772860</td>\n",
       "      <td>-0.399962</td>\n",
       "      <td>0.703683</td>\n",
       "      <td>9.946430</td>\n",
       "      <td>6.547891</td>\n",
       "      <td>-0.553825</td>\n",
       "      <td>...</td>\n",
       "      <td>6385.996546</td>\n",
       "      <td>181.792000</td>\n",
       "      <td>85.888837</td>\n",
       "      <td>24.402639</td>\n",
       "      <td>36.382384</td>\n",
       "      <td>0.395759</td>\n",
       "      <td>10.343971</td>\n",
       "      <td>4119.967674</td>\n",
       "      <td>131.436158</td>\n",
       "      <td>2266.028873</td>\n",
       "    </tr>\n",
       "    <tr>\n",
       "      <th>3</th>\n",
       "      <td>5.711505</td>\n",
       "      <td>-2.573211</td>\n",
       "      <td>8.705976</td>\n",
       "      <td>-5.573372</td>\n",
       "      <td>-15.888317</td>\n",
       "      <td>-0.916638</td>\n",
       "      <td>1.437945</td>\n",
       "      <td>20.459848</td>\n",
       "      <td>13.509497</td>\n",
       "      <td>-1.048710</td>\n",
       "      <td>...</td>\n",
       "      <td>NaN</td>\n",
       "      <td>NaN</td>\n",
       "      <td>NaN</td>\n",
       "      <td>NaN</td>\n",
       "      <td>NaN</td>\n",
       "      <td>NaN</td>\n",
       "      <td>NaN</td>\n",
       "      <td>NaN</td>\n",
       "      <td>NaN</td>\n",
       "      <td>NaN</td>\n",
       "    </tr>\n",
       "    <tr>\n",
       "      <th>4</th>\n",
       "      <td>4.218671</td>\n",
       "      <td>-1.876196</td>\n",
       "      <td>6.396073</td>\n",
       "      <td>-4.064845</td>\n",
       "      <td>-11.692710</td>\n",
       "      <td>-0.646941</td>\n",
       "      <td>1.059009</td>\n",
       "      <td>15.026652</td>\n",
       "      <td>9.905264</td>\n",
       "      <td>-0.791395</td>\n",
       "      <td>...</td>\n",
       "      <td>4237.488390</td>\n",
       "      <td>170.647237</td>\n",
       "      <td>79.770857</td>\n",
       "      <td>29.610014</td>\n",
       "      <td>53.725492</td>\n",
       "      <td>0.367193</td>\n",
       "      <td>9.917042</td>\n",
       "      <td>2604.140628</td>\n",
       "      <td>57.572072</td>\n",
       "      <td>1633.347762</td>\n",
       "    </tr>\n",
       "  </tbody>\n",
       "</table>\n",
       "<p>5 rows × 21 columns</p>\n",
       "</div>"
      ],
      "text/plain": [
       "      dim_1     dim_2     dim_3     dim_4      dim_5     dim_6     dim_7  \\\n",
       "0  1.654664 -0.673092  2.425896 -1.483760  -4.482498 -0.191414  0.406959   \n",
       "1  6.193448 -2.802720  9.458835 -6.058281 -17.244133 -1.000907  1.559313   \n",
       "2  2.825424 -1.219793  4.238115 -2.664030  -7.772860 -0.399962  0.703683   \n",
       "3  5.711505 -2.573211  8.705976 -5.573372 -15.888317 -0.916638  1.437945   \n",
       "4  4.218671 -1.876196  6.396073 -4.064845 -11.692710 -0.646941  1.059009   \n",
       "\n",
       "       dim_8      dim_9    dim_10  ...  Texture inertia  Max Intensity  \\\n",
       "0   5.680560   3.724431 -0.351919  ...      1006.246580       8.463478   \n",
       "1  22.227602  14.670843 -1.127734  ...      6941.157509     173.135448   \n",
       "2   9.946430   6.547891 -0.553825  ...      6385.996546     181.792000   \n",
       "3  20.459848  13.509497 -1.048710  ...              NaN            NaN   \n",
       "4  15.026652   9.905264 -0.791395  ...      4237.488390     170.647237   \n",
       "\n",
       "   Mean Intensity  Min Intensity      Modus  Texture Anisotropy  \\\n",
       "0        8.463478       8.463478   8.463478            0.291257   \n",
       "1       83.294249      44.728607  64.905243            0.258930   \n",
       "2       85.888837      24.402639  36.382384            0.395759   \n",
       "3             NaN            NaN        NaN                 NaN   \n",
       "4       79.770857      29.610014  53.725492            0.367193   \n",
       "\n",
       "   Texture Entropy  Texture Major Axis  Texture Major Direction  \\\n",
       "0         5.728326          709.707141                44.469182   \n",
       "1        10.311248         4040.690943                80.149783   \n",
       "2        10.343971         4119.967674               131.436158   \n",
       "3              NaN                 NaN                      NaN   \n",
       "4         9.917042         2604.140628                57.572072   \n",
       "\n",
       "   Texture Minor Axis  \n",
       "0          296.539439  \n",
       "1         2900.466566  \n",
       "2         2266.028873  \n",
       "3                 NaN  \n",
       "4         1633.347762  \n",
       "\n",
       "[5 rows x 21 columns]"
      ]
     },
     "execution_count": 30,
     "metadata": {},
     "output_type": "execute_result"
    }
   ],
   "source": [
    "merged_df.head()"
   ]
  },
  {
   "cell_type": "code",
   "execution_count": null,
   "id": "eb562016-93d7-4a29-be89-36cbc4244b5d",
   "metadata": {},
   "outputs": [],
   "source": [
    "merged_df.to_csv(f'dataframe/{name}_merged_DR_morph_features.csv')"
   ]
  },
  {
   "cell_type": "code",
   "execution_count": 7,
   "id": "798d5862-3954-4ecf-97ed-aa91f8625483",
   "metadata": {},
   "outputs": [],
   "source": [
    "sevenbg_output_path = \"/sbgenomics/output-files/data/merged_DR_morph_features\"\n",
    "os.makedirs(sevenbg_output_path, exist_ok=True)"
   ]
  },
  {
   "cell_type": "code",
   "execution_count": 3,
   "id": "63533cb2-1dfd-4bf9-b5dd-fbd1152da381",
   "metadata": {},
   "outputs": [],
   "source": [
    "def create_merged_df(path_dr_genes, path_for_morphological_features, name):\n",
    "    dr_genes_df = pd.read_csv(path_dr_genes, index_col=0)\n",
    "    morpho_features = pd.read_csv(path_for_morphological_features)\n",
    "    morpho_features2 = morpho_features[['Nuclei Area per object', 'Texture inertia', 'Max Intensity',\n",
    "                                        'Mean Intensity', 'Min Intensity', 'Modus', 'Texture Anisotropy',\n",
    "                                        'Texture Entropy', 'Texture Major Axis', 'Texture Major Direction',\n",
    "                                        'Texture Minor Axis']].copy()\n",
    "    merged_df = pd.merge(dr_genes_df, morpho_features2, left_index=True, right_index=True)\n",
    "    merged_df.to_csv(f'merged_DR_morpho_features/{name}_merged_DR_morph_features.csv')\n",
    "    merged_df.to_csv(f'{sevenbg_output_path}/{name}_merged_DR_morph_features.csv')\n",
    "    return(dr_genes_df, morpho_features,morpho_features2,merged_df)"
   ]
  },
  {
   "cell_type": "markdown",
   "id": "146fd22f-fb2d-48f1-85d3-f91776f10afc",
   "metadata": {
    "tags": []
   },
   "source": [
    "# DPLFC"
   ]
  },
  {
   "cell_type": "markdown",
   "id": "66568730-74fe-4525-b1b9-d75e5db9ad40",
   "metadata": {
    "jp-MarkdownHeadingCollapsed": true,
    "tags": []
   },
   "source": [
    "## 151507"
   ]
  },
  {
   "cell_type": "code",
   "execution_count": 8,
   "id": "3709a2ed-5c76-4bba-8644-24d53c9193dc",
   "metadata": {},
   "outputs": [],
   "source": [
    "path_for_morphological_features = \"preprocess_visiopharm/df_DPLFC_151507_without_background.csv\"\n",
    "path_dr_genes = \"/../../sbgenomics/project-files/data/latent_space/DPLFC_151507_latent_space.csv\"\n",
    "name = \"151507\""
   ]
  },
  {
   "cell_type": "code",
   "execution_count": 9,
   "id": "4ed0a8e6-298c-48af-b7b7-ec1038f140dd",
   "metadata": {},
   "outputs": [],
   "source": [
    "dr_genes_df_151507, morpho_features_151507,morpho_features2,merged_df_151507 = create_merged_df(path_dr_genes, path_for_morphological_features, name)"
   ]
  },
  {
   "cell_type": "markdown",
   "id": "54d0bd76-d7e9-48d6-950c-3b4a103b8c0b",
   "metadata": {
    "jp-MarkdownHeadingCollapsed": true,
    "tags": []
   },
   "source": [
    "## 151673"
   ]
  },
  {
   "cell_type": "code",
   "execution_count": 1,
   "id": "5e3e1eba-2bc7-4480-b4db-cecfcfa2cd82",
   "metadata": {},
   "outputs": [],
   "source": [
    "path_for_morphological_features = \"preprocess_visiopharm/df_DPLFC_151673_without_background.csv\"\n",
    "path_dr_genes = \"/../../sbgenomics/project-files/data/latent_space/_1_DPLFC_151673_latent_space.csv\"\n",
    "name = \"151673\""
   ]
  },
  {
   "cell_type": "code",
   "execution_count": 8,
   "id": "f729e6ca-3e51-4205-9c61-2f99a168799a",
   "metadata": {},
   "outputs": [],
   "source": [
    "dr_genes_df_151673, morpho_features_151673,morpho_features2,merged_df_151673 = create_merged_df(path_dr_genes, path_for_morphological_features, name)"
   ]
  },
  {
   "cell_type": "code",
   "execution_count": 9,
   "id": "a7eedfaa-8f38-4229-a525-b6a8e8128ceb",
   "metadata": {},
   "outputs": [
    {
     "data": {
      "text/html": [
       "<div>\n",
       "<style scoped>\n",
       "    .dataframe tbody tr th:only-of-type {\n",
       "        vertical-align: middle;\n",
       "    }\n",
       "\n",
       "    .dataframe tbody tr th {\n",
       "        vertical-align: top;\n",
       "    }\n",
       "\n",
       "    .dataframe thead th {\n",
       "        text-align: right;\n",
       "    }\n",
       "</style>\n",
       "<table border=\"1\" class=\"dataframe\">\n",
       "  <thead>\n",
       "    <tr style=\"text-align: right;\">\n",
       "      <th></th>\n",
       "      <th>dim_1</th>\n",
       "      <th>dim_2</th>\n",
       "      <th>dim_3</th>\n",
       "      <th>dim_4</th>\n",
       "      <th>dim_5</th>\n",
       "      <th>dim_6</th>\n",
       "      <th>dim_7</th>\n",
       "      <th>dim_8</th>\n",
       "      <th>dim_9</th>\n",
       "      <th>dim_10</th>\n",
       "      <th>...</th>\n",
       "      <th>Texture inertia</th>\n",
       "      <th>Max Intensity</th>\n",
       "      <th>Mean Intensity</th>\n",
       "      <th>Min Intensity</th>\n",
       "      <th>Modus</th>\n",
       "      <th>Texture Anisotropy</th>\n",
       "      <th>Texture Entropy</th>\n",
       "      <th>Texture Major Axis</th>\n",
       "      <th>Texture Major Direction</th>\n",
       "      <th>Texture Minor Axis</th>\n",
       "    </tr>\n",
       "  </thead>\n",
       "  <tbody>\n",
       "    <tr>\n",
       "      <th>0</th>\n",
       "      <td>21.807194</td>\n",
       "      <td>2.567029</td>\n",
       "      <td>18.867867</td>\n",
       "      <td>-10.539822</td>\n",
       "      <td>18.429330</td>\n",
       "      <td>23.193333</td>\n",
       "      <td>-2.492150</td>\n",
       "      <td>-12.771133</td>\n",
       "      <td>11.181767</td>\n",
       "      <td>-12.429247</td>\n",
       "      <td>...</td>\n",
       "      <td>24655.804335</td>\n",
       "      <td>185.546249</td>\n",
       "      <td>12.264198</td>\n",
       "      <td>8.463478</td>\n",
       "      <td>8.463478</td>\n",
       "      <td>0.391970</td>\n",
       "      <td>10.790670</td>\n",
       "      <td>15332.926348</td>\n",
       "      <td>7.818946</td>\n",
       "      <td>9322.877987</td>\n",
       "    </tr>\n",
       "    <tr>\n",
       "      <th>1</th>\n",
       "      <td>4.963645</td>\n",
       "      <td>0.535576</td>\n",
       "      <td>4.181831</td>\n",
       "      <td>-2.415662</td>\n",
       "      <td>4.203759</td>\n",
       "      <td>5.209475</td>\n",
       "      <td>-0.629136</td>\n",
       "      <td>-2.923047</td>\n",
       "      <td>2.560918</td>\n",
       "      <td>-2.862252</td>\n",
       "      <td>...</td>\n",
       "      <td>1618.433606</td>\n",
       "      <td>8.463478</td>\n",
       "      <td>8.463478</td>\n",
       "      <td>8.463478</td>\n",
       "      <td>8.463478</td>\n",
       "      <td>0.309978</td>\n",
       "      <td>9.258061</td>\n",
       "      <td>957.640507</td>\n",
       "      <td>170.366037</td>\n",
       "      <td>660.793099</td>\n",
       "    </tr>\n",
       "    <tr>\n",
       "      <th>2</th>\n",
       "      <td>10.389523</td>\n",
       "      <td>1.186608</td>\n",
       "      <td>8.911389</td>\n",
       "      <td>-5.034423</td>\n",
       "      <td>8.785227</td>\n",
       "      <td>11.000340</td>\n",
       "      <td>-1.229374</td>\n",
       "      <td>-6.098672</td>\n",
       "      <td>5.336255</td>\n",
       "      <td>-5.943906</td>\n",
       "      <td>...</td>\n",
       "      <td>35126.131286</td>\n",
       "      <td>157.659729</td>\n",
       "      <td>19.153144</td>\n",
       "      <td>8.463478</td>\n",
       "      <td>8.463478</td>\n",
       "      <td>0.417149</td>\n",
       "      <td>12.145731</td>\n",
       "      <td>22191.683061</td>\n",
       "      <td>12.652386</td>\n",
       "      <td>12934.448225</td>\n",
       "    </tr>\n",
       "    <tr>\n",
       "      <th>3</th>\n",
       "      <td>12.620265</td>\n",
       "      <td>1.456959</td>\n",
       "      <td>10.859351</td>\n",
       "      <td>-6.111198</td>\n",
       "      <td>10.668478</td>\n",
       "      <td>13.383902</td>\n",
       "      <td>-1.475507</td>\n",
       "      <td>-7.401599</td>\n",
       "      <td>6.479130</td>\n",
       "      <td>-7.211139</td>\n",
       "      <td>...</td>\n",
       "      <td>718.754990</td>\n",
       "      <td>8.463478</td>\n",
       "      <td>8.463478</td>\n",
       "      <td>8.463478</td>\n",
       "      <td>8.463478</td>\n",
       "      <td>0.701569</td>\n",
       "      <td>7.691404</td>\n",
       "      <td>553.556567</td>\n",
       "      <td>69.644816</td>\n",
       "      <td>165.198424</td>\n",
       "    </tr>\n",
       "    <tr>\n",
       "      <th>4</th>\n",
       "      <td>11.459588</td>\n",
       "      <td>1.318880</td>\n",
       "      <td>9.847275</td>\n",
       "      <td>-5.549852</td>\n",
       "      <td>9.691551</td>\n",
       "      <td>12.145718</td>\n",
       "      <td>-1.349747</td>\n",
       "      <td>-6.722358</td>\n",
       "      <td>5.886029</td>\n",
       "      <td>-6.552395</td>\n",
       "      <td>...</td>\n",
       "      <td>4840.751040</td>\n",
       "      <td>244.590134</td>\n",
       "      <td>143.749484</td>\n",
       "      <td>76.612083</td>\n",
       "      <td>76.612083</td>\n",
       "      <td>0.255347</td>\n",
       "      <td>10.316672</td>\n",
       "      <td>2774.620980</td>\n",
       "      <td>155.915538</td>\n",
       "      <td>2066.130059</td>\n",
       "    </tr>\n",
       "    <tr>\n",
       "      <th>...</th>\n",
       "      <td>...</td>\n",
       "      <td>...</td>\n",
       "      <td>...</td>\n",
       "      <td>...</td>\n",
       "      <td>...</td>\n",
       "      <td>...</td>\n",
       "      <td>...</td>\n",
       "      <td>...</td>\n",
       "      <td>...</td>\n",
       "      <td>...</td>\n",
       "      <td>...</td>\n",
       "      <td>...</td>\n",
       "      <td>...</td>\n",
       "      <td>...</td>\n",
       "      <td>...</td>\n",
       "      <td>...</td>\n",
       "      <td>...</td>\n",
       "      <td>...</td>\n",
       "      <td>...</td>\n",
       "      <td>...</td>\n",
       "      <td>...</td>\n",
       "    </tr>\n",
       "    <tr>\n",
       "      <th>3634</th>\n",
       "      <td>12.075862</td>\n",
       "      <td>1.390215</td>\n",
       "      <td>10.384676</td>\n",
       "      <td>-5.847615</td>\n",
       "      <td>10.211443</td>\n",
       "      <td>12.802610</td>\n",
       "      <td>-1.415864</td>\n",
       "      <td>-7.079898</td>\n",
       "      <td>6.198486</td>\n",
       "      <td>-6.904453</td>\n",
       "      <td>...</td>\n",
       "      <td>1304.076246</td>\n",
       "      <td>185.878036</td>\n",
       "      <td>94.982050</td>\n",
       "      <td>54.194717</td>\n",
       "      <td>76.988534</td>\n",
       "      <td>0.234354</td>\n",
       "      <td>8.455272</td>\n",
       "      <td>738.583184</td>\n",
       "      <td>62.651479</td>\n",
       "      <td>565.493062</td>\n",
       "    </tr>\n",
       "    <tr>\n",
       "      <th>3635</th>\n",
       "      <td>7.792270</td>\n",
       "      <td>0.875981</td>\n",
       "      <td>6.649979</td>\n",
       "      <td>-3.781140</td>\n",
       "      <td>6.595135</td>\n",
       "      <td>8.232330</td>\n",
       "      <td>-0.942436</td>\n",
       "      <td>-4.577901</td>\n",
       "      <td>4.011072</td>\n",
       "      <td>-4.470164</td>\n",
       "      <td>...</td>\n",
       "      <td>2136.844877</td>\n",
       "      <td>204.436279</td>\n",
       "      <td>97.361415</td>\n",
       "      <td>43.033115</td>\n",
       "      <td>69.631537</td>\n",
       "      <td>0.176914</td>\n",
       "      <td>8.881623</td>\n",
       "      <td>1172.103244</td>\n",
       "      <td>37.428655</td>\n",
       "      <td>964.741634</td>\n",
       "    </tr>\n",
       "    <tr>\n",
       "      <th>3636</th>\n",
       "      <td>5.715069</td>\n",
       "      <td>0.624974</td>\n",
       "      <td>4.838155</td>\n",
       "      <td>-2.778266</td>\n",
       "      <td>4.839576</td>\n",
       "      <td>6.012091</td>\n",
       "      <td>-0.712080</td>\n",
       "      <td>-3.364617</td>\n",
       "      <td>2.945536</td>\n",
       "      <td>-3.289347</td>\n",
       "      <td>...</td>\n",
       "      <td>1962.139308</td>\n",
       "      <td>151.397873</td>\n",
       "      <td>87.672327</td>\n",
       "      <td>55.034466</td>\n",
       "      <td>75.784594</td>\n",
       "      <td>0.201726</td>\n",
       "      <td>9.130217</td>\n",
       "      <td>1091.123449</td>\n",
       "      <td>61.622434</td>\n",
       "      <td>871.015859</td>\n",
       "    </tr>\n",
       "    <tr>\n",
       "      <th>3637</th>\n",
       "      <td>6.489996</td>\n",
       "      <td>0.721456</td>\n",
       "      <td>5.514525</td>\n",
       "      <td>-3.151353</td>\n",
       "      <td>5.493414</td>\n",
       "      <td>6.839572</td>\n",
       "      <td>-0.798647</td>\n",
       "      <td>-3.815844</td>\n",
       "      <td>3.344400</td>\n",
       "      <td>-3.729513</td>\n",
       "      <td>...</td>\n",
       "      <td>3332.342163</td>\n",
       "      <td>149.781265</td>\n",
       "      <td>99.026361</td>\n",
       "      <td>63.721416</td>\n",
       "      <td>93.430554</td>\n",
       "      <td>0.141696</td>\n",
       "      <td>9.754150</td>\n",
       "      <td>1793.216605</td>\n",
       "      <td>3.073473</td>\n",
       "      <td>1539.125558</td>\n",
       "    </tr>\n",
       "    <tr>\n",
       "      <th>3638</th>\n",
       "      <td>16.619621</td>\n",
       "      <td>1.938215</td>\n",
       "      <td>14.349214</td>\n",
       "      <td>-8.040400</td>\n",
       "      <td>14.051474</td>\n",
       "      <td>17.658302</td>\n",
       "      <td>-1.917419</td>\n",
       "      <td>-9.739728</td>\n",
       "      <td>8.528770</td>\n",
       "      <td>-9.483728</td>\n",
       "      <td>...</td>\n",
       "      <td>5606.973575</td>\n",
       "      <td>143.222733</td>\n",
       "      <td>66.405984</td>\n",
       "      <td>19.749205</td>\n",
       "      <td>35.153251</td>\n",
       "      <td>0.209219</td>\n",
       "      <td>9.983316</td>\n",
       "      <td>3131.020574</td>\n",
       "      <td>87.707900</td>\n",
       "      <td>2475.953001</td>\n",
       "    </tr>\n",
       "  </tbody>\n",
       "</table>\n",
       "<p>3639 rows × 21 columns</p>\n",
       "</div>"
      ],
      "text/plain": [
       "          dim_1     dim_2      dim_3      dim_4      dim_5      dim_6  \\\n",
       "0     21.807194  2.567029  18.867867 -10.539822  18.429330  23.193333   \n",
       "1      4.963645  0.535576   4.181831  -2.415662   4.203759   5.209475   \n",
       "2     10.389523  1.186608   8.911389  -5.034423   8.785227  11.000340   \n",
       "3     12.620265  1.456959  10.859351  -6.111198  10.668478  13.383902   \n",
       "4     11.459588  1.318880   9.847275  -5.549852   9.691551  12.145718   \n",
       "...         ...       ...        ...        ...        ...        ...   \n",
       "3634  12.075862  1.390215  10.384676  -5.847615  10.211443  12.802610   \n",
       "3635   7.792270  0.875981   6.649979  -3.781140   6.595135   8.232330   \n",
       "3636   5.715069  0.624974   4.838155  -2.778266   4.839576   6.012091   \n",
       "3637   6.489996  0.721456   5.514525  -3.151353   5.493414   6.839572   \n",
       "3638  16.619621  1.938215  14.349214  -8.040400  14.051474  17.658302   \n",
       "\n",
       "         dim_7      dim_8      dim_9     dim_10  ...  Texture inertia  \\\n",
       "0    -2.492150 -12.771133  11.181767 -12.429247  ...     24655.804335   \n",
       "1    -0.629136  -2.923047   2.560918  -2.862252  ...      1618.433606   \n",
       "2    -1.229374  -6.098672   5.336255  -5.943906  ...     35126.131286   \n",
       "3    -1.475507  -7.401599   6.479130  -7.211139  ...       718.754990   \n",
       "4    -1.349747  -6.722358   5.886029  -6.552395  ...      4840.751040   \n",
       "...        ...        ...        ...        ...  ...              ...   \n",
       "3634 -1.415864  -7.079898   6.198486  -6.904453  ...      1304.076246   \n",
       "3635 -0.942436  -4.577901   4.011072  -4.470164  ...      2136.844877   \n",
       "3636 -0.712080  -3.364617   2.945536  -3.289347  ...      1962.139308   \n",
       "3637 -0.798647  -3.815844   3.344400  -3.729513  ...      3332.342163   \n",
       "3638 -1.917419  -9.739728   8.528770  -9.483728  ...      5606.973575   \n",
       "\n",
       "      Max Intensity  Mean Intensity  Min Intensity      Modus  \\\n",
       "0        185.546249       12.264198       8.463478   8.463478   \n",
       "1          8.463478        8.463478       8.463478   8.463478   \n",
       "2        157.659729       19.153144       8.463478   8.463478   \n",
       "3          8.463478        8.463478       8.463478   8.463478   \n",
       "4        244.590134      143.749484      76.612083  76.612083   \n",
       "...             ...             ...            ...        ...   \n",
       "3634     185.878036       94.982050      54.194717  76.988534   \n",
       "3635     204.436279       97.361415      43.033115  69.631537   \n",
       "3636     151.397873       87.672327      55.034466  75.784594   \n",
       "3637     149.781265       99.026361      63.721416  93.430554   \n",
       "3638     143.222733       66.405984      19.749205  35.153251   \n",
       "\n",
       "      Texture Anisotropy  Texture Entropy  Texture Major Axis  \\\n",
       "0               0.391970        10.790670        15332.926348   \n",
       "1               0.309978         9.258061          957.640507   \n",
       "2               0.417149        12.145731        22191.683061   \n",
       "3               0.701569         7.691404          553.556567   \n",
       "4               0.255347        10.316672         2774.620980   \n",
       "...                  ...              ...                 ...   \n",
       "3634            0.234354         8.455272          738.583184   \n",
       "3635            0.176914         8.881623         1172.103244   \n",
       "3636            0.201726         9.130217         1091.123449   \n",
       "3637            0.141696         9.754150         1793.216605   \n",
       "3638            0.209219         9.983316         3131.020574   \n",
       "\n",
       "      Texture Major Direction  Texture Minor Axis  \n",
       "0                    7.818946         9322.877987  \n",
       "1                  170.366037          660.793099  \n",
       "2                   12.652386        12934.448225  \n",
       "3                   69.644816          165.198424  \n",
       "4                  155.915538         2066.130059  \n",
       "...                       ...                 ...  \n",
       "3634                62.651479          565.493062  \n",
       "3635                37.428655          964.741634  \n",
       "3636                61.622434          871.015859  \n",
       "3637                 3.073473         1539.125558  \n",
       "3638                87.707900         2475.953001  \n",
       "\n",
       "[3639 rows x 21 columns]"
      ]
     },
     "execution_count": 9,
     "metadata": {},
     "output_type": "execute_result"
    }
   ],
   "source": [
    "merged_df_151673"
   ]
  },
  {
   "cell_type": "markdown",
   "id": "b6ce425f-6436-4229-8c77-3b8a7e7ca257",
   "metadata": {
    "jp-MarkdownHeadingCollapsed": true,
    "tags": []
   },
   "source": [
    "## 151671"
   ]
  },
  {
   "cell_type": "code",
   "execution_count": 13,
   "id": "a5ab38bc-daee-43ee-b93e-a0a7b89619c7",
   "metadata": {},
   "outputs": [],
   "source": [
    "path_for_morphological_features = \"preprocess_visiopharm/df_DPLFC_151671_without_background.csv\"\n",
    "path_dr_genes = \"/../../sbgenomics/project-files/data/latent_space/DPLFC_151671_latent_space.csv\"\n",
    "name = \"151671\""
   ]
  },
  {
   "cell_type": "code",
   "execution_count": 14,
   "id": "dc42e725-33a8-4fa7-b8ad-c9e48d7e4c90",
   "metadata": {},
   "outputs": [],
   "source": [
    "dr_genes_df_151671, morpho_features_151671,morpho_features2,merged_df_151671 = create_merged_df(path_dr_genes, path_for_morphological_features, name)"
   ]
  },
  {
   "cell_type": "markdown",
   "id": "0a99c022-140f-4a10-982e-cf1551aa625d",
   "metadata": {
    "jp-MarkdownHeadingCollapsed": true,
    "tags": []
   },
   "source": [
    "## 151669"
   ]
  },
  {
   "cell_type": "code",
   "execution_count": 15,
   "id": "71e0c3d9-a767-4c49-a521-1a5fe0a316e5",
   "metadata": {},
   "outputs": [],
   "source": [
    "path_for_morphological_features = \"preprocess_visiopharm/df_DPLFC_151669_without_background.csv\"\n",
    "path_dr_genes = \"/../../sbgenomics/project-files/data/latent_space/DPLFC_151669_latent_space.csv\"\n",
    "name = \"151669\""
   ]
  },
  {
   "cell_type": "code",
   "execution_count": 16,
   "id": "b7e32cac-7ccb-4024-928e-65e1068692a2",
   "metadata": {},
   "outputs": [],
   "source": [
    "dr_genes_df_151669, morpho_features_151669,morpho_features2,merged_df_151669 = create_merged_df(path_dr_genes, path_for_morphological_features, name)"
   ]
  },
  {
   "cell_type": "markdown",
   "id": "364fe7d7-8536-4710-8dbd-81b899e4b05a",
   "metadata": {
    "jp-MarkdownHeadingCollapsed": true,
    "tags": []
   },
   "source": [
    "## A1"
   ]
  },
  {
   "cell_type": "code",
   "execution_count": 17,
   "id": "b8cb964d-85eb-4849-afba-dfbaa21e6813",
   "metadata": {},
   "outputs": [],
   "source": [
    "path_for_morphological_features = \"preprocess_visiopharm/df_A1_without_background.csv\"\n",
    "path_dr_genes = \"/../../sbgenomics/project-files/data/latent_space/A1_latent_space.csv\"\n",
    "name = \"A1\""
   ]
  },
  {
   "cell_type": "code",
   "execution_count": 18,
   "id": "350ae452-d61b-4b6d-9e62-107bcbdd64c1",
   "metadata": {},
   "outputs": [],
   "source": [
    "dr_genes_df_A1, morpho_features_A1,morpho_features2,merged_df_A1 = create_merged_df(path_dr_genes, path_for_morphological_features, name)"
   ]
  },
  {
   "cell_type": "markdown",
   "id": "28dd4a68-a32e-4acc-8481-af2dffdbf4f2",
   "metadata": {
    "jp-MarkdownHeadingCollapsed": true,
    "tags": []
   },
   "source": [
    "## B2"
   ]
  },
  {
   "cell_type": "code",
   "execution_count": 19,
   "id": "21efee68-4d2a-40be-a574-bbac79a36a23",
   "metadata": {},
   "outputs": [],
   "source": [
    "path_for_morphological_features = \"preprocess_visiopharm/df_B2_without_background.csv\"\n",
    "path_dr_genes = \"/../../sbgenomics/project-files/data/latent_space/B2_latent_space.csv\"\n",
    "name = \"B2\""
   ]
  },
  {
   "cell_type": "code",
   "execution_count": 20,
   "id": "4feff9ae-1f36-40a8-aef0-8af76cc85a8e",
   "metadata": {},
   "outputs": [],
   "source": [
    "dr_genes_df_B2, morpho_features_B2,morpho_features2,merged_df_B2 = create_merged_df(path_dr_genes, path_for_morphological_features, name)"
   ]
  },
  {
   "cell_type": "markdown",
   "id": "4ed95b0e-8af7-40c3-8f9c-cbbbf849e36b",
   "metadata": {
    "jp-MarkdownHeadingCollapsed": true,
    "tags": []
   },
   "source": [
    "## C3"
   ]
  },
  {
   "cell_type": "code",
   "execution_count": 21,
   "id": "bd32424c-7a9c-4c2e-af53-4ec959e33e1a",
   "metadata": {},
   "outputs": [],
   "source": [
    "path_for_morphological_features = \"preprocess_visiopharm/df_C3_without_background.csv\"\n",
    "path_dr_genes = \"/../../sbgenomics/project-files/data/latent_space/C3_latent_space.csv\"\n",
    "name = \"C3\""
   ]
  },
  {
   "cell_type": "code",
   "execution_count": 22,
   "id": "36bda5da-21ac-4715-b249-ae7544bcb6fc",
   "metadata": {},
   "outputs": [],
   "source": [
    "dr_genes_df_C3, morpho_features_C3,morpho_features2,merged_df_C3 = create_merged_df(path_dr_genes, path_for_morphological_features, name)"
   ]
  },
  {
   "cell_type": "markdown",
   "id": "dbb1ff25-70ce-4393-9ef3-93b88206bc7b",
   "metadata": {
    "tags": []
   },
   "source": [
    "## D4"
   ]
  },
  {
   "cell_type": "code",
   "execution_count": 23,
   "id": "d56b6f45-3384-4dcc-bf3d-7853d9330911",
   "metadata": {},
   "outputs": [],
   "source": [
    "path_for_morphological_features = \"preprocess_visiopharm/df_D4_without_background.csv\"\n",
    "path_dr_genes = \"/../../sbgenomics/project-files/data/latent_space/D4_latent_space.csv\"\n",
    "name = \"D4\""
   ]
  },
  {
   "cell_type": "code",
   "execution_count": 24,
   "id": "51116b25-a6a3-4ece-a72e-a8cc114d4626",
   "metadata": {},
   "outputs": [],
   "source": [
    "dr_genes_df_D4, morpho_features_D4,morpho_features2,merged_df_D4 = create_merged_df(path_dr_genes, path_for_morphological_features, name)"
   ]
  },
  {
   "cell_type": "markdown",
   "id": "ff4ae1ba-a24c-48a5-9196-6795c31267bd",
   "metadata": {
    "tags": []
   },
   "source": [
    "## V1_Mouse_Brain_Sagittal_Anterior"
   ]
  },
  {
   "cell_type": "code",
   "execution_count": 12,
   "id": "1d070775-2992-45e7-8390-e6e5a4efb83a",
   "metadata": {},
   "outputs": [],
   "source": [
    "path_for_morphological_features = \"preprocess_visiopharm/df_V1_Mouse_Brain_Sagittal_Anterior_image_without_background.csv\"\n",
    "path_dr_genes = \"/../../sbgenomics/project-files/data/latent_space/_1_mouse_brain_latent_space.csv\"\n",
    "name = \"V1_Mouse_Brain_Sagittal_Anterior\""
   ]
  },
  {
   "cell_type": "code",
   "execution_count": 13,
   "id": "37450600-b40b-4ea7-90d5-fe109a38cc74",
   "metadata": {},
   "outputs": [],
   "source": [
    "dr_genes_df_V1_Mouse_Brain_Sagittal_Anterior, morpho_features_V1_Mouse_Brain_Sagittal_Anterior,morpho_features2,merged_df_V1_Mouse_Brain_Sagittal_Anterior = create_merged_df(path_dr_genes, path_for_morphological_features, name)"
   ]
  },
  {
   "cell_type": "markdown",
   "id": "5c82827d-0c53-49e8-8748-ec13f03565f4",
   "metadata": {
    "tags": []
   },
   "source": [
    "## 151508"
   ]
  },
  {
   "cell_type": "code",
   "execution_count": 47,
   "id": "633c501d-2b9d-403c-8149-f9748f0f97e0",
   "metadata": {},
   "outputs": [],
   "source": [
    "path_for_morphological_features = \"preprocess_visiopharm/df_DPLFC_151508_without_background.csv\"\n",
    "path_dr_genes = \"/../../sbgenomics/project-files/data/latent_space/DPLFC_151508_latent_space.csv\"\n",
    "name = \"151508\""
   ]
  },
  {
   "cell_type": "code",
   "execution_count": 48,
   "id": "d4e001e7-bf98-4690-a949-f3fa2a024f5b",
   "metadata": {},
   "outputs": [
    {
     "ename": "FileNotFoundError",
     "evalue": "[Errno 2] No such file or directory: '/../../sbgenomics/project-files/data/latent_space/DPLFC_151508_latent_space.csv'",
     "output_type": "error",
     "traceback": [
      "\u001b[0;31m---------------------------------------------------------------------------\u001b[0m",
      "\u001b[0;31mFileNotFoundError\u001b[0m                         Traceback (most recent call last)",
      "\u001b[0;32m/tmp/ipykernel_77/1401149831.py\u001b[0m in \u001b[0;36m<module>\u001b[0;34m\u001b[0m\n\u001b[0;32m----> 1\u001b[0;31m \u001b[0mdr_genes_df_151508\u001b[0m\u001b[0;34m,\u001b[0m \u001b[0mmorpho_features_151508\u001b[0m\u001b[0;34m,\u001b[0m\u001b[0mmorpho_features2\u001b[0m\u001b[0;34m,\u001b[0m\u001b[0mmerged_df_151508\u001b[0m \u001b[0;34m=\u001b[0m \u001b[0mcreate_merged_df\u001b[0m\u001b[0;34m(\u001b[0m\u001b[0mpath_dr_genes\u001b[0m\u001b[0;34m,\u001b[0m \u001b[0mpath_for_morphological_features\u001b[0m\u001b[0;34m,\u001b[0m \u001b[0mname\u001b[0m\u001b[0;34m)\u001b[0m\u001b[0;34m\u001b[0m\u001b[0;34m\u001b[0m\u001b[0m\n\u001b[0m",
      "\u001b[0;32m/tmp/ipykernel_77/2503450865.py\u001b[0m in \u001b[0;36mcreate_merged_df\u001b[0;34m(path_dr_genes, path_for_morphological_features, name)\u001b[0m\n\u001b[1;32m      1\u001b[0m \u001b[0;32mdef\u001b[0m \u001b[0mcreate_merged_df\u001b[0m\u001b[0;34m(\u001b[0m\u001b[0mpath_dr_genes\u001b[0m\u001b[0;34m,\u001b[0m \u001b[0mpath_for_morphological_features\u001b[0m\u001b[0;34m,\u001b[0m \u001b[0mname\u001b[0m\u001b[0;34m)\u001b[0m\u001b[0;34m:\u001b[0m\u001b[0;34m\u001b[0m\u001b[0;34m\u001b[0m\u001b[0m\n\u001b[0;32m----> 2\u001b[0;31m     \u001b[0mdr_genes_df\u001b[0m \u001b[0;34m=\u001b[0m \u001b[0mpd\u001b[0m\u001b[0;34m.\u001b[0m\u001b[0mread_csv\u001b[0m\u001b[0;34m(\u001b[0m\u001b[0mpath_dr_genes\u001b[0m\u001b[0;34m,\u001b[0m \u001b[0mindex_col\u001b[0m\u001b[0;34m=\u001b[0m\u001b[0;36m0\u001b[0m\u001b[0;34m)\u001b[0m\u001b[0;34m\u001b[0m\u001b[0;34m\u001b[0m\u001b[0m\n\u001b[0m\u001b[1;32m      3\u001b[0m     \u001b[0mmorpho_features\u001b[0m \u001b[0;34m=\u001b[0m \u001b[0mpd\u001b[0m\u001b[0;34m.\u001b[0m\u001b[0mread_csv\u001b[0m\u001b[0;34m(\u001b[0m\u001b[0mpath_for_morphological_features\u001b[0m\u001b[0;34m)\u001b[0m\u001b[0;34m\u001b[0m\u001b[0;34m\u001b[0m\u001b[0m\n\u001b[1;32m      4\u001b[0m     morpho_features2 = morpho_features[['Nuclei Area per object', 'Texture inertia', 'Max Intensity',\n\u001b[1;32m      5\u001b[0m                                         \u001b[0;34m'Mean Intensity'\u001b[0m\u001b[0;34m,\u001b[0m \u001b[0;34m'Min Intensity'\u001b[0m\u001b[0;34m,\u001b[0m \u001b[0;34m'Modus'\u001b[0m\u001b[0;34m,\u001b[0m \u001b[0;34m'Texture Anisotropy'\u001b[0m\u001b[0;34m,\u001b[0m\u001b[0;34m\u001b[0m\u001b[0;34m\u001b[0m\u001b[0m\n",
      "\u001b[0;32m/opt/conda/lib/python3.9/site-packages/pandas/util/_decorators.py\u001b[0m in \u001b[0;36mwrapper\u001b[0;34m(*args, **kwargs)\u001b[0m\n\u001b[1;32m    309\u001b[0m                     \u001b[0mstacklevel\u001b[0m\u001b[0;34m=\u001b[0m\u001b[0mstacklevel\u001b[0m\u001b[0;34m,\u001b[0m\u001b[0;34m\u001b[0m\u001b[0;34m\u001b[0m\u001b[0m\n\u001b[1;32m    310\u001b[0m                 )\n\u001b[0;32m--> 311\u001b[0;31m             \u001b[0;32mreturn\u001b[0m \u001b[0mfunc\u001b[0m\u001b[0;34m(\u001b[0m\u001b[0;34m*\u001b[0m\u001b[0margs\u001b[0m\u001b[0;34m,\u001b[0m \u001b[0;34m**\u001b[0m\u001b[0mkwargs\u001b[0m\u001b[0;34m)\u001b[0m\u001b[0;34m\u001b[0m\u001b[0;34m\u001b[0m\u001b[0m\n\u001b[0m\u001b[1;32m    312\u001b[0m \u001b[0;34m\u001b[0m\u001b[0m\n\u001b[1;32m    313\u001b[0m         \u001b[0;32mreturn\u001b[0m \u001b[0mwrapper\u001b[0m\u001b[0;34m\u001b[0m\u001b[0;34m\u001b[0m\u001b[0m\n",
      "\u001b[0;32m/opt/conda/lib/python3.9/site-packages/pandas/io/parsers/readers.py\u001b[0m in \u001b[0;36mread_csv\u001b[0;34m(filepath_or_buffer, sep, delimiter, header, names, index_col, usecols, squeeze, prefix, mangle_dupe_cols, dtype, engine, converters, true_values, false_values, skipinitialspace, skiprows, skipfooter, nrows, na_values, keep_default_na, na_filter, verbose, skip_blank_lines, parse_dates, infer_datetime_format, keep_date_col, date_parser, dayfirst, cache_dates, iterator, chunksize, compression, thousands, decimal, lineterminator, quotechar, quoting, doublequote, escapechar, comment, encoding, encoding_errors, dialect, error_bad_lines, warn_bad_lines, on_bad_lines, delim_whitespace, low_memory, memory_map, float_precision, storage_options)\u001b[0m\n\u001b[1;32m    584\u001b[0m     \u001b[0mkwds\u001b[0m\u001b[0;34m.\u001b[0m\u001b[0mupdate\u001b[0m\u001b[0;34m(\u001b[0m\u001b[0mkwds_defaults\u001b[0m\u001b[0;34m)\u001b[0m\u001b[0;34m\u001b[0m\u001b[0;34m\u001b[0m\u001b[0m\n\u001b[1;32m    585\u001b[0m \u001b[0;34m\u001b[0m\u001b[0m\n\u001b[0;32m--> 586\u001b[0;31m     \u001b[0;32mreturn\u001b[0m \u001b[0m_read\u001b[0m\u001b[0;34m(\u001b[0m\u001b[0mfilepath_or_buffer\u001b[0m\u001b[0;34m,\u001b[0m \u001b[0mkwds\u001b[0m\u001b[0;34m)\u001b[0m\u001b[0;34m\u001b[0m\u001b[0;34m\u001b[0m\u001b[0m\n\u001b[0m\u001b[1;32m    587\u001b[0m \u001b[0;34m\u001b[0m\u001b[0m\n\u001b[1;32m    588\u001b[0m \u001b[0;34m\u001b[0m\u001b[0m\n",
      "\u001b[0;32m/opt/conda/lib/python3.9/site-packages/pandas/io/parsers/readers.py\u001b[0m in \u001b[0;36m_read\u001b[0;34m(filepath_or_buffer, kwds)\u001b[0m\n\u001b[1;32m    480\u001b[0m \u001b[0;34m\u001b[0m\u001b[0m\n\u001b[1;32m    481\u001b[0m     \u001b[0;31m# Create the parser.\u001b[0m\u001b[0;34m\u001b[0m\u001b[0;34m\u001b[0m\u001b[0;34m\u001b[0m\u001b[0m\n\u001b[0;32m--> 482\u001b[0;31m     \u001b[0mparser\u001b[0m \u001b[0;34m=\u001b[0m \u001b[0mTextFileReader\u001b[0m\u001b[0;34m(\u001b[0m\u001b[0mfilepath_or_buffer\u001b[0m\u001b[0;34m,\u001b[0m \u001b[0;34m**\u001b[0m\u001b[0mkwds\u001b[0m\u001b[0;34m)\u001b[0m\u001b[0;34m\u001b[0m\u001b[0;34m\u001b[0m\u001b[0m\n\u001b[0m\u001b[1;32m    483\u001b[0m \u001b[0;34m\u001b[0m\u001b[0m\n\u001b[1;32m    484\u001b[0m     \u001b[0;32mif\u001b[0m \u001b[0mchunksize\u001b[0m \u001b[0;32mor\u001b[0m \u001b[0miterator\u001b[0m\u001b[0;34m:\u001b[0m\u001b[0;34m\u001b[0m\u001b[0;34m\u001b[0m\u001b[0m\n",
      "\u001b[0;32m/opt/conda/lib/python3.9/site-packages/pandas/io/parsers/readers.py\u001b[0m in \u001b[0;36m__init__\u001b[0;34m(self, f, engine, **kwds)\u001b[0m\n\u001b[1;32m    809\u001b[0m             \u001b[0mself\u001b[0m\u001b[0;34m.\u001b[0m\u001b[0moptions\u001b[0m\u001b[0;34m[\u001b[0m\u001b[0;34m\"has_index_names\"\u001b[0m\u001b[0;34m]\u001b[0m \u001b[0;34m=\u001b[0m \u001b[0mkwds\u001b[0m\u001b[0;34m[\u001b[0m\u001b[0;34m\"has_index_names\"\u001b[0m\u001b[0;34m]\u001b[0m\u001b[0;34m\u001b[0m\u001b[0;34m\u001b[0m\u001b[0m\n\u001b[1;32m    810\u001b[0m \u001b[0;34m\u001b[0m\u001b[0m\n\u001b[0;32m--> 811\u001b[0;31m         \u001b[0mself\u001b[0m\u001b[0;34m.\u001b[0m\u001b[0m_engine\u001b[0m \u001b[0;34m=\u001b[0m \u001b[0mself\u001b[0m\u001b[0;34m.\u001b[0m\u001b[0m_make_engine\u001b[0m\u001b[0;34m(\u001b[0m\u001b[0mself\u001b[0m\u001b[0;34m.\u001b[0m\u001b[0mengine\u001b[0m\u001b[0;34m)\u001b[0m\u001b[0;34m\u001b[0m\u001b[0;34m\u001b[0m\u001b[0m\n\u001b[0m\u001b[1;32m    812\u001b[0m \u001b[0;34m\u001b[0m\u001b[0m\n\u001b[1;32m    813\u001b[0m     \u001b[0;32mdef\u001b[0m \u001b[0mclose\u001b[0m\u001b[0;34m(\u001b[0m\u001b[0mself\u001b[0m\u001b[0;34m)\u001b[0m\u001b[0;34m:\u001b[0m\u001b[0;34m\u001b[0m\u001b[0;34m\u001b[0m\u001b[0m\n",
      "\u001b[0;32m/opt/conda/lib/python3.9/site-packages/pandas/io/parsers/readers.py\u001b[0m in \u001b[0;36m_make_engine\u001b[0;34m(self, engine)\u001b[0m\n\u001b[1;32m   1038\u001b[0m             )\n\u001b[1;32m   1039\u001b[0m         \u001b[0;31m# error: Too many arguments for \"ParserBase\"\u001b[0m\u001b[0;34m\u001b[0m\u001b[0;34m\u001b[0m\u001b[0;34m\u001b[0m\u001b[0m\n\u001b[0;32m-> 1040\u001b[0;31m         \u001b[0;32mreturn\u001b[0m \u001b[0mmapping\u001b[0m\u001b[0;34m[\u001b[0m\u001b[0mengine\u001b[0m\u001b[0;34m]\u001b[0m\u001b[0;34m(\u001b[0m\u001b[0mself\u001b[0m\u001b[0;34m.\u001b[0m\u001b[0mf\u001b[0m\u001b[0;34m,\u001b[0m \u001b[0;34m**\u001b[0m\u001b[0mself\u001b[0m\u001b[0;34m.\u001b[0m\u001b[0moptions\u001b[0m\u001b[0;34m)\u001b[0m  \u001b[0;31m# type: ignore[call-arg]\u001b[0m\u001b[0;34m\u001b[0m\u001b[0;34m\u001b[0m\u001b[0m\n\u001b[0m\u001b[1;32m   1041\u001b[0m \u001b[0;34m\u001b[0m\u001b[0m\n\u001b[1;32m   1042\u001b[0m     \u001b[0;32mdef\u001b[0m \u001b[0m_failover_to_python\u001b[0m\u001b[0;34m(\u001b[0m\u001b[0mself\u001b[0m\u001b[0;34m)\u001b[0m\u001b[0;34m:\u001b[0m\u001b[0;34m\u001b[0m\u001b[0;34m\u001b[0m\u001b[0m\n",
      "\u001b[0;32m/opt/conda/lib/python3.9/site-packages/pandas/io/parsers/c_parser_wrapper.py\u001b[0m in \u001b[0;36m__init__\u001b[0;34m(self, src, **kwds)\u001b[0m\n\u001b[1;32m     49\u001b[0m \u001b[0;34m\u001b[0m\u001b[0m\n\u001b[1;32m     50\u001b[0m         \u001b[0;31m# open handles\u001b[0m\u001b[0;34m\u001b[0m\u001b[0;34m\u001b[0m\u001b[0;34m\u001b[0m\u001b[0m\n\u001b[0;32m---> 51\u001b[0;31m         \u001b[0mself\u001b[0m\u001b[0;34m.\u001b[0m\u001b[0m_open_handles\u001b[0m\u001b[0;34m(\u001b[0m\u001b[0msrc\u001b[0m\u001b[0;34m,\u001b[0m \u001b[0mkwds\u001b[0m\u001b[0;34m)\u001b[0m\u001b[0;34m\u001b[0m\u001b[0;34m\u001b[0m\u001b[0m\n\u001b[0m\u001b[1;32m     52\u001b[0m         \u001b[0;32massert\u001b[0m \u001b[0mself\u001b[0m\u001b[0;34m.\u001b[0m\u001b[0mhandles\u001b[0m \u001b[0;32mis\u001b[0m \u001b[0;32mnot\u001b[0m \u001b[0;32mNone\u001b[0m\u001b[0;34m\u001b[0m\u001b[0;34m\u001b[0m\u001b[0m\n\u001b[1;32m     53\u001b[0m \u001b[0;34m\u001b[0m\u001b[0m\n",
      "\u001b[0;32m/opt/conda/lib/python3.9/site-packages/pandas/io/parsers/base_parser.py\u001b[0m in \u001b[0;36m_open_handles\u001b[0;34m(self, src, kwds)\u001b[0m\n\u001b[1;32m    220\u001b[0m         \u001b[0mLet\u001b[0m \u001b[0mthe\u001b[0m \u001b[0mreaders\u001b[0m \u001b[0mopen\u001b[0m \u001b[0mIOHandles\u001b[0m \u001b[0mafter\u001b[0m \u001b[0mthey\u001b[0m \u001b[0mare\u001b[0m \u001b[0mdone\u001b[0m \u001b[0;32mwith\u001b[0m \u001b[0mtheir\u001b[0m \u001b[0mpotential\u001b[0m \u001b[0mraises\u001b[0m\u001b[0;34m.\u001b[0m\u001b[0;34m\u001b[0m\u001b[0;34m\u001b[0m\u001b[0m\n\u001b[1;32m    221\u001b[0m         \"\"\"\n\u001b[0;32m--> 222\u001b[0;31m         self.handles = get_handle(\n\u001b[0m\u001b[1;32m    223\u001b[0m             \u001b[0msrc\u001b[0m\u001b[0;34m,\u001b[0m\u001b[0;34m\u001b[0m\u001b[0;34m\u001b[0m\u001b[0m\n\u001b[1;32m    224\u001b[0m             \u001b[0;34m\"r\"\u001b[0m\u001b[0;34m,\u001b[0m\u001b[0;34m\u001b[0m\u001b[0;34m\u001b[0m\u001b[0m\n",
      "\u001b[0;32m/opt/conda/lib/python3.9/site-packages/pandas/io/common.py\u001b[0m in \u001b[0;36mget_handle\u001b[0;34m(path_or_buf, mode, encoding, compression, memory_map, is_text, errors, storage_options)\u001b[0m\n\u001b[1;32m    700\u001b[0m         \u001b[0;32mif\u001b[0m \u001b[0mioargs\u001b[0m\u001b[0;34m.\u001b[0m\u001b[0mencoding\u001b[0m \u001b[0;32mand\u001b[0m \u001b[0;34m\"b\"\u001b[0m \u001b[0;32mnot\u001b[0m \u001b[0;32min\u001b[0m \u001b[0mioargs\u001b[0m\u001b[0;34m.\u001b[0m\u001b[0mmode\u001b[0m\u001b[0;34m:\u001b[0m\u001b[0;34m\u001b[0m\u001b[0;34m\u001b[0m\u001b[0m\n\u001b[1;32m    701\u001b[0m             \u001b[0;31m# Encoding\u001b[0m\u001b[0;34m\u001b[0m\u001b[0;34m\u001b[0m\u001b[0;34m\u001b[0m\u001b[0m\n\u001b[0;32m--> 702\u001b[0;31m             handle = open(\n\u001b[0m\u001b[1;32m    703\u001b[0m                 \u001b[0mhandle\u001b[0m\u001b[0;34m,\u001b[0m\u001b[0;34m\u001b[0m\u001b[0;34m\u001b[0m\u001b[0m\n\u001b[1;32m    704\u001b[0m                 \u001b[0mioargs\u001b[0m\u001b[0;34m.\u001b[0m\u001b[0mmode\u001b[0m\u001b[0;34m,\u001b[0m\u001b[0;34m\u001b[0m\u001b[0;34m\u001b[0m\u001b[0m\n",
      "\u001b[0;31mFileNotFoundError\u001b[0m: [Errno 2] No such file or directory: '/../../sbgenomics/project-files/data/latent_space/DPLFC_151508_latent_space.csv'"
     ]
    }
   ],
   "source": [
    "dr_genes_df_151508, morpho_features_151508,morpho_features2,merged_df_151508 = create_merged_df(path_dr_genes, path_for_morphological_features, name)"
   ]
  },
  {
   "cell_type": "markdown",
   "id": "2df0b905-f29f-4889-9520-120ad4b15790",
   "metadata": {
    "tags": []
   },
   "source": [
    "## 151509"
   ]
  },
  {
   "cell_type": "code",
   "execution_count": 49,
   "id": "584ad1f2-62ad-4bd0-9719-91d7f4d727ec",
   "metadata": {},
   "outputs": [],
   "source": [
    "path_for_morphological_features = \"preprocess_visiopharm/df_DPLFC_151509_without_background.csv\"\n",
    "path_dr_genes = \"/../../sbgenomics/project-files/data/latent_space/DPLFC_151509_latent_space.csv\"\n",
    "name = \"151509\""
   ]
  },
  {
   "cell_type": "code",
   "execution_count": 50,
   "id": "b72d0578-a370-4b22-859a-d09ec9b1f640",
   "metadata": {},
   "outputs": [
    {
     "ename": "FileNotFoundError",
     "evalue": "[Errno 2] No such file or directory: '/../../sbgenomics/project-files/data/latent_space/DPLFC_151509_latent_space.csv'",
     "output_type": "error",
     "traceback": [
      "\u001b[0;31m---------------------------------------------------------------------------\u001b[0m",
      "\u001b[0;31mFileNotFoundError\u001b[0m                         Traceback (most recent call last)",
      "\u001b[0;32m/tmp/ipykernel_77/4209340054.py\u001b[0m in \u001b[0;36m<module>\u001b[0;34m\u001b[0m\n\u001b[0;32m----> 1\u001b[0;31m \u001b[0mdr_genes_df_151509\u001b[0m\u001b[0;34m,\u001b[0m \u001b[0mmorpho_features_151509\u001b[0m\u001b[0;34m,\u001b[0m\u001b[0mmorpho_features2\u001b[0m\u001b[0;34m,\u001b[0m\u001b[0mmerged_df_151509\u001b[0m \u001b[0;34m=\u001b[0m \u001b[0mcreate_merged_df\u001b[0m\u001b[0;34m(\u001b[0m\u001b[0mpath_dr_genes\u001b[0m\u001b[0;34m,\u001b[0m \u001b[0mpath_for_morphological_features\u001b[0m\u001b[0;34m,\u001b[0m \u001b[0mname\u001b[0m\u001b[0;34m)\u001b[0m\u001b[0;34m\u001b[0m\u001b[0;34m\u001b[0m\u001b[0m\n\u001b[0m",
      "\u001b[0;32m/tmp/ipykernel_77/2503450865.py\u001b[0m in \u001b[0;36mcreate_merged_df\u001b[0;34m(path_dr_genes, path_for_morphological_features, name)\u001b[0m\n\u001b[1;32m      1\u001b[0m \u001b[0;32mdef\u001b[0m \u001b[0mcreate_merged_df\u001b[0m\u001b[0;34m(\u001b[0m\u001b[0mpath_dr_genes\u001b[0m\u001b[0;34m,\u001b[0m \u001b[0mpath_for_morphological_features\u001b[0m\u001b[0;34m,\u001b[0m \u001b[0mname\u001b[0m\u001b[0;34m)\u001b[0m\u001b[0;34m:\u001b[0m\u001b[0;34m\u001b[0m\u001b[0;34m\u001b[0m\u001b[0m\n\u001b[0;32m----> 2\u001b[0;31m     \u001b[0mdr_genes_df\u001b[0m \u001b[0;34m=\u001b[0m \u001b[0mpd\u001b[0m\u001b[0;34m.\u001b[0m\u001b[0mread_csv\u001b[0m\u001b[0;34m(\u001b[0m\u001b[0mpath_dr_genes\u001b[0m\u001b[0;34m,\u001b[0m \u001b[0mindex_col\u001b[0m\u001b[0;34m=\u001b[0m\u001b[0;36m0\u001b[0m\u001b[0;34m)\u001b[0m\u001b[0;34m\u001b[0m\u001b[0;34m\u001b[0m\u001b[0m\n\u001b[0m\u001b[1;32m      3\u001b[0m     \u001b[0mmorpho_features\u001b[0m \u001b[0;34m=\u001b[0m \u001b[0mpd\u001b[0m\u001b[0;34m.\u001b[0m\u001b[0mread_csv\u001b[0m\u001b[0;34m(\u001b[0m\u001b[0mpath_for_morphological_features\u001b[0m\u001b[0;34m)\u001b[0m\u001b[0;34m\u001b[0m\u001b[0;34m\u001b[0m\u001b[0m\n\u001b[1;32m      4\u001b[0m     morpho_features2 = morpho_features[['Nuclei Area per object', 'Texture inertia', 'Max Intensity',\n\u001b[1;32m      5\u001b[0m                                         \u001b[0;34m'Mean Intensity'\u001b[0m\u001b[0;34m,\u001b[0m \u001b[0;34m'Min Intensity'\u001b[0m\u001b[0;34m,\u001b[0m \u001b[0;34m'Modus'\u001b[0m\u001b[0;34m,\u001b[0m \u001b[0;34m'Texture Anisotropy'\u001b[0m\u001b[0;34m,\u001b[0m\u001b[0;34m\u001b[0m\u001b[0;34m\u001b[0m\u001b[0m\n",
      "\u001b[0;32m/opt/conda/lib/python3.9/site-packages/pandas/util/_decorators.py\u001b[0m in \u001b[0;36mwrapper\u001b[0;34m(*args, **kwargs)\u001b[0m\n\u001b[1;32m    309\u001b[0m                     \u001b[0mstacklevel\u001b[0m\u001b[0;34m=\u001b[0m\u001b[0mstacklevel\u001b[0m\u001b[0;34m,\u001b[0m\u001b[0;34m\u001b[0m\u001b[0;34m\u001b[0m\u001b[0m\n\u001b[1;32m    310\u001b[0m                 )\n\u001b[0;32m--> 311\u001b[0;31m             \u001b[0;32mreturn\u001b[0m \u001b[0mfunc\u001b[0m\u001b[0;34m(\u001b[0m\u001b[0;34m*\u001b[0m\u001b[0margs\u001b[0m\u001b[0;34m,\u001b[0m \u001b[0;34m**\u001b[0m\u001b[0mkwargs\u001b[0m\u001b[0;34m)\u001b[0m\u001b[0;34m\u001b[0m\u001b[0;34m\u001b[0m\u001b[0m\n\u001b[0m\u001b[1;32m    312\u001b[0m \u001b[0;34m\u001b[0m\u001b[0m\n\u001b[1;32m    313\u001b[0m         \u001b[0;32mreturn\u001b[0m \u001b[0mwrapper\u001b[0m\u001b[0;34m\u001b[0m\u001b[0;34m\u001b[0m\u001b[0m\n",
      "\u001b[0;32m/opt/conda/lib/python3.9/site-packages/pandas/io/parsers/readers.py\u001b[0m in \u001b[0;36mread_csv\u001b[0;34m(filepath_or_buffer, sep, delimiter, header, names, index_col, usecols, squeeze, prefix, mangle_dupe_cols, dtype, engine, converters, true_values, false_values, skipinitialspace, skiprows, skipfooter, nrows, na_values, keep_default_na, na_filter, verbose, skip_blank_lines, parse_dates, infer_datetime_format, keep_date_col, date_parser, dayfirst, cache_dates, iterator, chunksize, compression, thousands, decimal, lineterminator, quotechar, quoting, doublequote, escapechar, comment, encoding, encoding_errors, dialect, error_bad_lines, warn_bad_lines, on_bad_lines, delim_whitespace, low_memory, memory_map, float_precision, storage_options)\u001b[0m\n\u001b[1;32m    584\u001b[0m     \u001b[0mkwds\u001b[0m\u001b[0;34m.\u001b[0m\u001b[0mupdate\u001b[0m\u001b[0;34m(\u001b[0m\u001b[0mkwds_defaults\u001b[0m\u001b[0;34m)\u001b[0m\u001b[0;34m\u001b[0m\u001b[0;34m\u001b[0m\u001b[0m\n\u001b[1;32m    585\u001b[0m \u001b[0;34m\u001b[0m\u001b[0m\n\u001b[0;32m--> 586\u001b[0;31m     \u001b[0;32mreturn\u001b[0m \u001b[0m_read\u001b[0m\u001b[0;34m(\u001b[0m\u001b[0mfilepath_or_buffer\u001b[0m\u001b[0;34m,\u001b[0m \u001b[0mkwds\u001b[0m\u001b[0;34m)\u001b[0m\u001b[0;34m\u001b[0m\u001b[0;34m\u001b[0m\u001b[0m\n\u001b[0m\u001b[1;32m    587\u001b[0m \u001b[0;34m\u001b[0m\u001b[0m\n\u001b[1;32m    588\u001b[0m \u001b[0;34m\u001b[0m\u001b[0m\n",
      "\u001b[0;32m/opt/conda/lib/python3.9/site-packages/pandas/io/parsers/readers.py\u001b[0m in \u001b[0;36m_read\u001b[0;34m(filepath_or_buffer, kwds)\u001b[0m\n\u001b[1;32m    480\u001b[0m \u001b[0;34m\u001b[0m\u001b[0m\n\u001b[1;32m    481\u001b[0m     \u001b[0;31m# Create the parser.\u001b[0m\u001b[0;34m\u001b[0m\u001b[0;34m\u001b[0m\u001b[0;34m\u001b[0m\u001b[0m\n\u001b[0;32m--> 482\u001b[0;31m     \u001b[0mparser\u001b[0m \u001b[0;34m=\u001b[0m \u001b[0mTextFileReader\u001b[0m\u001b[0;34m(\u001b[0m\u001b[0mfilepath_or_buffer\u001b[0m\u001b[0;34m,\u001b[0m \u001b[0;34m**\u001b[0m\u001b[0mkwds\u001b[0m\u001b[0;34m)\u001b[0m\u001b[0;34m\u001b[0m\u001b[0;34m\u001b[0m\u001b[0m\n\u001b[0m\u001b[1;32m    483\u001b[0m \u001b[0;34m\u001b[0m\u001b[0m\n\u001b[1;32m    484\u001b[0m     \u001b[0;32mif\u001b[0m \u001b[0mchunksize\u001b[0m \u001b[0;32mor\u001b[0m \u001b[0miterator\u001b[0m\u001b[0;34m:\u001b[0m\u001b[0;34m\u001b[0m\u001b[0;34m\u001b[0m\u001b[0m\n",
      "\u001b[0;32m/opt/conda/lib/python3.9/site-packages/pandas/io/parsers/readers.py\u001b[0m in \u001b[0;36m__init__\u001b[0;34m(self, f, engine, **kwds)\u001b[0m\n\u001b[1;32m    809\u001b[0m             \u001b[0mself\u001b[0m\u001b[0;34m.\u001b[0m\u001b[0moptions\u001b[0m\u001b[0;34m[\u001b[0m\u001b[0;34m\"has_index_names\"\u001b[0m\u001b[0;34m]\u001b[0m \u001b[0;34m=\u001b[0m \u001b[0mkwds\u001b[0m\u001b[0;34m[\u001b[0m\u001b[0;34m\"has_index_names\"\u001b[0m\u001b[0;34m]\u001b[0m\u001b[0;34m\u001b[0m\u001b[0;34m\u001b[0m\u001b[0m\n\u001b[1;32m    810\u001b[0m \u001b[0;34m\u001b[0m\u001b[0m\n\u001b[0;32m--> 811\u001b[0;31m         \u001b[0mself\u001b[0m\u001b[0;34m.\u001b[0m\u001b[0m_engine\u001b[0m \u001b[0;34m=\u001b[0m \u001b[0mself\u001b[0m\u001b[0;34m.\u001b[0m\u001b[0m_make_engine\u001b[0m\u001b[0;34m(\u001b[0m\u001b[0mself\u001b[0m\u001b[0;34m.\u001b[0m\u001b[0mengine\u001b[0m\u001b[0;34m)\u001b[0m\u001b[0;34m\u001b[0m\u001b[0;34m\u001b[0m\u001b[0m\n\u001b[0m\u001b[1;32m    812\u001b[0m \u001b[0;34m\u001b[0m\u001b[0m\n\u001b[1;32m    813\u001b[0m     \u001b[0;32mdef\u001b[0m \u001b[0mclose\u001b[0m\u001b[0;34m(\u001b[0m\u001b[0mself\u001b[0m\u001b[0;34m)\u001b[0m\u001b[0;34m:\u001b[0m\u001b[0;34m\u001b[0m\u001b[0;34m\u001b[0m\u001b[0m\n",
      "\u001b[0;32m/opt/conda/lib/python3.9/site-packages/pandas/io/parsers/readers.py\u001b[0m in \u001b[0;36m_make_engine\u001b[0;34m(self, engine)\u001b[0m\n\u001b[1;32m   1038\u001b[0m             )\n\u001b[1;32m   1039\u001b[0m         \u001b[0;31m# error: Too many arguments for \"ParserBase\"\u001b[0m\u001b[0;34m\u001b[0m\u001b[0;34m\u001b[0m\u001b[0;34m\u001b[0m\u001b[0m\n\u001b[0;32m-> 1040\u001b[0;31m         \u001b[0;32mreturn\u001b[0m \u001b[0mmapping\u001b[0m\u001b[0;34m[\u001b[0m\u001b[0mengine\u001b[0m\u001b[0;34m]\u001b[0m\u001b[0;34m(\u001b[0m\u001b[0mself\u001b[0m\u001b[0;34m.\u001b[0m\u001b[0mf\u001b[0m\u001b[0;34m,\u001b[0m \u001b[0;34m**\u001b[0m\u001b[0mself\u001b[0m\u001b[0;34m.\u001b[0m\u001b[0moptions\u001b[0m\u001b[0;34m)\u001b[0m  \u001b[0;31m# type: ignore[call-arg]\u001b[0m\u001b[0;34m\u001b[0m\u001b[0;34m\u001b[0m\u001b[0m\n\u001b[0m\u001b[1;32m   1041\u001b[0m \u001b[0;34m\u001b[0m\u001b[0m\n\u001b[1;32m   1042\u001b[0m     \u001b[0;32mdef\u001b[0m \u001b[0m_failover_to_python\u001b[0m\u001b[0;34m(\u001b[0m\u001b[0mself\u001b[0m\u001b[0;34m)\u001b[0m\u001b[0;34m:\u001b[0m\u001b[0;34m\u001b[0m\u001b[0;34m\u001b[0m\u001b[0m\n",
      "\u001b[0;32m/opt/conda/lib/python3.9/site-packages/pandas/io/parsers/c_parser_wrapper.py\u001b[0m in \u001b[0;36m__init__\u001b[0;34m(self, src, **kwds)\u001b[0m\n\u001b[1;32m     49\u001b[0m \u001b[0;34m\u001b[0m\u001b[0m\n\u001b[1;32m     50\u001b[0m         \u001b[0;31m# open handles\u001b[0m\u001b[0;34m\u001b[0m\u001b[0;34m\u001b[0m\u001b[0;34m\u001b[0m\u001b[0m\n\u001b[0;32m---> 51\u001b[0;31m         \u001b[0mself\u001b[0m\u001b[0;34m.\u001b[0m\u001b[0m_open_handles\u001b[0m\u001b[0;34m(\u001b[0m\u001b[0msrc\u001b[0m\u001b[0;34m,\u001b[0m \u001b[0mkwds\u001b[0m\u001b[0;34m)\u001b[0m\u001b[0;34m\u001b[0m\u001b[0;34m\u001b[0m\u001b[0m\n\u001b[0m\u001b[1;32m     52\u001b[0m         \u001b[0;32massert\u001b[0m \u001b[0mself\u001b[0m\u001b[0;34m.\u001b[0m\u001b[0mhandles\u001b[0m \u001b[0;32mis\u001b[0m \u001b[0;32mnot\u001b[0m \u001b[0;32mNone\u001b[0m\u001b[0;34m\u001b[0m\u001b[0;34m\u001b[0m\u001b[0m\n\u001b[1;32m     53\u001b[0m \u001b[0;34m\u001b[0m\u001b[0m\n",
      "\u001b[0;32m/opt/conda/lib/python3.9/site-packages/pandas/io/parsers/base_parser.py\u001b[0m in \u001b[0;36m_open_handles\u001b[0;34m(self, src, kwds)\u001b[0m\n\u001b[1;32m    220\u001b[0m         \u001b[0mLet\u001b[0m \u001b[0mthe\u001b[0m \u001b[0mreaders\u001b[0m \u001b[0mopen\u001b[0m \u001b[0mIOHandles\u001b[0m \u001b[0mafter\u001b[0m \u001b[0mthey\u001b[0m \u001b[0mare\u001b[0m \u001b[0mdone\u001b[0m \u001b[0;32mwith\u001b[0m \u001b[0mtheir\u001b[0m \u001b[0mpotential\u001b[0m \u001b[0mraises\u001b[0m\u001b[0;34m.\u001b[0m\u001b[0;34m\u001b[0m\u001b[0;34m\u001b[0m\u001b[0m\n\u001b[1;32m    221\u001b[0m         \"\"\"\n\u001b[0;32m--> 222\u001b[0;31m         self.handles = get_handle(\n\u001b[0m\u001b[1;32m    223\u001b[0m             \u001b[0msrc\u001b[0m\u001b[0;34m,\u001b[0m\u001b[0;34m\u001b[0m\u001b[0;34m\u001b[0m\u001b[0m\n\u001b[1;32m    224\u001b[0m             \u001b[0;34m\"r\"\u001b[0m\u001b[0;34m,\u001b[0m\u001b[0;34m\u001b[0m\u001b[0;34m\u001b[0m\u001b[0m\n",
      "\u001b[0;32m/opt/conda/lib/python3.9/site-packages/pandas/io/common.py\u001b[0m in \u001b[0;36mget_handle\u001b[0;34m(path_or_buf, mode, encoding, compression, memory_map, is_text, errors, storage_options)\u001b[0m\n\u001b[1;32m    700\u001b[0m         \u001b[0;32mif\u001b[0m \u001b[0mioargs\u001b[0m\u001b[0;34m.\u001b[0m\u001b[0mencoding\u001b[0m \u001b[0;32mand\u001b[0m \u001b[0;34m\"b\"\u001b[0m \u001b[0;32mnot\u001b[0m \u001b[0;32min\u001b[0m \u001b[0mioargs\u001b[0m\u001b[0;34m.\u001b[0m\u001b[0mmode\u001b[0m\u001b[0;34m:\u001b[0m\u001b[0;34m\u001b[0m\u001b[0;34m\u001b[0m\u001b[0m\n\u001b[1;32m    701\u001b[0m             \u001b[0;31m# Encoding\u001b[0m\u001b[0;34m\u001b[0m\u001b[0;34m\u001b[0m\u001b[0;34m\u001b[0m\u001b[0m\n\u001b[0;32m--> 702\u001b[0;31m             handle = open(\n\u001b[0m\u001b[1;32m    703\u001b[0m                 \u001b[0mhandle\u001b[0m\u001b[0;34m,\u001b[0m\u001b[0;34m\u001b[0m\u001b[0;34m\u001b[0m\u001b[0m\n\u001b[1;32m    704\u001b[0m                 \u001b[0mioargs\u001b[0m\u001b[0;34m.\u001b[0m\u001b[0mmode\u001b[0m\u001b[0;34m,\u001b[0m\u001b[0;34m\u001b[0m\u001b[0;34m\u001b[0m\u001b[0m\n",
      "\u001b[0;31mFileNotFoundError\u001b[0m: [Errno 2] No such file or directory: '/../../sbgenomics/project-files/data/latent_space/DPLFC_151509_latent_space.csv'"
     ]
    }
   ],
   "source": [
    "dr_genes_df_151509, morpho_features_151509,morpho_features2,merged_df_151509 = create_merged_df(path_dr_genes, path_for_morphological_features, name)"
   ]
  },
  {
   "cell_type": "markdown",
   "id": "925724c1-9af0-4b83-bf76-96ebdd1abc85",
   "metadata": {
    "tags": []
   },
   "source": [
    "## 151510"
   ]
  },
  {
   "cell_type": "code",
   "execution_count": 39,
   "id": "ad60c083-8373-4d91-895c-cc6658785d0d",
   "metadata": {},
   "outputs": [],
   "source": [
    "path_for_morphological_features = \"preprocess_visiopharm/df_DPLFC_151510_without_background.csv\"\n",
    "path_dr_genes = \"/../../sbgenomics/project-files/data/latent_space/DPLFC_151510_latent_space.csv\"\n",
    "name = \"151510\""
   ]
  },
  {
   "cell_type": "code",
   "execution_count": 40,
   "id": "b5588dee-9d47-4550-836c-8c96c7b041e7",
   "metadata": {},
   "outputs": [],
   "source": [
    "dr_genes_df_151510, morpho_features_151510,morpho_features2,merged_df_151510 = create_merged_df(path_dr_genes, path_for_morphological_features, name)"
   ]
  },
  {
   "cell_type": "markdown",
   "id": "269f6689-c0ad-4979-a400-bb26d0f151e6",
   "metadata": {
    "tags": []
   },
   "source": [
    "## 151572"
   ]
  },
  {
   "cell_type": "code",
   "execution_count": 39,
   "id": "1c47fa8a-c68a-4392-82a4-1b1307295ff0",
   "metadata": {},
   "outputs": [],
   "source": [
    "path_for_morphological_features = \"preprocess_visiopharm/df_DPLFC_151572_without_background.csv\"\n",
    "path_dr_genes = \"/../../sbgenomics/project-files/data/latent_space/DPLFC_151572_latent_space.csv\"\n",
    "name = \"151572\""
   ]
  },
  {
   "cell_type": "code",
   "execution_count": 40,
   "id": "5b13bfdd-e700-47f2-bd6c-719369ddae5d",
   "metadata": {},
   "outputs": [],
   "source": [
    "dr_genes_df_151572, morpho_features_151572,morpho_features2,merged_df_151572 = create_merged_df(path_dr_genes, path_for_morphological_features, name)"
   ]
  },
  {
   "cell_type": "markdown",
   "id": "ca915d1f-32c4-41c7-b80a-544bbbff42ee",
   "metadata": {
    "tags": []
   },
   "source": [
    "## 151574"
   ]
  },
  {
   "cell_type": "code",
   "execution_count": 39,
   "id": "a2a92bb3-367c-477e-adaa-f22f72253e75",
   "metadata": {},
   "outputs": [],
   "source": [
    "path_for_morphological_features = \"preprocess_visiopharm/df_DPLFC_151574_without_background.csv\"\n",
    "path_dr_genes = \"/../../sbgenomics/project-files/data/latent_space/DPLFC_151574_latent_space.csv\"\n",
    "name = \"151574\""
   ]
  },
  {
   "cell_type": "code",
   "execution_count": 40,
   "id": "6b128eba-c22b-44b1-afff-6e7e2a897e04",
   "metadata": {},
   "outputs": [],
   "source": [
    "dr_genes_df_151574, morpho_features_151574,morpho_features2,merged_df_151574 = create_merged_df(path_dr_genes, path_for_morphological_features, name)"
   ]
  },
  {
   "cell_type": "markdown",
   "id": "97688aff-353b-4a6e-861b-d8fb21b34ae1",
   "metadata": {
    "tags": []
   },
   "source": [
    "## 151575"
   ]
  },
  {
   "cell_type": "code",
   "execution_count": 39,
   "id": "78634eb4-b1d1-48bc-ae32-254b40e22305",
   "metadata": {},
   "outputs": [],
   "source": [
    "path_for_morphological_features = \"preprocess_visiopharm/df_DPLFC_151575_without_background.csv\"\n",
    "path_dr_genes = \"/../../sbgenomics/project-files/data/latent_space/DPLFC_151575_latent_space.csv\"\n",
    "name = \"151575\""
   ]
  },
  {
   "cell_type": "code",
   "execution_count": 40,
   "id": "44fa1e51-17dc-4932-afd2-fe34f182995c",
   "metadata": {},
   "outputs": [],
   "source": [
    "dr_genes_df_151575, morpho_features_151575,morpho_features2,merged_df_151575 = create_merged_df(path_dr_genes, path_for_morphological_features, name)"
   ]
  },
  {
   "cell_type": "markdown",
   "id": "1f6cc695-ad0b-4c3c-8758-5477961a1dcf",
   "metadata": {
    "tags": []
   },
   "source": [
    "## 151576"
   ]
  },
  {
   "cell_type": "code",
   "execution_count": 39,
   "id": "5a3e4519-85c9-4c5f-b526-4c643928904f",
   "metadata": {},
   "outputs": [],
   "source": [
    "path_for_morphological_features = \"preprocess_visiopharm/df_DPLFC_151576_without_background.csv\"\n",
    "path_dr_genes = \"/../../sbgenomics/project-files/data/latent_space/DPLFC_151576_latent_space.csv\"\n",
    "name = \"151576\""
   ]
  },
  {
   "cell_type": "code",
   "execution_count": 40,
   "id": "a31d6c73-cf91-4e4b-8915-1bed305ee978",
   "metadata": {},
   "outputs": [],
   "source": [
    "dr_genes_df_151576, morpho_features_151576,morpho_features2,merged_df_151576 = create_merged_df(path_dr_genes, path_for_morphological_features, name)"
   ]
  }
 ],
 "metadata": {
  "kernelspec": {
   "display_name": "Python 3 (ipykernel)",
   "language": "python",
   "name": "python3"
  },
  "language_info": {
   "codemirror_mode": {
    "name": "ipython",
    "version": 3
   },
   "file_extension": ".py",
   "mimetype": "text/x-python",
   "name": "python",
   "nbconvert_exporter": "python",
   "pygments_lexer": "ipython3",
   "version": "3.9.6"
  }
 },
 "nbformat": 4,
 "nbformat_minor": 5
}
