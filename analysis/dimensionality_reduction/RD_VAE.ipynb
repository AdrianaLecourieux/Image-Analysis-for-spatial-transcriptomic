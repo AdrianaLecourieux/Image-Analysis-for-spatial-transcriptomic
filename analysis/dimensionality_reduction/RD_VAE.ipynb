{
 "cells": [
  {
   "cell_type": "markdown",
   "id": "88bdb6f4",
   "metadata": {},
   "source": [
    "# Variational Autoencoder (VAE)"
   ]
  },
  {
   "cell_type": "markdown",
   "id": "57f2c591",
   "metadata": {},
   "source": [
    "In this notebook, we create a \"simple\" VAE for dimensionality reduction."
   ]
  },
  {
   "cell_type": "markdown",
   "id": "d6fc2927",
   "metadata": {},
   "source": [
    "We used count matrix of 151508, 151669 and 151673 samples from DLPFC dataset. We also apply VAE on the top 300 HGV gene (300 columns of count matrix)."
   ]
  },
  {
   "cell_type": "markdown",
   "id": "2ae686d1",
   "metadata": {},
   "source": [
    "The results are used in **ARI.ipynb** script. The aim is to compare clustering performance of reducted data from latent space of AE or VAE."
   ]
  },
  {
   "cell_type": "markdown",
   "id": "8abb3f8d",
   "metadata": {},
   "source": [
    "# Import packages"
   ]
  },
  {
   "cell_type": "markdown",
   "id": "2b2d440c",
   "metadata": {},
   "source": [
    "pip install umap-learn"
   ]
  },
  {
   "cell_type": "code",
   "execution_count": 2,
   "id": "8c06563e",
   "metadata": {},
   "outputs": [],
   "source": [
    "!pip install -q tensorflow==2.1\n",
    "!pip install -q keras==2.3.1"
   ]
  },
  {
   "cell_type": "code",
   "execution_count": 3,
   "id": "c637a754",
   "metadata": {},
   "outputs": [
    {
     "name": "stderr",
     "output_type": "stream",
     "text": [
      "2023-07-19 12:38:26.413680: W tensorflow/stream_executor/platform/default/dso_loader.cc:55] Could not load dynamic library 'libnvinfer.so.6'; dlerror: libnvinfer.so.6: cannot open shared object file: No such file or directory\n",
      "2023-07-19 12:38:26.413887: W tensorflow/stream_executor/platform/default/dso_loader.cc:55] Could not load dynamic library 'libnvinfer_plugin.so.6'; dlerror: libnvinfer_plugin.so.6: cannot open shared object file: No such file or directory\n",
      "2023-07-19 12:38:26.413906: W tensorflow/compiler/tf2tensorrt/utils/py_utils.cc:30] Cannot dlopen some TensorRT libraries. If you would like to use Nvidia GPU with TensorRT, please make sure the missing libraries mentioned above are installed properly.\n"
     ]
    },
    {
     "name": "stdout",
     "output_type": "stream",
     "text": [
      "2.1.0 2.3.1\n"
     ]
    },
    {
     "name": "stderr",
     "output_type": "stream",
     "text": [
      "Using TensorFlow backend.\n"
     ]
    }
   ],
   "source": [
    "import tensorflow as tf\n",
    "import keras\n",
    "\n",
    "print(tf.__version__, keras.__version__)"
   ]
  },
  {
   "cell_type": "code",
   "execution_count": 4,
   "id": "712385ec",
   "metadata": {},
   "outputs": [
    {
     "ename": "ModuleNotFoundError",
     "evalue": "No module named 'umap'",
     "output_type": "error",
     "traceback": [
      "\u001b[0;31m---------------------------------------------------------------------------\u001b[0m",
      "\u001b[0;31mModuleNotFoundError\u001b[0m                       Traceback (most recent call last)",
      "\u001b[0;32m/tmp/ipykernel_96/2591990204.py\u001b[0m in \u001b[0;36m<module>\u001b[0;34m\u001b[0m\n\u001b[1;32m     21\u001b[0m \u001b[0;31m# for visualization\u001b[0m\u001b[0;34m\u001b[0m\u001b[0;34m\u001b[0m\u001b[0;34m\u001b[0m\u001b[0m\n\u001b[1;32m     22\u001b[0m \u001b[0;32mfrom\u001b[0m \u001b[0msklearn\u001b[0m\u001b[0;34m.\u001b[0m\u001b[0mdecomposition\u001b[0m \u001b[0;32mimport\u001b[0m \u001b[0mPCA\u001b[0m\u001b[0;34m\u001b[0m\u001b[0;34m\u001b[0m\u001b[0m\n\u001b[0;32m---> 23\u001b[0;31m \u001b[0;32mimport\u001b[0m \u001b[0mumap\u001b[0m\u001b[0;34m.\u001b[0m\u001b[0mumap_\u001b[0m \u001b[0;32mas\u001b[0m \u001b[0mumap\u001b[0m\u001b[0;34m\u001b[0m\u001b[0;34m\u001b[0m\u001b[0m\n\u001b[0m\u001b[1;32m     24\u001b[0m \u001b[0;32mfrom\u001b[0m \u001b[0msklearn\u001b[0m\u001b[0;34m.\u001b[0m\u001b[0mmanifold\u001b[0m \u001b[0;32mimport\u001b[0m \u001b[0mTSNE\u001b[0m\u001b[0;34m\u001b[0m\u001b[0;34m\u001b[0m\u001b[0m\n",
      "\u001b[0;31mModuleNotFoundError\u001b[0m: No module named 'umap'"
     ]
    }
   ],
   "source": [
    "import os\n",
    "import pandas as pd\n",
    "import numpy as np\n",
    "import scipy\n",
    "\n",
    "from keras.layers import Lambda, Input, Dense\n",
    "from keras.models import Model\n",
    "from keras.datasets import mnist\n",
    "from keras.losses import mse, binary_crossentropy\n",
    "from keras.utils import plot_model\n",
    "from keras import backend as K\n",
    "\n",
    "import matplotlib.pyplot as plt\n",
    "import argparse\n",
    "\n",
    "from numpy.random import seed\n",
    "from sklearn.preprocessing import MinMaxScaler\n",
    "from sklearn.model_selection import train_test_split\n",
    "from keras import losses\n",
    "\n",
    "# for visualization\n",
    "from sklearn.decomposition import PCA\n",
    "import umap.umap_ as umap\n",
    "from sklearn.manifold import TSNE"
   ]
  },
  {
   "cell_type": "markdown",
   "id": "29ba1455",
   "metadata": {},
   "source": [
    "# Functions definition"
   ]
  },
  {
   "cell_type": "markdown",
   "id": "182f1cb4",
   "metadata": {},
   "source": [
    "Scale function :"
   ]
  },
  {
   "cell_type": "code",
   "execution_count": 2,
   "id": "a0036d12",
   "metadata": {},
   "outputs": [],
   "source": [
    "def scale_datasets(x):\n",
    "    \"\"\"Standard Scale test and train data.\n",
    "    \n",
    "    Parameters\n",
    "    ----------\n",
    "    x : pandas dataframe\n",
    "       count matrix\n",
    "\n",
    "    Returns\n",
    "    -------\n",
    "    x_sclaed : pandas dataframe\n",
    "        normalized count matrix\n",
    "    \"\"\"\n",
    "    standard_scaler = MinMaxScaler()\n",
    "    x_scaled = pd.DataFrame(\n",
    "      standard_scaler.fit_transform(x),\n",
    "      columns=x.columns\n",
    "    )\n",
    "    return x_scaled"
   ]
  },
  {
   "cell_type": "markdown",
   "id": "2e1f9046",
   "metadata": {},
   "source": [
    "Sampling : "
   ]
  },
  {
   "cell_type": "code",
   "execution_count": 5,
   "id": "21c5c0c7",
   "metadata": {},
   "outputs": [],
   "source": [
    "# reparameterization trick\n",
    "# instead of sampling from Q(z|X), sample epsilon = N(0,I)\n",
    "# z = z_mean + sqrt(var) * epsilon\n",
    "def sampling(args):\n",
    "    \"\"\"Reparameterization trick by sampling from an isotropic unit Gaussian.\n",
    "    \n",
    "    Parameters\n",
    "    ----------\n",
    "    args : tensor\n",
    "        mean and log of variance of Q(z|X)\n",
    "\n",
    "    Returns\n",
    "    -------\n",
    "    z : tensor\n",
    "        sampled latent vector\n",
    "    \"\"\"\n",
    "    z_mean, z_log_var = args\n",
    "    batch = K.shape(z_mean)[0]\n",
    "    dim = K.int_shape(z_mean)[1]\n",
    "    # by default, random_normal has mean = 0 and std = 1.0\n",
    "    epsilon = K.random_normal(shape=(batch, dim))\n",
    "    return z_mean + K.exp(0.5 * z_log_var) * epsilon\n",
    "     "
   ]
  },
  {
   "cell_type": "markdown",
   "id": "29bb82b2",
   "metadata": {},
   "source": [
    "Custom loss function :"
   ]
  },
  {
   "cell_type": "code",
   "execution_count": 6,
   "id": "3600ed84",
   "metadata": {},
   "outputs": [],
   "source": [
    "# As in the Keras tutorial, we define a custom loss function:\n",
    "def vae_loss(x, x_decoded_mean):\n",
    "    \"\"\"Define a custom loss function.\n",
    "\n",
    "    Parameters\n",
    "    ----------\n",
    "    x : Dense layer\n",
    "    x_decoded_mean : decoded mean\n",
    "\n",
    "    Returns\n",
    "    -------\n",
    "    xent_loss + kl_loss\n",
    "    \"\"\"\n",
    "    xent_loss = keras.losses.binary_crossentropy(x, x_decoded_mean)\n",
    "    kl_loss = - 0.5 * K.mean(1 + z_log_var - K.square(z_mean) - K.exp(z_log_var), axis=-1)\n",
    "    return xent_loss + kl_loss"
   ]
  },
  {
   "cell_type": "markdown",
   "id": "816b08bd",
   "metadata": {},
   "source": [
    "Visualization :"
   ]
  },
  {
   "cell_type": "code",
   "execution_count": 1,
   "id": "941ba086",
   "metadata": {},
   "outputs": [],
   "source": [
    "def compute_dimensionality_reduction(df, df_meta, method):\n",
    "    \"\"\"Compute dimensionality reduction.\n",
    "\n",
    "    With PCA, UMAP or T-SNE for visualization.\n",
    "\n",
    "    Parameters\n",
    "    ----------\n",
    "    df : pandas dataframe\n",
    "        dataframe to use for DR\n",
    "    df_meta : pandas dataframe\n",
    "        original datafrale\n",
    "    method : string\n",
    "        Choose DR method\n",
    "\n",
    "    Returns\n",
    "    -------\n",
    "    pandas dataframe\n",
    "        df_metha with X1 and X2 columns\n",
    "    \"\"\"\n",
    "    if method == 'PCA':\n",
    "        pca = PCA(n_components = 2)\n",
    "        reduced = pca.fit_transform(df)\n",
    "    \n",
    "    if method == 'TSNE':\n",
    "        tsne = TSNE(n_components = 2)\n",
    "        reduced = tsne.fit_transform(df)\n",
    "    \n",
    "    if method == 'UMAP':\n",
    "        umap_method = umap.UMAP()\n",
    "        reduced = umap_method.fit_transform(df)\n",
    "    \n",
    "    df_reduced = pd.DataFrame({'X1': reduced[:, 0], 'X2': reduced[:, 1]})\n",
    "    \n",
    "    return pd.concat([df_meta, df_reduced], axis=1)"
   ]
  },
  {
   "cell_type": "markdown",
   "id": "68f4c009",
   "metadata": {},
   "source": [
    "# 1. DLPFC dataset"
   ]
  },
  {
   "cell_type": "markdown",
   "id": "fe1a29af",
   "metadata": {},
   "source": [
    "## 1.1. 151508"
   ]
  },
  {
   "cell_type": "code",
   "execution_count": 7,
   "id": "80af4fe0",
   "metadata": {},
   "outputs": [],
   "source": [
    "counts = pd.read_csv(\"/../../sbgenomics/project-files/data/counts_with_probes/DPLFC_151508_counts_with_probes.csv\", index_col=0)\n",
    "counts = counts.rename(columns = {\"Unnamed: 0.1\": \"probes\"})\n",
    "counts = counts.set_index(\"probes\")\n",
    "counts_wo_xy = counts.drop(columns=[\"y_coord\",\"x_coord\"])"
   ]
  },
  {
   "cell_type": "code",
   "execution_count": 8,
   "id": "a4a9d939",
   "metadata": {},
   "outputs": [],
   "source": [
    "x_scaled = scale_datasets(counts_wo_xy)"
   ]
  },
  {
   "cell_type": "code",
   "execution_count": 9,
   "id": "60f2e5e8",
   "metadata": {},
   "outputs": [],
   "source": [
    "# network parameters\n",
    "original_dim = x_scaled.shape[1]\n",
    "input_shape = (original_dim, )\n",
    "intermediate_dim = 300\n",
    "batch_size = 128\n",
    "latent_dim = 10\n",
    "epochs = 10"
   ]
  },
  {
   "cell_type": "code",
   "execution_count": 10,
   "id": "17ef8166",
   "metadata": {
    "scrolled": true
   },
   "outputs": [
    {
     "name": "stderr",
     "output_type": "stream",
     "text": [
      "2023-07-19 09:42:24.042928: I tensorflow/stream_executor/platform/default/dso_loader.cc:44] Successfully opened dynamic library libcuda.so.1\n",
      "2023-07-19 09:42:46.388064: I tensorflow/stream_executor/cuda/cuda_gpu_executor.cc:981] successful NUMA node read from SysFS had negative value (-1), but there must be at least one NUMA node, so returning NUMA node zero\n",
      "2023-07-19 09:42:46.389599: I tensorflow/core/common_runtime/gpu/gpu_device.cc:1555] Found device 0 with properties: \n",
      "pciBusID: 0000:00:17.0 name: Tesla K80 computeCapability: 3.7\n",
      "coreClock: 0.8235GHz coreCount: 13 deviceMemorySize: 11.17GiB deviceMemoryBandwidth: 223.96GiB/s\n",
      "2023-07-19 09:42:46.389703: I tensorflow/stream_executor/cuda/cuda_gpu_executor.cc:981] successful NUMA node read from SysFS had negative value (-1), but there must be at least one NUMA node, so returning NUMA node zero\n",
      "2023-07-19 09:42:46.391138: I tensorflow/core/common_runtime/gpu/gpu_device.cc:1555] Found device 1 with properties: \n",
      "pciBusID: 0000:00:18.0 name: Tesla K80 computeCapability: 3.7\n",
      "coreClock: 0.8235GHz coreCount: 13 deviceMemorySize: 11.17GiB deviceMemoryBandwidth: 223.96GiB/s\n",
      "2023-07-19 09:42:46.391229: I tensorflow/stream_executor/cuda/cuda_gpu_executor.cc:981] successful NUMA node read from SysFS had negative value (-1), but there must be at least one NUMA node, so returning NUMA node zero\n",
      "2023-07-19 09:42:46.392682: I tensorflow/core/common_runtime/gpu/gpu_device.cc:1555] Found device 2 with properties: \n",
      "pciBusID: 0000:00:19.0 name: Tesla K80 computeCapability: 3.7\n",
      "coreClock: 0.8235GHz coreCount: 13 deviceMemorySize: 11.17GiB deviceMemoryBandwidth: 223.96GiB/s\n",
      "2023-07-19 09:42:46.392776: I tensorflow/stream_executor/cuda/cuda_gpu_executor.cc:981] successful NUMA node read from SysFS had negative value (-1), but there must be at least one NUMA node, so returning NUMA node zero\n",
      "2023-07-19 09:42:46.394198: I tensorflow/core/common_runtime/gpu/gpu_device.cc:1555] Found device 3 with properties: \n",
      "pciBusID: 0000:00:1a.0 name: Tesla K80 computeCapability: 3.7\n",
      "coreClock: 0.8235GHz coreCount: 13 deviceMemorySize: 11.17GiB deviceMemoryBandwidth: 223.96GiB/s\n",
      "2023-07-19 09:42:46.394284: I tensorflow/stream_executor/cuda/cuda_gpu_executor.cc:981] successful NUMA node read from SysFS had negative value (-1), but there must be at least one NUMA node, so returning NUMA node zero\n",
      "2023-07-19 09:42:46.395713: I tensorflow/core/common_runtime/gpu/gpu_device.cc:1555] Found device 4 with properties: \n",
      "pciBusID: 0000:00:1b.0 name: Tesla K80 computeCapability: 3.7\n",
      "coreClock: 0.8235GHz coreCount: 13 deviceMemorySize: 11.17GiB deviceMemoryBandwidth: 223.96GiB/s\n",
      "2023-07-19 09:42:46.395800: I tensorflow/stream_executor/cuda/cuda_gpu_executor.cc:981] successful NUMA node read from SysFS had negative value (-1), but there must be at least one NUMA node, so returning NUMA node zero\n",
      "2023-07-19 09:42:46.397248: I tensorflow/core/common_runtime/gpu/gpu_device.cc:1555] Found device 5 with properties: \n",
      "pciBusID: 0000:00:1c.0 name: Tesla K80 computeCapability: 3.7\n",
      "coreClock: 0.8235GHz coreCount: 13 deviceMemorySize: 11.17GiB deviceMemoryBandwidth: 223.96GiB/s\n",
      "2023-07-19 09:42:46.397337: I tensorflow/stream_executor/cuda/cuda_gpu_executor.cc:981] successful NUMA node read from SysFS had negative value (-1), but there must be at least one NUMA node, so returning NUMA node zero\n",
      "2023-07-19 09:42:46.398755: I tensorflow/core/common_runtime/gpu/gpu_device.cc:1555] Found device 6 with properties: \n",
      "pciBusID: 0000:00:1d.0 name: Tesla K80 computeCapability: 3.7\n",
      "coreClock: 0.8235GHz coreCount: 13 deviceMemorySize: 11.17GiB deviceMemoryBandwidth: 223.96GiB/s\n",
      "2023-07-19 09:42:46.398839: I tensorflow/stream_executor/cuda/cuda_gpu_executor.cc:981] successful NUMA node read from SysFS had negative value (-1), but there must be at least one NUMA node, so returning NUMA node zero\n",
      "2023-07-19 09:42:46.400284: I tensorflow/core/common_runtime/gpu/gpu_device.cc:1555] Found device 7 with properties: \n",
      "pciBusID: 0000:00:1e.0 name: Tesla K80 computeCapability: 3.7\n",
      "coreClock: 0.8235GHz coreCount: 13 deviceMemorySize: 11.17GiB deviceMemoryBandwidth: 223.96GiB/s\n",
      "2023-07-19 09:42:46.400558: I tensorflow/stream_executor/platform/default/dso_loader.cc:44] Successfully opened dynamic library libcudart.so.10.1\n",
      "2023-07-19 09:42:46.402696: I tensorflow/stream_executor/platform/default/dso_loader.cc:44] Successfully opened dynamic library libcublas.so.10\n",
      "2023-07-19 09:42:46.404352: I tensorflow/stream_executor/platform/default/dso_loader.cc:44] Successfully opened dynamic library libcufft.so.10\n",
      "2023-07-19 09:42:46.404676: I tensorflow/stream_executor/platform/default/dso_loader.cc:44] Successfully opened dynamic library libcurand.so.10\n",
      "2023-07-19 09:42:46.406443: I tensorflow/stream_executor/platform/default/dso_loader.cc:44] Successfully opened dynamic library libcusolver.so.10\n",
      "2023-07-19 09:42:46.407257: I tensorflow/stream_executor/platform/default/dso_loader.cc:44] Successfully opened dynamic library libcusparse.so.10\n",
      "2023-07-19 09:42:46.411074: I tensorflow/stream_executor/platform/default/dso_loader.cc:44] Successfully opened dynamic library libcudnn.so.7\n",
      "2023-07-19 09:42:46.411191: I tensorflow/stream_executor/cuda/cuda_gpu_executor.cc:981] successful NUMA node read from SysFS had negative value (-1), but there must be at least one NUMA node, so returning NUMA node zero\n",
      "2023-07-19 09:42:46.412733: I tensorflow/stream_executor/cuda/cuda_gpu_executor.cc:981] successful NUMA node read from SysFS had negative value (-1), but there must be at least one NUMA node, so returning NUMA node zero\n",
      "2023-07-19 09:42:46.414222: I tensorflow/stream_executor/cuda/cuda_gpu_executor.cc:981] successful NUMA node read from SysFS had negative value (-1), but there must be at least one NUMA node, so returning NUMA node zero\n",
      "2023-07-19 09:42:46.415711: I tensorflow/stream_executor/cuda/cuda_gpu_executor.cc:981] successful NUMA node read from SysFS had negative value (-1), but there must be at least one NUMA node, so returning NUMA node zero\n",
      "2023-07-19 09:42:46.417224: I tensorflow/stream_executor/cuda/cuda_gpu_executor.cc:981] successful NUMA node read from SysFS had negative value (-1), but there must be at least one NUMA node, so returning NUMA node zero\n",
      "2023-07-19 09:42:46.418707: I tensorflow/stream_executor/cuda/cuda_gpu_executor.cc:981] successful NUMA node read from SysFS had negative value (-1), but there must be at least one NUMA node, so returning NUMA node zero\n",
      "2023-07-19 09:42:46.420206: I tensorflow/stream_executor/cuda/cuda_gpu_executor.cc:981] successful NUMA node read from SysFS had negative value (-1), but there must be at least one NUMA node, so returning NUMA node zero\n",
      "2023-07-19 09:42:46.421700: I tensorflow/stream_executor/cuda/cuda_gpu_executor.cc:981] successful NUMA node read from SysFS had negative value (-1), but there must be at least one NUMA node, so returning NUMA node zero\n",
      "2023-07-19 09:42:46.423180: I tensorflow/stream_executor/cuda/cuda_gpu_executor.cc:981] successful NUMA node read from SysFS had negative value (-1), but there must be at least one NUMA node, so returning NUMA node zero\n",
      "2023-07-19 09:42:46.424688: I tensorflow/stream_executor/cuda/cuda_gpu_executor.cc:981] successful NUMA node read from SysFS had negative value (-1), but there must be at least one NUMA node, so returning NUMA node zero\n",
      "2023-07-19 09:42:46.426176: I tensorflow/stream_executor/cuda/cuda_gpu_executor.cc:981] successful NUMA node read from SysFS had negative value (-1), but there must be at least one NUMA node, so returning NUMA node zero\n",
      "2023-07-19 09:42:46.427653: I tensorflow/stream_executor/cuda/cuda_gpu_executor.cc:981] successful NUMA node read from SysFS had negative value (-1), but there must be at least one NUMA node, so returning NUMA node zero\n",
      "2023-07-19 09:42:46.429160: I tensorflow/stream_executor/cuda/cuda_gpu_executor.cc:981] successful NUMA node read from SysFS had negative value (-1), but there must be at least one NUMA node, so returning NUMA node zero\n",
      "2023-07-19 09:42:46.430661: I tensorflow/stream_executor/cuda/cuda_gpu_executor.cc:981] successful NUMA node read from SysFS had negative value (-1), but there must be at least one NUMA node, so returning NUMA node zero\n",
      "2023-07-19 09:42:46.432186: I tensorflow/stream_executor/cuda/cuda_gpu_executor.cc:981] successful NUMA node read from SysFS had negative value (-1), but there must be at least one NUMA node, so returning NUMA node zero\n",
      "2023-07-19 09:42:46.433721: I tensorflow/stream_executor/cuda/cuda_gpu_executor.cc:981] successful NUMA node read from SysFS had negative value (-1), but there must be at least one NUMA node, so returning NUMA node zero\n",
      "2023-07-19 09:42:46.435183: I tensorflow/core/common_runtime/gpu/gpu_device.cc:1697] Adding visible gpu devices: 0, 1, 2, 3, 4, 5, 6, 7\n",
      "2023-07-19 09:42:46.435733: I tensorflow/core/platform/cpu_feature_guard.cc:142] Your CPU supports instructions that this TensorFlow binary was not compiled to use: AVX2 FMA\n",
      "2023-07-19 09:42:46.460431: I tensorflow/core/platform/profile_utils/cpu_utils.cc:94] CPU Frequency: 2300010000 Hz\n",
      "2023-07-19 09:42:46.461854: I tensorflow/compiler/xla/service/service.cc:168] XLA service 0x561c2e2ff540 initialized for platform Host (this does not guarantee that XLA will be used). Devices:\n",
      "2023-07-19 09:42:46.461888: I tensorflow/compiler/xla/service/service.cc:176]   StreamExecutor device (0): Host, Default Version\n",
      "2023-07-19 09:42:47.413680: I tensorflow/stream_executor/cuda/cuda_gpu_executor.cc:981] successful NUMA node read from SysFS had negative value (-1), but there must be at least one NUMA node, so returning NUMA node zero\n",
      "2023-07-19 09:42:47.433817: I tensorflow/stream_executor/cuda/cuda_gpu_executor.cc:981] successful NUMA node read from SysFS had negative value (-1), but there must be at least one NUMA node, so returning NUMA node zero\n",
      "2023-07-19 09:42:47.448589: I tensorflow/stream_executor/cuda/cuda_gpu_executor.cc:981] successful NUMA node read from SysFS had negative value (-1), but there must be at least one NUMA node, so returning NUMA node zero\n",
      "2023-07-19 09:42:47.457484: I tensorflow/stream_executor/cuda/cuda_gpu_executor.cc:981] successful NUMA node read from SysFS had negative value (-1), but there must be at least one NUMA node, so returning NUMA node zero\n",
      "2023-07-19 09:42:47.466853: I tensorflow/stream_executor/cuda/cuda_gpu_executor.cc:981] successful NUMA node read from SysFS had negative value (-1), but there must be at least one NUMA node, so returning NUMA node zero\n",
      "2023-07-19 09:42:47.478372: I tensorflow/stream_executor/cuda/cuda_gpu_executor.cc:981] successful NUMA node read from SysFS had negative value (-1), but there must be at least one NUMA node, so returning NUMA node zero\n",
      "2023-07-19 09:42:47.491754: I tensorflow/stream_executor/cuda/cuda_gpu_executor.cc:981] successful NUMA node read from SysFS had negative value (-1), but there must be at least one NUMA node, so returning NUMA node zero\n",
      "2023-07-19 09:42:47.506757: I tensorflow/stream_executor/cuda/cuda_gpu_executor.cc:981] successful NUMA node read from SysFS had negative value (-1), but there must be at least one NUMA node, so returning NUMA node zero\n",
      "2023-07-19 09:42:47.508885: I tensorflow/compiler/xla/service/service.cc:168] XLA service 0x561c2d7da570 initialized for platform CUDA (this does not guarantee that XLA will be used). Devices:\n",
      "2023-07-19 09:42:47.508913: I tensorflow/compiler/xla/service/service.cc:176]   StreamExecutor device (0): Tesla K80, Compute Capability 3.7\n",
      "2023-07-19 09:42:47.508924: I tensorflow/compiler/xla/service/service.cc:176]   StreamExecutor device (1): Tesla K80, Compute Capability 3.7\n",
      "2023-07-19 09:42:47.508933: I tensorflow/compiler/xla/service/service.cc:176]   StreamExecutor device (2): Tesla K80, Compute Capability 3.7\n",
      "2023-07-19 09:42:47.508942: I tensorflow/compiler/xla/service/service.cc:176]   StreamExecutor device (3): Tesla K80, Compute Capability 3.7\n",
      "2023-07-19 09:42:47.508950: I tensorflow/compiler/xla/service/service.cc:176]   StreamExecutor device (4): Tesla K80, Compute Capability 3.7\n",
      "2023-07-19 09:42:47.508959: I tensorflow/compiler/xla/service/service.cc:176]   StreamExecutor device (5): Tesla K80, Compute Capability 3.7\n",
      "2023-07-19 09:42:47.508967: I tensorflow/compiler/xla/service/service.cc:176]   StreamExecutor device (6): Tesla K80, Compute Capability 3.7\n",
      "2023-07-19 09:42:47.508978: I tensorflow/compiler/xla/service/service.cc:176]   StreamExecutor device (7): Tesla K80, Compute Capability 3.7\n",
      "2023-07-19 09:42:47.525826: I tensorflow/stream_executor/cuda/cuda_gpu_executor.cc:981] successful NUMA node read from SysFS had negative value (-1), but there must be at least one NUMA node, so returning NUMA node zero\n",
      "2023-07-19 09:42:47.527273: I tensorflow/core/common_runtime/gpu/gpu_device.cc:1555] Found device 0 with properties: \n",
      "pciBusID: 0000:00:17.0 name: Tesla K80 computeCapability: 3.7\n",
      "coreClock: 0.8235GHz coreCount: 13 deviceMemorySize: 11.17GiB deviceMemoryBandwidth: 223.96GiB/s\n",
      "2023-07-19 09:42:47.527369: I tensorflow/stream_executor/cuda/cuda_gpu_executor.cc:981] successful NUMA node read from SysFS had negative value (-1), but there must be at least one NUMA node, so returning NUMA node zero\n",
      "2023-07-19 09:42:47.528861: I tensorflow/core/common_runtime/gpu/gpu_device.cc:1555] Found device 1 with properties: \n",
      "pciBusID: 0000:00:18.0 name: Tesla K80 computeCapability: 3.7\n",
      "coreClock: 0.8235GHz coreCount: 13 deviceMemorySize: 11.17GiB deviceMemoryBandwidth: 223.96GiB/s\n",
      "2023-07-19 09:42:47.528960: I tensorflow/stream_executor/cuda/cuda_gpu_executor.cc:981] successful NUMA node read from SysFS had negative value (-1), but there must be at least one NUMA node, so returning NUMA node zero\n",
      "2023-07-19 09:42:47.530393: I tensorflow/core/common_runtime/gpu/gpu_device.cc:1555] Found device 2 with properties: \n",
      "pciBusID: 0000:00:19.0 name: Tesla K80 computeCapability: 3.7\n",
      "coreClock: 0.8235GHz coreCount: 13 deviceMemorySize: 11.17GiB deviceMemoryBandwidth: 223.96GiB/s\n",
      "2023-07-19 09:42:47.530485: I tensorflow/stream_executor/cuda/cuda_gpu_executor.cc:981] successful NUMA node read from SysFS had negative value (-1), but there must be at least one NUMA node, so returning NUMA node zero\n",
      "2023-07-19 09:42:47.531941: I tensorflow/core/common_runtime/gpu/gpu_device.cc:1555] Found device 3 with properties: \n",
      "pciBusID: 0000:00:1a.0 name: Tesla K80 computeCapability: 3.7\n",
      "coreClock: 0.8235GHz coreCount: 13 deviceMemorySize: 11.17GiB deviceMemoryBandwidth: 223.96GiB/s\n",
      "2023-07-19 09:42:47.532031: I tensorflow/stream_executor/cuda/cuda_gpu_executor.cc:981] successful NUMA node read from SysFS had negative value (-1), but there must be at least one NUMA node, so returning NUMA node zero\n",
      "2023-07-19 09:42:47.533498: I tensorflow/core/common_runtime/gpu/gpu_device.cc:1555] Found device 4 with properties: \n",
      "pciBusID: 0000:00:1b.0 name: Tesla K80 computeCapability: 3.7\n",
      "coreClock: 0.8235GHz coreCount: 13 deviceMemorySize: 11.17GiB deviceMemoryBandwidth: 223.96GiB/s\n",
      "2023-07-19 09:42:47.533590: I tensorflow/stream_executor/cuda/cuda_gpu_executor.cc:981] successful NUMA node read from SysFS had negative value (-1), but there must be at least one NUMA node, so returning NUMA node zero\n",
      "2023-07-19 09:42:47.535062: I tensorflow/core/common_runtime/gpu/gpu_device.cc:1555] Found device 5 with properties: \n",
      "pciBusID: 0000:00:1c.0 name: Tesla K80 computeCapability: 3.7\n",
      "coreClock: 0.8235GHz coreCount: 13 deviceMemorySize: 11.17GiB deviceMemoryBandwidth: 223.96GiB/s\n",
      "2023-07-19 09:42:47.535151: I tensorflow/stream_executor/cuda/cuda_gpu_executor.cc:981] successful NUMA node read from SysFS had negative value (-1), but there must be at least one NUMA node, so returning NUMA node zero\n",
      "2023-07-19 09:42:47.536657: I tensorflow/core/common_runtime/gpu/gpu_device.cc:1555] Found device 6 with properties: \n",
      "pciBusID: 0000:00:1d.0 name: Tesla K80 computeCapability: 3.7\n",
      "coreClock: 0.8235GHz coreCount: 13 deviceMemorySize: 11.17GiB deviceMemoryBandwidth: 223.96GiB/s\n",
      "2023-07-19 09:42:47.536746: I tensorflow/stream_executor/cuda/cuda_gpu_executor.cc:981] successful NUMA node read from SysFS had negative value (-1), but there must be at least one NUMA node, so returning NUMA node zero\n",
      "2023-07-19 09:42:47.538222: I tensorflow/core/common_runtime/gpu/gpu_device.cc:1555] Found device 7 with properties: \n",
      "pciBusID: 0000:00:1e.0 name: Tesla K80 computeCapability: 3.7\n",
      "coreClock: 0.8235GHz coreCount: 13 deviceMemorySize: 11.17GiB deviceMemoryBandwidth: 223.96GiB/s\n",
      "2023-07-19 09:42:47.538290: I tensorflow/stream_executor/platform/default/dso_loader.cc:44] Successfully opened dynamic library libcudart.so.10.1\n",
      "2023-07-19 09:42:47.538319: I tensorflow/stream_executor/platform/default/dso_loader.cc:44] Successfully opened dynamic library libcublas.so.10\n",
      "2023-07-19 09:42:47.538345: I tensorflow/stream_executor/platform/default/dso_loader.cc:44] Successfully opened dynamic library libcufft.so.10\n",
      "2023-07-19 09:42:47.538370: I tensorflow/stream_executor/platform/default/dso_loader.cc:44] Successfully opened dynamic library libcurand.so.10\n",
      "2023-07-19 09:42:47.538396: I tensorflow/stream_executor/platform/default/dso_loader.cc:44] Successfully opened dynamic library libcusolver.so.10\n",
      "2023-07-19 09:42:47.538421: I tensorflow/stream_executor/platform/default/dso_loader.cc:44] Successfully opened dynamic library libcusparse.so.10\n",
      "2023-07-19 09:42:47.538447: I tensorflow/stream_executor/platform/default/dso_loader.cc:44] Successfully opened dynamic library libcudnn.so.7\n",
      "2023-07-19 09:42:47.538526: I tensorflow/stream_executor/cuda/cuda_gpu_executor.cc:981] successful NUMA node read from SysFS had negative value (-1), but there must be at least one NUMA node, so returning NUMA node zero\n",
      "2023-07-19 09:42:47.540054: I tensorflow/stream_executor/cuda/cuda_gpu_executor.cc:981] successful NUMA node read from SysFS had negative value (-1), but there must be at least one NUMA node, so returning NUMA node zero\n",
      "2023-07-19 09:42:47.541580: I tensorflow/stream_executor/cuda/cuda_gpu_executor.cc:981] successful NUMA node read from SysFS had negative value (-1), but there must be at least one NUMA node, so returning NUMA node zero\n",
      "2023-07-19 09:42:47.543062: I tensorflow/stream_executor/cuda/cuda_gpu_executor.cc:981] successful NUMA node read from SysFS had negative value (-1), but there must be at least one NUMA node, so returning NUMA node zero\n",
      "2023-07-19 09:42:47.544576: I tensorflow/stream_executor/cuda/cuda_gpu_executor.cc:981] successful NUMA node read from SysFS had negative value (-1), but there must be at least one NUMA node, so returning NUMA node zero\n",
      "2023-07-19 09:42:47.546061: I tensorflow/stream_executor/cuda/cuda_gpu_executor.cc:981] successful NUMA node read from SysFS had negative value (-1), but there must be at least one NUMA node, so returning NUMA node zero\n",
      "2023-07-19 09:42:47.547538: I tensorflow/stream_executor/cuda/cuda_gpu_executor.cc:981] successful NUMA node read from SysFS had negative value (-1), but there must be at least one NUMA node, so returning NUMA node zero\n",
      "2023-07-19 09:42:47.549051: I tensorflow/stream_executor/cuda/cuda_gpu_executor.cc:981] successful NUMA node read from SysFS had negative value (-1), but there must be at least one NUMA node, so returning NUMA node zero\n",
      "2023-07-19 09:42:47.550531: I tensorflow/stream_executor/cuda/cuda_gpu_executor.cc:981] successful NUMA node read from SysFS had negative value (-1), but there must be at least one NUMA node, so returning NUMA node zero\n",
      "2023-07-19 09:42:47.552009: I tensorflow/stream_executor/cuda/cuda_gpu_executor.cc:981] successful NUMA node read from SysFS had negative value (-1), but there must be at least one NUMA node, so returning NUMA node zero\n",
      "2023-07-19 09:42:47.553521: I tensorflow/stream_executor/cuda/cuda_gpu_executor.cc:981] successful NUMA node read from SysFS had negative value (-1), but there must be at least one NUMA node, so returning NUMA node zero\n",
      "2023-07-19 09:42:47.554999: I tensorflow/stream_executor/cuda/cuda_gpu_executor.cc:981] successful NUMA node read from SysFS had negative value (-1), but there must be at least one NUMA node, so returning NUMA node zero\n",
      "2023-07-19 09:42:47.556521: I tensorflow/stream_executor/cuda/cuda_gpu_executor.cc:981] successful NUMA node read from SysFS had negative value (-1), but there must be at least one NUMA node, so returning NUMA node zero\n",
      "2023-07-19 09:42:47.558003: I tensorflow/stream_executor/cuda/cuda_gpu_executor.cc:981] successful NUMA node read from SysFS had negative value (-1), but there must be at least one NUMA node, so returning NUMA node zero\n",
      "2023-07-19 09:42:47.559480: I tensorflow/stream_executor/cuda/cuda_gpu_executor.cc:981] successful NUMA node read from SysFS had negative value (-1), but there must be at least one NUMA node, so returning NUMA node zero\n",
      "2023-07-19 09:42:47.560992: I tensorflow/stream_executor/cuda/cuda_gpu_executor.cc:981] successful NUMA node read from SysFS had negative value (-1), but there must be at least one NUMA node, so returning NUMA node zero\n",
      "2023-07-19 09:42:47.562406: I tensorflow/core/common_runtime/gpu/gpu_device.cc:1697] Adding visible gpu devices: 0, 1, 2, 3, 4, 5, 6, 7\n",
      "2023-07-19 09:42:47.562462: I tensorflow/stream_executor/platform/default/dso_loader.cc:44] Successfully opened dynamic library libcudart.so.10.1\n",
      "2023-07-19 09:42:47.575329: I tensorflow/core/common_runtime/gpu/gpu_device.cc:1096] Device interconnect StreamExecutor with strength 1 edge matrix:\n",
      "2023-07-19 09:42:47.575356: I tensorflow/core/common_runtime/gpu/gpu_device.cc:1102]      0 1 2 3 4 5 6 7 \n",
      "2023-07-19 09:42:47.575368: I tensorflow/core/common_runtime/gpu/gpu_device.cc:1115] 0:   N Y Y Y Y Y Y Y \n",
      "2023-07-19 09:42:47.575377: I tensorflow/core/common_runtime/gpu/gpu_device.cc:1115] 1:   Y N Y Y Y Y Y Y \n",
      "2023-07-19 09:42:47.575386: I tensorflow/core/common_runtime/gpu/gpu_device.cc:1115] 2:   Y Y N Y Y Y Y Y \n",
      "2023-07-19 09:42:47.575395: I tensorflow/core/common_runtime/gpu/gpu_device.cc:1115] 3:   Y Y Y N Y Y Y Y \n",
      "2023-07-19 09:42:47.575403: I tensorflow/core/common_runtime/gpu/gpu_device.cc:1115] 4:   Y Y Y Y N Y Y Y \n",
      "2023-07-19 09:42:47.575412: I tensorflow/core/common_runtime/gpu/gpu_device.cc:1115] 5:   Y Y Y Y Y N Y Y \n",
      "2023-07-19 09:42:47.575421: I tensorflow/core/common_runtime/gpu/gpu_device.cc:1115] 6:   Y Y Y Y Y Y N Y \n",
      "2023-07-19 09:42:47.575430: I tensorflow/core/common_runtime/gpu/gpu_device.cc:1115] 7:   Y Y Y Y Y Y Y N \n",
      "2023-07-19 09:42:47.575780: I tensorflow/stream_executor/cuda/cuda_gpu_executor.cc:981] successful NUMA node read from SysFS had negative value (-1), but there must be at least one NUMA node, so returning NUMA node zero\n",
      "2023-07-19 09:42:47.577348: I tensorflow/stream_executor/cuda/cuda_gpu_executor.cc:981] successful NUMA node read from SysFS had negative value (-1), but there must be at least one NUMA node, so returning NUMA node zero\n",
      "2023-07-19 09:42:47.578867: I tensorflow/stream_executor/cuda/cuda_gpu_executor.cc:981] successful NUMA node read from SysFS had negative value (-1), but there must be at least one NUMA node, so returning NUMA node zero\n",
      "2023-07-19 09:42:47.580420: I tensorflow/stream_executor/cuda/cuda_gpu_executor.cc:981] successful NUMA node read from SysFS had negative value (-1), but there must be at least one NUMA node, so returning NUMA node zero\n",
      "2023-07-19 09:42:47.581935: I tensorflow/stream_executor/cuda/cuda_gpu_executor.cc:981] successful NUMA node read from SysFS had negative value (-1), but there must be at least one NUMA node, so returning NUMA node zero\n",
      "2023-07-19 09:42:47.583442: I tensorflow/stream_executor/cuda/cuda_gpu_executor.cc:981] successful NUMA node read from SysFS had negative value (-1), but there must be at least one NUMA node, so returning NUMA node zero\n",
      "2023-07-19 09:42:47.584983: I tensorflow/stream_executor/cuda/cuda_gpu_executor.cc:981] successful NUMA node read from SysFS had negative value (-1), but there must be at least one NUMA node, so returning NUMA node zero\n",
      "2023-07-19 09:42:47.588047: I tensorflow/stream_executor/cuda/cuda_gpu_executor.cc:981] successful NUMA node read from SysFS had negative value (-1), but there must be at least one NUMA node, so returning NUMA node zero\n",
      "2023-07-19 09:42:47.589614: I tensorflow/stream_executor/cuda/cuda_gpu_executor.cc:981] successful NUMA node read from SysFS had negative value (-1), but there must be at least one NUMA node, so returning NUMA node zero\n",
      "2023-07-19 09:42:47.591095: I tensorflow/core/common_runtime/gpu/gpu_device.cc:1241] Created TensorFlow device (/job:localhost/replica:0/task:0/device:GPU:0 with 10811 MB memory) -> physical GPU (device: 0, name: Tesla K80, pci bus id: 0000:00:17.0, compute capability: 3.7)\n",
      "2023-07-19 09:42:47.591450: I tensorflow/stream_executor/cuda/cuda_gpu_executor.cc:981] successful NUMA node read from SysFS had negative value (-1), but there must be at least one NUMA node, so returning NUMA node zero\n",
      "2023-07-19 09:42:47.592938: I tensorflow/core/common_runtime/gpu/gpu_device.cc:1241] Created TensorFlow device (/job:localhost/replica:0/task:0/device:GPU:1 with 10809 MB memory) -> physical GPU (device: 1, name: Tesla K80, pci bus id: 0000:00:18.0, compute capability: 3.7)\n",
      "2023-07-19 09:42:47.593292: I tensorflow/stream_executor/cuda/cuda_gpu_executor.cc:981] successful NUMA node read from SysFS had negative value (-1), but there must be at least one NUMA node, so returning NUMA node zero\n",
      "2023-07-19 09:42:47.594740: I tensorflow/core/common_runtime/gpu/gpu_device.cc:1241] Created TensorFlow device (/job:localhost/replica:0/task:0/device:GPU:2 with 10809 MB memory) -> physical GPU (device: 2, name: Tesla K80, pci bus id: 0000:00:19.0, compute capability: 3.7)\n",
      "2023-07-19 09:42:47.595091: I tensorflow/stream_executor/cuda/cuda_gpu_executor.cc:981] successful NUMA node read from SysFS had negative value (-1), but there must be at least one NUMA node, so returning NUMA node zero\n",
      "2023-07-19 09:42:47.596577: I tensorflow/core/common_runtime/gpu/gpu_device.cc:1241] Created TensorFlow device (/job:localhost/replica:0/task:0/device:GPU:3 with 10811 MB memory) -> physical GPU (device: 3, name: Tesla K80, pci bus id: 0000:00:1a.0, compute capability: 3.7)\n",
      "2023-07-19 09:42:47.596927: I tensorflow/stream_executor/cuda/cuda_gpu_executor.cc:981] successful NUMA node read from SysFS had negative value (-1), but there must be at least one NUMA node, so returning NUMA node zero\n",
      "2023-07-19 09:42:47.598376: I tensorflow/core/common_runtime/gpu/gpu_device.cc:1241] Created TensorFlow device (/job:localhost/replica:0/task:0/device:GPU:4 with 10811 MB memory) -> physical GPU (device: 4, name: Tesla K80, pci bus id: 0000:00:1b.0, compute capability: 3.7)\n",
      "2023-07-19 09:42:47.598737: I tensorflow/stream_executor/cuda/cuda_gpu_executor.cc:981] successful NUMA node read from SysFS had negative value (-1), but there must be at least one NUMA node, so returning NUMA node zero\n",
      "2023-07-19 09:42:47.600220: I tensorflow/core/common_runtime/gpu/gpu_device.cc:1241] Created TensorFlow device (/job:localhost/replica:0/task:0/device:GPU:5 with 10811 MB memory) -> physical GPU (device: 5, name: Tesla K80, pci bus id: 0000:00:1c.0, compute capability: 3.7)\n",
      "2023-07-19 09:42:47.600583: I tensorflow/stream_executor/cuda/cuda_gpu_executor.cc:981] successful NUMA node read from SysFS had negative value (-1), but there must be at least one NUMA node, so returning NUMA node zero\n",
      "2023-07-19 09:42:47.602029: I tensorflow/core/common_runtime/gpu/gpu_device.cc:1241] Created TensorFlow device (/job:localhost/replica:0/task:0/device:GPU:6 with 10809 MB memory) -> physical GPU (device: 6, name: Tesla K80, pci bus id: 0000:00:1d.0, compute capability: 3.7)\n",
      "2023-07-19 09:42:47.602431: I tensorflow/stream_executor/cuda/cuda_gpu_executor.cc:981] successful NUMA node read from SysFS had negative value (-1), but there must be at least one NUMA node, so returning NUMA node zero\n",
      "2023-07-19 09:42:47.603887: I tensorflow/core/common_runtime/gpu/gpu_device.cc:1241] Created TensorFlow device (/job:localhost/replica:0/task:0/device:GPU:7 with 10809 MB memory) -> physical GPU (device: 7, name: Tesla K80, pci bus id: 0000:00:1e.0, compute capability: 3.7)\n"
     ]
    }
   ],
   "source": [
    "# VAE model = encoder + decoder\n",
    "# build encoder model\n",
    "inputs = Input(shape=input_shape, name='encoder_input')\n",
    "x = Dense(intermediate_dim, activation='relu')(inputs)\n",
    "z_mean = Dense(latent_dim, name='z_mean')(x)\n",
    "z_log_var = Dense(latent_dim, name='z_log_var')(x) "
   ]
  },
  {
   "cell_type": "code",
   "execution_count": 11,
   "id": "20723b8f",
   "metadata": {},
   "outputs": [],
   "source": [
    "# use reparameterization trick to push the sampling out as input\n",
    "# note that \"output_shape\" isn't necessary with the TensorFlow backend\n",
    "z = Lambda(sampling, output_shape=(latent_dim,), name='z')([z_mean, z_log_var])"
   ]
  },
  {
   "cell_type": "code",
   "execution_count": 12,
   "id": "22eb334e",
   "metadata": {},
   "outputs": [
    {
     "name": "stdout",
     "output_type": "stream",
     "text": [
      "Model: \"model_1\"\n",
      "_________________________________________________________________\n",
      "Layer (type)                 Output Shape              Param #   \n",
      "=================================================================\n",
      "encoder_input (InputLayer)   (None, 33538)             0         \n",
      "_________________________________________________________________\n",
      "dense_1 (Dense)              (None, 300)               10061700  \n",
      "_________________________________________________________________\n",
      "z_mean (Dense)               (None, 10)                3010      \n",
      "=================================================================\n",
      "Total params: 10,064,710\n",
      "Trainable params: 10,064,710\n",
      "Non-trainable params: 0\n",
      "_________________________________________________________________\n"
     ]
    }
   ],
   "source": [
    "encoder = Model(inputs, z_mean)\n",
    "encoder.summary()"
   ]
  },
  {
   "cell_type": "code",
   "execution_count": 13,
   "id": "6d5fcf95",
   "metadata": {},
   "outputs": [],
   "source": [
    "latent_inputs = Input(shape=(latent_dim,), name='z_sampling')\n",
    "x = Dense(intermediate_dim, activation='relu')(latent_inputs)\n",
    "outputs = Dense(original_dim, activation='sigmoid')(x)  "
   ]
  },
  {
   "cell_type": "code",
   "execution_count": 14,
   "id": "44e45847",
   "metadata": {},
   "outputs": [
    {
     "name": "stdout",
     "output_type": "stream",
     "text": [
      "Model: \"decoder\"\n",
      "_________________________________________________________________\n",
      "Layer (type)                 Output Shape              Param #   \n",
      "=================================================================\n",
      "z_sampling (InputLayer)      (None, 10)                0         \n",
      "_________________________________________________________________\n",
      "dense_2 (Dense)              (None, 300)               3300      \n",
      "_________________________________________________________________\n",
      "dense_3 (Dense)              (None, 33538)             10094938  \n",
      "=================================================================\n",
      "Total params: 10,098,238\n",
      "Trainable params: 10,098,238\n",
      "Non-trainable params: 0\n",
      "_________________________________________________________________\n"
     ]
    }
   ],
   "source": [
    "decoder = Model(latent_inputs, outputs, name='decoder')\n",
    "decoder.summary()"
   ]
  },
  {
   "cell_type": "code",
   "execution_count": 15,
   "id": "c3a1b22e",
   "metadata": {},
   "outputs": [],
   "source": [
    "outputs = decoder(encoder(inputs))\n",
    "vae = Model(inputs, outputs, name='vae_mlp')"
   ]
  },
  {
   "cell_type": "code",
   "execution_count": 16,
   "id": "f1176e98",
   "metadata": {},
   "outputs": [],
   "source": [
    "vae.compile(optimizer='rmsprop', loss=vae_loss)"
   ]
  },
  {
   "cell_type": "code",
   "execution_count": 17,
   "id": "4989f200",
   "metadata": {
    "scrolled": true
   },
   "outputs": [
    {
     "name": "stdout",
     "output_type": "stream",
     "text": [
      "Epoch 1/10\n",
      " 128/4384 [..............................] - ETA: 16s - loss: 0.6998"
     ]
    },
    {
     "name": "stderr",
     "output_type": "stream",
     "text": [
      "2023-07-19 09:42:48.977080: I tensorflow/stream_executor/platform/default/dso_loader.cc:44] Successfully opened dynamic library libcublas.so.10\n"
     ]
    },
    {
     "name": "stdout",
     "output_type": "stream",
     "text": [
      "4384/4384 [==============================] - 6s 1ms/step - loss: 0.6364\n",
      "Epoch 2/10\n",
      "4384/4384 [==============================] - 6s 1ms/step - loss: 0.1766\n",
      "Epoch 3/10\n",
      "4384/4384 [==============================] - 6s 1ms/step - loss: 0.0905\n",
      "Epoch 4/10\n",
      "4384/4384 [==============================] - 6s 1ms/step - loss: 0.0653\n",
      "Epoch 5/10\n",
      "4384/4384 [==============================] - 6s 1ms/step - loss: 0.0551\n",
      "Epoch 6/10\n",
      "4384/4384 [==============================] - 6s 1ms/step - loss: 0.0511\n",
      "Epoch 7/10\n",
      "4384/4384 [==============================] - 6s 1ms/step - loss: 0.0497\n",
      "Epoch 8/10\n",
      "4384/4384 [==============================] - 6s 1ms/step - loss: 0.0490\n",
      "Epoch 9/10\n",
      "4384/4384 [==============================] - 6s 1ms/step - loss: 0.0486\n",
      "Epoch 10/10\n",
      "4384/4384 [==============================] - 6s 1ms/step - loss: 0.0484\n"
     ]
    }
   ],
   "source": [
    "results = vae.fit(x_scaled, x_scaled,\n",
    "        shuffle=True,\n",
    "        epochs=epochs,\n",
    "        batch_size=batch_size)#,\n",
    "       # validation_data=(x_test, x_test))"
   ]
  },
  {
   "cell_type": "code",
   "execution_count": 19,
   "id": "5d2dd58d",
   "metadata": {},
   "outputs": [],
   "source": [
    "data_w = x_scaled\n",
    "data_y = x_scaled"
   ]
  },
  {
   "cell_type": "code",
   "execution_count": 20,
   "id": "e7a2775d",
   "metadata": {},
   "outputs": [],
   "source": [
    "test_au_features = encoder.predict(data_w)"
   ]
  },
  {
   "cell_type": "code",
   "execution_count": 21,
   "id": "ed66d775",
   "metadata": {},
   "outputs": [
    {
     "data": {
      "text/html": [
       "<div>\n",
       "<style scoped>\n",
       "    .dataframe tbody tr th:only-of-type {\n",
       "        vertical-align: middle;\n",
       "    }\n",
       "\n",
       "    .dataframe tbody tr th {\n",
       "        vertical-align: top;\n",
       "    }\n",
       "\n",
       "    .dataframe thead th {\n",
       "        text-align: right;\n",
       "    }\n",
       "</style>\n",
       "<table border=\"1\" class=\"dataframe\">\n",
       "  <thead>\n",
       "    <tr style=\"text-align: right;\">\n",
       "      <th></th>\n",
       "      <th>dim_1</th>\n",
       "      <th>dim_2</th>\n",
       "      <th>dim_3</th>\n",
       "      <th>dim_4</th>\n",
       "      <th>dim_5</th>\n",
       "      <th>dim_6</th>\n",
       "      <th>dim_7</th>\n",
       "      <th>dim_8</th>\n",
       "      <th>dim_9</th>\n",
       "      <th>dim_10</th>\n",
       "    </tr>\n",
       "  </thead>\n",
       "  <tbody>\n",
       "    <tr>\n",
       "      <th>0</th>\n",
       "      <td>-0.006707</td>\n",
       "      <td>0.005637</td>\n",
       "      <td>-0.003031</td>\n",
       "      <td>0.005136</td>\n",
       "      <td>0.003856</td>\n",
       "      <td>-0.004012</td>\n",
       "      <td>-0.005671</td>\n",
       "      <td>0.006491</td>\n",
       "      <td>-0.006154</td>\n",
       "      <td>0.005494</td>\n",
       "    </tr>\n",
       "    <tr>\n",
       "      <th>1</th>\n",
       "      <td>-0.021789</td>\n",
       "      <td>0.027955</td>\n",
       "      <td>-0.030739</td>\n",
       "      <td>0.024700</td>\n",
       "      <td>0.033570</td>\n",
       "      <td>-0.017187</td>\n",
       "      <td>-0.027266</td>\n",
       "      <td>0.011224</td>\n",
       "      <td>-0.025461</td>\n",
       "      <td>0.022327</td>\n",
       "    </tr>\n",
       "    <tr>\n",
       "      <th>2</th>\n",
       "      <td>-0.015198</td>\n",
       "      <td>0.026562</td>\n",
       "      <td>-0.028059</td>\n",
       "      <td>0.022637</td>\n",
       "      <td>0.022804</td>\n",
       "      <td>-0.020222</td>\n",
       "      <td>-0.032830</td>\n",
       "      <td>0.014714</td>\n",
       "      <td>-0.021327</td>\n",
       "      <td>0.018314</td>\n",
       "    </tr>\n",
       "    <tr>\n",
       "      <th>3</th>\n",
       "      <td>-0.015970</td>\n",
       "      <td>0.016333</td>\n",
       "      <td>-0.016652</td>\n",
       "      <td>0.014815</td>\n",
       "      <td>0.021307</td>\n",
       "      <td>-0.008936</td>\n",
       "      <td>-0.013530</td>\n",
       "      <td>0.007395</td>\n",
       "      <td>-0.016462</td>\n",
       "      <td>0.014628</td>\n",
       "    </tr>\n",
       "    <tr>\n",
       "      <th>4</th>\n",
       "      <td>-0.006707</td>\n",
       "      <td>0.005637</td>\n",
       "      <td>-0.003031</td>\n",
       "      <td>0.005136</td>\n",
       "      <td>0.003856</td>\n",
       "      <td>-0.004012</td>\n",
       "      <td>-0.005671</td>\n",
       "      <td>0.006491</td>\n",
       "      <td>-0.006154</td>\n",
       "      <td>0.005494</td>\n",
       "    </tr>\n",
       "  </tbody>\n",
       "</table>\n",
       "</div>"
      ],
      "text/plain": [
       "      dim_1     dim_2     dim_3     dim_4     dim_5     dim_6     dim_7  \\\n",
       "0 -0.006707  0.005637 -0.003031  0.005136  0.003856 -0.004012 -0.005671   \n",
       "1 -0.021789  0.027955 -0.030739  0.024700  0.033570 -0.017187 -0.027266   \n",
       "2 -0.015198  0.026562 -0.028059  0.022637  0.022804 -0.020222 -0.032830   \n",
       "3 -0.015970  0.016333 -0.016652  0.014815  0.021307 -0.008936 -0.013530   \n",
       "4 -0.006707  0.005637 -0.003031  0.005136  0.003856 -0.004012 -0.005671   \n",
       "\n",
       "      dim_8     dim_9    dim_10  \n",
       "0  0.006491 -0.006154  0.005494  \n",
       "1  0.011224 -0.025461  0.022327  \n",
       "2  0.014714 -0.021327  0.018314  \n",
       "3  0.007395 -0.016462  0.014628  \n",
       "4  0.006491 -0.006154  0.005494  "
      ]
     },
     "execution_count": 21,
     "metadata": {},
     "output_type": "execute_result"
    }
   ],
   "source": [
    "df = pd.DataFrame(test_au_features, columns = ['dim_1','dim_2','dim_3','dim_4','dim_5','dim_6','dim_7','dim_8','dim_9','dim_10'])\n",
    "df.head()"
   ]
  },
  {
   "cell_type": "code",
   "execution_count": 22,
   "id": "4aafb298",
   "metadata": {},
   "outputs": [],
   "source": [
    "# save in output files\n",
    "sevenbg_output_path = f\"/sbgenomics/output-files/data/latent_space_VAE\"\n",
    "os.makedirs(sevenbg_output_path, exist_ok=True)\n",
    "df.to_csv(f\"{sevenbg_output_path}/DPLFC_151508_latent_space_VAE.csv\")"
   ]
  },
  {
   "cell_type": "markdown",
   "id": "38cc8fb0",
   "metadata": {},
   "source": [
    "## 1.2. 151669"
   ]
  },
  {
   "cell_type": "code",
   "execution_count": 23,
   "id": "b4656b6e",
   "metadata": {},
   "outputs": [],
   "source": [
    "counts = pd.read_csv(\"/../../sbgenomics/project-files/data/counts_with_probes/DPLFC_151669_counts_with_probes.csv\", index_col=0)\n",
    "counts = counts.rename(columns = {\"Unnamed: 0.1\": \"probes\"})\n",
    "counts = counts.set_index(\"probes\")\n",
    "counts_wo_xy = counts.drop(columns=[\"y_coord\",\"x_coord\"])"
   ]
  },
  {
   "cell_type": "code",
   "execution_count": 24,
   "id": "f93912ef",
   "metadata": {},
   "outputs": [],
   "source": [
    "x_scaled = scale_datasets(counts_wo_xy)"
   ]
  },
  {
   "cell_type": "code",
   "execution_count": 25,
   "id": "f7df9e37",
   "metadata": {},
   "outputs": [],
   "source": [
    "# network parameters\n",
    "original_dim = x_scaled.shape[1]\n",
    "input_shape = (original_dim, )\n",
    "intermediate_dim = 300\n",
    "batch_size = 128\n",
    "latent_dim = 10\n",
    "epochs = 10"
   ]
  },
  {
   "cell_type": "code",
   "execution_count": 26,
   "id": "6444dd0f",
   "metadata": {
    "scrolled": true
   },
   "outputs": [],
   "source": [
    "# VAE model = encoder + decoder\n",
    "# build encoder model\n",
    "inputs = Input(shape=input_shape, name='encoder_input')\n",
    "x = Dense(intermediate_dim, activation='relu')(inputs)\n",
    "z_mean = Dense(latent_dim, name='z_mean')(x)\n",
    "z_log_var = Dense(latent_dim, name='z_log_var')(x) "
   ]
  },
  {
   "cell_type": "code",
   "execution_count": 27,
   "id": "1b0895af",
   "metadata": {},
   "outputs": [],
   "source": [
    "# use reparameterization trick to push the sampling out as input\n",
    "# note that \"output_shape\" isn't necessary with the TensorFlow backend\n",
    "z = Lambda(sampling, output_shape=(latent_dim,), name='z')([z_mean, z_log_var])"
   ]
  },
  {
   "cell_type": "code",
   "execution_count": 28,
   "id": "2d5692bd",
   "metadata": {},
   "outputs": [
    {
     "name": "stdout",
     "output_type": "stream",
     "text": [
      "Model: \"model_2\"\n",
      "_________________________________________________________________\n",
      "Layer (type)                 Output Shape              Param #   \n",
      "=================================================================\n",
      "encoder_input (InputLayer)   (None, 33538)             0         \n",
      "_________________________________________________________________\n",
      "dense_4 (Dense)              (None, 300)               10061700  \n",
      "_________________________________________________________________\n",
      "z_mean (Dense)               (None, 10)                3010      \n",
      "=================================================================\n",
      "Total params: 10,064,710\n",
      "Trainable params: 10,064,710\n",
      "Non-trainable params: 0\n",
      "_________________________________________________________________\n"
     ]
    }
   ],
   "source": [
    "encoder = Model(inputs, z_mean)\n",
    "encoder.summary()"
   ]
  },
  {
   "cell_type": "code",
   "execution_count": 29,
   "id": "f3b6b9e9",
   "metadata": {},
   "outputs": [],
   "source": [
    "latent_inputs = Input(shape=(latent_dim,), name='z_sampling')\n",
    "x = Dense(intermediate_dim, activation='relu')(latent_inputs)\n",
    "outputs = Dense(original_dim, activation='sigmoid')(x)  "
   ]
  },
  {
   "cell_type": "code",
   "execution_count": 30,
   "id": "6bfa69f0",
   "metadata": {},
   "outputs": [
    {
     "name": "stdout",
     "output_type": "stream",
     "text": [
      "Model: \"decoder\"\n",
      "_________________________________________________________________\n",
      "Layer (type)                 Output Shape              Param #   \n",
      "=================================================================\n",
      "z_sampling (InputLayer)      (None, 10)                0         \n",
      "_________________________________________________________________\n",
      "dense_5 (Dense)              (None, 300)               3300      \n",
      "_________________________________________________________________\n",
      "dense_6 (Dense)              (None, 33538)             10094938  \n",
      "=================================================================\n",
      "Total params: 10,098,238\n",
      "Trainable params: 10,098,238\n",
      "Non-trainable params: 0\n",
      "_________________________________________________________________\n"
     ]
    }
   ],
   "source": [
    "decoder = Model(latent_inputs, outputs, name='decoder')\n",
    "decoder.summary()"
   ]
  },
  {
   "cell_type": "code",
   "execution_count": 31,
   "id": "e82f6560",
   "metadata": {},
   "outputs": [],
   "source": [
    "outputs = decoder(encoder(inputs))\n",
    "vae = Model(inputs, outputs, name='vae_mlp')"
   ]
  },
  {
   "cell_type": "code",
   "execution_count": 32,
   "id": "7d9f92c8",
   "metadata": {},
   "outputs": [],
   "source": [
    "vae.compile(optimizer='rmsprop', loss=vae_loss)"
   ]
  },
  {
   "cell_type": "code",
   "execution_count": 33,
   "id": "b0adeb40",
   "metadata": {
    "scrolled": true
   },
   "outputs": [
    {
     "name": "stdout",
     "output_type": "stream",
     "text": [
      "Epoch 1/10\n",
      "3661/3661 [==============================] - 5s 1ms/step - loss: 0.9638\n",
      "Epoch 2/10\n",
      "3661/3661 [==============================] - 5s 1ms/step - loss: 0.2609\n",
      "Epoch 3/10\n",
      "3661/3661 [==============================] - 5s 1ms/step - loss: 0.1346\n",
      "Epoch 4/10\n",
      "3661/3661 [==============================] - 5s 1ms/step - loss: 0.0932\n",
      "Epoch 5/10\n",
      "3661/3661 [==============================] - 5s 1ms/step - loss: 0.0760\n",
      "Epoch 6/10\n",
      "3661/3661 [==============================] - 5s 1ms/step - loss: 0.0684\n",
      "Epoch 7/10\n",
      "3661/3661 [==============================] - 5s 1ms/step - loss: 0.0660\n",
      "Epoch 8/10\n",
      "3661/3661 [==============================] - 5s 1ms/step - loss: 0.0648\n",
      "Epoch 9/10\n",
      "3661/3661 [==============================] - 5s 1ms/step - loss: 0.0642\n",
      "Epoch 10/10\n",
      "3661/3661 [==============================] - 5s 1ms/step - loss: 0.0635\n"
     ]
    }
   ],
   "source": [
    "results = vae.fit(x_scaled, x_scaled,\n",
    "        shuffle=True,\n",
    "        epochs=epochs,\n",
    "        batch_size=batch_size)#,\n",
    "       # validation_data=(x_test, x_test))"
   ]
  },
  {
   "cell_type": "code",
   "execution_count": 34,
   "id": "88310c06",
   "metadata": {},
   "outputs": [],
   "source": [
    "data_w = x_scaled\n",
    "data_y = x_scaled"
   ]
  },
  {
   "cell_type": "code",
   "execution_count": 35,
   "id": "63f15ce9",
   "metadata": {},
   "outputs": [],
   "source": [
    "test_au_features = encoder.predict(data_w)"
   ]
  },
  {
   "cell_type": "code",
   "execution_count": 36,
   "id": "b6291bb8",
   "metadata": {},
   "outputs": [
    {
     "data": {
      "text/html": [
       "<div>\n",
       "<style scoped>\n",
       "    .dataframe tbody tr th:only-of-type {\n",
       "        vertical-align: middle;\n",
       "    }\n",
       "\n",
       "    .dataframe tbody tr th {\n",
       "        vertical-align: top;\n",
       "    }\n",
       "\n",
       "    .dataframe thead th {\n",
       "        text-align: right;\n",
       "    }\n",
       "</style>\n",
       "<table border=\"1\" class=\"dataframe\">\n",
       "  <thead>\n",
       "    <tr style=\"text-align: right;\">\n",
       "      <th></th>\n",
       "      <th>dim_1</th>\n",
       "      <th>dim_2</th>\n",
       "      <th>dim_3</th>\n",
       "      <th>dim_4</th>\n",
       "      <th>dim_5</th>\n",
       "      <th>dim_6</th>\n",
       "      <th>dim_7</th>\n",
       "      <th>dim_8</th>\n",
       "      <th>dim_9</th>\n",
       "      <th>dim_10</th>\n",
       "    </tr>\n",
       "  </thead>\n",
       "  <tbody>\n",
       "    <tr>\n",
       "      <th>0</th>\n",
       "      <td>0.044081</td>\n",
       "      <td>0.019462</td>\n",
       "      <td>-0.038333</td>\n",
       "      <td>0.016076</td>\n",
       "      <td>0.020363</td>\n",
       "      <td>0.023822</td>\n",
       "      <td>0.024654</td>\n",
       "      <td>-0.019562</td>\n",
       "      <td>-0.029043</td>\n",
       "      <td>-0.004226</td>\n",
       "    </tr>\n",
       "    <tr>\n",
       "      <th>1</th>\n",
       "      <td>0.064549</td>\n",
       "      <td>0.023235</td>\n",
       "      <td>-0.053068</td>\n",
       "      <td>0.015106</td>\n",
       "      <td>0.021429</td>\n",
       "      <td>0.020894</td>\n",
       "      <td>0.030364</td>\n",
       "      <td>-0.023850</td>\n",
       "      <td>-0.038337</td>\n",
       "      <td>0.003634</td>\n",
       "    </tr>\n",
       "    <tr>\n",
       "      <th>2</th>\n",
       "      <td>0.099608</td>\n",
       "      <td>0.029698</td>\n",
       "      <td>-0.078309</td>\n",
       "      <td>0.013443</td>\n",
       "      <td>0.023255</td>\n",
       "      <td>0.015879</td>\n",
       "      <td>0.040145</td>\n",
       "      <td>-0.031194</td>\n",
       "      <td>-0.054256</td>\n",
       "      <td>0.017097</td>\n",
       "    </tr>\n",
       "    <tr>\n",
       "      <th>3</th>\n",
       "      <td>0.055606</td>\n",
       "      <td>0.021587</td>\n",
       "      <td>-0.046630</td>\n",
       "      <td>0.015530</td>\n",
       "      <td>0.020963</td>\n",
       "      <td>0.022173</td>\n",
       "      <td>0.027869</td>\n",
       "      <td>-0.021976</td>\n",
       "      <td>-0.034277</td>\n",
       "      <td>0.000199</td>\n",
       "    </tr>\n",
       "    <tr>\n",
       "      <th>4</th>\n",
       "      <td>0.043836</td>\n",
       "      <td>0.019417</td>\n",
       "      <td>-0.038156</td>\n",
       "      <td>0.016088</td>\n",
       "      <td>0.020350</td>\n",
       "      <td>0.023857</td>\n",
       "      <td>0.024585</td>\n",
       "      <td>-0.019510</td>\n",
       "      <td>-0.028932</td>\n",
       "      <td>-0.004320</td>\n",
       "    </tr>\n",
       "  </tbody>\n",
       "</table>\n",
       "</div>"
      ],
      "text/plain": [
       "      dim_1     dim_2     dim_3     dim_4     dim_5     dim_6     dim_7  \\\n",
       "0  0.044081  0.019462 -0.038333  0.016076  0.020363  0.023822  0.024654   \n",
       "1  0.064549  0.023235 -0.053068  0.015106  0.021429  0.020894  0.030364   \n",
       "2  0.099608  0.029698 -0.078309  0.013443  0.023255  0.015879  0.040145   \n",
       "3  0.055606  0.021587 -0.046630  0.015530  0.020963  0.022173  0.027869   \n",
       "4  0.043836  0.019417 -0.038156  0.016088  0.020350  0.023857  0.024585   \n",
       "\n",
       "      dim_8     dim_9    dim_10  \n",
       "0 -0.019562 -0.029043 -0.004226  \n",
       "1 -0.023850 -0.038337  0.003634  \n",
       "2 -0.031194 -0.054256  0.017097  \n",
       "3 -0.021976 -0.034277  0.000199  \n",
       "4 -0.019510 -0.028932 -0.004320  "
      ]
     },
     "execution_count": 36,
     "metadata": {},
     "output_type": "execute_result"
    }
   ],
   "source": [
    "df = pd.DataFrame(test_au_features, columns = ['dim_1','dim_2','dim_3','dim_4','dim_5','dim_6','dim_7','dim_8','dim_9','dim_10'])\n",
    "df.head()"
   ]
  },
  {
   "cell_type": "code",
   "execution_count": 37,
   "id": "66d000ea",
   "metadata": {},
   "outputs": [],
   "source": [
    "# save in output files\n",
    "sevenbg_output_path = f\"/sbgenomics/output-files/data/latent_space_VAE\"\n",
    "os.makedirs(sevenbg_output_path, exist_ok=True)\n",
    "df.to_csv(f\"{sevenbg_output_path}/DPLFC_151669_latent_space_VAE.csv\")"
   ]
  },
  {
   "cell_type": "markdown",
   "id": "2fc3ebba",
   "metadata": {},
   "source": [
    "## 1.3. 151673"
   ]
  },
  {
   "cell_type": "code",
   "execution_count": 5,
   "id": "fc3ffde4",
   "metadata": {},
   "outputs": [],
   "source": [
    "counts = pd.read_csv(\"/../../sbgenomics/project-files/data/counts_with_probes/DPLFC_151673_counts_with_probes.csv\", index_col=0)\n",
    "counts = counts.rename(columns = {\"Unnamed: 0.1\": \"probes\"})\n",
    "counts = counts.set_index(\"probes\")\n",
    "counts_wo_xy = counts.drop(columns=[\"y_coord\",\"x_coord\"])"
   ]
  },
  {
   "cell_type": "code",
   "execution_count": 65,
   "id": "c70d130f",
   "metadata": {},
   "outputs": [
    {
     "data": {
      "text/html": [
       "<div>\n",
       "<style scoped>\n",
       "    .dataframe tbody tr th:only-of-type {\n",
       "        vertical-align: middle;\n",
       "    }\n",
       "\n",
       "    .dataframe tbody tr th {\n",
       "        vertical-align: top;\n",
       "    }\n",
       "\n",
       "    .dataframe thead th {\n",
       "        text-align: right;\n",
       "    }\n",
       "</style>\n",
       "<table border=\"1\" class=\"dataframe\">\n",
       "  <thead>\n",
       "    <tr style=\"text-align: right;\">\n",
       "      <th></th>\n",
       "      <th>MIR1302-2HG</th>\n",
       "      <th>FAM138A</th>\n",
       "      <th>OR4F5</th>\n",
       "      <th>AL627309.1</th>\n",
       "      <th>AL627309.3</th>\n",
       "      <th>AL627309.2</th>\n",
       "      <th>AL627309.4</th>\n",
       "      <th>AL732372.1</th>\n",
       "      <th>OR4F29</th>\n",
       "      <th>AC114498.1</th>\n",
       "      <th>...</th>\n",
       "      <th>AL354822.1</th>\n",
       "      <th>AC023491.2</th>\n",
       "      <th>AC004556.1</th>\n",
       "      <th>AC233755.2</th>\n",
       "      <th>AC233755.1</th>\n",
       "      <th>AC240274.1</th>\n",
       "      <th>AC213203.1</th>\n",
       "      <th>FAM231C</th>\n",
       "      <th>y_coord</th>\n",
       "      <th>x_coord</th>\n",
       "    </tr>\n",
       "    <tr>\n",
       "      <th>probes</th>\n",
       "      <th></th>\n",
       "      <th></th>\n",
       "      <th></th>\n",
       "      <th></th>\n",
       "      <th></th>\n",
       "      <th></th>\n",
       "      <th></th>\n",
       "      <th></th>\n",
       "      <th></th>\n",
       "      <th></th>\n",
       "      <th></th>\n",
       "      <th></th>\n",
       "      <th></th>\n",
       "      <th></th>\n",
       "      <th></th>\n",
       "      <th></th>\n",
       "      <th></th>\n",
       "      <th></th>\n",
       "      <th></th>\n",
       "      <th></th>\n",
       "      <th></th>\n",
       "    </tr>\n",
       "  </thead>\n",
       "  <tbody>\n",
       "    <tr>\n",
       "      <th>AAACAAGTATCTCCCA-1</th>\n",
       "      <td>0.0</td>\n",
       "      <td>0.0</td>\n",
       "      <td>0.0</td>\n",
       "      <td>0.0</td>\n",
       "      <td>0.0</td>\n",
       "      <td>0.0</td>\n",
       "      <td>0.0</td>\n",
       "      <td>0.0</td>\n",
       "      <td>0.0</td>\n",
       "      <td>0.0</td>\n",
       "      <td>...</td>\n",
       "      <td>0.0</td>\n",
       "      <td>0.0</td>\n",
       "      <td>0.0</td>\n",
       "      <td>0.0</td>\n",
       "      <td>0.0</td>\n",
       "      <td>0.0</td>\n",
       "      <td>0.0</td>\n",
       "      <td>0.0</td>\n",
       "      <td>8468</td>\n",
       "      <td>9791</td>\n",
       "    </tr>\n",
       "    <tr>\n",
       "      <th>AAACAATCTACTAGCA-1</th>\n",
       "      <td>0.0</td>\n",
       "      <td>0.0</td>\n",
       "      <td>0.0</td>\n",
       "      <td>0.0</td>\n",
       "      <td>0.0</td>\n",
       "      <td>0.0</td>\n",
       "      <td>0.0</td>\n",
       "      <td>0.0</td>\n",
       "      <td>0.0</td>\n",
       "      <td>0.0</td>\n",
       "      <td>...</td>\n",
       "      <td>0.0</td>\n",
       "      <td>0.0</td>\n",
       "      <td>0.0</td>\n",
       "      <td>0.0</td>\n",
       "      <td>0.0</td>\n",
       "      <td>0.0</td>\n",
       "      <td>0.0</td>\n",
       "      <td>0.0</td>\n",
       "      <td>2807</td>\n",
       "      <td>5769</td>\n",
       "    </tr>\n",
       "    <tr>\n",
       "      <th>AAACACCAATAACTGC-1</th>\n",
       "      <td>0.0</td>\n",
       "      <td>0.0</td>\n",
       "      <td>0.0</td>\n",
       "      <td>0.0</td>\n",
       "      <td>0.0</td>\n",
       "      <td>0.0</td>\n",
       "      <td>0.0</td>\n",
       "      <td>0.0</td>\n",
       "      <td>0.0</td>\n",
       "      <td>0.0</td>\n",
       "      <td>...</td>\n",
       "      <td>0.0</td>\n",
       "      <td>0.0</td>\n",
       "      <td>0.0</td>\n",
       "      <td>0.0</td>\n",
       "      <td>0.0</td>\n",
       "      <td>0.0</td>\n",
       "      <td>0.0</td>\n",
       "      <td>0.0</td>\n",
       "      <td>9505</td>\n",
       "      <td>4068</td>\n",
       "    </tr>\n",
       "    <tr>\n",
       "      <th>AAACAGAGCGACTCCT-1</th>\n",
       "      <td>0.0</td>\n",
       "      <td>0.0</td>\n",
       "      <td>0.0</td>\n",
       "      <td>0.0</td>\n",
       "      <td>0.0</td>\n",
       "      <td>0.0</td>\n",
       "      <td>0.0</td>\n",
       "      <td>0.0</td>\n",
       "      <td>0.0</td>\n",
       "      <td>0.0</td>\n",
       "      <td>...</td>\n",
       "      <td>0.0</td>\n",
       "      <td>0.0</td>\n",
       "      <td>0.0</td>\n",
       "      <td>0.0</td>\n",
       "      <td>0.0</td>\n",
       "      <td>0.0</td>\n",
       "      <td>0.0</td>\n",
       "      <td>0.0</td>\n",
       "      <td>4151</td>\n",
       "      <td>9271</td>\n",
       "    </tr>\n",
       "    <tr>\n",
       "      <th>AAACAGCTTTCAGAAG-1</th>\n",
       "      <td>0.0</td>\n",
       "      <td>0.0</td>\n",
       "      <td>0.0</td>\n",
       "      <td>0.0</td>\n",
       "      <td>0.0</td>\n",
       "      <td>0.0</td>\n",
       "      <td>0.0</td>\n",
       "      <td>0.0</td>\n",
       "      <td>0.0</td>\n",
       "      <td>0.0</td>\n",
       "      <td>...</td>\n",
       "      <td>0.0</td>\n",
       "      <td>0.0</td>\n",
       "      <td>0.0</td>\n",
       "      <td>0.0</td>\n",
       "      <td>0.0</td>\n",
       "      <td>0.0</td>\n",
       "      <td>0.0</td>\n",
       "      <td>0.0</td>\n",
       "      <td>7583</td>\n",
       "      <td>3393</td>\n",
       "    </tr>\n",
       "    <tr>\n",
       "      <th>...</th>\n",
       "      <td>...</td>\n",
       "      <td>...</td>\n",
       "      <td>...</td>\n",
       "      <td>...</td>\n",
       "      <td>...</td>\n",
       "      <td>...</td>\n",
       "      <td>...</td>\n",
       "      <td>...</td>\n",
       "      <td>...</td>\n",
       "      <td>...</td>\n",
       "      <td>...</td>\n",
       "      <td>...</td>\n",
       "      <td>...</td>\n",
       "      <td>...</td>\n",
       "      <td>...</td>\n",
       "      <td>...</td>\n",
       "      <td>...</td>\n",
       "      <td>...</td>\n",
       "      <td>...</td>\n",
       "      <td>...</td>\n",
       "      <td>...</td>\n",
       "    </tr>\n",
       "    <tr>\n",
       "      <th>TTGTTTCACATCCAGG-1</th>\n",
       "      <td>0.0</td>\n",
       "      <td>0.0</td>\n",
       "      <td>0.0</td>\n",
       "      <td>0.0</td>\n",
       "      <td>0.0</td>\n",
       "      <td>0.0</td>\n",
       "      <td>0.0</td>\n",
       "      <td>0.0</td>\n",
       "      <td>0.0</td>\n",
       "      <td>0.0</td>\n",
       "      <td>...</td>\n",
       "      <td>0.0</td>\n",
       "      <td>0.0</td>\n",
       "      <td>0.0</td>\n",
       "      <td>0.0</td>\n",
       "      <td>0.0</td>\n",
       "      <td>0.0</td>\n",
       "      <td>0.0</td>\n",
       "      <td>0.0</td>\n",
       "      <td>9396</td>\n",
       "      <td>5653</td>\n",
       "    </tr>\n",
       "    <tr>\n",
       "      <th>TTGTTTCATTAGTCTA-1</th>\n",
       "      <td>0.0</td>\n",
       "      <td>0.0</td>\n",
       "      <td>0.0</td>\n",
       "      <td>0.0</td>\n",
       "      <td>0.0</td>\n",
       "      <td>0.0</td>\n",
       "      <td>0.0</td>\n",
       "      <td>0.0</td>\n",
       "      <td>0.0</td>\n",
       "      <td>0.0</td>\n",
       "      <td>...</td>\n",
       "      <td>0.0</td>\n",
       "      <td>0.0</td>\n",
       "      <td>0.0</td>\n",
       "      <td>0.0</td>\n",
       "      <td>0.0</td>\n",
       "      <td>0.0</td>\n",
       "      <td>0.0</td>\n",
       "      <td>0.0</td>\n",
       "      <td>9630</td>\n",
       "      <td>4825</td>\n",
       "    </tr>\n",
       "    <tr>\n",
       "      <th>TTGTTTCCATACAACT-1</th>\n",
       "      <td>0.0</td>\n",
       "      <td>0.0</td>\n",
       "      <td>0.0</td>\n",
       "      <td>0.0</td>\n",
       "      <td>0.0</td>\n",
       "      <td>0.0</td>\n",
       "      <td>0.0</td>\n",
       "      <td>0.0</td>\n",
       "      <td>0.0</td>\n",
       "      <td>0.0</td>\n",
       "      <td>...</td>\n",
       "      <td>0.0</td>\n",
       "      <td>0.0</td>\n",
       "      <td>0.0</td>\n",
       "      <td>0.0</td>\n",
       "      <td>0.0</td>\n",
       "      <td>0.0</td>\n",
       "      <td>0.0</td>\n",
       "      <td>0.0</td>\n",
       "      <td>7831</td>\n",
       "      <td>4631</td>\n",
       "    </tr>\n",
       "    <tr>\n",
       "      <th>TTGTTTGTATTACACG-1</th>\n",
       "      <td>0.0</td>\n",
       "      <td>0.0</td>\n",
       "      <td>0.0</td>\n",
       "      <td>0.0</td>\n",
       "      <td>0.0</td>\n",
       "      <td>0.0</td>\n",
       "      <td>0.0</td>\n",
       "      <td>0.0</td>\n",
       "      <td>0.0</td>\n",
       "      <td>0.0</td>\n",
       "      <td>...</td>\n",
       "      <td>0.0</td>\n",
       "      <td>0.0</td>\n",
       "      <td>0.0</td>\n",
       "      <td>0.0</td>\n",
       "      <td>0.0</td>\n",
       "      <td>0.0</td>\n",
       "      <td>0.0</td>\n",
       "      <td>0.0</td>\n",
       "      <td>11193</td>\n",
       "      <td>5571</td>\n",
       "    </tr>\n",
       "    <tr>\n",
       "      <th>TTGTTTGTGTAAATTC-1</th>\n",
       "      <td>0.0</td>\n",
       "      <td>0.0</td>\n",
       "      <td>0.0</td>\n",
       "      <td>0.0</td>\n",
       "      <td>0.0</td>\n",
       "      <td>0.0</td>\n",
       "      <td>0.0</td>\n",
       "      <td>0.0</td>\n",
       "      <td>0.0</td>\n",
       "      <td>0.0</td>\n",
       "      <td>...</td>\n",
       "      <td>0.0</td>\n",
       "      <td>0.0</td>\n",
       "      <td>0.0</td>\n",
       "      <td>0.0</td>\n",
       "      <td>0.0</td>\n",
       "      <td>0.0</td>\n",
       "      <td>0.0</td>\n",
       "      <td>0.0</td>\n",
       "      <td>3291</td>\n",
       "      <td>6317</td>\n",
       "    </tr>\n",
       "  </tbody>\n",
       "</table>\n",
       "<p>3639 rows × 33540 columns</p>\n",
       "</div>"
      ],
      "text/plain": [
       "                    MIR1302-2HG  FAM138A  OR4F5  AL627309.1  AL627309.3  \\\n",
       "probes                                                                    \n",
       "AAACAAGTATCTCCCA-1          0.0      0.0    0.0         0.0         0.0   \n",
       "AAACAATCTACTAGCA-1          0.0      0.0    0.0         0.0         0.0   \n",
       "AAACACCAATAACTGC-1          0.0      0.0    0.0         0.0         0.0   \n",
       "AAACAGAGCGACTCCT-1          0.0      0.0    0.0         0.0         0.0   \n",
       "AAACAGCTTTCAGAAG-1          0.0      0.0    0.0         0.0         0.0   \n",
       "...                         ...      ...    ...         ...         ...   \n",
       "TTGTTTCACATCCAGG-1          0.0      0.0    0.0         0.0         0.0   \n",
       "TTGTTTCATTAGTCTA-1          0.0      0.0    0.0         0.0         0.0   \n",
       "TTGTTTCCATACAACT-1          0.0      0.0    0.0         0.0         0.0   \n",
       "TTGTTTGTATTACACG-1          0.0      0.0    0.0         0.0         0.0   \n",
       "TTGTTTGTGTAAATTC-1          0.0      0.0    0.0         0.0         0.0   \n",
       "\n",
       "                    AL627309.2  AL627309.4  AL732372.1  OR4F29  AC114498.1  \\\n",
       "probes                                                                       \n",
       "AAACAAGTATCTCCCA-1         0.0         0.0         0.0     0.0         0.0   \n",
       "AAACAATCTACTAGCA-1         0.0         0.0         0.0     0.0         0.0   \n",
       "AAACACCAATAACTGC-1         0.0         0.0         0.0     0.0         0.0   \n",
       "AAACAGAGCGACTCCT-1         0.0         0.0         0.0     0.0         0.0   \n",
       "AAACAGCTTTCAGAAG-1         0.0         0.0         0.0     0.0         0.0   \n",
       "...                        ...         ...         ...     ...         ...   \n",
       "TTGTTTCACATCCAGG-1         0.0         0.0         0.0     0.0         0.0   \n",
       "TTGTTTCATTAGTCTA-1         0.0         0.0         0.0     0.0         0.0   \n",
       "TTGTTTCCATACAACT-1         0.0         0.0         0.0     0.0         0.0   \n",
       "TTGTTTGTATTACACG-1         0.0         0.0         0.0     0.0         0.0   \n",
       "TTGTTTGTGTAAATTC-1         0.0         0.0         0.0     0.0         0.0   \n",
       "\n",
       "                    ...  AL354822.1  AC023491.2  AC004556.1  AC233755.2  \\\n",
       "probes              ...                                                   \n",
       "AAACAAGTATCTCCCA-1  ...         0.0         0.0         0.0         0.0   \n",
       "AAACAATCTACTAGCA-1  ...         0.0         0.0         0.0         0.0   \n",
       "AAACACCAATAACTGC-1  ...         0.0         0.0         0.0         0.0   \n",
       "AAACAGAGCGACTCCT-1  ...         0.0         0.0         0.0         0.0   \n",
       "AAACAGCTTTCAGAAG-1  ...         0.0         0.0         0.0         0.0   \n",
       "...                 ...         ...         ...         ...         ...   \n",
       "TTGTTTCACATCCAGG-1  ...         0.0         0.0         0.0         0.0   \n",
       "TTGTTTCATTAGTCTA-1  ...         0.0         0.0         0.0         0.0   \n",
       "TTGTTTCCATACAACT-1  ...         0.0         0.0         0.0         0.0   \n",
       "TTGTTTGTATTACACG-1  ...         0.0         0.0         0.0         0.0   \n",
       "TTGTTTGTGTAAATTC-1  ...         0.0         0.0         0.0         0.0   \n",
       "\n",
       "                    AC233755.1  AC240274.1  AC213203.1  FAM231C  y_coord  \\\n",
       "probes                                                                     \n",
       "AAACAAGTATCTCCCA-1         0.0         0.0         0.0      0.0     8468   \n",
       "AAACAATCTACTAGCA-1         0.0         0.0         0.0      0.0     2807   \n",
       "AAACACCAATAACTGC-1         0.0         0.0         0.0      0.0     9505   \n",
       "AAACAGAGCGACTCCT-1         0.0         0.0         0.0      0.0     4151   \n",
       "AAACAGCTTTCAGAAG-1         0.0         0.0         0.0      0.0     7583   \n",
       "...                        ...         ...         ...      ...      ...   \n",
       "TTGTTTCACATCCAGG-1         0.0         0.0         0.0      0.0     9396   \n",
       "TTGTTTCATTAGTCTA-1         0.0         0.0         0.0      0.0     9630   \n",
       "TTGTTTCCATACAACT-1         0.0         0.0         0.0      0.0     7831   \n",
       "TTGTTTGTATTACACG-1         0.0         0.0         0.0      0.0    11193   \n",
       "TTGTTTGTGTAAATTC-1         0.0         0.0         0.0      0.0     3291   \n",
       "\n",
       "                    x_coord  \n",
       "probes                       \n",
       "AAACAAGTATCTCCCA-1     9791  \n",
       "AAACAATCTACTAGCA-1     5769  \n",
       "AAACACCAATAACTGC-1     4068  \n",
       "AAACAGAGCGACTCCT-1     9271  \n",
       "AAACAGCTTTCAGAAG-1     3393  \n",
       "...                     ...  \n",
       "TTGTTTCACATCCAGG-1     5653  \n",
       "TTGTTTCATTAGTCTA-1     4825  \n",
       "TTGTTTCCATACAACT-1     4631  \n",
       "TTGTTTGTATTACACG-1     5571  \n",
       "TTGTTTGTGTAAATTC-1     6317  \n",
       "\n",
       "[3639 rows x 33540 columns]"
      ]
     },
     "execution_count": 65,
     "metadata": {},
     "output_type": "execute_result"
    }
   ],
   "source": [
    "counts"
   ]
  },
  {
   "cell_type": "code",
   "execution_count": 40,
   "id": "0fc969bc",
   "metadata": {},
   "outputs": [],
   "source": [
    "x_scaled = scale_datasets(counts_wo_xy)"
   ]
  },
  {
   "cell_type": "code",
   "execution_count": 41,
   "id": "36a7f2f0",
   "metadata": {},
   "outputs": [],
   "source": [
    "# network parameters\n",
    "original_dim = x_scaled.shape[1]\n",
    "input_shape = (original_dim, )\n",
    "intermediate_dim = 300\n",
    "batch_size = 128\n",
    "latent_dim = 10\n",
    "epochs = 10"
   ]
  },
  {
   "cell_type": "code",
   "execution_count": 42,
   "id": "c69f1487",
   "metadata": {
    "scrolled": true
   },
   "outputs": [],
   "source": [
    "# VAE model = encoder + decoder\n",
    "# build encoder model\n",
    "inputs = Input(shape=input_shape, name='encoder_input')\n",
    "x = Dense(intermediate_dim, activation='relu')(inputs)\n",
    "z_mean = Dense(latent_dim, name='z_mean')(x)\n",
    "z_log_var = Dense(latent_dim, name='z_log_var')(x) "
   ]
  },
  {
   "cell_type": "code",
   "execution_count": 43,
   "id": "8caddca0",
   "metadata": {},
   "outputs": [],
   "source": [
    "# use reparameterization trick to push the sampling out as input\n",
    "# note that \"output_shape\" isn't necessary with the TensorFlow backend\n",
    "z = Lambda(sampling, output_shape=(latent_dim,), name='z')([z_mean, z_log_var])"
   ]
  },
  {
   "cell_type": "code",
   "execution_count": 44,
   "id": "d0eb4eb9",
   "metadata": {},
   "outputs": [
    {
     "name": "stdout",
     "output_type": "stream",
     "text": [
      "Model: \"model_3\"\n",
      "_________________________________________________________________\n",
      "Layer (type)                 Output Shape              Param #   \n",
      "=================================================================\n",
      "encoder_input (InputLayer)   (None, 33538)             0         \n",
      "_________________________________________________________________\n",
      "dense_7 (Dense)              (None, 300)               10061700  \n",
      "_________________________________________________________________\n",
      "z_mean (Dense)               (None, 10)                3010      \n",
      "=================================================================\n",
      "Total params: 10,064,710\n",
      "Trainable params: 10,064,710\n",
      "Non-trainable params: 0\n",
      "_________________________________________________________________\n"
     ]
    }
   ],
   "source": [
    "encoder = Model(inputs, z_mean)\n",
    "encoder.summary()"
   ]
  },
  {
   "cell_type": "code",
   "execution_count": 45,
   "id": "fcdcbc11",
   "metadata": {},
   "outputs": [],
   "source": [
    "latent_inputs = Input(shape=(latent_dim,), name='z_sampling')\n",
    "x = Dense(intermediate_dim, activation='relu')(latent_inputs)\n",
    "outputs = Dense(original_dim, activation='sigmoid')(x)  "
   ]
  },
  {
   "cell_type": "code",
   "execution_count": 46,
   "id": "34a7a0cb",
   "metadata": {},
   "outputs": [
    {
     "name": "stdout",
     "output_type": "stream",
     "text": [
      "Model: \"decoder\"\n",
      "_________________________________________________________________\n",
      "Layer (type)                 Output Shape              Param #   \n",
      "=================================================================\n",
      "z_sampling (InputLayer)      (None, 10)                0         \n",
      "_________________________________________________________________\n",
      "dense_8 (Dense)              (None, 300)               3300      \n",
      "_________________________________________________________________\n",
      "dense_9 (Dense)              (None, 33538)             10094938  \n",
      "=================================================================\n",
      "Total params: 10,098,238\n",
      "Trainable params: 10,098,238\n",
      "Non-trainable params: 0\n",
      "_________________________________________________________________\n"
     ]
    }
   ],
   "source": [
    "decoder = Model(latent_inputs, outputs, name='decoder')\n",
    "decoder.summary()"
   ]
  },
  {
   "cell_type": "code",
   "execution_count": 47,
   "id": "4dca34c8",
   "metadata": {},
   "outputs": [],
   "source": [
    "outputs = decoder(encoder(inputs))\n",
    "vae = Model(inputs, outputs, name='vae_mlp')"
   ]
  },
  {
   "cell_type": "code",
   "execution_count": 48,
   "id": "5958cd4c",
   "metadata": {},
   "outputs": [],
   "source": [
    "vae.compile(optimizer='rmsprop', loss=vae_loss)"
   ]
  },
  {
   "cell_type": "code",
   "execution_count": 49,
   "id": "c27fff45",
   "metadata": {
    "scrolled": true
   },
   "outputs": [
    {
     "name": "stdout",
     "output_type": "stream",
     "text": [
      "Epoch 1/10\n",
      "3639/3639 [==============================] - 5s 1ms/step - loss: 1.0011\n",
      "Epoch 2/10\n",
      "3639/3639 [==============================] - 5s 1ms/step - loss: 0.2689\n",
      "Epoch 3/10\n",
      "3639/3639 [==============================] - 5s 1ms/step - loss: 0.1438\n",
      "Epoch 4/10\n",
      "3639/3639 [==============================] - 5s 1ms/step - loss: 0.1030\n",
      "Epoch 5/10\n",
      "3639/3639 [==============================] - 5s 1ms/step - loss: 0.0856\n",
      "Epoch 6/10\n",
      "3639/3639 [==============================] - 5s 1ms/step - loss: 0.0777\n",
      "Epoch 7/10\n",
      "3639/3639 [==============================] - 5s 1ms/step - loss: 0.0758\n",
      "Epoch 8/10\n",
      "3639/3639 [==============================] - 5s 1ms/step - loss: 0.0746\n",
      "Epoch 9/10\n",
      "3639/3639 [==============================] - 5s 1ms/step - loss: 0.0734\n",
      "Epoch 10/10\n",
      "3639/3639 [==============================] - 5s 1ms/step - loss: 0.0732\n"
     ]
    }
   ],
   "source": [
    "results = vae.fit(x_scaled, x_scaled,\n",
    "        shuffle=True,\n",
    "        epochs=epochs,\n",
    "        batch_size=batch_size)#,\n",
    "       # validation_data=(x_test, x_test))"
   ]
  },
  {
   "cell_type": "code",
   "execution_count": 50,
   "id": "08dfbcb7",
   "metadata": {},
   "outputs": [],
   "source": [
    "data_w = x_scaled\n",
    "data_y = x_scaled"
   ]
  },
  {
   "cell_type": "code",
   "execution_count": 51,
   "id": "498f3ad2",
   "metadata": {},
   "outputs": [],
   "source": [
    "test_au_features = encoder.predict(data_w)"
   ]
  },
  {
   "cell_type": "code",
   "execution_count": 52,
   "id": "803a2213",
   "metadata": {},
   "outputs": [
    {
     "data": {
      "text/html": [
       "<div>\n",
       "<style scoped>\n",
       "    .dataframe tbody tr th:only-of-type {\n",
       "        vertical-align: middle;\n",
       "    }\n",
       "\n",
       "    .dataframe tbody tr th {\n",
       "        vertical-align: top;\n",
       "    }\n",
       "\n",
       "    .dataframe thead th {\n",
       "        text-align: right;\n",
       "    }\n",
       "</style>\n",
       "<table border=\"1\" class=\"dataframe\">\n",
       "  <thead>\n",
       "    <tr style=\"text-align: right;\">\n",
       "      <th></th>\n",
       "      <th>dim_1</th>\n",
       "      <th>dim_2</th>\n",
       "      <th>dim_3</th>\n",
       "      <th>dim_4</th>\n",
       "      <th>dim_5</th>\n",
       "      <th>dim_6</th>\n",
       "      <th>dim_7</th>\n",
       "      <th>dim_8</th>\n",
       "      <th>dim_9</th>\n",
       "      <th>dim_10</th>\n",
       "    </tr>\n",
       "  </thead>\n",
       "  <tbody>\n",
       "    <tr>\n",
       "      <th>0</th>\n",
       "      <td>-0.016775</td>\n",
       "      <td>0.022148</td>\n",
       "      <td>0.022815</td>\n",
       "      <td>0.025259</td>\n",
       "      <td>-0.026727</td>\n",
       "      <td>0.019226</td>\n",
       "      <td>-0.030279</td>\n",
       "      <td>-0.02473</td>\n",
       "      <td>0.018883</td>\n",
       "      <td>-0.020151</td>\n",
       "    </tr>\n",
       "    <tr>\n",
       "      <th>1</th>\n",
       "      <td>-0.028213</td>\n",
       "      <td>0.037775</td>\n",
       "      <td>0.050461</td>\n",
       "      <td>0.034461</td>\n",
       "      <td>-0.043317</td>\n",
       "      <td>0.034772</td>\n",
       "      <td>-0.045205</td>\n",
       "      <td>-0.02814</td>\n",
       "      <td>0.024419</td>\n",
       "      <td>-0.044863</td>\n",
       "    </tr>\n",
       "    <tr>\n",
       "      <th>2</th>\n",
       "      <td>-0.016775</td>\n",
       "      <td>0.022148</td>\n",
       "      <td>0.022815</td>\n",
       "      <td>0.025259</td>\n",
       "      <td>-0.026727</td>\n",
       "      <td>0.019226</td>\n",
       "      <td>-0.030279</td>\n",
       "      <td>-0.02473</td>\n",
       "      <td>0.018883</td>\n",
       "      <td>-0.020151</td>\n",
       "    </tr>\n",
       "    <tr>\n",
       "      <th>3</th>\n",
       "      <td>-0.016775</td>\n",
       "      <td>0.022148</td>\n",
       "      <td>0.022815</td>\n",
       "      <td>0.025259</td>\n",
       "      <td>-0.026727</td>\n",
       "      <td>0.019226</td>\n",
       "      <td>-0.030279</td>\n",
       "      <td>-0.02473</td>\n",
       "      <td>0.018883</td>\n",
       "      <td>-0.020151</td>\n",
       "    </tr>\n",
       "    <tr>\n",
       "      <th>4</th>\n",
       "      <td>-0.016775</td>\n",
       "      <td>0.022148</td>\n",
       "      <td>0.022815</td>\n",
       "      <td>0.025259</td>\n",
       "      <td>-0.026727</td>\n",
       "      <td>0.019226</td>\n",
       "      <td>-0.030279</td>\n",
       "      <td>-0.02473</td>\n",
       "      <td>0.018883</td>\n",
       "      <td>-0.020151</td>\n",
       "    </tr>\n",
       "  </tbody>\n",
       "</table>\n",
       "</div>"
      ],
      "text/plain": [
       "      dim_1     dim_2     dim_3     dim_4     dim_5     dim_6     dim_7  \\\n",
       "0 -0.016775  0.022148  0.022815  0.025259 -0.026727  0.019226 -0.030279   \n",
       "1 -0.028213  0.037775  0.050461  0.034461 -0.043317  0.034772 -0.045205   \n",
       "2 -0.016775  0.022148  0.022815  0.025259 -0.026727  0.019226 -0.030279   \n",
       "3 -0.016775  0.022148  0.022815  0.025259 -0.026727  0.019226 -0.030279   \n",
       "4 -0.016775  0.022148  0.022815  0.025259 -0.026727  0.019226 -0.030279   \n",
       "\n",
       "     dim_8     dim_9    dim_10  \n",
       "0 -0.02473  0.018883 -0.020151  \n",
       "1 -0.02814  0.024419 -0.044863  \n",
       "2 -0.02473  0.018883 -0.020151  \n",
       "3 -0.02473  0.018883 -0.020151  \n",
       "4 -0.02473  0.018883 -0.020151  "
      ]
     },
     "execution_count": 52,
     "metadata": {},
     "output_type": "execute_result"
    }
   ],
   "source": [
    "df = pd.DataFrame(test_au_features, columns = ['dim_1','dim_2','dim_3','dim_4','dim_5','dim_6','dim_7','dim_8','dim_9','dim_10'])\n",
    "df.head()"
   ]
  },
  {
   "cell_type": "code",
   "execution_count": 53,
   "id": "5bcc2825",
   "metadata": {},
   "outputs": [],
   "source": [
    "# save in output files\n",
    "sevenbg_output_path = f\"/sbgenomics/output-files/data/latent_space_VAE\"\n",
    "os.makedirs(sevenbg_output_path, exist_ok=True)\n",
    "df.to_csv(f\"{sevenbg_output_path}/DPLFC_151673_latent_space_VAE.csv\")"
   ]
  },
  {
   "cell_type": "markdown",
   "id": "b9eeb47f",
   "metadata": {},
   "source": [
    "# 2. Visualize 151673 result with DR"
   ]
  },
  {
   "cell_type": "markdown",
   "id": "4bbe64ac",
   "metadata": {},
   "source": [
    "## 2.1. PCA"
   ]
  },
  {
   "cell_type": "code",
   "execution_count": 61,
   "id": "d6d8f967",
   "metadata": {},
   "outputs": [
    {
     "data": {
      "text/plain": [
       "<matplotlib.collections.PathCollection at 0x7fd8d5520510>"
      ]
     },
     "execution_count": 61,
     "metadata": {},
     "output_type": "execute_result"
    },
    {
     "data": {
      "image/png": "[encoded data removed]",
      "text/plain": [
       "<Figure size 432x288 with 1 Axes>"
      ]
     },
     "metadata": {
      "needs_background": "light"
     },
     "output_type": "display_data"
    }
   ],
   "source": [
    "df_embeddings_pca = compute_dimensionality_reduction(test_au_features, x_scaled, method = 'PCA')\n",
    "plt.scatter(df_embeddings_pca[\"X1\"], df_embeddings_pca[\"X2\"])"
   ]
  },
  {
   "cell_type": "markdown",
   "id": "733d9495",
   "metadata": {},
   "source": [
    "## 2.2. UMAP"
   ]
  },
  {
   "cell_type": "code",
   "execution_count": 62,
   "id": "ac9a0db7",
   "metadata": {},
   "outputs": [
    {
     "data": {
      "text/plain": [
       "<matplotlib.collections.PathCollection at 0x7fd506631290>"
      ]
     },
     "execution_count": 62,
     "metadata": {},
     "output_type": "execute_result"
    },
    {
     "data": {
      "image/png": "[encoded data removed]",
      "text/plain": [
       "<Figure size 432x288 with 1 Axes>"
      ]
     },
     "metadata": {
      "needs_background": "light"
     },
     "output_type": "display_data"
    }
   ],
   "source": [
    "df_embeddings_umap = compute_dimensionality_reduction(test_au_features, x_scaled, method = 'UMAP')\n",
    "plt.scatter(df_embeddings_umap[\"X1\"], df_embeddings_umap[\"X2\"])"
   ]
  },
  {
   "cell_type": "markdown",
   "id": "397ec8c5",
   "metadata": {},
   "source": [
    "## 2.3. T-SNE"
   ]
  },
  {
   "cell_type": "code",
   "execution_count": 63,
   "id": "718e730c",
   "metadata": {},
   "outputs": [
    {
     "data": {
      "text/plain": [
       "<matplotlib.collections.PathCollection at 0x7fd50a011c50>"
      ]
     },
     "execution_count": 63,
     "metadata": {},
     "output_type": "execute_result"
    },
    {
     "data": {
      "image/png": "[encoded data removed]",
      "text/plain": [
       "<Figure size 432x288 with 1 Axes>"
      ]
     },
     "metadata": {
      "needs_background": "light"
     },
     "output_type": "display_data"
    }
   ],
   "source": [
    "df_embeddings_tsne = compute_dimensionality_reduction(test_au_features, x_scaled, method = 'TSNE')\n",
    "plt.scatter(df_embeddings_tsne[\"X1\"], df_embeddings_tsne[\"X2\"])"
   ]
  },
  {
   "cell_type": "markdown",
   "id": "d0475a50",
   "metadata": {},
   "source": [
    "# 3. VAE with Top 300 HVG 151673"
   ]
  },
  {
   "cell_type": "markdown",
   "id": "3a2a671a",
   "metadata": {},
   "source": [
    "Import dataframe:"
   ]
  },
  {
   "cell_type": "code",
   "execution_count": null,
   "id": "53f5cf71",
   "metadata": {},
   "outputs": [],
   "source": [
    "HGV_300_151673 = pd.read_csv(\"/../../sbgenomics/project-files/HVG/151673_300_HGV.csv\", index_col = 0)\n",
    "HGV_300_151673_list = HGV_300_151673.index.values.tolist()"
   ]
  },
  {
   "cell_type": "code",
   "execution_count": null,
   "id": "eb6e9f05",
   "metadata": {},
   "outputs": [],
   "source": [
    "HGV_300_151673"
   ]
  },
  {
   "cell_type": "code",
   "execution_count": 79,
   "id": "3e5eba0c",
   "metadata": {},
   "outputs": [
    {
     "data": {
      "text/html": [
       "<div>\n",
       "<style scoped>\n",
       "    .dataframe tbody tr th:only-of-type {\n",
       "        vertical-align: middle;\n",
       "    }\n",
       "\n",
       "    .dataframe tbody tr th {\n",
       "        vertical-align: top;\n",
       "    }\n",
       "\n",
       "    .dataframe thead th {\n",
       "        text-align: right;\n",
       "    }\n",
       "</style>\n",
       "<table border=\"1\" class=\"dataframe\">\n",
       "  <thead>\n",
       "    <tr style=\"text-align: right;\">\n",
       "      <th></th>\n",
       "      <th>NPY</th>\n",
       "      <th>PLP1</th>\n",
       "      <th>IGKC</th>\n",
       "      <th>HBB</th>\n",
       "      <th>HBA2</th>\n",
       "      <th>MBP</th>\n",
       "      <th>SST</th>\n",
       "      <th>IGHG3</th>\n",
       "      <th>CNP</th>\n",
       "      <th>CRYAB</th>\n",
       "      <th>...</th>\n",
       "      <th>RASSF2</th>\n",
       "      <th>SLC10A7</th>\n",
       "      <th>SLAIN1</th>\n",
       "      <th>TEC</th>\n",
       "      <th>VSIG1</th>\n",
       "      <th>AC025580.3</th>\n",
       "      <th>AL590434.1</th>\n",
       "      <th>C21orf62-AS1</th>\n",
       "      <th>AC017007.5</th>\n",
       "      <th>GFI1B</th>\n",
       "    </tr>\n",
       "  </thead>\n",
       "  <tbody>\n",
       "    <tr>\n",
       "      <th>0</th>\n",
       "      <td>0.000000</td>\n",
       "      <td>0.047297</td>\n",
       "      <td>0.056338</td>\n",
       "      <td>0.000000</td>\n",
       "      <td>0.019231</td>\n",
       "      <td>0.051282</td>\n",
       "      <td>0.013699</td>\n",
       "      <td>0.000000</td>\n",
       "      <td>0.020833</td>\n",
       "      <td>0.000000</td>\n",
       "      <td>...</td>\n",
       "      <td>0.142857</td>\n",
       "      <td>0.0</td>\n",
       "      <td>0.000000</td>\n",
       "      <td>0.0</td>\n",
       "      <td>0.0</td>\n",
       "      <td>0.0</td>\n",
       "      <td>0.0</td>\n",
       "      <td>0.0</td>\n",
       "      <td>0.0</td>\n",
       "      <td>0.0</td>\n",
       "    </tr>\n",
       "    <tr>\n",
       "      <th>1</th>\n",
       "      <td>0.000000</td>\n",
       "      <td>0.000000</td>\n",
       "      <td>0.000000</td>\n",
       "      <td>0.000000</td>\n",
       "      <td>0.019231</td>\n",
       "      <td>0.015385</td>\n",
       "      <td>0.013699</td>\n",
       "      <td>0.000000</td>\n",
       "      <td>0.020833</td>\n",
       "      <td>0.000000</td>\n",
       "      <td>...</td>\n",
       "      <td>0.000000</td>\n",
       "      <td>0.0</td>\n",
       "      <td>0.166667</td>\n",
       "      <td>0.0</td>\n",
       "      <td>0.0</td>\n",
       "      <td>0.0</td>\n",
       "      <td>0.0</td>\n",
       "      <td>0.0</td>\n",
       "      <td>0.0</td>\n",
       "      <td>0.0</td>\n",
       "    </tr>\n",
       "    <tr>\n",
       "      <th>2</th>\n",
       "      <td>0.000000</td>\n",
       "      <td>0.297297</td>\n",
       "      <td>0.014085</td>\n",
       "      <td>0.048780</td>\n",
       "      <td>0.057692</td>\n",
       "      <td>0.523077</td>\n",
       "      <td>0.000000</td>\n",
       "      <td>0.000000</td>\n",
       "      <td>0.312500</td>\n",
       "      <td>0.500000</td>\n",
       "      <td>...</td>\n",
       "      <td>0.142857</td>\n",
       "      <td>0.0</td>\n",
       "      <td>0.833333</td>\n",
       "      <td>0.0</td>\n",
       "      <td>0.0</td>\n",
       "      <td>0.0</td>\n",
       "      <td>0.0</td>\n",
       "      <td>0.0</td>\n",
       "      <td>0.0</td>\n",
       "      <td>0.0</td>\n",
       "    </tr>\n",
       "    <tr>\n",
       "      <th>3</th>\n",
       "      <td>0.001639</td>\n",
       "      <td>0.013514</td>\n",
       "      <td>0.000000</td>\n",
       "      <td>0.000000</td>\n",
       "      <td>0.019231</td>\n",
       "      <td>0.030769</td>\n",
       "      <td>0.013699</td>\n",
       "      <td>0.000000</td>\n",
       "      <td>0.000000</td>\n",
       "      <td>0.021739</td>\n",
       "      <td>...</td>\n",
       "      <td>0.000000</td>\n",
       "      <td>0.0</td>\n",
       "      <td>0.000000</td>\n",
       "      <td>0.0</td>\n",
       "      <td>0.0</td>\n",
       "      <td>0.0</td>\n",
       "      <td>0.0</td>\n",
       "      <td>0.0</td>\n",
       "      <td>0.0</td>\n",
       "      <td>0.0</td>\n",
       "    </tr>\n",
       "    <tr>\n",
       "      <th>4</th>\n",
       "      <td>0.000000</td>\n",
       "      <td>0.027027</td>\n",
       "      <td>0.112676</td>\n",
       "      <td>0.000000</td>\n",
       "      <td>0.000000</td>\n",
       "      <td>0.066667</td>\n",
       "      <td>0.000000</td>\n",
       "      <td>0.190476</td>\n",
       "      <td>0.062500</td>\n",
       "      <td>0.108696</td>\n",
       "      <td>...</td>\n",
       "      <td>0.000000</td>\n",
       "      <td>0.0</td>\n",
       "      <td>0.000000</td>\n",
       "      <td>0.0</td>\n",
       "      <td>0.0</td>\n",
       "      <td>0.0</td>\n",
       "      <td>0.0</td>\n",
       "      <td>0.0</td>\n",
       "      <td>0.0</td>\n",
       "      <td>0.0</td>\n",
       "    </tr>\n",
       "    <tr>\n",
       "      <th>...</th>\n",
       "      <td>...</td>\n",
       "      <td>...</td>\n",
       "      <td>...</td>\n",
       "      <td>...</td>\n",
       "      <td>...</td>\n",
       "      <td>...</td>\n",
       "      <td>...</td>\n",
       "      <td>...</td>\n",
       "      <td>...</td>\n",
       "      <td>...</td>\n",
       "      <td>...</td>\n",
       "      <td>...</td>\n",
       "      <td>...</td>\n",
       "      <td>...</td>\n",
       "      <td>...</td>\n",
       "      <td>...</td>\n",
       "      <td>...</td>\n",
       "      <td>...</td>\n",
       "      <td>...</td>\n",
       "      <td>...</td>\n",
       "      <td>...</td>\n",
       "    </tr>\n",
       "    <tr>\n",
       "      <th>3634</th>\n",
       "      <td>0.000000</td>\n",
       "      <td>0.675676</td>\n",
       "      <td>0.000000</td>\n",
       "      <td>0.024390</td>\n",
       "      <td>0.000000</td>\n",
       "      <td>0.251282</td>\n",
       "      <td>0.000000</td>\n",
       "      <td>0.000000</td>\n",
       "      <td>0.770833</td>\n",
       "      <td>0.413043</td>\n",
       "      <td>...</td>\n",
       "      <td>0.571429</td>\n",
       "      <td>0.0</td>\n",
       "      <td>0.500000</td>\n",
       "      <td>0.0</td>\n",
       "      <td>0.0</td>\n",
       "      <td>0.0</td>\n",
       "      <td>0.0</td>\n",
       "      <td>0.0</td>\n",
       "      <td>0.0</td>\n",
       "      <td>0.0</td>\n",
       "    </tr>\n",
       "    <tr>\n",
       "      <th>3635</th>\n",
       "      <td>0.000000</td>\n",
       "      <td>0.182432</td>\n",
       "      <td>0.056338</td>\n",
       "      <td>0.243902</td>\n",
       "      <td>0.038462</td>\n",
       "      <td>0.230769</td>\n",
       "      <td>0.000000</td>\n",
       "      <td>0.000000</td>\n",
       "      <td>0.291667</td>\n",
       "      <td>0.282609</td>\n",
       "      <td>...</td>\n",
       "      <td>0.142857</td>\n",
       "      <td>0.0</td>\n",
       "      <td>0.000000</td>\n",
       "      <td>0.0</td>\n",
       "      <td>0.0</td>\n",
       "      <td>0.0</td>\n",
       "      <td>0.0</td>\n",
       "      <td>0.0</td>\n",
       "      <td>0.0</td>\n",
       "      <td>0.0</td>\n",
       "    </tr>\n",
       "    <tr>\n",
       "      <th>3636</th>\n",
       "      <td>0.000000</td>\n",
       "      <td>0.094595</td>\n",
       "      <td>0.000000</td>\n",
       "      <td>0.000000</td>\n",
       "      <td>0.000000</td>\n",
       "      <td>0.138462</td>\n",
       "      <td>0.013699</td>\n",
       "      <td>0.000000</td>\n",
       "      <td>0.020833</td>\n",
       "      <td>0.043478</td>\n",
       "      <td>...</td>\n",
       "      <td>0.000000</td>\n",
       "      <td>0.0</td>\n",
       "      <td>0.000000</td>\n",
       "      <td>0.0</td>\n",
       "      <td>0.0</td>\n",
       "      <td>0.0</td>\n",
       "      <td>0.0</td>\n",
       "      <td>0.0</td>\n",
       "      <td>0.0</td>\n",
       "      <td>0.0</td>\n",
       "    </tr>\n",
       "    <tr>\n",
       "      <th>3637</th>\n",
       "      <td>0.000000</td>\n",
       "      <td>0.074324</td>\n",
       "      <td>0.000000</td>\n",
       "      <td>0.000000</td>\n",
       "      <td>0.000000</td>\n",
       "      <td>0.158974</td>\n",
       "      <td>0.000000</td>\n",
       "      <td>0.000000</td>\n",
       "      <td>0.041667</td>\n",
       "      <td>0.108696</td>\n",
       "      <td>...</td>\n",
       "      <td>0.000000</td>\n",
       "      <td>0.0</td>\n",
       "      <td>0.000000</td>\n",
       "      <td>0.0</td>\n",
       "      <td>0.0</td>\n",
       "      <td>0.0</td>\n",
       "      <td>0.0</td>\n",
       "      <td>0.0</td>\n",
       "      <td>0.0</td>\n",
       "      <td>0.0</td>\n",
       "    </tr>\n",
       "    <tr>\n",
       "      <th>3638</th>\n",
       "      <td>0.000000</td>\n",
       "      <td>0.020270</td>\n",
       "      <td>0.000000</td>\n",
       "      <td>0.000000</td>\n",
       "      <td>0.000000</td>\n",
       "      <td>0.010256</td>\n",
       "      <td>0.013699</td>\n",
       "      <td>0.000000</td>\n",
       "      <td>0.020833</td>\n",
       "      <td>0.021739</td>\n",
       "      <td>...</td>\n",
       "      <td>0.000000</td>\n",
       "      <td>0.0</td>\n",
       "      <td>0.333333</td>\n",
       "      <td>0.0</td>\n",
       "      <td>0.0</td>\n",
       "      <td>0.0</td>\n",
       "      <td>0.0</td>\n",
       "      <td>0.0</td>\n",
       "      <td>0.0</td>\n",
       "      <td>0.0</td>\n",
       "    </tr>\n",
       "  </tbody>\n",
       "</table>\n",
       "<p>3639 rows × 300 columns</p>\n",
       "</div>"
      ],
      "text/plain": [
       "           NPY      PLP1      IGKC       HBB      HBA2       MBP       SST  \\\n",
       "0     0.000000  0.047297  0.056338  0.000000  0.019231  0.051282  0.013699   \n",
       "1     0.000000  0.000000  0.000000  0.000000  0.019231  0.015385  0.013699   \n",
       "2     0.000000  0.297297  0.014085  0.048780  0.057692  0.523077  0.000000   \n",
       "3     0.001639  0.013514  0.000000  0.000000  0.019231  0.030769  0.013699   \n",
       "4     0.000000  0.027027  0.112676  0.000000  0.000000  0.066667  0.000000   \n",
       "...        ...       ...       ...       ...       ...       ...       ...   \n",
       "3634  0.000000  0.675676  0.000000  0.024390  0.000000  0.251282  0.000000   \n",
       "3635  0.000000  0.182432  0.056338  0.243902  0.038462  0.230769  0.000000   \n",
       "3636  0.000000  0.094595  0.000000  0.000000  0.000000  0.138462  0.013699   \n",
       "3637  0.000000  0.074324  0.000000  0.000000  0.000000  0.158974  0.000000   \n",
       "3638  0.000000  0.020270  0.000000  0.000000  0.000000  0.010256  0.013699   \n",
       "\n",
       "         IGHG3       CNP     CRYAB  ...    RASSF2  SLC10A7    SLAIN1  TEC  \\\n",
       "0     0.000000  0.020833  0.000000  ...  0.142857      0.0  0.000000  0.0   \n",
       "1     0.000000  0.020833  0.000000  ...  0.000000      0.0  0.166667  0.0   \n",
       "2     0.000000  0.312500  0.500000  ...  0.142857      0.0  0.833333  0.0   \n",
       "3     0.000000  0.000000  0.021739  ...  0.000000      0.0  0.000000  0.0   \n",
       "4     0.190476  0.062500  0.108696  ...  0.000000      0.0  0.000000  0.0   \n",
       "...        ...       ...       ...  ...       ...      ...       ...  ...   \n",
       "3634  0.000000  0.770833  0.413043  ...  0.571429      0.0  0.500000  0.0   \n",
       "3635  0.000000  0.291667  0.282609  ...  0.142857      0.0  0.000000  0.0   \n",
       "3636  0.000000  0.020833  0.043478  ...  0.000000      0.0  0.000000  0.0   \n",
       "3637  0.000000  0.041667  0.108696  ...  0.000000      0.0  0.000000  0.0   \n",
       "3638  0.000000  0.020833  0.021739  ...  0.000000      0.0  0.333333  0.0   \n",
       "\n",
       "      VSIG1  AC025580.3  AL590434.1  C21orf62-AS1  AC017007.5  GFI1B  \n",
       "0       0.0         0.0         0.0           0.0         0.0    0.0  \n",
       "1       0.0         0.0         0.0           0.0         0.0    0.0  \n",
       "2       0.0         0.0         0.0           0.0         0.0    0.0  \n",
       "3       0.0         0.0         0.0           0.0         0.0    0.0  \n",
       "4       0.0         0.0         0.0           0.0         0.0    0.0  \n",
       "...     ...         ...         ...           ...         ...    ...  \n",
       "3634    0.0         0.0         0.0           0.0         0.0    0.0  \n",
       "3635    0.0         0.0         0.0           0.0         0.0    0.0  \n",
       "3636    0.0         0.0         0.0           0.0         0.0    0.0  \n",
       "3637    0.0         0.0         0.0           0.0         0.0    0.0  \n",
       "3638    0.0         0.0         0.0           0.0         0.0    0.0  \n",
       "\n",
       "[3639 rows x 300 columns]"
      ]
     },
     "execution_count": 79,
     "metadata": {},
     "output_type": "execute_result"
    }
   ],
   "source": [
    "HGV_counts_151673 = x_scaled[HGV_300_151673_list]\n",
    "HGV_counts_151673"
   ]
  },
  {
   "cell_type": "code",
   "execution_count": 81,
   "id": "41cab263",
   "metadata": {},
   "outputs": [],
   "source": [
    "# network parameters\n",
    "original_dim = x_scaled.shape[1]\n",
    "input_shape = (original_dim, )\n",
    "intermediate_dim = 300\n",
    "batch_size = 128\n",
    "latent_dim = 10\n",
    "epochs = 10"
   ]
  },
  {
   "cell_type": "code",
   "execution_count": 82,
   "id": "2d78b2f8",
   "metadata": {
    "scrolled": true
   },
   "outputs": [],
   "source": [
    "# VAE model = encoder + decoder\n",
    "# build encoder model\n",
    "inputs = Input(shape=input_shape, name='encoder_input')\n",
    "x = Dense(intermediate_dim, activation='relu')(inputs)\n",
    "z_mean = Dense(latent_dim, name='z_mean')(x)\n",
    "z_log_var = Dense(latent_dim, name='z_log_var')(x) "
   ]
  },
  {
   "cell_type": "code",
   "execution_count": 83,
   "id": "180c2662",
   "metadata": {},
   "outputs": [],
   "source": [
    "# use reparameterization trick to push the sampling out as input\n",
    "# note that \"output_shape\" isn't necessary with the TensorFlow backend\n",
    "z = Lambda(sampling, output_shape=(latent_dim,), name='z')([z_mean, z_log_var])"
   ]
  },
  {
   "cell_type": "code",
   "execution_count": 84,
   "id": "9c70ee22",
   "metadata": {},
   "outputs": [
    {
     "name": "stdout",
     "output_type": "stream",
     "text": [
      "Model: \"model_4\"\n",
      "_________________________________________________________________\n",
      "Layer (type)                 Output Shape              Param #   \n",
      "=================================================================\n",
      "encoder_input (InputLayer)   (None, 33538)             0         \n",
      "_________________________________________________________________\n",
      "dense_10 (Dense)             (None, 300)               10061700  \n",
      "_________________________________________________________________\n",
      "z_mean (Dense)               (None, 10)                3010      \n",
      "=================================================================\n",
      "Total params: 10,064,710\n",
      "Trainable params: 10,064,710\n",
      "Non-trainable params: 0\n",
      "_________________________________________________________________\n"
     ]
    }
   ],
   "source": [
    "encoder = Model(inputs, z_mean)\n",
    "encoder.summary()"
   ]
  },
  {
   "cell_type": "code",
   "execution_count": 85,
   "id": "69944b9b",
   "metadata": {},
   "outputs": [],
   "source": [
    "latent_inputs = Input(shape=(latent_dim,), name='z_sampling')\n",
    "x = Dense(intermediate_dim, activation='relu')(latent_inputs)\n",
    "outputs = Dense(original_dim, activation='sigmoid')(x)  "
   ]
  },
  {
   "cell_type": "code",
   "execution_count": 86,
   "id": "c464d025",
   "metadata": {},
   "outputs": [
    {
     "name": "stdout",
     "output_type": "stream",
     "text": [
      "Model: \"decoder\"\n",
      "_________________________________________________________________\n",
      "Layer (type)                 Output Shape              Param #   \n",
      "=================================================================\n",
      "z_sampling (InputLayer)      (None, 10)                0         \n",
      "_________________________________________________________________\n",
      "dense_11 (Dense)             (None, 300)               3300      \n",
      "_________________________________________________________________\n",
      "dense_12 (Dense)             (None, 33538)             10094938  \n",
      "=================================================================\n",
      "Total params: 10,098,238\n",
      "Trainable params: 10,098,238\n",
      "Non-trainable params: 0\n",
      "_________________________________________________________________\n"
     ]
    }
   ],
   "source": [
    "decoder = Model(latent_inputs, outputs, name='decoder')\n",
    "decoder.summary()"
   ]
  },
  {
   "cell_type": "code",
   "execution_count": 87,
   "id": "82fd9a4e",
   "metadata": {},
   "outputs": [],
   "source": [
    "outputs = decoder(encoder(inputs))\n",
    "vae = Model(inputs, outputs, name='vae_mlp')"
   ]
  },
  {
   "cell_type": "code",
   "execution_count": 88,
   "id": "0c996dfb",
   "metadata": {},
   "outputs": [],
   "source": [
    "vae.compile(optimizer='rmsprop', loss=vae_loss)"
   ]
  },
  {
   "cell_type": "code",
   "execution_count": 89,
   "id": "0586787f",
   "metadata": {
    "scrolled": true
   },
   "outputs": [
    {
     "name": "stdout",
     "output_type": "stream",
     "text": [
      "Epoch 1/10\n",
      "3639/3639 [==============================] - 5s 1ms/step - loss: 15.8450\n",
      "Epoch 2/10\n",
      "3639/3639 [==============================] - 5s 1ms/step - loss: 0.5588\n",
      "Epoch 3/10\n",
      "3639/3639 [==============================] - 5s 1ms/step - loss: 0.2297\n",
      "Epoch 4/10\n",
      "3639/3639 [==============================] - 5s 1ms/step - loss: 0.1519\n",
      "Epoch 5/10\n",
      "3639/3639 [==============================] - 5s 1ms/step - loss: 0.1473\n",
      "Epoch 6/10\n",
      "3639/3639 [==============================] - 5s 1ms/step - loss: 0.1403\n",
      "Epoch 7/10\n",
      "3639/3639 [==============================] - 5s 1ms/step - loss: 0.1144\n",
      "Epoch 8/10\n",
      "3639/3639 [==============================] - 5s 1ms/step - loss: 0.1012\n",
      "Epoch 9/10\n",
      "3639/3639 [==============================] - 5s 1ms/step - loss: 0.0963\n",
      "Epoch 10/10\n",
      "3639/3639 [==============================] - 5s 1ms/step - loss: 0.0927\n"
     ]
    }
   ],
   "source": [
    "results = vae.fit(x_scaled, x_scaled,\n",
    "        shuffle=True,\n",
    "        epochs=epochs,\n",
    "        batch_size=batch_size)#,\n",
    "       # validation_data=(x_test, x_test))"
   ]
  },
  {
   "cell_type": "code",
   "execution_count": 90,
   "id": "5469f874",
   "metadata": {},
   "outputs": [],
   "source": [
    "data_w = x_scaled\n",
    "data_y = x_scaled"
   ]
  },
  {
   "cell_type": "code",
   "execution_count": 91,
   "id": "d92ef70b",
   "metadata": {},
   "outputs": [],
   "source": [
    "test_au_features = encoder.predict(data_w)"
   ]
  },
  {
   "cell_type": "code",
   "execution_count": 92,
   "id": "c6a01bf6",
   "metadata": {},
   "outputs": [
    {
     "data": {
      "text/html": [
       "<div>\n",
       "<style scoped>\n",
       "    .dataframe tbody tr th:only-of-type {\n",
       "        vertical-align: middle;\n",
       "    }\n",
       "\n",
       "    .dataframe tbody tr th {\n",
       "        vertical-align: top;\n",
       "    }\n",
       "\n",
       "    .dataframe thead th {\n",
       "        text-align: right;\n",
       "    }\n",
       "</style>\n",
       "<table border=\"1\" class=\"dataframe\">\n",
       "  <thead>\n",
       "    <tr style=\"text-align: right;\">\n",
       "      <th></th>\n",
       "      <th>dim_1</th>\n",
       "      <th>dim_2</th>\n",
       "      <th>dim_3</th>\n",
       "      <th>dim_4</th>\n",
       "      <th>dim_5</th>\n",
       "      <th>dim_6</th>\n",
       "      <th>dim_7</th>\n",
       "      <th>dim_8</th>\n",
       "      <th>dim_9</th>\n",
       "      <th>dim_10</th>\n",
       "    </tr>\n",
       "  </thead>\n",
       "  <tbody>\n",
       "    <tr>\n",
       "      <th>0</th>\n",
       "      <td>-0.197893</td>\n",
       "      <td>0.034987</td>\n",
       "      <td>0.073894</td>\n",
       "      <td>0.093073</td>\n",
       "      <td>0.047538</td>\n",
       "      <td>0.059292</td>\n",
       "      <td>-0.080315</td>\n",
       "      <td>-0.271451</td>\n",
       "      <td>-0.370838</td>\n",
       "      <td>0.279535</td>\n",
       "    </tr>\n",
       "    <tr>\n",
       "      <th>1</th>\n",
       "      <td>0.028109</td>\n",
       "      <td>0.033638</td>\n",
       "      <td>0.054317</td>\n",
       "      <td>0.074342</td>\n",
       "      <td>-0.010094</td>\n",
       "      <td>0.087897</td>\n",
       "      <td>0.008102</td>\n",
       "      <td>-0.118148</td>\n",
       "      <td>-0.112070</td>\n",
       "      <td>0.092338</td>\n",
       "    </tr>\n",
       "    <tr>\n",
       "      <th>2</th>\n",
       "      <td>-0.113476</td>\n",
       "      <td>0.051329</td>\n",
       "      <td>0.091132</td>\n",
       "      <td>0.122331</td>\n",
       "      <td>0.083065</td>\n",
       "      <td>0.074624</td>\n",
       "      <td>-0.095899</td>\n",
       "      <td>-0.277277</td>\n",
       "      <td>-0.190900</td>\n",
       "      <td>0.187419</td>\n",
       "    </tr>\n",
       "    <tr>\n",
       "      <th>3</th>\n",
       "      <td>-0.090264</td>\n",
       "      <td>0.005339</td>\n",
       "      <td>0.069125</td>\n",
       "      <td>0.104059</td>\n",
       "      <td>0.014023</td>\n",
       "      <td>0.112809</td>\n",
       "      <td>-0.080549</td>\n",
       "      <td>-0.258041</td>\n",
       "      <td>-0.282034</td>\n",
       "      <td>0.213093</td>\n",
       "    </tr>\n",
       "    <tr>\n",
       "      <th>4</th>\n",
       "      <td>-0.046267</td>\n",
       "      <td>-0.019858</td>\n",
       "      <td>0.026249</td>\n",
       "      <td>0.152955</td>\n",
       "      <td>0.000633</td>\n",
       "      <td>0.025900</td>\n",
       "      <td>-0.040721</td>\n",
       "      <td>-0.220377</td>\n",
       "      <td>-0.208973</td>\n",
       "      <td>0.177776</td>\n",
       "    </tr>\n",
       "  </tbody>\n",
       "</table>\n",
       "</div>"
      ],
      "text/plain": [
       "      dim_1     dim_2     dim_3     dim_4     dim_5     dim_6     dim_7  \\\n",
       "0 -0.197893  0.034987  0.073894  0.093073  0.047538  0.059292 -0.080315   \n",
       "1  0.028109  0.033638  0.054317  0.074342 -0.010094  0.087897  0.008102   \n",
       "2 -0.113476  0.051329  0.091132  0.122331  0.083065  0.074624 -0.095899   \n",
       "3 -0.090264  0.005339  0.069125  0.104059  0.014023  0.112809 -0.080549   \n",
       "4 -0.046267 -0.019858  0.026249  0.152955  0.000633  0.025900 -0.040721   \n",
       "\n",
       "      dim_8     dim_9    dim_10  \n",
       "0 -0.271451 -0.370838  0.279535  \n",
       "1 -0.118148 -0.112070  0.092338  \n",
       "2 -0.277277 -0.190900  0.187419  \n",
       "3 -0.258041 -0.282034  0.213093  \n",
       "4 -0.220377 -0.208973  0.177776  "
      ]
     },
     "execution_count": 92,
     "metadata": {},
     "output_type": "execute_result"
    }
   ],
   "source": [
    "df = pd.DataFrame(test_au_features, columns = ['dim_1','dim_2','dim_3','dim_4','dim_5','dim_6','dim_7','dim_8','dim_9','dim_10'])\n",
    "df.head()"
   ]
  },
  {
   "cell_type": "code",
   "execution_count": 93,
   "id": "e0055ee8",
   "metadata": {},
   "outputs": [],
   "source": [
    "# save in output files\n",
    "sevenbg_output_path = f\"/sbgenomics/output-files/data/latent_space_VAE\"\n",
    "os.makedirs(sevenbg_output_path, exist_ok=True)\n",
    "df.to_csv(f\"{sevenbg_output_path}/HGV_DPLFC_151673_latent_space_VAE.csv\")"
   ]
  }
 ],
 "metadata": {
  "kernelspec": {
   "display_name": "Python 3 (ipykernel)",
   "language": "python",
   "name": "python3"
  },
  "language_info": {
   "codemirror_mode": {
    "name": "ipython",
    "version": 3
   },
   "file_extension": ".py",
   "mimetype": "text/x-python",
   "name": "python",
   "nbconvert_exporter": "python",
   "pygments_lexer": "ipython3",
   "version": "3.7.10"
  }
 },
 "nbformat": 4,
 "nbformat_minor": 5
}
