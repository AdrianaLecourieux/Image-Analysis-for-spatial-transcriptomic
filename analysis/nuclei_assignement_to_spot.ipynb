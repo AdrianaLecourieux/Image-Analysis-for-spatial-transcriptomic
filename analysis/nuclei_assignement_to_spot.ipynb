{
 "cells": [
  {
   "cell_type": "markdown",
   "id": "45ef60e9-70d0-45b0-ad75-7a5eb82899a1",
   "metadata": {},
   "source": [
    "# Assignment of cell nuclei morphological features to spots"
   ]
  },
  {
   "cell_type": "markdown",
   "id": "e83c5e00-fb5d-419a-ba8e-7e1c4435175d",
   "metadata": {},
   "source": [
    "In this notebook you'll find the function which attributes cell nuclei morphological features to spots.\n",
    "\n",
    "The data used in this script are :\n",
    "- visium data (ST)\n",
    "- visiopharm data (cell nuclei morphological features)"
   ]
  },
  {
   "cell_type": "markdown",
   "id": "e98a88d1-834f-4081-b333-4b50968ec90d",
   "metadata": {
    "tags": []
   },
   "source": [
    "# 1. Import packages and data"
   ]
  },
  {
   "cell_type": "markdown",
   "id": "13906f99-69f0-4f78-b11f-65341f332d91",
   "metadata": {},
   "source": [
    "pip install scanpy\n",
    "\n",
    "pip install opencv-python"
   ]
  },
  {
   "cell_type": "code",
   "execution_count": 1,
   "id": "c41ef3aa-094f-430c-b36f-c5af66fa5623",
   "metadata": {},
   "outputs": [],
   "source": [
    "import os\n",
    "import pandas as pd\n",
    "import cv2\n",
    "from matplotlib import pyplot as plt\n",
    "\n",
    "# for ST data\n",
    "import scanpy as sc"
   ]
  },
  {
   "cell_type": "markdown",
   "id": "7fea37c7-2a98-4cc1-9be4-257b0163486c",
   "metadata": {},
   "source": [
    "# 2. Functions definition"
   ]
  },
  {
   "cell_type": "code",
   "execution_count": 10,
   "id": "2116233a-1742-44fb-8a21-e5b4d428580f",
   "metadata": {},
   "outputs": [],
   "source": [
    "def isInside(circle_x, circle_y, rad, x, y):\n",
    "    \"\"\"Find if x,y coordinates are in a circle\n",
    "\n",
    "    Parameters\n",
    "    ----------\n",
    "    circle_x : string\n",
    "        x circle\n",
    "    circle_y : string\n",
    "        y circle\n",
    "    rad : int\n",
    "        circle radius\n",
    "    x : float\n",
    "        x coordinate\n",
    "    y : float\n",
    "        y coordinate\n",
    "        \n",
    "    Returns\n",
    "    -------\n",
    "    True/False : bool\n",
    "    \"\"\"\n",
    "    # Compare radius of circle with distance of its center from given point\n",
    "    if ((x - circle_x) * (x - circle_x) +\n",
    "        (y - circle_y) * (y - circle_y) <= rad * rad):\n",
    "        return True;\n",
    "    else:\n",
    "        return False;"
   ]
  },
  {
   "cell_type": "code",
   "execution_count": 9,
   "id": "90724df9-8632-4981-83ac-3c74f05f86bc",
   "metadata": {},
   "outputs": [],
   "source": [
    "def merged_modularity(path_for_visium, path_tissue_positions, path_for_morphological_features, name):\n",
    "    \"\"\"Attribute cell nuclei morphological features to spots\n",
    "\n",
    "    Parameters\n",
    "    ----------\n",
    "    path_for_visium : string\n",
    "        Visium data path\n",
    "    path_tissue_positions : string\n",
    "        visium tissue position data path \n",
    "    path_for_morphological_features : string\n",
    "        visiopharm data path\n",
    "    name : string\n",
    "        name of the sample\n",
    "    \"\"\"\n",
    "    #load visium data         \n",
    "    ST_visium = sc.read_visium(path_for_visium)\n",
    "    ST_visium.obs = ST_visium.obs.reset_index()\n",
    "    ST_visium.obs = ST_visium.obs.rename(columns={\"index\": \"probes\"})\n",
    "    # load tissue positions df\n",
    "    tissue_positions = pd.read_csv(path_tissue_positions, header = None)\n",
    "    #preprocess tissue positions tissu df\n",
    "    tissue_positions = tissue_positions.rename(columns={0: \"probes\"})\n",
    "    #merge the two df\n",
    "    coordinates_position_probes_visium = pd.merge(ST_visium.obs, tissue_positions, how='inner', on=['probes'])\n",
    "    y_coordinates_position_probes_visium = list(coordinates_position_probes_visium[4])\n",
    "    x_coordinates_position_probes_visium = list(coordinates_position_probes_visium[5])\n",
    "\n",
    "    # create df form visium data\n",
    "    ST_visium = sc.read_visium(path_for_visium)\n",
    "    counts = pd.DataFrame(ST_visium.X.todense(), columns=ST_visium.var_names, index=ST_visium.obs_names) # create counts df\n",
    "\n",
    "    # attribution of center nulcei coordinates in spot\n",
    "    PDAC_B2 = pd.read_csv(path_for_morphological_features)\n",
    "    PDAC_B2_visio = PDAC_B2.drop(columns = [\"Unnamed: 0\",\"Name\",\"Total Nuclei (#)\"])    \n",
    "    PDAC_B2_visio_x = list(PDAC_B2[\"new_x\"])\n",
    "    PDAC_B2_visio_y = list(PDAC_B2[\"new_y\"])\n",
    "    rad = 65\n",
    "    idx_to_drop = []\n",
    "    x_ST_list = []\n",
    "    y_ST_list = []\n",
    "    for x,y in zip(PDAC_B2_visio_x, PDAC_B2_visio_y):\n",
    "        for circle_x, circle_y in zip(x_coordinates_position_probes_visium, y_coordinates_position_probes_visium):\n",
    "            if(isInside(circle_x, circle_y, rad, x, y)):\n",
    "                msk = PDAC_B2_visio['new_x'].eq(x) & (PDAC_B2_visio['new_y'].eq(y))\n",
    "                idx_to_drop.append(PDAC_B2_visio.index[msk])\n",
    "                x_ST_list.append(circle_x)\n",
    "                y_ST_list.append(circle_y)\n",
    "\n",
    "    new_idx = [x for idx in idx_to_drop for x in idx]\n",
    "    df_collect_morpho = PDAC_B2_visio.drop(new_idx)\n",
    "    df_1notin2 = PDAC_B2_visio[~PDAC_B2_visio.isin(df_collect_morpho).all(axis=1)]\n",
    "\n",
    "    df_1notin2[\"x_coord\"] = x_ST_list # add x and y spots coordinates in columns\n",
    "    df_1notin2[\"y_coord\"] = y_ST_list\n",
    "    df_mean = df_1notin2.groupby(['x_coord','y_coord'])['Nuclei Area per object', 'Texture inertia', 'Max Intensity',\n",
    "                                    'Mean Intensity', 'Min Intensity', 'Modus', 'Texture Anisotropy',\n",
    "                                    'Texture Entropy', 'Texture Major Axis', 'Texture Major Direction',\n",
    "                                    'Texture Minor Axis'].mean() # calculate mean of morphological features by spot\n",
    "    df_mean = df_mean.reset_index() # switch index to column\n",
    "\n",
    "  \n",
    "\n",
    "    coord = pd.DataFrame(ST_visium.obsm['spatial'], columns=['x_coord', 'y_coord'], index=ST_visium.obs_names) # create spot coordinates df\n",
    "    merged_coord = pd.merge(coord, df_mean, on= [\"x_coord\", \"y_coord\"], how=\"left\") # merged the two dataframe into new one\n",
    "    coordinates_position_probes_visium = coordinates_position_probes_visium.rename(columns={4: \"y_coord\", 5: \"x_coord\"}) # rename columns\n",
    "    merged_probes = pd.merge(coordinates_position_probes_visium, merged_coord, on= [\"x_coord\", \"y_coord\"], how=\"left\") # merge coordinates_position_probes_visium and merged_coord df\n",
    "    merged_probes_clean = merged_probes.drop(['in_tissue', 'array_row', 'array_col', 1,2,3], axis=1) # drop useless columns\n",
    "    merged_probes_clean = merged_probes_clean.set_index('probes') # change index name\n",
    "    final_df = counts.join(merged_probes_clean) # merged merged_probes_clean and counts df\n",
    "    #save results\n",
    "    final_df.to_csv(f'dataframe/{name}_profils_merged_morpho_raw.csv')\n",
    "    counts_with_probes = final_df.drop(['Nuclei Area per object', 'Texture inertia',\n",
    "       'Max Intensity', 'Mean Intensity', 'Min Intensity', 'Modus',\n",
    "       'Texture Anisotropy', 'Texture Entropy', 'Texture Major Axis',\n",
    "       'Texture Major Direction', 'Texture Minor Axis'], axis = 1)\n",
    "    counts_with_probes.to_csv(f'dataframe/{name}_counts_with_probes.csv')                    \n",
    "    print(\"Final df and count df correctly save !\")\n",
    "    print(\"Number of NA:\")\n",
    "    print(final_df.isna().sum()) "
   ]
  },
  {
   "cell_type": "markdown",
   "id": "4ecb9920-127a-4b2a-8bcd-88df013478fd",
   "metadata": {
    "jp-MarkdownHeadingCollapsed": true,
    "tags": []
   },
   "source": [
    "# 3. DPLFC dataset"
   ]
  },
  {
   "cell_type": "markdown",
   "id": "b45327e8-4518-48a8-a72a-2b414c0d95e2",
   "metadata": {
    "jp-MarkdownHeadingCollapsed": true,
    "tags": []
   },
   "source": [
    "## DPLFC 151676"
   ]
  },
  {
   "cell_type": "code",
   "execution_count": 3,
   "id": "3105923c-e37b-4ff9-a14d-f1453d59b1e7",
   "metadata": {},
   "outputs": [],
   "source": [
    "path_for_morphological_features = \"preprocess_visiopharm/df_DPLFC_151676_without_background.csv\"\n",
    "path_for_visium = \"./visium/151676/\"\n",
    "path_tissue_positions = \"./visium/151676/spatial/tissue_positions_list.csv\"\n",
    "name = \"DPLFC_151676\""
   ]
  },
  {
   "cell_type": "code",
   "execution_count": 6,
   "id": "3547df7e-d48c-40ff-9d2c-dc6159b380f5",
   "metadata": {},
   "outputs": [
    {
     "name": "stderr",
     "output_type": "stream",
     "text": [
      "/tmp/ipykernel_77/3107094939.py:40: SettingWithCopyWarning: \n",
      "A value is trying to be set on a copy of a slice from a DataFrame.\n",
      "Try using .loc[row_indexer,col_indexer] = value instead\n",
      "\n",
      "See the caveats in the documentation: https://pandas.pydata.org/pandas-docs/stable/user_guide/indexing.html#returning-a-view-versus-a-copy\n",
      "  df_1notin2[\"x_coord\"] = x_ST_list # add x and y spots coordinates in columns\n",
      "/tmp/ipykernel_77/3107094939.py:41: SettingWithCopyWarning: \n",
      "A value is trying to be set on a copy of a slice from a DataFrame.\n",
      "Try using .loc[row_indexer,col_indexer] = value instead\n",
      "\n",
      "See the caveats in the documentation: https://pandas.pydata.org/pandas-docs/stable/user_guide/indexing.html#returning-a-view-versus-a-copy\n",
      "  df_1notin2[\"y_coord\"] = y_ST_list\n",
      "/tmp/ipykernel_77/3107094939.py:42: FutureWarning: Indexing with multiple keys (implicitly converted to a tuple of keys) will be deprecated, use a list instead.\n",
      "  df_mean = df_1notin2.groupby(['x_coord','y_coord'])['Nuclei Area per object', 'Texture inertia', 'Max Intensity',\n"
     ]
    },
    {
     "name": "stdout",
     "output_type": "stream",
     "text": [
      "Final df and count df correctly save !\n",
      "Number of NA:\n",
      "MIR1302-2HG                   0\n",
      "FAM138A                       0\n",
      "OR4F5                         0\n",
      "AL627309.1                    0\n",
      "AL627309.3                    0\n",
      "                           ... \n",
      "Texture Anisotropy         1046\n",
      "Texture Entropy            1046\n",
      "Texture Major Axis         1046\n",
      "Texture Major Direction    1046\n",
      "Texture Minor Axis         1046\n",
      "Length: 33551, dtype: int64\n"
     ]
    }
   ],
   "source": [
    "merged_modularity(path_for_visium, path_tissue_positions,path_for_morphological_features, name)"
   ]
  },
  {
   "cell_type": "markdown",
   "id": "b31dfa71-13ba-4d89-93ca-135bee3d095a",
   "metadata": {
    "tags": []
   },
   "source": [
    "## DPLFC 151507"
   ]
  },
  {
   "cell_type": "code",
   "execution_count": 42,
   "id": "d31d1be1-ecee-47d4-8555-50a39ca90dd5",
   "metadata": {},
   "outputs": [],
   "source": [
    "path_for_morphological_features = \"preprocess_visiopharm/df_DPLFC_151507_without_background.csv\"\n",
    "path_for_visium = \"./visium/151507/\"\n",
    "path_tissue_positions = \"./visium/151507/spatial/tissue_positions_list.csv\"\n",
    "name = \"DPLFC_151507\""
   ]
  },
  {
   "cell_type": "code",
   "execution_count": 43,
   "id": "137470d8-01cc-41c4-97ec-fe0720d2067b",
   "metadata": {},
   "outputs": [
    {
     "name": "stderr",
     "output_type": "stream",
     "text": [
      "/tmp/ipykernel_77/2124656122.py:39: SettingWithCopyWarning: \n",
      "A value is trying to be set on a copy of a slice from a DataFrame.\n",
      "Try using .loc[row_indexer,col_indexer] = value instead\n",
      "\n",
      "See the caveats in the documentation: https://pandas.pydata.org/pandas-docs/stable/user_guide/indexing.html#returning-a-view-versus-a-copy\n",
      "  df_1notin2[\"x_coord\"] = x_ST_list # add x and y spots coordinates in columns\n",
      "/tmp/ipykernel_77/2124656122.py:40: SettingWithCopyWarning: \n",
      "A value is trying to be set on a copy of a slice from a DataFrame.\n",
      "Try using .loc[row_indexer,col_indexer] = value instead\n",
      "\n",
      "See the caveats in the documentation: https://pandas.pydata.org/pandas-docs/stable/user_guide/indexing.html#returning-a-view-versus-a-copy\n",
      "  df_1notin2[\"y_coord\"] = y_ST_list\n",
      "/tmp/ipykernel_77/2124656122.py:41: FutureWarning: Indexing with multiple keys (implicitly converted to a tuple of keys) will be deprecated, use a list instead.\n",
      "  df_mean = df_1notin2.groupby(['x_coord','y_coord'])['Nuclei Area per object', 'Texture inertia', 'Max Intensity',\n"
     ]
    },
    {
     "name": "stdout",
     "output_type": "stream",
     "text": [
      "Final df and count df correctly save !\n",
      "Number of NA:\n",
      "MIR1302-2HG                  0\n",
      "FAM138A                      0\n",
      "OR4F5                        0\n",
      "AL627309.1                   0\n",
      "AL627309.3                   0\n",
      "                          ... \n",
      "Texture Anisotropy         799\n",
      "Texture Entropy            799\n",
      "Texture Major Axis         799\n",
      "Texture Major Direction    799\n",
      "Texture Minor Axis         799\n",
      "Length: 33551, dtype: int64\n"
     ]
    }
   ],
   "source": [
    "merged_modularity(path_for_visium, path_tissue_positions,path_for_morphological_features, name)"
   ]
  },
  {
   "cell_type": "markdown",
   "id": "05d3bdfc-8fda-49dd-9d79-ea8232167df3",
   "metadata": {
    "jp-MarkdownHeadingCollapsed": true,
    "tags": []
   },
   "source": [
    "## DPLFC 151508"
   ]
  },
  {
   "cell_type": "code",
   "execution_count": 44,
   "id": "5cee233f-7f1a-421c-b208-9d1e241be01b",
   "metadata": {},
   "outputs": [],
   "source": [
    "path_for_morphological_features = \"preprocess_visiopharm/df_DPLFC_151508_without_background.csv\"\n",
    "path_for_visium = \"./visium/151508/\"\n",
    "path_tissue_positions = \"./visium/151508/spatial/tissue_positions_list.csv\"\n",
    "name = \"DPLFC_151508\""
   ]
  },
  {
   "cell_type": "code",
   "execution_count": 45,
   "id": "d776a1d5-583a-4a08-aca2-180f2bc3651b",
   "metadata": {},
   "outputs": [
    {
     "name": "stderr",
     "output_type": "stream",
     "text": [
      "/tmp/ipykernel_77/2124656122.py:39: SettingWithCopyWarning: \n",
      "A value is trying to be set on a copy of a slice from a DataFrame.\n",
      "Try using .loc[row_indexer,col_indexer] = value instead\n",
      "\n",
      "See the caveats in the documentation: https://pandas.pydata.org/pandas-docs/stable/user_guide/indexing.html#returning-a-view-versus-a-copy\n",
      "  df_1notin2[\"x_coord\"] = x_ST_list # add x and y spots coordinates in columns\n",
      "/tmp/ipykernel_77/2124656122.py:40: SettingWithCopyWarning: \n",
      "A value is trying to be set on a copy of a slice from a DataFrame.\n",
      "Try using .loc[row_indexer,col_indexer] = value instead\n",
      "\n",
      "See the caveats in the documentation: https://pandas.pydata.org/pandas-docs/stable/user_guide/indexing.html#returning-a-view-versus-a-copy\n",
      "  df_1notin2[\"y_coord\"] = y_ST_list\n",
      "/tmp/ipykernel_77/2124656122.py:41: FutureWarning: Indexing with multiple keys (implicitly converted to a tuple of keys) will be deprecated, use a list instead.\n",
      "  df_mean = df_1notin2.groupby(['x_coord','y_coord'])['Nuclei Area per object', 'Texture inertia', 'Max Intensity',\n"
     ]
    },
    {
     "name": "stdout",
     "output_type": "stream",
     "text": [
      "Final df and count df correctly save !\n",
      "Number of NA:\n",
      "MIR1302-2HG                  0\n",
      "FAM138A                      0\n",
      "OR4F5                        0\n",
      "AL627309.1                   0\n",
      "AL627309.3                   0\n",
      "                          ... \n",
      "Texture Anisotropy         881\n",
      "Texture Entropy            881\n",
      "Texture Major Axis         881\n",
      "Texture Major Direction    881\n",
      "Texture Minor Axis         881\n",
      "Length: 33551, dtype: int64\n"
     ]
    }
   ],
   "source": [
    "merged_modularity(path_for_visium, path_tissue_positions,path_for_morphological_features, name)"
   ]
  },
  {
   "cell_type": "markdown",
   "id": "f4498836-e19c-4fe3-87a8-459dad82e94e",
   "metadata": {
    "jp-MarkdownHeadingCollapsed": true,
    "tags": []
   },
   "source": [
    "## DPLFC 151509"
   ]
  },
  {
   "cell_type": "code",
   "execution_count": 46,
   "id": "f91649a8-9cfe-459d-a866-6659459f9e18",
   "metadata": {},
   "outputs": [],
   "source": [
    "path_for_morphological_features = \"preprocess_visiopharm/df_DPLFC_151509_without_background.csv\"\n",
    "path_for_visium = \"./visium/151509/\"\n",
    "path_tissue_positions = \"./visium/151509/spatial/tissue_positions_list.csv\"\n",
    "name = \"DPLFC_151509\""
   ]
  },
  {
   "cell_type": "code",
   "execution_count": 47,
   "id": "69e14620-b178-47c0-a5ee-e4535da00359",
   "metadata": {},
   "outputs": [
    {
     "name": "stderr",
     "output_type": "stream",
     "text": [
      "/tmp/ipykernel_77/2124656122.py:39: SettingWithCopyWarning: \n",
      "A value is trying to be set on a copy of a slice from a DataFrame.\n",
      "Try using .loc[row_indexer,col_indexer] = value instead\n",
      "\n",
      "See the caveats in the documentation: https://pandas.pydata.org/pandas-docs/stable/user_guide/indexing.html#returning-a-view-versus-a-copy\n",
      "  df_1notin2[\"x_coord\"] = x_ST_list # add x and y spots coordinates in columns\n",
      "/tmp/ipykernel_77/2124656122.py:40: SettingWithCopyWarning: \n",
      "A value is trying to be set on a copy of a slice from a DataFrame.\n",
      "Try using .loc[row_indexer,col_indexer] = value instead\n",
      "\n",
      "See the caveats in the documentation: https://pandas.pydata.org/pandas-docs/stable/user_guide/indexing.html#returning-a-view-versus-a-copy\n",
      "  df_1notin2[\"y_coord\"] = y_ST_list\n",
      "/tmp/ipykernel_77/2124656122.py:41: FutureWarning: Indexing with multiple keys (implicitly converted to a tuple of keys) will be deprecated, use a list instead.\n",
      "  df_mean = df_1notin2.groupby(['x_coord','y_coord'])['Nuclei Area per object', 'Texture inertia', 'Max Intensity',\n"
     ]
    },
    {
     "name": "stdout",
     "output_type": "stream",
     "text": [
      "Final df and count df correctly save !\n",
      "Number of NA:\n",
      "MIR1302-2HG                  0\n",
      "FAM138A                      0\n",
      "OR4F5                        0\n",
      "AL627309.1                   0\n",
      "AL627309.3                   0\n",
      "                          ... \n",
      "Texture Anisotropy         436\n",
      "Texture Entropy            436\n",
      "Texture Major Axis         436\n",
      "Texture Major Direction    436\n",
      "Texture Minor Axis         436\n",
      "Length: 33551, dtype: int64\n"
     ]
    }
   ],
   "source": [
    "merged_modularity(path_for_visium, path_tissue_positions,path_for_morphological_features, name)"
   ]
  },
  {
   "cell_type": "markdown",
   "id": "a91dd4dc-1024-49b6-a726-e331a13b555e",
   "metadata": {
    "jp-MarkdownHeadingCollapsed": true,
    "tags": []
   },
   "source": [
    "## DPLFC 151510"
   ]
  },
  {
   "cell_type": "code",
   "execution_count": 22,
   "id": "891c7f41-be48-4cd4-8bbc-8a0c3b97a2c5",
   "metadata": {},
   "outputs": [],
   "source": [
    "path_for_morphological_features = \"preprocess_visiopharm/df_DPLFC_151510_without_background.csv\"\n",
    "path_for_visium = \"./visium/151510/\"\n",
    "path_tissue_positions = \"./visium/151510/spatial/tissue_positions_list.csv\"\n",
    "name = \"DPLFC_151510\""
   ]
  },
  {
   "cell_type": "code",
   "execution_count": 23,
   "id": "3329ebb7-b39d-496a-a224-0c8b68119075",
   "metadata": {},
   "outputs": [
    {
     "name": "stderr",
     "output_type": "stream",
     "text": [
      "/tmp/ipykernel_618/2124656122.py:39: SettingWithCopyWarning: \n",
      "A value is trying to be set on a copy of a slice from a DataFrame.\n",
      "Try using .loc[row_indexer,col_indexer] = value instead\n",
      "\n",
      "See the caveats in the documentation: https://pandas.pydata.org/pandas-docs/stable/user_guide/indexing.html#returning-a-view-versus-a-copy\n",
      "  df_1notin2[\"x_coord\"] = x_ST_list # add x and y spots coordinates in columns\n",
      "/tmp/ipykernel_618/2124656122.py:40: SettingWithCopyWarning: \n",
      "A value is trying to be set on a copy of a slice from a DataFrame.\n",
      "Try using .loc[row_indexer,col_indexer] = value instead\n",
      "\n",
      "See the caveats in the documentation: https://pandas.pydata.org/pandas-docs/stable/user_guide/indexing.html#returning-a-view-versus-a-copy\n",
      "  df_1notin2[\"y_coord\"] = y_ST_list\n",
      "/tmp/ipykernel_618/2124656122.py:41: FutureWarning: Indexing with multiple keys (implicitly converted to a tuple of keys) will be deprecated, use a list instead.\n",
      "  df_mean = df_1notin2.groupby(['x_coord','y_coord'])['Nuclei Area per object', 'Texture inertia', 'Max Intensity',\n"
     ]
    },
    {
     "name": "stdout",
     "output_type": "stream",
     "text": [
      "Final df and count df correctly save !\n",
      "Number of NA:\n",
      "MIR1302-2HG                  0\n",
      "FAM138A                      0\n",
      "OR4F5                        0\n",
      "AL627309.1                   0\n",
      "AL627309.3                   0\n",
      "                          ... \n",
      "Texture Anisotropy         934\n",
      "Texture Entropy            934\n",
      "Texture Major Axis         934\n",
      "Texture Major Direction    934\n",
      "Texture Minor Axis         934\n",
      "Length: 33551, dtype: int64\n"
     ]
    }
   ],
   "source": [
    "merged_modularity(path_for_visium, path_tissue_positions,path_for_morphological_features, name)"
   ]
  },
  {
   "cell_type": "markdown",
   "id": "23a925c6-fdf2-46a5-be27-bb775bf3a278",
   "metadata": {
    "jp-MarkdownHeadingCollapsed": true,
    "tags": []
   },
   "source": [
    "## DPLFC 151669"
   ]
  },
  {
   "cell_type": "code",
   "execution_count": 48,
   "id": "3475b1b1-3bf6-4473-a610-050c57c489ef",
   "metadata": {},
   "outputs": [],
   "source": [
    "path_for_morphological_features = \"preprocess_visiopharm/df_DPLFC_151669_without_background.csv\"\n",
    "path_for_visium = \"./visium/151669/\"\n",
    "path_tissue_positions = \"./visium/151669/spatial/tissue_positions_list.csv\"\n",
    "name = \"DPLFC_151669\""
   ]
  },
  {
   "cell_type": "code",
   "execution_count": 49,
   "id": "dd212b13-5d42-4b4d-9933-5d3f2de7424a",
   "metadata": {},
   "outputs": [
    {
     "name": "stderr",
     "output_type": "stream",
     "text": [
      "/tmp/ipykernel_77/2124656122.py:39: SettingWithCopyWarning: \n",
      "A value is trying to be set on a copy of a slice from a DataFrame.\n",
      "Try using .loc[row_indexer,col_indexer] = value instead\n",
      "\n",
      "See the caveats in the documentation: https://pandas.pydata.org/pandas-docs/stable/user_guide/indexing.html#returning-a-view-versus-a-copy\n",
      "  df_1notin2[\"x_coord\"] = x_ST_list # add x and y spots coordinates in columns\n",
      "/tmp/ipykernel_77/2124656122.py:40: SettingWithCopyWarning: \n",
      "A value is trying to be set on a copy of a slice from a DataFrame.\n",
      "Try using .loc[row_indexer,col_indexer] = value instead\n",
      "\n",
      "See the caveats in the documentation: https://pandas.pydata.org/pandas-docs/stable/user_guide/indexing.html#returning-a-view-versus-a-copy\n",
      "  df_1notin2[\"y_coord\"] = y_ST_list\n",
      "/tmp/ipykernel_77/2124656122.py:41: FutureWarning: Indexing with multiple keys (implicitly converted to a tuple of keys) will be deprecated, use a list instead.\n",
      "  df_mean = df_1notin2.groupby(['x_coord','y_coord'])['Nuclei Area per object', 'Texture inertia', 'Max Intensity',\n"
     ]
    },
    {
     "name": "stdout",
     "output_type": "stream",
     "text": [
      "Final df and count df correctly save !\n",
      "Number of NA:\n",
      "MIR1302-2HG                  0\n",
      "FAM138A                      0\n",
      "OR4F5                        0\n",
      "AL627309.1                   0\n",
      "AL627309.3                   0\n",
      "                          ... \n",
      "Texture Anisotropy         305\n",
      "Texture Entropy            305\n",
      "Texture Major Axis         305\n",
      "Texture Major Direction    305\n",
      "Texture Minor Axis         305\n",
      "Length: 33551, dtype: int64\n"
     ]
    }
   ],
   "source": [
    "merged_modularity(path_for_visium, path_tissue_positions,path_for_morphological_features, name)"
   ]
  },
  {
   "cell_type": "markdown",
   "id": "7c34b458-9644-457c-99d7-7da6814295d5",
   "metadata": {
    "jp-MarkdownHeadingCollapsed": true,
    "tags": []
   },
   "source": [
    "## DPLFC 151670"
   ]
  },
  {
   "cell_type": "code",
   "execution_count": 50,
   "id": "b50a189e-8d9d-4cfd-9ffc-f1c2835db699",
   "metadata": {},
   "outputs": [],
   "source": [
    "path_for_morphological_features = \"preprocess_visiopharm/df_DPLFC_151670_without_background.csv\"\n",
    "path_for_visium = \"./visium/151670/\"\n",
    "path_tissue_positions = \"./visium/151670/spatial/tissue_positions_list.csv\"\n",
    "name = \"DPLFC_151670\""
   ]
  },
  {
   "cell_type": "code",
   "execution_count": 51,
   "id": "d52dc820-1efd-4a37-9446-8a41bec2461e",
   "metadata": {},
   "outputs": [
    {
     "name": "stderr",
     "output_type": "stream",
     "text": [
      "/tmp/ipykernel_77/2124656122.py:39: SettingWithCopyWarning: \n",
      "A value is trying to be set on a copy of a slice from a DataFrame.\n",
      "Try using .loc[row_indexer,col_indexer] = value instead\n",
      "\n",
      "See the caveats in the documentation: https://pandas.pydata.org/pandas-docs/stable/user_guide/indexing.html#returning-a-view-versus-a-copy\n",
      "  df_1notin2[\"x_coord\"] = x_ST_list # add x and y spots coordinates in columns\n",
      "/tmp/ipykernel_77/2124656122.py:40: SettingWithCopyWarning: \n",
      "A value is trying to be set on a copy of a slice from a DataFrame.\n",
      "Try using .loc[row_indexer,col_indexer] = value instead\n",
      "\n",
      "See the caveats in the documentation: https://pandas.pydata.org/pandas-docs/stable/user_guide/indexing.html#returning-a-view-versus-a-copy\n",
      "  df_1notin2[\"y_coord\"] = y_ST_list\n",
      "/tmp/ipykernel_77/2124656122.py:41: FutureWarning: Indexing with multiple keys (implicitly converted to a tuple of keys) will be deprecated, use a list instead.\n",
      "  df_mean = df_1notin2.groupby(['x_coord','y_coord'])['Nuclei Area per object', 'Texture inertia', 'Max Intensity',\n"
     ]
    },
    {
     "name": "stdout",
     "output_type": "stream",
     "text": [
      "Final df and count df correctly save !\n",
      "Number of NA:\n",
      "MIR1302-2HG                  0\n",
      "FAM138A                      0\n",
      "OR4F5                        0\n",
      "AL627309.1                   0\n",
      "AL627309.3                   0\n",
      "                          ... \n",
      "Texture Anisotropy         774\n",
      "Texture Entropy            774\n",
      "Texture Major Axis         774\n",
      "Texture Major Direction    774\n",
      "Texture Minor Axis         774\n",
      "Length: 33551, dtype: int64\n"
     ]
    }
   ],
   "source": [
    "merged_modularity(path_for_visium, path_tissue_positions,path_for_morphological_features, name)"
   ]
  },
  {
   "cell_type": "markdown",
   "id": "295178e2-b3c0-4236-b2f2-2b3188bf30af",
   "metadata": {
    "jp-MarkdownHeadingCollapsed": true,
    "tags": []
   },
   "source": [
    "## DPLFC 151671"
   ]
  },
  {
   "cell_type": "code",
   "execution_count": 25,
   "id": "16746d7a-cc01-41ad-9ba5-18ad9a5152f6",
   "metadata": {},
   "outputs": [],
   "source": [
    "path_for_morphological_features = \"preprocess_visiopharm/df_DPLFC_151671_without_background.csv\"\n",
    "path_for_visium = \"./visium/151671/\"\n",
    "path_tissue_positions = \"./visium/151671/spatial/tissue_positions_list.csv\"\n",
    "name = \"DPLFC_151671\""
   ]
  },
  {
   "cell_type": "code",
   "execution_count": 26,
   "id": "58df6ca2-55bb-49a2-8575-3473727d1aed",
   "metadata": {},
   "outputs": [
    {
     "name": "stderr",
     "output_type": "stream",
     "text": [
      "/tmp/ipykernel_618/2124656122.py:39: SettingWithCopyWarning: \n",
      "A value is trying to be set on a copy of a slice from a DataFrame.\n",
      "Try using .loc[row_indexer,col_indexer] = value instead\n",
      "\n",
      "See the caveats in the documentation: https://pandas.pydata.org/pandas-docs/stable/user_guide/indexing.html#returning-a-view-versus-a-copy\n",
      "  df_1notin2[\"x_coord\"] = x_ST_list # add x and y spots coordinates in columns\n",
      "/tmp/ipykernel_618/2124656122.py:40: SettingWithCopyWarning: \n",
      "A value is trying to be set on a copy of a slice from a DataFrame.\n",
      "Try using .loc[row_indexer,col_indexer] = value instead\n",
      "\n",
      "See the caveats in the documentation: https://pandas.pydata.org/pandas-docs/stable/user_guide/indexing.html#returning-a-view-versus-a-copy\n",
      "  df_1notin2[\"y_coord\"] = y_ST_list\n",
      "/tmp/ipykernel_618/2124656122.py:41: FutureWarning: Indexing with multiple keys (implicitly converted to a tuple of keys) will be deprecated, use a list instead.\n",
      "  df_mean = df_1notin2.groupby(['x_coord','y_coord'])['Nuclei Area per object', 'Texture inertia', 'Max Intensity',\n"
     ]
    },
    {
     "name": "stdout",
     "output_type": "stream",
     "text": [
      "Final df and count df correctly save !\n",
      "Number of NA:\n",
      "MIR1302-2HG                  0\n",
      "FAM138A                      0\n",
      "OR4F5                        0\n",
      "AL627309.1                   0\n",
      "AL627309.3                   0\n",
      "                          ... \n",
      "Texture Anisotropy         396\n",
      "Texture Entropy            396\n",
      "Texture Major Axis         396\n",
      "Texture Major Direction    396\n",
      "Texture Minor Axis         396\n",
      "Length: 33551, dtype: int64\n"
     ]
    }
   ],
   "source": [
    "merged_modularity(path_for_visium, path_tissue_positions,path_for_morphological_features, name)"
   ]
  },
  {
   "cell_type": "markdown",
   "id": "c17860c7-b22d-4e77-a186-0401f542ed03",
   "metadata": {
    "jp-MarkdownHeadingCollapsed": true,
    "tags": []
   },
   "source": [
    "## DPLFC 151672"
   ]
  },
  {
   "cell_type": "code",
   "execution_count": 18,
   "id": "55beca2e-2bf3-4f6e-9436-4be030df5079",
   "metadata": {},
   "outputs": [],
   "source": [
    "path_for_morphological_features = \"preprocess_visiopharm/df_DPLFC_151672_without_background.csv\"\n",
    "path_for_visium = \"./visium/151672/\"\n",
    "path_tissue_positions = \"./visium/151672/spatial/tissue_positions_list.csv\"\n",
    "name = \"DPLFC_151672\""
   ]
  },
  {
   "cell_type": "code",
   "execution_count": 19,
   "id": "03aaa441-6c81-4732-81d6-9e224f0ba72f",
   "metadata": {},
   "outputs": [
    {
     "name": "stderr",
     "output_type": "stream",
     "text": [
      "/tmp/ipykernel_618/2124656122.py:39: SettingWithCopyWarning: \n",
      "A value is trying to be set on a copy of a slice from a DataFrame.\n",
      "Try using .loc[row_indexer,col_indexer] = value instead\n",
      "\n",
      "See the caveats in the documentation: https://pandas.pydata.org/pandas-docs/stable/user_guide/indexing.html#returning-a-view-versus-a-copy\n",
      "  df_1notin2[\"x_coord\"] = x_ST_list # add x and y spots coordinates in columns\n",
      "/tmp/ipykernel_618/2124656122.py:40: SettingWithCopyWarning: \n",
      "A value is trying to be set on a copy of a slice from a DataFrame.\n",
      "Try using .loc[row_indexer,col_indexer] = value instead\n",
      "\n",
      "See the caveats in the documentation: https://pandas.pydata.org/pandas-docs/stable/user_guide/indexing.html#returning-a-view-versus-a-copy\n",
      "  df_1notin2[\"y_coord\"] = y_ST_list\n",
      "/tmp/ipykernel_618/2124656122.py:41: FutureWarning: Indexing with multiple keys (implicitly converted to a tuple of keys) will be deprecated, use a list instead.\n",
      "  df_mean = df_1notin2.groupby(['x_coord','y_coord'])['Nuclei Area per object', 'Texture inertia', 'Max Intensity',\n"
     ]
    },
    {
     "name": "stdout",
     "output_type": "stream",
     "text": [
      "Final df and count df correctly save !\n",
      "Number of NA:\n",
      "MIR1302-2HG                  0\n",
      "FAM138A                      0\n",
      "OR4F5                        0\n",
      "AL627309.1                   0\n",
      "AL627309.3                   0\n",
      "                          ... \n",
      "Texture Anisotropy         491\n",
      "Texture Entropy            491\n",
      "Texture Major Axis         491\n",
      "Texture Major Direction    491\n",
      "Texture Minor Axis         491\n",
      "Length: 33551, dtype: int64\n"
     ]
    }
   ],
   "source": [
    "merged_modularity(path_for_visium, path_tissue_positions,path_for_morphological_features, name)"
   ]
  },
  {
   "cell_type": "markdown",
   "id": "6f2446f4-63e4-490d-87ce-a12464e29585",
   "metadata": {
    "jp-MarkdownHeadingCollapsed": true,
    "tags": []
   },
   "source": [
    "## DPLFC 151673"
   ]
  },
  {
   "cell_type": "code",
   "execution_count": 52,
   "id": "a2c25b7b-316e-48fb-b65b-44676b02a631",
   "metadata": {},
   "outputs": [],
   "source": [
    "path_for_morphological_features = \"preprocess_visiopharm/df_DPLFC_151673_without_background.csv\"\n",
    "path_for_visium = \"./visium/151673/\"\n",
    "path_tissue_positions = \"./visium/151673/spatial/tissue_positions_list.csv\"\n",
    "name = \"DPLFC_151673\""
   ]
  },
  {
   "cell_type": "code",
   "execution_count": 53,
   "id": "15a7e379-48f4-403e-b3ef-6aa87b582853",
   "metadata": {},
   "outputs": [
    {
     "name": "stderr",
     "output_type": "stream",
     "text": [
      "/tmp/ipykernel_77/2124656122.py:39: SettingWithCopyWarning: \n",
      "A value is trying to be set on a copy of a slice from a DataFrame.\n",
      "Try using .loc[row_indexer,col_indexer] = value instead\n",
      "\n",
      "See the caveats in the documentation: https://pandas.pydata.org/pandas-docs/stable/user_guide/indexing.html#returning-a-view-versus-a-copy\n",
      "  df_1notin2[\"x_coord\"] = x_ST_list # add x and y spots coordinates in columns\n",
      "/tmp/ipykernel_77/2124656122.py:40: SettingWithCopyWarning: \n",
      "A value is trying to be set on a copy of a slice from a DataFrame.\n",
      "Try using .loc[row_indexer,col_indexer] = value instead\n",
      "\n",
      "See the caveats in the documentation: https://pandas.pydata.org/pandas-docs/stable/user_guide/indexing.html#returning-a-view-versus-a-copy\n",
      "  df_1notin2[\"y_coord\"] = y_ST_list\n",
      "/tmp/ipykernel_77/2124656122.py:41: FutureWarning: Indexing with multiple keys (implicitly converted to a tuple of keys) will be deprecated, use a list instead.\n",
      "  df_mean = df_1notin2.groupby(['x_coord','y_coord'])['Nuclei Area per object', 'Texture inertia', 'Max Intensity',\n"
     ]
    },
    {
     "name": "stdout",
     "output_type": "stream",
     "text": [
      "Final df and count df correctly save !\n",
      "Number of NA:\n",
      "MIR1302-2HG                  0\n",
      "FAM138A                      0\n",
      "OR4F5                        0\n",
      "AL627309.1                   0\n",
      "AL627309.3                   0\n",
      "                          ... \n",
      "Texture Anisotropy         163\n",
      "Texture Entropy            163\n",
      "Texture Major Axis         163\n",
      "Texture Major Direction    163\n",
      "Texture Minor Axis         163\n",
      "Length: 33551, dtype: int64\n"
     ]
    }
   ],
   "source": [
    "merged_modularity(path_for_visium, path_tissue_positions,path_for_morphological_features, name)"
   ]
  },
  {
   "cell_type": "markdown",
   "id": "82452d9a-3d74-4208-96aa-70461f4b2c17",
   "metadata": {
    "jp-MarkdownHeadingCollapsed": true,
    "tags": []
   },
   "source": [
    "## DPLFC 151674"
   ]
  },
  {
   "cell_type": "code",
   "execution_count": 54,
   "id": "57ea9979-6d22-4729-a806-94e31eb70541",
   "metadata": {},
   "outputs": [],
   "source": [
    "path_for_morphological_features = \"preprocess_visiopharm/df_DPLFC_151674_without_background.csv\"\n",
    "path_for_visium = \"./visium/151674/\"\n",
    "path_tissue_positions = \"./visium/151674/spatial/tissue_positions_list.csv\"\n",
    "name = \"DPLFC_151674\""
   ]
  },
  {
   "cell_type": "code",
   "execution_count": 55,
   "id": "af28c5a9-ead8-4559-a586-1435a3c92b54",
   "metadata": {},
   "outputs": [
    {
     "name": "stderr",
     "output_type": "stream",
     "text": [
      "/tmp/ipykernel_77/2124656122.py:39: SettingWithCopyWarning: \n",
      "A value is trying to be set on a copy of a slice from a DataFrame.\n",
      "Try using .loc[row_indexer,col_indexer] = value instead\n",
      "\n",
      "See the caveats in the documentation: https://pandas.pydata.org/pandas-docs/stable/user_guide/indexing.html#returning-a-view-versus-a-copy\n",
      "  df_1notin2[\"x_coord\"] = x_ST_list # add x and y spots coordinates in columns\n",
      "/tmp/ipykernel_77/2124656122.py:40: SettingWithCopyWarning: \n",
      "A value is trying to be set on a copy of a slice from a DataFrame.\n",
      "Try using .loc[row_indexer,col_indexer] = value instead\n",
      "\n",
      "See the caveats in the documentation: https://pandas.pydata.org/pandas-docs/stable/user_guide/indexing.html#returning-a-view-versus-a-copy\n",
      "  df_1notin2[\"y_coord\"] = y_ST_list\n",
      "/tmp/ipykernel_77/2124656122.py:41: FutureWarning: Indexing with multiple keys (implicitly converted to a tuple of keys) will be deprecated, use a list instead.\n",
      "  df_mean = df_1notin2.groupby(['x_coord','y_coord'])['Nuclei Area per object', 'Texture inertia', 'Max Intensity',\n"
     ]
    },
    {
     "name": "stdout",
     "output_type": "stream",
     "text": [
      "Final df and count df correctly save !\n",
      "Number of NA:\n",
      "MIR1302-2HG                  0\n",
      "FAM138A                      0\n",
      "OR4F5                        0\n",
      "AL627309.1                   0\n",
      "AL627309.3                   0\n",
      "                          ... \n",
      "Texture Anisotropy         789\n",
      "Texture Entropy            789\n",
      "Texture Major Axis         789\n",
      "Texture Major Direction    789\n",
      "Texture Minor Axis         789\n",
      "Length: 33551, dtype: int64\n"
     ]
    }
   ],
   "source": [
    "merged_modularity(path_for_visium, path_tissue_positions,path_for_morphological_features, name)"
   ]
  },
  {
   "cell_type": "markdown",
   "id": "186eeb40-4f7a-4837-830c-e4a8d48fd4be",
   "metadata": {
    "jp-MarkdownHeadingCollapsed": true,
    "tags": []
   },
   "source": [
    "## DPLFC 151675"
   ]
  },
  {
   "cell_type": "code",
   "execution_count": 20,
   "id": "05307ff6-087a-47c0-bb00-1fedd0ae996d",
   "metadata": {},
   "outputs": [],
   "source": [
    "path_for_morphological_features = \"preprocess_visiopharm/df_DPLFC_151675_without_background.csv\"\n",
    "path_for_visium = \"./visium/151675/\"\n",
    "path_tissue_positions = \"./visium/151675/spatial/tissue_positions_list.csv\"\n",
    "name = \"DPLFC_151675\""
   ]
  },
  {
   "cell_type": "code",
   "execution_count": 21,
   "id": "23c608f1-9b13-40e1-9fe7-fa7d79787394",
   "metadata": {},
   "outputs": [
    {
     "name": "stderr",
     "output_type": "stream",
     "text": [
      "/tmp/ipykernel_618/2124656122.py:39: SettingWithCopyWarning: \n",
      "A value is trying to be set on a copy of a slice from a DataFrame.\n",
      "Try using .loc[row_indexer,col_indexer] = value instead\n",
      "\n",
      "See the caveats in the documentation: https://pandas.pydata.org/pandas-docs/stable/user_guide/indexing.html#returning-a-view-versus-a-copy\n",
      "  df_1notin2[\"x_coord\"] = x_ST_list # add x and y spots coordinates in columns\n",
      "/tmp/ipykernel_618/2124656122.py:40: SettingWithCopyWarning: \n",
      "A value is trying to be set on a copy of a slice from a DataFrame.\n",
      "Try using .loc[row_indexer,col_indexer] = value instead\n",
      "\n",
      "See the caveats in the documentation: https://pandas.pydata.org/pandas-docs/stable/user_guide/indexing.html#returning-a-view-versus-a-copy\n",
      "  df_1notin2[\"y_coord\"] = y_ST_list\n",
      "/tmp/ipykernel_618/2124656122.py:41: FutureWarning: Indexing with multiple keys (implicitly converted to a tuple of keys) will be deprecated, use a list instead.\n",
      "  df_mean = df_1notin2.groupby(['x_coord','y_coord'])['Nuclei Area per object', 'Texture inertia', 'Max Intensity',\n"
     ]
    },
    {
     "name": "stdout",
     "output_type": "stream",
     "text": [
      "Final df and count df correctly save !\n",
      "Number of NA:\n",
      "MIR1302-2HG                  0\n",
      "FAM138A                      0\n",
      "OR4F5                        0\n",
      "AL627309.1                   0\n",
      "AL627309.3                   0\n",
      "                          ... \n",
      "Texture Anisotropy         899\n",
      "Texture Entropy            899\n",
      "Texture Major Axis         899\n",
      "Texture Major Direction    899\n",
      "Texture Minor Axis         899\n",
      "Length: 33551, dtype: int64\n"
     ]
    }
   ],
   "source": [
    "merged_modularity(path_for_visium, path_tissue_positions,path_for_morphological_features, name)"
   ]
  },
  {
   "cell_type": "markdown",
   "id": "115b9791-7fb4-412f-b0a2-6750b555cc69",
   "metadata": {
    "jp-MarkdownHeadingCollapsed": true,
    "tags": []
   },
   "source": [
    "# 4. PDAC dataset"
   ]
  },
  {
   "cell_type": "markdown",
   "id": "6d0a0168-f18a-46de-aeec-3d0545aeb80f",
   "metadata": {
    "jp-MarkdownHeadingCollapsed": true,
    "tags": []
   },
   "source": [
    "## A1"
   ]
  },
  {
   "cell_type": "code",
   "execution_count": 9,
   "id": "9be60a42-4e15-4b49-89df-e790626aa623",
   "metadata": {},
   "outputs": [],
   "source": [
    "path_for_morphological_features = \"preprocess_visiopharm/df_A1_without_background.csv\"\n",
    "path_for_visium = \"./visium/PDAC_A1/\"\n",
    "path_tissue_positions = \"./visium/PDAC_A1/spatial/tissue_positions_list.csv\"\n",
    "name = \"PDAC_A1\""
   ]
  },
  {
   "cell_type": "code",
   "execution_count": 10,
   "id": "e90ba9e9-9f44-47cb-9e45-f4cd8d8aef38",
   "metadata": {},
   "outputs": [
    {
     "name": "stderr",
     "output_type": "stream",
     "text": [
      "/tmp/ipykernel_76/2124656122.py:39: SettingWithCopyWarning: \n",
      "A value is trying to be set on a copy of a slice from a DataFrame.\n",
      "Try using .loc[row_indexer,col_indexer] = value instead\n",
      "\n",
      "See the caveats in the documentation: https://pandas.pydata.org/pandas-docs/stable/user_guide/indexing.html#returning-a-view-versus-a-copy\n",
      "  df_1notin2[\"x_coord\"] = x_ST_list # add x and y spots coordinates in columns\n",
      "/tmp/ipykernel_76/2124656122.py:40: SettingWithCopyWarning: \n",
      "A value is trying to be set on a copy of a slice from a DataFrame.\n",
      "Try using .loc[row_indexer,col_indexer] = value instead\n",
      "\n",
      "See the caveats in the documentation: https://pandas.pydata.org/pandas-docs/stable/user_guide/indexing.html#returning-a-view-versus-a-copy\n",
      "  df_1notin2[\"y_coord\"] = y_ST_list\n",
      "/tmp/ipykernel_76/2124656122.py:41: FutureWarning: Indexing with multiple keys (implicitly converted to a tuple of keys) will be deprecated, use a list instead.\n",
      "  df_mean = df_1notin2.groupby(['x_coord','y_coord'])['Nuclei Area per object', 'Texture inertia', 'Max Intensity',\n"
     ]
    },
    {
     "name": "stdout",
     "output_type": "stream",
     "text": [
      "Final df and count df correctly save !\n",
      "Number of NA:\n",
      "SAMD11                       0\n",
      "NOC2L                        0\n",
      "KLHL17                       0\n",
      "PLEKHN1                      0\n",
      "PERM1                        0\n",
      "                          ... \n",
      "Texture Anisotropy         251\n",
      "Texture Entropy            251\n",
      "Texture Major Axis         251\n",
      "Texture Major Direction    251\n",
      "Texture Minor Axis         251\n",
      "Length: 17956, dtype: int64\n"
     ]
    }
   ],
   "source": [
    "merged_modularity(path_for_visium, path_tissue_positions,path_for_morphological_features, name)"
   ]
  },
  {
   "cell_type": "markdown",
   "id": "d23dc36f-5168-4f34-9d02-ccdbc8e92309",
   "metadata": {
    "jp-MarkdownHeadingCollapsed": true,
    "tags": []
   },
   "source": [
    "## B2"
   ]
  },
  {
   "cell_type": "code",
   "execution_count": 11,
   "id": "4f8b2e72-bc6c-4e2c-96fb-25f64d15c5f8",
   "metadata": {},
   "outputs": [],
   "source": [
    "path_for_morphological_features = \"preprocess_visiopharm/df_B2_without_background.csv\"\n",
    "path_for_visium = \"./visium/PDAC_B2/\"\n",
    "path_tissue_positions = \"./visium/PDAC_B2/spatial/tissue_positions_list.csv\"\n",
    "name = \"PDAC_B2\""
   ]
  },
  {
   "cell_type": "code",
   "execution_count": 12,
   "id": "a478f029-a5d6-4dce-9942-7a3905ce3bef",
   "metadata": {},
   "outputs": [
    {
     "name": "stderr",
     "output_type": "stream",
     "text": [
      "/tmp/ipykernel_76/2124656122.py:39: SettingWithCopyWarning: \n",
      "A value is trying to be set on a copy of a slice from a DataFrame.\n",
      "Try using .loc[row_indexer,col_indexer] = value instead\n",
      "\n",
      "See the caveats in the documentation: https://pandas.pydata.org/pandas-docs/stable/user_guide/indexing.html#returning-a-view-versus-a-copy\n",
      "  df_1notin2[\"x_coord\"] = x_ST_list # add x and y spots coordinates in columns\n",
      "/tmp/ipykernel_76/2124656122.py:40: SettingWithCopyWarning: \n",
      "A value is trying to be set on a copy of a slice from a DataFrame.\n",
      "Try using .loc[row_indexer,col_indexer] = value instead\n",
      "\n",
      "See the caveats in the documentation: https://pandas.pydata.org/pandas-docs/stable/user_guide/indexing.html#returning-a-view-versus-a-copy\n",
      "  df_1notin2[\"y_coord\"] = y_ST_list\n",
      "/tmp/ipykernel_76/2124656122.py:41: FutureWarning: Indexing with multiple keys (implicitly converted to a tuple of keys) will be deprecated, use a list instead.\n",
      "  df_mean = df_1notin2.groupby(['x_coord','y_coord'])['Nuclei Area per object', 'Texture inertia', 'Max Intensity',\n"
     ]
    },
    {
     "name": "stdout",
     "output_type": "stream",
     "text": [
      "Final df and count df correctly save !\n",
      "Number of NA:\n",
      "SAMD11                       0\n",
      "NOC2L                        0\n",
      "KLHL17                       0\n",
      "PLEKHN1                      0\n",
      "PERM1                        0\n",
      "                          ... \n",
      "Texture Anisotropy         112\n",
      "Texture Entropy            112\n",
      "Texture Major Axis         112\n",
      "Texture Major Direction    112\n",
      "Texture Minor Axis         112\n",
      "Length: 17956, dtype: int64\n"
     ]
    }
   ],
   "source": [
    "merged_modularity(path_for_visium, path_tissue_positions,path_for_morphological_features, name)"
   ]
  },
  {
   "cell_type": "markdown",
   "id": "2a649c9d-f11b-480f-9b11-629aba97dd39",
   "metadata": {
    "jp-MarkdownHeadingCollapsed": true,
    "tags": []
   },
   "source": [
    "## C3"
   ]
  },
  {
   "cell_type": "code",
   "execution_count": 21,
   "id": "69fb493a-b948-412f-b733-0bdbb2e30957",
   "metadata": {},
   "outputs": [],
   "source": [
    "path_for_morphological_features = \"preprocess_visiopharm/df_C3_without_background.csv\"\n",
    "path_for_visium = \"./visium/PanCN_C3/\"\n",
    "path_tissue_positions = \"./visium/PanCN_C3/spatial/tissue_positions_list.csv\"\n",
    "name = \"PanCN_C3\""
   ]
  },
  {
   "cell_type": "code",
   "execution_count": 22,
   "id": "c95bd0a9-4044-4740-b268-547cd9ae7bd9",
   "metadata": {},
   "outputs": [
    {
     "name": "stderr",
     "output_type": "stream",
     "text": [
      "/tmp/ipykernel_76/2124656122.py:39: SettingWithCopyWarning: \n",
      "A value is trying to be set on a copy of a slice from a DataFrame.\n",
      "Try using .loc[row_indexer,col_indexer] = value instead\n",
      "\n",
      "See the caveats in the documentation: https://pandas.pydata.org/pandas-docs/stable/user_guide/indexing.html#returning-a-view-versus-a-copy\n",
      "  df_1notin2[\"x_coord\"] = x_ST_list # add x and y spots coordinates in columns\n",
      "/tmp/ipykernel_76/2124656122.py:40: SettingWithCopyWarning: \n",
      "A value is trying to be set on a copy of a slice from a DataFrame.\n",
      "Try using .loc[row_indexer,col_indexer] = value instead\n",
      "\n",
      "See the caveats in the documentation: https://pandas.pydata.org/pandas-docs/stable/user_guide/indexing.html#returning-a-view-versus-a-copy\n",
      "  df_1notin2[\"y_coord\"] = y_ST_list\n",
      "/tmp/ipykernel_76/2124656122.py:41: FutureWarning: Indexing with multiple keys (implicitly converted to a tuple of keys) will be deprecated, use a list instead.\n",
      "  df_mean = df_1notin2.groupby(['x_coord','y_coord'])['Nuclei Area per object', 'Texture inertia', 'Max Intensity',\n"
     ]
    },
    {
     "name": "stdout",
     "output_type": "stream",
     "text": [
      "Final df and count df correctly save !\n",
      "Number of NA:\n",
      "SAMD11                      0\n",
      "NOC2L                       0\n",
      "KLHL17                      0\n",
      "PLEKHN1                     0\n",
      "PERM1                       0\n",
      "                           ..\n",
      "Texture Anisotropy         70\n",
      "Texture Entropy            70\n",
      "Texture Major Axis         70\n",
      "Texture Major Direction    70\n",
      "Texture Minor Axis         70\n",
      "Length: 17956, dtype: int64\n"
     ]
    }
   ],
   "source": [
    "merged_modularity(path_for_visium, path_tissue_positions,path_for_morphological_features, name)"
   ]
  },
  {
   "cell_type": "markdown",
   "id": "88a6f06b-c1f4-4737-a5df-c5ac3cb064bf",
   "metadata": {
    "jp-MarkdownHeadingCollapsed": true,
    "tags": []
   },
   "source": [
    "## D4"
   ]
  },
  {
   "cell_type": "code",
   "execution_count": 23,
   "id": "4088fb99-e3f5-4b0c-8156-f0b2d9916e1a",
   "metadata": {},
   "outputs": [],
   "source": [
    "path_for_morphological_features = \"preprocess_visiopharm/df_D4_without_background.csv\"\n",
    "path_for_visium = \"./visium/PanCN_D4/\"\n",
    "path_tissue_positions = \"./visium/PanCN_D4/spatial/tissue_positions_list.csv\"\n",
    "name = \"PanCN_D4\""
   ]
  },
  {
   "cell_type": "code",
   "execution_count": 24,
   "id": "f5b9b0dc-603a-4573-8e0c-888fbe24432e",
   "metadata": {},
   "outputs": [
    {
     "name": "stderr",
     "output_type": "stream",
     "text": [
      "/tmp/ipykernel_76/2124656122.py:39: SettingWithCopyWarning: \n",
      "A value is trying to be set on a copy of a slice from a DataFrame.\n",
      "Try using .loc[row_indexer,col_indexer] = value instead\n",
      "\n",
      "See the caveats in the documentation: https://pandas.pydata.org/pandas-docs/stable/user_guide/indexing.html#returning-a-view-versus-a-copy\n",
      "  df_1notin2[\"x_coord\"] = x_ST_list # add x and y spots coordinates in columns\n",
      "/tmp/ipykernel_76/2124656122.py:40: SettingWithCopyWarning: \n",
      "A value is trying to be set on a copy of a slice from a DataFrame.\n",
      "Try using .loc[row_indexer,col_indexer] = value instead\n",
      "\n",
      "See the caveats in the documentation: https://pandas.pydata.org/pandas-docs/stable/user_guide/indexing.html#returning-a-view-versus-a-copy\n",
      "  df_1notin2[\"y_coord\"] = y_ST_list\n",
      "/tmp/ipykernel_76/2124656122.py:41: FutureWarning: Indexing with multiple keys (implicitly converted to a tuple of keys) will be deprecated, use a list instead.\n",
      "  df_mean = df_1notin2.groupby(['x_coord','y_coord'])['Nuclei Area per object', 'Texture inertia', 'Max Intensity',\n"
     ]
    },
    {
     "name": "stdout",
     "output_type": "stream",
     "text": [
      "Final df and count df correctly save !\n",
      "Number of NA:\n",
      "SAMD11                      0\n",
      "NOC2L                       0\n",
      "KLHL17                      0\n",
      "PLEKHN1                     0\n",
      "PERM1                       0\n",
      "                           ..\n",
      "Texture Anisotropy         46\n",
      "Texture Entropy            46\n",
      "Texture Major Axis         46\n",
      "Texture Major Direction    46\n",
      "Texture Minor Axis         46\n",
      "Length: 17956, dtype: int64\n"
     ]
    }
   ],
   "source": [
    "merged_modularity(path_for_visium, path_tissue_positions,path_for_morphological_features, name)"
   ]
  },
  {
   "cell_type": "markdown",
   "id": "1d319cdb-626c-43c9-9132-7bfe792152b1",
   "metadata": {
    "jp-MarkdownHeadingCollapsed": true,
    "tags": []
   },
   "source": [
    "# 5. Mouse brain dataset"
   ]
  },
  {
   "cell_type": "code",
   "execution_count": 4,
   "id": "4a5c316a-7028-4a95-b2a6-240a8192f7d6",
   "metadata": {},
   "outputs": [],
   "source": [
    "path_for_morphological_features = \"preprocess_visiopharm/df_V1_Mouse_Brain_Sagittal_Anterior_image_without_background.csv\"\n",
    "path_for_visium = \"./visium/V1_Mouse_Brain_Sagittal_Anterior/\"\n",
    "path_tissue_positions = \"./visium/V1_Mouse_Brain_Sagittal_Anterior/spatial/tissue_positions_list.csv\"\n",
    "name = \"V1_Mouse_Brain_Sagittal_Anterior\""
   ]
  },
  {
   "cell_type": "code",
   "execution_count": 5,
   "id": "8b88f4a9-63a7-4c4d-8757-206557d50cd8",
   "metadata": {},
   "outputs": [
    {
     "name": "stderr",
     "output_type": "stream",
     "text": [
      "/opt/conda/lib/python3.9/site-packages/anndata/_core/anndata.py:1832: UserWarning: Variable names are not unique. To make them unique, call `.var_names_make_unique`.\n",
      "  utils.warn_names_duplicates(\"var\")\n",
      "/tmp/ipykernel_775/2124656122.py:39: SettingWithCopyWarning: \n",
      "A value is trying to be set on a copy of a slice from a DataFrame.\n",
      "Try using .loc[row_indexer,col_indexer] = value instead\n",
      "\n",
      "See the caveats in the documentation: https://pandas.pydata.org/pandas-docs/stable/user_guide/indexing.html#returning-a-view-versus-a-copy\n",
      "  df_1notin2[\"x_coord\"] = x_ST_list # add x and y spots coordinates in columns\n",
      "/tmp/ipykernel_775/2124656122.py:40: SettingWithCopyWarning: \n",
      "A value is trying to be set on a copy of a slice from a DataFrame.\n",
      "Try using .loc[row_indexer,col_indexer] = value instead\n",
      "\n",
      "See the caveats in the documentation: https://pandas.pydata.org/pandas-docs/stable/user_guide/indexing.html#returning-a-view-versus-a-copy\n",
      "  df_1notin2[\"y_coord\"] = y_ST_list\n",
      "/tmp/ipykernel_775/2124656122.py:41: FutureWarning: Indexing with multiple keys (implicitly converted to a tuple of keys) will be deprecated, use a list instead.\n",
      "  df_mean = df_1notin2.groupby(['x_coord','y_coord'])['Nuclei Area per object', 'Texture inertia', 'Max Intensity',\n"
     ]
    },
    {
     "name": "stdout",
     "output_type": "stream",
     "text": [
      "Final df and count df correctly save !\n",
      "Number of NA:\n",
      "Xkr4                         0\n",
      "Gm1992                       0\n",
      "Gm19938                      0\n",
      "Gm37381                      0\n",
      "Rp1                          0\n",
      "                          ... \n",
      "Texture Anisotropy         149\n",
      "Texture Entropy            149\n",
      "Texture Major Axis         149\n",
      "Texture Major Direction    149\n",
      "Texture Minor Axis         149\n",
      "Length: 32298, dtype: int64\n"
     ]
    }
   ],
   "source": [
    "merged_modularity(path_for_visium, path_tissue_positions,path_for_morphological_features, name)"
   ]
  },
  {
   "cell_type": "markdown",
   "id": "ecec3ee4-bd7d-43e9-8bb3-18fb2772f733",
   "metadata": {
    "tags": []
   },
   "source": [
    "# 6. Save in sb"
   ]
  },
  {
   "cell_type": "markdown",
   "id": "693245b1-4aa6-40cb-b052-ba3aae03d5a4",
   "metadata": {
    "jp-MarkdownHeadingCollapsed": true,
    "tags": []
   },
   "source": [
    "# DPFLC dataset"
   ]
  },
  {
   "cell_type": "markdown",
   "id": "49489b01-d9c3-438c-b51b-3d979de35919",
   "metadata": {
    "tags": []
   },
   "source": [
    "## 151507"
   ]
  },
  {
   "cell_type": "code",
   "execution_count": 7,
   "id": "80bb57da-2125-4202-9f83-ab1fca04df00",
   "metadata": {},
   "outputs": [],
   "source": [
    "# Save results in sb\n",
    "counts = pd.read_csv(\"dataframe/DPLFC_151507_counts_with_probes.csv\")\n",
    "# save in output files\n",
    "sevenbg_output_path = f\"/sbgenomics/output-files/data/counts_with_probes\"\n",
    "os.makedirs(sevenbg_output_path, exist_ok=True)\n",
    "counts.to_csv(f\"{sevenbg_output_path}/DPLFC_151507_counts_with_probes.csv\")"
   ]
  },
  {
   "cell_type": "markdown",
   "id": "c5a2c269-c23e-44a7-a3ad-461bf78cd5d7",
   "metadata": {
    "tags": []
   },
   "source": [
    "## 151508"
   ]
  },
  {
   "cell_type": "code",
   "execution_count": 8,
   "id": "55b21868-0e6f-4720-86a0-2c2632a2667a",
   "metadata": {},
   "outputs": [],
   "source": [
    "# Save results in sb\n",
    "counts = pd.read_csv(\"dataframe/DPLFC_151508_counts_with_probes.csv\")\n",
    "# save in output files\n",
    "sevenbg_output_path = f\"/sbgenomics/output-files/data/counts_with_probes\"\n",
    "os.makedirs(sevenbg_output_path, exist_ok=True)\n",
    "counts.to_csv(f\"{sevenbg_output_path}/DPLFC_151508_counts_with_probes.csv\")"
   ]
  },
  {
   "cell_type": "markdown",
   "id": "4dc3f170-0a82-4519-bfc7-8a64af6cd8f0",
   "metadata": {
    "tags": []
   },
   "source": [
    "## 151509"
   ]
  },
  {
   "cell_type": "code",
   "execution_count": 9,
   "id": "7d8df30d-5d91-426c-adfb-f04de702473e",
   "metadata": {},
   "outputs": [],
   "source": [
    "# Save results in sb\n",
    "counts = pd.read_csv(\"dataframe/DPLFC_151509_counts_with_probes.csv\")\n",
    "# save in output files\n",
    "sevenbg_output_path = f\"/sbgenomics/output-files/data/counts_with_probes\"\n",
    "os.makedirs(sevenbg_output_path, exist_ok=True)\n",
    "counts.to_csv(f\"{sevenbg_output_path}/DPLFC_151509_counts_with_probes.csv\")"
   ]
  },
  {
   "cell_type": "markdown",
   "id": "6b6b3ac6-4343-4c55-a7df-82cd04e4af14",
   "metadata": {
    "tags": []
   },
   "source": [
    "## 151510"
   ]
  },
  {
   "cell_type": "code",
   "execution_count": 24,
   "id": "6f81f990-17f0-4ac4-a01d-19d2027241a5",
   "metadata": {},
   "outputs": [],
   "source": [
    "# Save results in sb\n",
    "counts = pd.read_csv(\"dataframe/DPLFC_151510_counts_with_probes.csv\")\n",
    "# save in output files\n",
    "sevenbg_output_path = f\"/sbgenomics/output-files/data/counts_with_probes\"\n",
    "os.makedirs(sevenbg_output_path, exist_ok=True)\n",
    "counts.to_csv(f\"{sevenbg_output_path}/DPLFC_151510_counts_with_probes.csv\")"
   ]
  },
  {
   "cell_type": "markdown",
   "id": "37637d89-b629-4b92-87ff-f38bd901a513",
   "metadata": {
    "tags": []
   },
   "source": [
    "## 151669"
   ]
  },
  {
   "cell_type": "code",
   "execution_count": 10,
   "id": "6d042d83-eddd-47f0-a3e6-a40e6c1d1e66",
   "metadata": {},
   "outputs": [],
   "source": [
    "# Save results in sb\n",
    "counts = pd.read_csv(\"dataframe/DPLFC_151669_counts_with_probes.csv\")\n",
    "# save in output files\n",
    "sevenbg_output_path = f\"/sbgenomics/output-files/data/counts_with_probes\"\n",
    "os.makedirs(sevenbg_output_path, exist_ok=True)\n",
    "counts.to_csv(f\"{sevenbg_output_path}/DPLFC_151669_counts_with_probes.csv\")"
   ]
  },
  {
   "cell_type": "markdown",
   "id": "a5752e4a-065e-40e5-9347-e261dec2bbeb",
   "metadata": {
    "tags": []
   },
   "source": [
    "## 151670"
   ]
  },
  {
   "cell_type": "code",
   "execution_count": 11,
   "id": "98a2d5d3-4c0a-4f3a-adfd-4b585cf007ef",
   "metadata": {},
   "outputs": [],
   "source": [
    "# Save results in sb\n",
    "counts = pd.read_csv(\"dataframe/DPLFC_151670_counts_with_probes.csv\")\n",
    "# save in output files\n",
    "sevenbg_output_path = f\"/sbgenomics/output-files/data/counts_with_probes\"\n",
    "os.makedirs(sevenbg_output_path, exist_ok=True)\n",
    "counts.to_csv(f\"{sevenbg_output_path}/DPLFC_151670_counts_with_probes.csv\")"
   ]
  },
  {
   "cell_type": "markdown",
   "id": "aade695e-588a-4ab4-96f2-ca8c05ea0399",
   "metadata": {
    "tags": []
   },
   "source": [
    "## 151671"
   ]
  },
  {
   "cell_type": "code",
   "execution_count": 27,
   "id": "2388b43a-9a7a-47a6-b2f6-7be6c68b338d",
   "metadata": {},
   "outputs": [],
   "source": [
    "# Save results in sb\n",
    "counts = pd.read_csv(\"dataframe/DPLFC_151671_counts_with_probes.csv\")\n",
    "# save in output files\n",
    "sevenbg_output_path = f\"/sbgenomics/output-files/data/counts_with_probes\"\n",
    "os.makedirs(sevenbg_output_path, exist_ok=True)\n",
    "counts.to_csv(f\"{sevenbg_output_path}/DPLFC_151671_counts_with_probes.csv\")"
   ]
  },
  {
   "cell_type": "markdown",
   "id": "541da58f-6e57-454d-8a28-c50abf4274c4",
   "metadata": {
    "tags": []
   },
   "source": [
    "## 151672"
   ]
  },
  {
   "cell_type": "code",
   "execution_count": 28,
   "id": "22f4dd36-6a0a-4f0f-a675-4970dcc53533",
   "metadata": {},
   "outputs": [],
   "source": [
    "# Save results in sb\n",
    "counts = pd.read_csv(\"dataframe/DPLFC_151672_counts_with_probes.csv\")\n",
    "# save in output files\n",
    "sevenbg_output_path = f\"/sbgenomics/output-files/data/counts_with_probes\"\n",
    "os.makedirs(sevenbg_output_path, exist_ok=True)\n",
    "counts.to_csv(f\"{sevenbg_output_path}/DPLFC_151672_counts_with_probes.csv\")"
   ]
  },
  {
   "cell_type": "markdown",
   "id": "18f0fb67-ff9f-4692-8245-304d83d46f0c",
   "metadata": {
    "tags": []
   },
   "source": [
    "## 151673"
   ]
  },
  {
   "cell_type": "code",
   "execution_count": 12,
   "id": "bfe1559c-9755-4f18-b248-cd453f6b08b0",
   "metadata": {},
   "outputs": [],
   "source": [
    "# Save results in sb\n",
    "counts = pd.read_csv(\"dataframe/DPLFC_151673_counts_with_probes.csv\")\n",
    "# save in output files\n",
    "sevenbg_output_path = f\"/sbgenomics/output-files/data/counts_with_probes\"\n",
    "os.makedirs(sevenbg_output_path, exist_ok=True)\n",
    "counts.to_csv(f\"{sevenbg_output_path}/DPLFC_151673_counts_with_probes.csv\")"
   ]
  },
  {
   "cell_type": "markdown",
   "id": "b67b51cc-99d1-4e85-aaf9-8cadecb14f8c",
   "metadata": {
    "tags": []
   },
   "source": [
    "## 151674"
   ]
  },
  {
   "cell_type": "code",
   "execution_count": 13,
   "id": "c8299d82-9285-4a33-bd1c-1a4205b40917",
   "metadata": {},
   "outputs": [],
   "source": [
    "# Save results in sb\n",
    "counts = pd.read_csv(\"dataframe/DPLFC_151674_counts_with_probes.csv\")\n",
    "# save in output files\n",
    "sevenbg_output_path = f\"/sbgenomics/output-files/data/counts_with_probes\"\n",
    "os.makedirs(sevenbg_output_path, exist_ok=True)\n",
    "counts.to_csv(f\"{sevenbg_output_path}/DPLFC_151674_counts_with_probes.csv\")"
   ]
  },
  {
   "cell_type": "markdown",
   "id": "6d864a11-c7c2-4ec1-bc7e-8a6b4ff09c46",
   "metadata": {
    "tags": []
   },
   "source": [
    "## 151675"
   ]
  },
  {
   "cell_type": "code",
   "execution_count": 29,
   "id": "2551dde3-2030-4947-bd84-1227005adfac",
   "metadata": {},
   "outputs": [],
   "source": [
    "# Save results in sb\n",
    "counts = pd.read_csv(\"dataframe/DPLFC_151675_counts_with_probes.csv\")\n",
    "# save in output files\n",
    "sevenbg_output_path = f\"/sbgenomics/output-files/data/counts_with_probes\"\n",
    "os.makedirs(sevenbg_output_path, exist_ok=True)\n",
    "counts.to_csv(f\"{sevenbg_output_path}/DPLFC_151675_counts_with_probes.csv\")"
   ]
  },
  {
   "cell_type": "markdown",
   "id": "ea545dc6-9637-4b79-976f-988e03e321b6",
   "metadata": {
    "tags": []
   },
   "source": [
    "## 151676"
   ]
  },
  {
   "cell_type": "code",
   "execution_count": 14,
   "id": "42d37188-d3f0-4c6e-a4cf-cdb43af3774d",
   "metadata": {},
   "outputs": [],
   "source": [
    "# Save results in sb\n",
    "counts = pd.read_csv(\"dataframe/DPLFC_151676_counts_with_probes.csv\")\n",
    "# save in output files\n",
    "sevenbg_output_path = f\"/sbgenomics/output-files/data/counts_with_probes\"\n",
    "os.makedirs(sevenbg_output_path, exist_ok=True)\n",
    "counts.to_csv(f\"{sevenbg_output_path}/DPLFC_151676_counts_with_probes.csv\")"
   ]
  },
  {
   "cell_type": "markdown",
   "id": "b8fd32ba-b3df-42de-a214-4c0ef6037528",
   "metadata": {
    "jp-MarkdownHeadingCollapsed": true,
    "tags": []
   },
   "source": [
    "# PDAC dataset"
   ]
  },
  {
   "cell_type": "markdown",
   "id": "1c0a4704-74d1-4c1e-bf40-eb42f1166801",
   "metadata": {},
   "source": [
    "## A1"
   ]
  },
  {
   "cell_type": "code",
   "execution_count": 28,
   "id": "41e34b23-954b-4491-8d2c-1b348093b21f",
   "metadata": {},
   "outputs": [],
   "source": [
    "# Save results in sb\n",
    "counts = pd.read_csv(\"dataframe/PDAC_A1_counts_with_probes.csv\")\n",
    "# save in output files\n",
    "sevenbg_output_path = f\"/sbgenomics/output-files/data/counts_with_probes\"\n",
    "os.makedirs(sevenbg_output_path, exist_ok=True)\n",
    "counts.to_csv(f\"{sevenbg_output_path}/A1_counts_with_probes.csv\")"
   ]
  },
  {
   "cell_type": "markdown",
   "id": "288bc9e3-5894-4cb1-8b9e-89bfcd6fadbb",
   "metadata": {},
   "source": [
    "## B2"
   ]
  },
  {
   "cell_type": "code",
   "execution_count": 29,
   "id": "3a63f4bc-5cdb-41f8-85b4-323eb4dddc5e",
   "metadata": {},
   "outputs": [],
   "source": [
    "# Save results in sb\n",
    "counts = pd.read_csv(\"dataframe/PDAC_B2_counts_with_probes.csv\")\n",
    "# save in output files\n",
    "sevenbg_output_path = f\"/sbgenomics/output-files/data/counts_with_probes\"\n",
    "os.makedirs(sevenbg_output_path, exist_ok=True)\n",
    "counts.to_csv(f\"{sevenbg_output_path}/B2_counts_with_probes.csv\")"
   ]
  },
  {
   "cell_type": "markdown",
   "id": "4ed7e938-73f9-4df0-8303-44a36ffac622",
   "metadata": {},
   "source": [
    "## C3"
   ]
  },
  {
   "cell_type": "code",
   "execution_count": 30,
   "id": "7083ec9b-f584-429d-a593-e140f0f34a29",
   "metadata": {},
   "outputs": [],
   "source": [
    "# Save results in sb\n",
    "counts = pd.read_csv(\"dataframe/PanCN_C3_counts_with_probes.csv\")\n",
    "# save in output files\n",
    "sevenbg_output_path = f\"/sbgenomics/output-files/data/counts_with_probes\"\n",
    "os.makedirs(sevenbg_output_path, exist_ok=True)\n",
    "counts.to_csv(f\"{sevenbg_output_path}/C3_counts_with_probes.csv\")"
   ]
  },
  {
   "cell_type": "markdown",
   "id": "4645830c-711c-45db-8eb5-a6b0a08ac881",
   "metadata": {},
   "source": [
    "## D4"
   ]
  },
  {
   "cell_type": "code",
   "execution_count": 31,
   "id": "7cda0efd-fc02-4ed3-9805-93f37af1a63d",
   "metadata": {},
   "outputs": [],
   "source": [
    "# Save results in sb\n",
    "counts = pd.read_csv(\"dataframe/PanCN_D4_counts_with_probes.csv\")\n",
    "# save in output files\n",
    "sevenbg_output_path = f\"/sbgenomics/output-files/data/counts_with_probes\"\n",
    "os.makedirs(sevenbg_output_path, exist_ok=True)\n",
    "counts.to_csv(f\"{sevenbg_output_path}/D4_counts_with_probes.csv\")"
   ]
  },
  {
   "cell_type": "markdown",
   "id": "31cb4754-f866-44ad-b9e8-b967301454ca",
   "metadata": {
    "jp-MarkdownHeadingCollapsed": true,
    "tags": []
   },
   "source": [
    "# Mouse brain dataset"
   ]
  },
  {
   "cell_type": "code",
   "execution_count": 6,
   "id": "e20a113c-0536-4efc-a07a-f5b80afaa2d0",
   "metadata": {},
   "outputs": [],
   "source": [
    "# Save results in sb\n",
    "counts = pd.read_csv(\"dataframe/V1_Mouse_Brain_Sagittal_Anterior_counts_with_probes.csv\")\n",
    "# save in output files\n",
    "sevenbg_output_path = f\"/sbgenomics/output-files/data/counts_with_probes\"\n",
    "os.makedirs(sevenbg_output_path, exist_ok=True)\n",
    "counts.to_csv(f\"{sevenbg_output_path}/V1_Mouse_Brain_Sagittal_Anterior_counts_with_probes.csv\")"
   ]
  }
 ],
 "metadata": {
  "kernelspec": {
   "display_name": "Python 3 (ipykernel)",
   "language": "python",
   "name": "python3"
  },
  "language_info": {
   "codemirror_mode": {
    "name": "ipython",
    "version": 3
   },
   "file_extension": ".py",
   "mimetype": "text/x-python",
   "name": "python",
   "nbconvert_exporter": "python",
   "pygments_lexer": "ipython3",
   "version": "3.9.6"
  }
 },
 "nbformat": 4,
 "nbformat_minor": 5
}
