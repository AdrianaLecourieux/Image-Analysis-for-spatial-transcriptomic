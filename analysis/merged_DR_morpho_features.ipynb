{
 "cells": [
  {
   "cell_type": "markdown",
   "id": "993d8c2e-d402-4f51-b4d5-389ef75ca867",
   "metadata": {},
   "source": [
    "# Merged modalities"
   ]
  },
  {
   "cell_type": "markdown",
   "id": "2c54db7a-2431-484f-8bd4-f4b833245c36",
   "metadata": {},
   "source": [
    "This notebook allowed to merged morphological features and visium data in reduced dimension.\n",
    "\n",
    "The aim is to obtain one dataframe gathering the both modalities.\n",
    "\n",
    "Then, the dataframe is used for clustering in **ARI.ipynb** script.\n"
   ]
  },
  {
   "cell_type": "markdown",
   "id": "d64b797a-4924-4c95-aac8-9196f88d8c76",
   "metadata": {},
   "source": [
    "# 1. Import packages "
   ]
  },
  {
   "cell_type": "code",
   "execution_count": 1,
   "id": "e21a4343-de97-47a1-a232-d9e7925c8cf3",
   "metadata": {},
   "outputs": [],
   "source": [
    "import pandas as pd\n",
    "import os"
   ]
  },
  {
   "cell_type": "code",
   "execution_count": 8,
   "id": "798d5862-3954-4ecf-97ed-aa91f8625483",
   "metadata": {},
   "outputs": [],
   "source": [
    "# save outputs\n",
    "sevenbg_output_path = \"/sbgenomics/output-files/data/merged_DR_morph_features\"\n",
    "os.makedirs(sevenbg_output_path, exist_ok=True)"
   ]
  },
  {
   "cell_type": "markdown",
   "id": "1897873d-4e46-4cc7-b557-ddce82d058fc",
   "metadata": {},
   "source": [
    "# 2. Function definition"
   ]
  },
  {
   "cell_type": "code",
   "execution_count": 9,
   "id": "63533cb2-1dfd-4bf9-b5dd-fbd1152da381",
   "metadata": {},
   "outputs": [],
   "source": [
    "def create_merged_df(path_dr_genes, path_for_morphological_features, name):\n",
    "    \"\"\"Merged the both modalities\n",
    "\n",
    "    Parameters\n",
    "    ----------\n",
    "    path_dr_genes : string\n",
    "        path of visium data in reduced dimension\n",
    "    path_for_morphological_features : string\n",
    "        path of morphological features\n",
    "    name : string\n",
    "        name of the sample\n",
    "        \n",
    "    Returns\n",
    "    -------\n",
    "    dr_genes_df : pandas dataframe\n",
    "        dataframe of visium data in reduced dimension\n",
    "    morpho_features : pandas dataframe\n",
    "        raw dataframe of morphological features\n",
    "    morpho_features2 : pandas dataframe\n",
    "        dataframe of morphological features\n",
    "    merged_df : pandas dataframe\n",
    "        Dataframe containing the both modalities\n",
    "    \"\"\"\n",
    "    dr_genes_df = pd.read_csv(path_dr_genes, index_col=0)\n",
    "    morpho_features = pd.read_csv(path_for_morphological_features)\n",
    "    morpho_features2 = morpho_features[['Nuclei Area per object', 'Texture inertia', 'Max Intensity',\n",
    "                                        'Mean Intensity', 'Min Intensity', 'Modus', 'Texture Anisotropy',\n",
    "                                        'Texture Entropy', 'Texture Major Axis', 'Texture Major Direction',\n",
    "                                        'Texture Minor Axis']].copy()\n",
    "    merged_df = pd.merge(dr_genes_df, morpho_features2, left_index=True, right_index=True)\n",
    "    merged_df.to_csv(f'merged_DR_morpho_features/{name}_merged_DR_morph_features.csv')\n",
    "    merged_df.to_csv(f'{sevenbg_output_path}/{name}_merged_DR_morph_features.csv')\n",
    "    return(dr_genes_df, morpho_features,morpho_features2,merged_df)"
   ]
  },
  {
   "cell_type": "markdown",
   "id": "3070cc2d-0a33-4530-a739-cf98cc0d1cba",
   "metadata": {
    "jp-MarkdownHeadingCollapsed": true,
    "tags": []
   },
   "source": [
    "# 3. PDAC"
   ]
  },
  {
   "cell_type": "markdown",
   "id": "364fe7d7-8536-4710-8dbd-81b899e4b05a",
   "metadata": {
    "tags": []
   },
   "source": [
    "## A1"
   ]
  },
  {
   "cell_type": "code",
   "execution_count": 17,
   "id": "b8cb964d-85eb-4849-afba-dfbaa21e6813",
   "metadata": {},
   "outputs": [],
   "source": [
    "path_for_morphological_features = \"preprocess_visiopharm/df_A1_without_background.csv\"\n",
    "path_dr_genes = \"/../../sbgenomics/project-files/data/latent_space/A1_latent_space.csv\"\n",
    "name = \"A1\""
   ]
  },
  {
   "cell_type": "code",
   "execution_count": 18,
   "id": "350ae452-d61b-4b6d-9e62-107bcbdd64c1",
   "metadata": {},
   "outputs": [],
   "source": [
    "dr_genes_df_A1, morpho_features_A1,morpho_features2,merged_df_A1 = create_merged_df(path_dr_genes, path_for_morphological_features, name)"
   ]
  },
  {
   "cell_type": "markdown",
   "id": "28dd4a68-a32e-4acc-8481-af2dffdbf4f2",
   "metadata": {
    "tags": []
   },
   "source": [
    "## B2"
   ]
  },
  {
   "cell_type": "code",
   "execution_count": 19,
   "id": "21efee68-4d2a-40be-a574-bbac79a36a23",
   "metadata": {},
   "outputs": [],
   "source": [
    "path_for_morphological_features = \"preprocess_visiopharm/df_B2_without_background.csv\"\n",
    "path_dr_genes = \"/../../sbgenomics/project-files/data/latent_space/B2_latent_space.csv\"\n",
    "name = \"B2\""
   ]
  },
  {
   "cell_type": "code",
   "execution_count": 20,
   "id": "4feff9ae-1f36-40a8-aef0-8af76cc85a8e",
   "metadata": {},
   "outputs": [],
   "source": [
    "dr_genes_df_B2, morpho_features_B2,morpho_features2,merged_df_B2 = create_merged_df(path_dr_genes, path_for_morphological_features, name)"
   ]
  },
  {
   "cell_type": "markdown",
   "id": "4ed95b0e-8af7-40c3-8f9c-cbbbf849e36b",
   "metadata": {
    "tags": []
   },
   "source": [
    "## C3"
   ]
  },
  {
   "cell_type": "code",
   "execution_count": 21,
   "id": "bd32424c-7a9c-4c2e-af53-4ec959e33e1a",
   "metadata": {},
   "outputs": [],
   "source": [
    "path_for_morphological_features = \"preprocess_visiopharm/df_C3_without_background.csv\"\n",
    "path_dr_genes = \"/../../sbgenomics/project-files/data/latent_space/C3_latent_space.csv\"\n",
    "name = \"C3\""
   ]
  },
  {
   "cell_type": "code",
   "execution_count": 22,
   "id": "36bda5da-21ac-4715-b249-ae7544bcb6fc",
   "metadata": {},
   "outputs": [],
   "source": [
    "dr_genes_df_C3, morpho_features_C3,morpho_features2,merged_df_C3 = create_merged_df(path_dr_genes, path_for_morphological_features, name)"
   ]
  },
  {
   "cell_type": "markdown",
   "id": "dbb1ff25-70ce-4393-9ef3-93b88206bc7b",
   "metadata": {
    "tags": []
   },
   "source": [
    "## D4"
   ]
  },
  {
   "cell_type": "code",
   "execution_count": 23,
   "id": "d56b6f45-3384-4dcc-bf3d-7853d9330911",
   "metadata": {},
   "outputs": [],
   "source": [
    "path_for_morphological_features = \"preprocess_visiopharm/df_D4_without_background.csv\"\n",
    "path_dr_genes = \"/../../sbgenomics/project-files/data/latent_space/D4_latent_space.csv\"\n",
    "name = \"D4\""
   ]
  },
  {
   "cell_type": "code",
   "execution_count": 24,
   "id": "51116b25-a6a3-4ece-a72e-a8cc114d4626",
   "metadata": {},
   "outputs": [],
   "source": [
    "dr_genes_df_D4, morpho_features_D4,morpho_features2,merged_df_D4 = create_merged_df(path_dr_genes, path_for_morphological_features, name)"
   ]
  },
  {
   "cell_type": "markdown",
   "id": "ff4ae1ba-a24c-48a5-9196-6795c31267bd",
   "metadata": {
    "jp-MarkdownHeadingCollapsed": true,
    "tags": []
   },
   "source": [
    "# 4. V1_Mouse_Brain_Sagittal_Anterior"
   ]
  },
  {
   "cell_type": "code",
   "execution_count": 12,
   "id": "1d070775-2992-45e7-8390-e6e5a4efb83a",
   "metadata": {},
   "outputs": [],
   "source": [
    "path_for_morphological_features = \"preprocess_visiopharm/df_V1_Mouse_Brain_Sagittal_Anterior_image_without_background.csv\"\n",
    "path_dr_genes = \"/../../sbgenomics/project-files/data/latent_space/_1_mouse_brain_latent_space.csv\"\n",
    "name = \"V1_Mouse_Brain_Sagittal_Anterior\""
   ]
  },
  {
   "cell_type": "code",
   "execution_count": 13,
   "id": "37450600-b40b-4ea7-90d5-fe109a38cc74",
   "metadata": {},
   "outputs": [],
   "source": [
    "dr_genes_df_V1_Mouse_Brain_Sagittal_Anterior, morpho_features_V1_Mouse_Brain_Sagittal_Anterior,morpho_features2,merged_df_V1_Mouse_Brain_Sagittal_Anterior = create_merged_df(path_dr_genes, path_for_morphological_features, name)"
   ]
  },
  {
   "cell_type": "markdown",
   "id": "6f1db896-a3a3-4c27-9c4f-7e4651c64d62",
   "metadata": {
    "jp-MarkdownHeadingCollapsed": true,
    "tags": []
   },
   "source": [
    "# 5. DLPFC"
   ]
  },
  {
   "cell_type": "markdown",
   "id": "5c82827d-0c53-49e8-8748-ec13f03565f4",
   "metadata": {
    "tags": []
   },
   "source": [
    "## 151507"
   ]
  },
  {
   "cell_type": "code",
   "execution_count": 4,
   "id": "633c501d-2b9d-403c-8149-f9748f0f97e0",
   "metadata": {},
   "outputs": [],
   "source": [
    "path_for_morphological_features = \"preprocess_visiopharm/df_DPLFC_151507_without_background.csv\"\n",
    "path_dr_genes = \"/../../sbgenomics/project-files/data/latent_space/DPLFC_151507_latent_space.csv\"\n",
    "name = \"151507\""
   ]
  },
  {
   "cell_type": "code",
   "execution_count": 5,
   "id": "d4e001e7-bf98-4690-a949-f3fa2a024f5b",
   "metadata": {
    "scrolled": true,
    "tags": []
   },
   "outputs": [],
   "source": [
    "dr_genes_df_151507, morpho_features_151507,morpho_features2,merged_df_151507 = create_merged_df(path_dr_genes, path_for_morphological_features, name)"
   ]
  },
  {
   "cell_type": "markdown",
   "id": "16b0fc6e-c68a-492b-ad2b-84243596507d",
   "metadata": {
    "tags": []
   },
   "source": [
    "## 151508"
   ]
  },
  {
   "cell_type": "code",
   "execution_count": 6,
   "id": "7697fac7-f11b-465c-9109-847fc642ff1a",
   "metadata": {},
   "outputs": [],
   "source": [
    "path_for_morphological_features = \"preprocess_visiopharm/df_DPLFC_151508_without_background.csv\"\n",
    "path_dr_genes = \"/../../sbgenomics/project-files/data/latent_space/DPLFC_151508_latent_space.csv\"\n",
    "name = \"151508\""
   ]
  },
  {
   "cell_type": "code",
   "execution_count": null,
   "id": "19d97b26-6a29-4446-b640-88ff21781444",
   "metadata": {
    "scrolled": true,
    "tags": []
   },
   "outputs": [],
   "source": [
    "dr_genes_df_151508, morpho_features_151508,morpho_features2,merged_df_151508 = create_merged_df(path_dr_genes, path_for_morphological_features, name)"
   ]
  },
  {
   "cell_type": "markdown",
   "id": "2df0b905-f29f-4889-9520-120ad4b15790",
   "metadata": {
    "tags": []
   },
   "source": [
    "## 151509"
   ]
  },
  {
   "cell_type": "code",
   "execution_count": 49,
   "id": "584ad1f2-62ad-4bd0-9719-91d7f4d727ec",
   "metadata": {},
   "outputs": [],
   "source": [
    "path_for_morphological_features = \"preprocess_visiopharm/df_DPLFC_151509_without_background.csv\"\n",
    "path_dr_genes = \"/../../sbgenomics/project-files/data/latent_space/DPLFC_151509_latent_space.csv\"\n",
    "name = \"151509\""
   ]
  },
  {
   "cell_type": "code",
   "execution_count": null,
   "id": "b72d0578-a370-4b22-859a-d09ec9b1f640",
   "metadata": {
    "scrolled": true,
    "tags": []
   },
   "outputs": [],
   "source": [
    "dr_genes_df_151509, morpho_features_151509,morpho_features2,merged_df_151509 = create_merged_df(path_dr_genes, path_for_morphological_features, name)"
   ]
  },
  {
   "cell_type": "markdown",
   "id": "925724c1-9af0-4b83-bf76-96ebdd1abc85",
   "metadata": {
    "tags": []
   },
   "source": [
    "## 151510"
   ]
  },
  {
   "cell_type": "code",
   "execution_count": 39,
   "id": "ad60c083-8373-4d91-895c-cc6658785d0d",
   "metadata": {},
   "outputs": [],
   "source": [
    "path_for_morphological_features = \"preprocess_visiopharm/df_DPLFC_151510_without_background.csv\"\n",
    "path_dr_genes = \"/../../sbgenomics/project-files/data/latent_space/DPLFC_151510_latent_space.csv\"\n",
    "name = \"151510\""
   ]
  },
  {
   "cell_type": "code",
   "execution_count": 40,
   "id": "b5588dee-9d47-4550-836c-8c96c7b041e7",
   "metadata": {},
   "outputs": [],
   "source": [
    "dr_genes_df_151510, morpho_features_151510,morpho_features2,merged_df_151510 = create_merged_df(path_dr_genes, path_for_morphological_features, name)"
   ]
  },
  {
   "cell_type": "markdown",
   "id": "35f6d1ac-ad06-4922-83b8-708f9218bcc2",
   "metadata": {
    "tags": []
   },
   "source": [
    "## 151669"
   ]
  },
  {
   "cell_type": "code",
   "execution_count": 15,
   "id": "41d6c40b-c397-48af-9e64-a246f2e7e895",
   "metadata": {},
   "outputs": [],
   "source": [
    "path_for_morphological_features = \"preprocess_visiopharm/df_DPLFC_151669_without_background.csv\"\n",
    "path_dr_genes = \"/../../sbgenomics/project-files/data/latent_space/DPLFC_151669_latent_space.csv\"\n",
    "name = \"151669\""
   ]
  },
  {
   "cell_type": "code",
   "execution_count": 16,
   "id": "0f293fff-ba47-4446-873c-5d7985e45a9c",
   "metadata": {},
   "outputs": [],
   "source": [
    "dr_genes_df_151669, morpho_features_151669,morpho_features2,merged_df_151669 = create_merged_df(path_dr_genes, path_for_morphological_features, name)"
   ]
  },
  {
   "cell_type": "markdown",
   "id": "6eda722d-7997-4d61-8b3f-0edfa259abfa",
   "metadata": {
    "tags": []
   },
   "source": [
    "## 151671"
   ]
  },
  {
   "cell_type": "code",
   "execution_count": 13,
   "id": "d1b6f318-6692-4423-aedb-00102e581d2e",
   "metadata": {},
   "outputs": [],
   "source": [
    "path_for_morphological_features = \"preprocess_visiopharm/df_DPLFC_151671_without_background.csv\"\n",
    "path_dr_genes = \"/../../sbgenomics/project-files/data/latent_space/DPLFC_151671_latent_space.csv\"\n",
    "name = \"151671\""
   ]
  },
  {
   "cell_type": "code",
   "execution_count": 14,
   "id": "1780bc3e-9b92-4a1b-81e8-85c021bda77a",
   "metadata": {},
   "outputs": [],
   "source": [
    "dr_genes_df_151671, morpho_features_151671,morpho_features2,merged_df_151671 = create_merged_df(path_dr_genes, path_for_morphological_features, name)"
   ]
  },
  {
   "cell_type": "markdown",
   "id": "269f6689-c0ad-4979-a400-bb26d0f151e6",
   "metadata": {
    "tags": []
   },
   "source": [
    "## 151572"
   ]
  },
  {
   "cell_type": "code",
   "execution_count": 39,
   "id": "1c47fa8a-c68a-4392-82a4-1b1307295ff0",
   "metadata": {},
   "outputs": [],
   "source": [
    "path_for_morphological_features = \"preprocess_visiopharm/df_DPLFC_151572_without_background.csv\"\n",
    "path_dr_genes = \"/../../sbgenomics/project-files/data/latent_space/DPLFC_151572_latent_space.csv\"\n",
    "name = \"151572\""
   ]
  },
  {
   "cell_type": "code",
   "execution_count": 40,
   "id": "5b13bfdd-e700-47f2-bd6c-719369ddae5d",
   "metadata": {},
   "outputs": [],
   "source": [
    "dr_genes_df_151572, morpho_features_151572,morpho_features2,merged_df_151572 = create_merged_df(path_dr_genes, path_for_morphological_features, name)"
   ]
  },
  {
   "cell_type": "markdown",
   "id": "23db717c-696d-4238-9896-30e0c13151f7",
   "metadata": {
    "tags": []
   },
   "source": [
    "## 151673"
   ]
  },
  {
   "cell_type": "code",
   "execution_count": 1,
   "id": "e6f9e7de-4a4b-49ec-b78e-335902feff64",
   "metadata": {},
   "outputs": [],
   "source": [
    "path_for_morphological_features = \"preprocess_visiopharm/df_DPLFC_151673_without_background.csv\"\n",
    "path_dr_genes = \"/../../sbgenomics/project-files/data/latent_space/_1_DPLFC_151673_latent_space.csv\"\n",
    "name = \"151673\""
   ]
  },
  {
   "cell_type": "code",
   "execution_count": 8,
   "id": "9f5475ba-8039-45e3-a765-f853c3763d02",
   "metadata": {},
   "outputs": [],
   "source": [
    "dr_genes_df_151673, morpho_features_151673,morpho_features2,merged_df_151673 = create_merged_df(path_dr_genes, path_for_morphological_features, name)"
   ]
  },
  {
   "cell_type": "markdown",
   "id": "ca915d1f-32c4-41c7-b80a-544bbbff42ee",
   "metadata": {
    "tags": []
   },
   "source": [
    "## 151574"
   ]
  },
  {
   "cell_type": "code",
   "execution_count": 39,
   "id": "a2a92bb3-367c-477e-adaa-f22f72253e75",
   "metadata": {},
   "outputs": [],
   "source": [
    "path_for_morphological_features = \"preprocess_visiopharm/df_DPLFC_151574_without_background.csv\"\n",
    "path_dr_genes = \"/../../sbgenomics/project-files/data/latent_space/DPLFC_151574_latent_space.csv\"\n",
    "name = \"151574\""
   ]
  },
  {
   "cell_type": "code",
   "execution_count": 40,
   "id": "6b128eba-c22b-44b1-afff-6e7e2a897e04",
   "metadata": {},
   "outputs": [],
   "source": [
    "dr_genes_df_151574, morpho_features_151574,morpho_features2,merged_df_151574 = create_merged_df(path_dr_genes, path_for_morphological_features, name)"
   ]
  },
  {
   "cell_type": "markdown",
   "id": "97688aff-353b-4a6e-861b-d8fb21b34ae1",
   "metadata": {
    "tags": []
   },
   "source": [
    "## 151575"
   ]
  },
  {
   "cell_type": "code",
   "execution_count": 39,
   "id": "78634eb4-b1d1-48bc-ae32-254b40e22305",
   "metadata": {},
   "outputs": [],
   "source": [
    "path_for_morphological_features = \"preprocess_visiopharm/df_DPLFC_151575_without_background.csv\"\n",
    "path_dr_genes = \"/../../sbgenomics/project-files/data/latent_space/DPLFC_151575_latent_space.csv\"\n",
    "name = \"151575\""
   ]
  },
  {
   "cell_type": "code",
   "execution_count": 40,
   "id": "44fa1e51-17dc-4932-afd2-fe34f182995c",
   "metadata": {},
   "outputs": [],
   "source": [
    "dr_genes_df_151575, morpho_features_151575,morpho_features2,merged_df_151575 = create_merged_df(path_dr_genes, path_for_morphological_features, name)"
   ]
  },
  {
   "cell_type": "markdown",
   "id": "1f6cc695-ad0b-4c3c-8758-5477961a1dcf",
   "metadata": {
    "tags": []
   },
   "source": [
    "## 151576"
   ]
  },
  {
   "cell_type": "code",
   "execution_count": 39,
   "id": "5a3e4519-85c9-4c5f-b526-4c643928904f",
   "metadata": {},
   "outputs": [],
   "source": [
    "path_for_morphological_features = \"preprocess_visiopharm/df_DPLFC_151576_without_background.csv\"\n",
    "path_dr_genes = \"/../../sbgenomics/project-files/data/latent_space/DPLFC_151576_latent_space.csv\"\n",
    "name = \"151576\""
   ]
  },
  {
   "cell_type": "code",
   "execution_count": 40,
   "id": "a31d6c73-cf91-4e4b-8915-1bed305ee978",
   "metadata": {},
   "outputs": [],
   "source": [
    "dr_genes_df_151576, morpho_features_151576,morpho_features2,merged_df_151576 = create_merged_df(path_dr_genes, path_for_morphological_features, name)"
   ]
  },
  {
   "cell_type": "markdown",
   "id": "7d9997aa-ef7d-4a04-a7aa-0810d93878fa",
   "metadata": {
    "jp-MarkdownHeadingCollapsed": true,
    "tags": []
   },
   "source": [
    "# 6. After dimension reduction with VAE"
   ]
  },
  {
   "cell_type": "markdown",
   "id": "80ce3bd8-2cdb-4a34-aa5d-b73c9b9d9b2b",
   "metadata": {
    "tags": []
   },
   "source": [
    "## 151507"
   ]
  },
  {
   "cell_type": "code",
   "execution_count": 3,
   "id": "5aa85432-a993-476a-af3d-4abbe40dcc6f",
   "metadata": {},
   "outputs": [],
   "source": [
    "path_for_morphological_features = \"preprocess_visiopharm/df_DPLFC_151507_without_background.csv\"\n",
    "path_dr_genes = \"/../../sbgenomics/project-files/data/latent_space_VAE/DPLFC_151507_latent_space_VAE.csv\"\n",
    "name = \"151507_VAE\""
   ]
  },
  {
   "cell_type": "code",
   "execution_count": 7,
   "id": "8b60fd2b-9522-427d-91e7-f5309dac0f42",
   "metadata": {},
   "outputs": [],
   "source": [
    "dr_genes_df_151507, morpho_features_151507,morpho_features2,merged_df_151507 = create_merged_df(path_dr_genes, path_for_morphological_features, name)"
   ]
  },
  {
   "cell_type": "code",
   "execution_count": null,
   "id": "77d6aa98-83b2-46c8-bb0b-435f77983fd8",
   "metadata": {},
   "outputs": [],
   "source": []
  }
 ],
 "metadata": {
  "kernelspec": {
   "display_name": "Python 3 (ipykernel)",
   "language": "python",
   "name": "python3"
  },
  "language_info": {
   "codemirror_mode": {
    "name": "ipython",
    "version": 3
   },
   "file_extension": ".py",
   "mimetype": "text/x-python",
   "name": "python",
   "nbconvert_exporter": "python",
   "pygments_lexer": "ipython3",
   "version": "3.9.6"
  }
 },
 "nbformat": 4,
 "nbformat_minor": 5
}
