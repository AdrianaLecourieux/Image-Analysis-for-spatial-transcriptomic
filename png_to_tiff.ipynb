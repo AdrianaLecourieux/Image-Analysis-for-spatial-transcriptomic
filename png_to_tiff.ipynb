{
 "cells": [
  {
   "cell_type": "markdown",
   "id": "13a77281-0495-4230-9ca1-2bdab40d3c0c",
   "metadata": {},
   "source": [
    "# Convert png to tiff"
   ]
  },
  {
   "cell_type": "markdown",
   "id": "25418d40-2e43-45e1-8dd1-dfa3fb05c78e",
   "metadata": {},
   "source": [
    "pip install Pillow"
   ]
  },
  {
   "cell_type": "code",
   "execution_count": 1,
   "id": "e9d1cea2-ff3e-4fc9-9e17-02dc76214509",
   "metadata": {},
   "outputs": [],
   "source": [
    "import os\n",
    "from PIL import Image\n",
    "Image.MAX_IMAGE_PIXELS = None"
   ]
  },
  {
   "cell_type": "code",
   "execution_count": 6,
   "id": "f0fc7308-9e81-417b-befb-a11a5f92a722",
   "metadata": {},
   "outputs": [],
   "source": [
    "output_images = \"./../output_images\""
   ]
  },
  {
   "cell_type": "code",
   "execution_count": 3,
   "id": "2353ca82-a2fa-4360-8ed6-580d907798a1",
   "metadata": {},
   "outputs": [],
   "source": [
    "## Result folder \n",
    "output_files= f\"/sbgenomics/output-files/data/tiff_images\"\n",
    "os.makedirs(output_files, exist_ok=True)"
   ]
  },
  {
   "cell_type": "markdown",
   "id": "dd3f023a-482b-4f6c-adc4-9d3209eb20f5",
   "metadata": {},
   "source": [
    "# A1 "
   ]
  },
  {
   "cell_type": "code",
   "execution_count": 4,
   "id": "af49e492-bf51-428f-9c1b-7bced8ce9a63",
   "metadata": {},
   "outputs": [],
   "source": [
    "image = Image.open(\"./../output_images/A1_without_background.jpg\")"
   ]
  },
  {
   "cell_type": "code",
   "execution_count": 7,
   "id": "18c30ecf-bf88-491b-95ff-3e02e09472ce",
   "metadata": {},
   "outputs": [],
   "source": [
    "image.save(f\"{output_images}/A1_without_background.tiff\")"
   ]
  },
  {
   "cell_type": "code",
   "execution_count": 8,
   "id": "5c4cf368-a807-4e75-a9e8-30181c697842",
   "metadata": {},
   "outputs": [],
   "source": [
    "image.save(f\"{output_files}/A1_without_background.tiff\")"
   ]
  },
  {
   "cell_type": "markdown",
   "id": "e707a557-e466-4624-9fd6-6a9277b81e93",
   "metadata": {},
   "source": [
    "# B2"
   ]
  },
  {
   "cell_type": "code",
   "execution_count": 9,
   "id": "4a9f5989-7fde-40ba-a678-8d9b5872eba3",
   "metadata": {},
   "outputs": [],
   "source": [
    "image = Image.open(\"./../output_images/B2_without_background.jpg\")"
   ]
  },
  {
   "cell_type": "code",
   "execution_count": 10,
   "id": "aaeb2a6b-37a8-4ddc-af6b-3d1ee75a90d5",
   "metadata": {},
   "outputs": [],
   "source": [
    "image.save(f\"{output_images}/B2_without_background.tiff\")"
   ]
  },
  {
   "cell_type": "code",
   "execution_count": 11,
   "id": "3269e807-19af-4dff-afff-c9552ece3863",
   "metadata": {},
   "outputs": [],
   "source": [
    "image.save(f\"{output_files}/B2_without_background.tiff\")"
   ]
  },
  {
   "cell_type": "markdown",
   "id": "317d64af-fa97-4763-b02a-6f2c4f7a9f95",
   "metadata": {},
   "source": [
    "# C3"
   ]
  },
  {
   "cell_type": "code",
   "execution_count": 12,
   "id": "097316d2-565f-475c-b8ea-d241d0c803db",
   "metadata": {},
   "outputs": [],
   "source": [
    "image = Image.open(\"./../output_images/C3_without_background.jpg\")"
   ]
  },
  {
   "cell_type": "code",
   "execution_count": 13,
   "id": "f8707e19-06bb-4b4f-a0bf-f85686cf333a",
   "metadata": {},
   "outputs": [],
   "source": [
    "image.save(f\"{output_images}/C3_without_background.tiff\")"
   ]
  },
  {
   "cell_type": "code",
   "execution_count": 14,
   "id": "becf8f07-e1cd-4d57-977e-7316901797fe",
   "metadata": {},
   "outputs": [],
   "source": [
    "image.save(f\"{output_files}/C3_without_background.tiff\")"
   ]
  },
  {
   "cell_type": "markdown",
   "id": "212a4b60-fb6b-4c6a-882e-01857268c617",
   "metadata": {},
   "source": [
    "# D4"
   ]
  },
  {
   "cell_type": "code",
   "execution_count": 16,
   "id": "e183692a-9dab-4dbf-8489-1e78a69a19bf",
   "metadata": {},
   "outputs": [],
   "source": [
    "image = Image.open(\"./../output_images/D4_without_background.jpg\")"
   ]
  },
  {
   "cell_type": "code",
   "execution_count": 17,
   "id": "317c59cb-ecc4-4d8d-b2c2-458614364169",
   "metadata": {},
   "outputs": [],
   "source": [
    "image.save(f\"{output_images}/D4_without_background.tiff\")"
   ]
  },
  {
   "cell_type": "code",
   "execution_count": 18,
   "id": "fafa2121-2170-4a56-afc9-828920d5047f",
   "metadata": {},
   "outputs": [],
   "source": [
    "image.save(f\"{output_files}/D4_without_background.tiff\")"
   ]
  },
  {
   "cell_type": "code",
   "execution_count": null,
   "id": "3948821d-c9bf-486e-badd-2020d45a4b96",
   "metadata": {},
   "outputs": [],
   "source": []
  }
 ],
 "metadata": {
  "kernelspec": {
   "display_name": "Python 3 (ipykernel)",
   "language": "python",
   "name": "python3"
  },
  "language_info": {
   "codemirror_mode": {
    "name": "ipython",
    "version": 3
   },
   "file_extension": ".py",
   "mimetype": "text/x-python",
   "name": "python",
   "nbconvert_exporter": "python",
   "pygments_lexer": "ipython3",
   "version": "3.9.6"
  }
 },
 "nbformat": 4,
 "nbformat_minor": 5
}
