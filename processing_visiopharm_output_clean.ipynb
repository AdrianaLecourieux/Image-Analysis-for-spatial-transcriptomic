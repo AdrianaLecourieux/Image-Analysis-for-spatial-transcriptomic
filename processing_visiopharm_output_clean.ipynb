{
 "cells": [
  {
   "cell_type": "markdown",
   "id": "bbced4d2-c44a-4585-a388-f61fa8365a23",
   "metadata": {
    "tags": []
   },
   "source": [
    "# Processing Visiopharm output"
   ]
  },
  {
   "cell_type": "markdown",
   "id": "d759db47-e502-48d1-ab58-d6756c7553a5",
   "metadata": {
    "jp-MarkdownHeadingCollapsed": true,
    "tags": []
   },
   "source": [
    "# 1. Import packages and data"
   ]
  },
  {
   "cell_type": "markdown",
   "id": "ed9bf825-5747-4dac-87fa-370a81e69dac",
   "metadata": {},
   "source": [
    "pip install opencv-python"
   ]
  },
  {
   "cell_type": "code",
   "execution_count": 1,
   "id": "74f96d0e-2831-4eba-83c7-c6d1edb82d40",
   "metadata": {},
   "outputs": [],
   "source": [
    "import cv2\n",
    "from matplotlib import image\n",
    "from matplotlib import pyplot as plt\n",
    "import pandas as pd\n",
    "import numpy as np\n",
    "import json\n",
    "\n",
    "# for clustering\n",
    "from sklearn.preprocessing import StandardScaler\n",
    "from sklearn.cluster import KMeans"
   ]
  },
  {
   "cell_type": "markdown",
   "id": "041c8f48-b0c6-434e-9d0a-2af36c43aa45",
   "metadata": {
    "jp-MarkdownHeadingCollapsed": true,
    "tags": []
   },
   "source": [
    "# 2. Function definition"
   ]
  },
  {
   "cell_type": "code",
   "execution_count": 1,
   "id": "d98cad0a-2f05-4431-b4a1-1c5ae1981e06",
   "metadata": {},
   "outputs": [],
   "source": [
    "def merged_modularity(path_for_visium, path_tissue_positions, path_for_morphological_features, name):\n",
    "    #load visium data         \n",
    "    ST_visium = sc.read_visium(path_for_visium)\n",
    "    ST_visium.obs = ST_visium.obs.reset_index()\n",
    "    ST_visium.obs = ST_visium.obs.rename(columns={\"index\": \"probes\"})\n",
    "    # load tissue positions df\n",
    "    tissue_positions = pd.read_csv(path_tissue_positions, header = None)\n",
    "    #preprocess tissue positions tissu df\n",
    "    tissue_positions = tissue_positions.rename(columns={0: \"probes\"})\n",
    "    #merge the two df\n",
    "    coordinates_position_probes_visium = pd.merge(ST_visium.obs, tissue_positions, how='inner', on=['probes'])\n",
    "    y_coordinates_position_probes_visium = list(coordinates_position_probes_visium[4])\n",
    "    x_coordinates_position_probes_visium = list(coordinates_position_probes_visium[5])\n",
    "\n",
    "      # create df form visium data\n",
    "    ST_visium = sc.read_visium(path_for_visium)\n",
    "    counts = pd.DataFrame(ST_visium.X.todense(), columns=ST_visium.var_names, index=ST_visium.obs_names) # create counts df\n",
    "\n",
    "    PDAC_B2 = pd.read_csv(path_for_morphological_features)\n",
    "    PDAC_B2_visio = PDAC_B2.drop(columns = [\"Unnamed: 0\",\"Name\",\"Total Nuclei (#)\"])    \n",
    "    PDAC_B2_visio_x = list(PDAC_B2[\"new_x\"])\n",
    "    PDAC_B2_visio_y = list(PDAC_B2[\"new_y\"])\n",
    "    rad = 65\n",
    "    idx_to_drop = []\n",
    "    x_ST_list = []\n",
    "    y_ST_list = []\n",
    "    for x,y in zip(PDAC_B2_visio_x, PDAC_B2_visio_y):\n",
    "        for circle_x, circle_y in zip(x_coordinates_position_probes_visium, y_coordinates_position_probes_visium):\n",
    "            if(isInside(circle_x, circle_y, rad, x, y)):\n",
    "                msk = PDAC_B2_visio['new_x'].eq(x) & (PDAC_B2_visio['new_y'].eq(y))\n",
    "                idx_to_drop.append(PDAC_B2_visio.index[msk])\n",
    "                x_ST_list.append(circle_x)\n",
    "                y_ST_list.append(circle_y)\n",
    "\n",
    "    new_idx = [x for idx in idx_to_drop for x in idx]\n",
    "    df_collect_morpho = PDAC_B2_visio.drop(new_idx)\n",
    "    df_1notin2 = PDAC_B2_visio[~PDAC_B2_visio.isin(df_collect_morpho).all(axis=1)]\n",
    "\n",
    "    df_1notin2[\"x_coord\"] = x_ST_list # add x and y spots coordinates in columns\n",
    "    df_1notin2[\"y_coord\"] = y_ST_list\n",
    "    df_mean = df_1notin2.groupby(['x_coord','y_coord'])['Nuclei Area per object', 'Texture inertia', 'Max Intensity',\n",
    "                                    'Mean Intensity', 'Min Intensity', 'Modus', 'Texture Anisotropy',\n",
    "                                    'Texture Entropy', 'Texture Major Axis', 'Texture Major Direction',\n",
    "                                    'Texture Minor Axis'].mean() # calculate mean of morphological features by spot\n",
    "    df_mean = df_mean.reset_index() # switch index to column\n",
    "\n",
    "  \n",
    "\n",
    "    coord = pd.DataFrame(ST_visium.obsm['spatial'], columns=['x_coord', 'y_coord'], index=ST_visium.obs_names) # create spot coordinates df\n",
    "    merged_coord = pd.merge(coord, df_mean, on= [\"x_coord\", \"y_coord\"], how=\"left\") # merged the two dataframe into new one\n",
    "    coordinates_position_probes_visium = coordinates_position_probes_visium.rename(columns={4: \"y_coord\", 5: \"x_coord\"}) # rename columns\n",
    "    merged_probes = pd.merge(coordinates_position_probes_visium, merged_coord, on= [\"x_coord\", \"y_coord\"], how=\"left\") # merge coordinates_position_probes_visium and merged_coord df\n",
    "    merged_probes_clean = merged_probes.drop(['in_tissue', 'array_row', 'array_col', 1,2,3], axis=1) # drop useless columns\n",
    "    merged_probes_clean = merged_probes_clean.set_index('probes') # change index name\n",
    "    final_df = counts.join(merged_probes_clean) # merged merged_probes_clean and counts df\n",
    "    #save results\n",
    "    final_df.to_csv(f'dataframe/{name}_profils_merged_morpho_raw.csv')\n",
    "    counts_with_probes = final_df.drop(['Nuclei Area per object', 'Texture inertia',\n",
    "       'Max Intensity', 'Mean Intensity', 'Min Intensity', 'Modus',\n",
    "       'Texture Anisotropy', 'Texture Entropy', 'Texture Major Axis',\n",
    "       'Texture Major Direction', 'Texture Minor Axis'], axis = 1)\n",
    "    counts_with_probes.to_csv(f'dataframe/{name}_counts_with_probes.csv')                    \n",
    "    print(\"Final df and count df correctly save !\")\n",
    "    print(\"Number of NA:\")\n",
    "    print(final_df.isna().sum()) "
   ]
  },
  {
   "cell_type": "markdown",
   "id": "15956125-2838-4512-a30c-820dd39e5527",
   "metadata": {},
   "source": [
    "# 3. DPLFC"
   ]
  },
  {
   "cell_type": "code",
   "execution_count": null,
   "id": "d48a8800-1c32-4498-ad93-7d2b854672ce",
   "metadata": {},
   "outputs": [],
   "source": []
  }
 ],
 "metadata": {
  "kernelspec": {
   "display_name": "Python 3 (ipykernel)",
   "language": "python",
   "name": "python3"
  },
  "language_info": {
   "codemirror_mode": {
    "name": "ipython",
    "version": 3
   },
   "file_extension": ".py",
   "mimetype": "text/x-python",
   "name": "python",
   "nbconvert_exporter": "python",
   "pygments_lexer": "ipython3",
   "version": "3.9.6"
  }
 },
 "nbformat": 4,
 "nbformat_minor": 5
}
